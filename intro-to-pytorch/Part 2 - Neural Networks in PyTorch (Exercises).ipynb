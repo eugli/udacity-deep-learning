{
 "cells": [
  {
   "cell_type": "markdown",
   "metadata": {},
   "source": [
    "# Neural networks with PyTorch\n",
    "\n",
    "Deep learning networks tend to be massive with dozens or hundreds of layers, that's where the term \"deep\" comes from. You can build one of these deep networks using only weight matrices as we did in the previous notebook, but in general it's very cumbersome and difficult to implement. PyTorch has a nice module `nn` that provides a nice way to efficiently build large neural networks."
   ]
  },
  {
   "cell_type": "code",
   "execution_count": 1,
   "metadata": {},
   "outputs": [],
   "source": [
    "# Import necessary packages\n",
    "\n",
    "%matplotlib inline\n",
    "%config InlineBackend.figure_format = 'retina'\n",
    "\n",
    "import numpy as np\n",
    "import torch\n",
    "\n",
    "import helper\n",
    "\n",
    "import matplotlib.pyplot as plt"
   ]
  },
  {
   "cell_type": "markdown",
   "metadata": {},
   "source": [
    "\n",
    "Now we're going to build a larger network that can solve a (formerly) difficult problem, identifying text in an image. Here we'll use the MNIST dataset which consists of greyscale handwritten digits. Each image is 28x28 pixels, you can see a sample below\n",
    "\n",
    "<img src='assets/mnist.png'>\n",
    "\n",
    "Our goal is to build a neural network that can take one of these images and predict the digit in the image.\n",
    "\n",
    "First up, we need to get our dataset. This is provided through the `torchvision` package. The code below will download the MNIST dataset, then create training and test datasets for us. Don't worry too much about the details here, you'll learn more about this later."
   ]
  },
  {
   "cell_type": "code",
   "execution_count": 2,
   "metadata": {},
   "outputs": [
    {
     "name": "stdout",
     "output_type": "stream",
     "text": [
      "Downloading http://yann.lecun.com/exdb/mnist/train-images-idx3-ubyte.gz to C:\\Users\\Eugene/.pytorch/MNIST_data/MNIST\\raw\\train-images-idx3-ubyte.gz\n"
     ]
    },
    {
     "name": "stderr",
     "output_type": "stream",
     "text": [
      "100.1%"
     ]
    },
    {
     "name": "stdout",
     "output_type": "stream",
     "text": [
      "Extracting C:\\Users\\Eugene/.pytorch/MNIST_data/MNIST\\raw\\train-images-idx3-ubyte.gz to C:\\Users\\Eugene/.pytorch/MNIST_data/MNIST\\raw\n"
     ]
    },
    {
     "name": "stderr",
     "output_type": "stream",
     "text": [
      "28.4%"
     ]
    },
    {
     "name": "stdout",
     "output_type": "stream",
     "text": [
      "Downloading http://yann.lecun.com/exdb/mnist/train-labels-idx1-ubyte.gz to C:\\Users\\Eugene/.pytorch/MNIST_data/MNIST\\raw\\train-labels-idx1-ubyte.gz\n"
     ]
    },
    {
     "name": "stderr",
     "output_type": "stream",
     "text": [
      "113.5%"
     ]
    },
    {
     "name": "stdout",
     "output_type": "stream",
     "text": [
      "Extracting C:\\Users\\Eugene/.pytorch/MNIST_data/MNIST\\raw\\train-labels-idx1-ubyte.gz to C:\\Users\\Eugene/.pytorch/MNIST_data/MNIST\\raw\n",
      "Downloading http://yann.lecun.com/exdb/mnist/t10k-images-idx3-ubyte.gz to C:\\Users\\Eugene/.pytorch/MNIST_data/MNIST\\raw\\t10k-images-idx3-ubyte.gz\n"
     ]
    },
    {
     "name": "stderr",
     "output_type": "stream",
     "text": [
      "100.4%"
     ]
    },
    {
     "name": "stdout",
     "output_type": "stream",
     "text": [
      "Extracting C:\\Users\\Eugene/.pytorch/MNIST_data/MNIST\\raw\\t10k-images-idx3-ubyte.gz to C:\\Users\\Eugene/.pytorch/MNIST_data/MNIST\\raw\n",
      "Downloading http://yann.lecun.com/exdb/mnist/t10k-labels-idx1-ubyte.gz to C:\\Users\\Eugene/.pytorch/MNIST_data/MNIST\\raw\\t10k-labels-idx1-ubyte.gz\n"
     ]
    },
    {
     "name": "stderr",
     "output_type": "stream",
     "text": [
      "180.4%"
     ]
    },
    {
     "name": "stdout",
     "output_type": "stream",
     "text": [
      "Extracting C:\\Users\\Eugene/.pytorch/MNIST_data/MNIST\\raw\\t10k-labels-idx1-ubyte.gz to C:\\Users\\Eugene/.pytorch/MNIST_data/MNIST\\raw\n",
      "Processing...\n",
      "Done!\n"
     ]
    }
   ],
   "source": [
    "### Run this cell\n",
    "\n",
    "from torchvision import datasets, transforms\n",
    "\n",
    "# Define a transform to normalize the data\n",
    "transform = transforms.Compose([transforms.ToTensor(),\n",
    "                              transforms.Normalize((0.5,), (0.5,)),\n",
    "                              ])\n",
    "\n",
    "# Download and load the training data\n",
    "trainset = datasets.MNIST('~/.pytorch/MNIST_data/', download=True, train=True, transform=transform)\n",
    "trainloader = torch.utils.data.DataLoader(trainset, batch_size=64, shuffle=True)"
   ]
  },
  {
   "cell_type": "markdown",
   "metadata": {},
   "source": [
    "We have the training data loaded into `trainloader` and we make that an iterator with `iter(trainloader)`. Later, we'll use this to loop through the dataset for training, like\n",
    "\n",
    "```python\n",
    "for image, label in trainloader:\n",
    "    ## do things with images and labels\n",
    "```\n",
    "\n",
    "You'll notice I created the `trainloader` with a batch size of 64, and `shuffle=True`. The batch size is the number of images we get in one iteration from the data loader and pass through our network, often called a *batch*. And `shuffle=True` tells it to shuffle the dataset every time we start going through the data loader again. But here I'm just grabbing the first batch so we can check out the data. We can see below that `images` is just a tensor with size `(64, 1, 28, 28)`. So, 64 images per batch, 1 color channel, and 28x28 images."
   ]
  },
  {
   "cell_type": "code",
   "execution_count": 3,
   "metadata": {},
   "outputs": [
    {
     "name": "stdout",
     "output_type": "stream",
     "text": [
      "<class 'torch.Tensor'>\n",
      "torch.Size([64, 1, 28, 28])\n",
      "torch.Size([64])\n"
     ]
    }
   ],
   "source": [
    "dataiter = iter(trainloader)\n",
    "images, labels = dataiter.next()\n",
    "print(type(images))\n",
    "print(images.shape)\n",
    "print(labels.shape)"
   ]
  },
  {
   "cell_type": "markdown",
   "metadata": {},
   "source": [
    "This is what one of the images looks like. "
   ]
  },
  {
   "cell_type": "code",
   "execution_count": 6,
   "metadata": {},
   "outputs": [
    {
     "data": {
      "image/png": "[encoded data removed]",
      "text/plain": [
       "<Figure size 432x288 with 1 Axes>"
      ]
     },
     "metadata": {
      "image/png": {
       "height": 248,
       "width": 251
      },
      "needs_background": "light"
     },
     "output_type": "display_data"
    }
   ],
   "source": [
    "plt.imshow(images[1].numpy().squeeze(), cmap='Greys_r');"
   ]
  },
  {
   "cell_type": "markdown",
   "metadata": {},
   "source": [
    "First, let's try to build a simple network for this dataset using weight matrices and matrix multiplications. Then, we'll see how to do it using PyTorch's `nn` module which provides a much more convenient and powerful method for defining network architectures.\n",
    "\n",
    "The networks you've seen so far are called *fully-connected* or *dense* networks. Each unit in one layer is connected to each unit in the next layer. In fully-connected networks, the input to each layer must be a one-dimensional vector (which can be stacked into a 2D tensor as a batch of multiple examples). However, our images are 28x28 2D tensors, so we need to convert them into 1D vectors. Thinking about sizes, we need to convert the batch of images with shape `(64, 1, 28, 28)` to a have a shape of `(64, 784)`, 784 is 28 times 28. This is typically called *flattening*, we flattened the 2D images into 1D vectors.\n",
    "\n",
    "Previously you built a network with one output unit. Here we need 10 output units, one for each digit. We want our network to predict the digit shown in an image, so what we'll do is calculate probabilities that the image is of any one digit or class. This ends up being a discrete probability distribution over the classes (digits) that tells us the most likely class for the image. That means we need 10 output units for the 10 classes (digits). We'll see how to convert the network output into a probability distribution next.\n",
    "\n",
    "> **Exercise:** Flatten the batch of images `images`. Then build a multi-layer network with 784 input units, 256 hidden units, and 10 output units using random tensors for the weights and biases. For now, use a sigmoid activation for the hidden layer. Leave the output layer without an activation, we'll add one that gives us a probability distribution next."
   ]
  },
  {
   "cell_type": "code",
   "execution_count": 15,
   "metadata": {},
   "outputs": [
    {
     "name": "stdout",
     "output_type": "stream",
     "text": [
      "tensor([[9.9516e-01, 9.9986e-01, 9.9418e-01, 5.2151e-02, 5.3197e-03, 1.3643e-03,\n",
      "         2.8561e-06, 7.0597e-01, 9.9992e-01, 2.9460e-05],\n",
      "        [1.0000e+00, 2.5750e-02, 2.4324e-01, 2.9698e-01, 9.4302e-01, 4.2046e-01,\n",
      "         7.9312e-08, 8.1698e-01, 2.5097e-03, 4.3448e-02],\n",
      "        [1.2459e-04, 9.5827e-01, 2.2107e-03, 9.5583e-04, 4.5130e-03, 1.1826e-01,\n",
      "         4.0653e-08, 1.7585e-05, 7.4884e-01, 7.0061e-02],\n",
      "        [9.9080e-01, 4.6971e-02, 9.9996e-01, 9.9853e-01, 1.4439e-06, 1.4843e-03,\n",
      "         3.2515e-08, 7.5015e-06, 9.9863e-01, 6.9392e-02],\n",
      "        [7.6797e-01, 7.2967e-01, 2.7424e-01, 9.6150e-01, 8.9518e-04, 2.9665e-01,\n",
      "         1.5025e-06, 2.1976e-02, 6.2389e-01, 4.5758e-03],\n",
      "        [1.9951e-01, 8.1939e-01, 9.9488e-01, 1.3918e-01, 3.9358e-05, 4.4733e-03,\n",
      "         5.8949e-05, 9.9900e-01, 9.7770e-01, 9.0997e-01],\n",
      "        [9.9829e-01, 8.9277e-01, 1.4755e-02, 3.7355e-01, 3.9195e-04, 2.4842e-01,\n",
      "         6.0983e-07, 1.6004e-04, 9.9985e-01, 2.1815e-02],\n",
      "        [9.9999e-01, 9.9912e-01, 2.6876e-03, 9.9859e-01, 4.7710e-01, 1.3830e-05,\n",
      "         2.5899e-10, 6.4131e-02, 1.0000e+00, 6.4003e-04],\n",
      "        [1.7854e-01, 1.0671e-01, 4.1417e-02, 4.1974e-06, 9.7020e-01, 5.6254e-03,\n",
      "         6.0365e-08, 3.3305e-03, 9.9963e-01, 3.7647e-04],\n",
      "        [9.9992e-01, 2.0312e-02, 8.5390e-01, 8.4759e-01, 1.2613e-01, 1.3246e-02,\n",
      "         5.3444e-12, 8.4924e-02, 9.9907e-01, 1.4365e-06],\n",
      "        [4.8423e-01, 9.9623e-01, 1.4737e-01, 9.9989e-01, 2.0127e-05, 2.7738e-01,\n",
      "         1.3795e-08, 4.9308e-01, 9.6411e-01, 9.9999e-01],\n",
      "        [7.5398e-04, 2.7085e-01, 9.6559e-01, 7.4779e-01, 7.3987e-06, 9.8761e-01,\n",
      "         7.1896e-05, 3.6862e-02, 9.6423e-01, 7.8326e-02],\n",
      "        [1.0067e-01, 5.2140e-03, 5.2346e-01, 4.5167e-02, 8.3891e-01, 1.2627e-01,\n",
      "         5.4311e-09, 2.3016e-02, 9.9990e-01, 4.1816e-05],\n",
      "        [2.8388e-02, 9.5715e-01, 1.3796e-04, 3.2018e-01, 6.4586e-03, 8.9020e-01,\n",
      "         4.8445e-08, 3.2455e-08, 9.7913e-01, 8.1352e-04],\n",
      "        [3.9018e-02, 1.4146e-01, 1.0312e-01, 6.6545e-04, 1.9081e-05, 3.3954e-06,\n",
      "         1.2370e-04, 5.2157e-02, 9.9973e-01, 4.3216e-04],\n",
      "        [9.9755e-01, 9.9512e-01, 4.4638e-03, 8.2257e-02, 1.6790e-01, 2.1805e-01,\n",
      "         8.9665e-05, 2.6815e-03, 9.8445e-01, 3.2177e-08],\n",
      "        [9.9998e-01, 5.5834e-04, 7.8978e-01, 2.6694e-02, 2.5602e-01, 1.2180e-01,\n",
      "         2.5419e-02, 5.1825e-06, 8.2747e-01, 6.4444e-03],\n",
      "        [9.2266e-01, 9.9948e-01, 7.1692e-01, 9.9987e-01, 6.9013e-06, 9.9998e-01,\n",
      "         4.1312e-07, 2.9829e-08, 9.9346e-01, 3.5848e-01],\n",
      "        [9.9923e-01, 9.9640e-01, 3.2370e-02, 1.4028e-02, 8.4642e-02, 1.7408e-03,\n",
      "         2.3598e-10, 5.8477e-02, 9.9909e-01, 3.7477e-04],\n",
      "        [9.8191e-01, 6.0169e-01, 9.9997e-01, 9.9241e-01, 1.9957e-02, 3.8943e-06,\n",
      "         6.5920e-08, 1.7649e-05, 3.2273e-03, 9.9794e-01],\n",
      "        [1.0657e-01, 9.9997e-01, 4.0689e-03, 9.9886e-01, 7.5441e-01, 5.7172e-09,\n",
      "         7.2604e-10, 1.2858e-03, 5.1622e-01, 9.9861e-04],\n",
      "        [1.5137e-01, 9.9951e-01, 9.7446e-01, 9.8988e-01, 6.5050e-03, 2.0065e-04,\n",
      "         1.4658e-11, 3.8604e-01, 9.9662e-01, 1.6150e-02],\n",
      "        [9.9914e-01, 9.9627e-01, 1.0452e-01, 9.7574e-01, 6.7467e-01, 9.9635e-01,\n",
      "         3.0056e-07, 1.1618e-02, 9.7713e-01, 6.4835e-03],\n",
      "        [3.0538e-01, 2.8913e-03, 2.7709e-02, 9.9991e-01, 4.8883e-06, 4.4354e-01,\n",
      "         2.4258e-05, 2.2101e-01, 4.0098e-01, 9.9996e-01],\n",
      "        [9.7719e-01, 1.0000e+00, 9.8356e-01, 9.9366e-01, 1.0415e-04, 3.6566e-03,\n",
      "         2.8769e-09, 5.7530e-06, 9.9405e-01, 1.8280e-04],\n",
      "        [9.6769e-01, 1.1297e-04, 2.6271e-02, 5.4370e-01, 6.3309e-01, 7.0001e-02,\n",
      "         1.1302e-08, 4.2142e-02, 8.3956e-01, 3.0045e-01],\n",
      "        [1.1149e-02, 3.2972e-03, 7.1819e-02, 5.8706e-04, 7.0978e-04, 3.6735e-03,\n",
      "         3.9162e-07, 1.0045e-07, 9.9726e-01, 8.5068e-01],\n",
      "        [4.7557e-02, 9.9964e-01, 9.8084e-01, 9.9962e-01, 2.4501e-01, 4.9403e-03,\n",
      "         5.3213e-09, 2.8251e-03, 9.1529e-01, 1.5174e-01],\n",
      "        [9.3214e-04, 7.2543e-03, 4.2089e-01, 9.9849e-01, 9.4338e-06, 1.4284e-02,\n",
      "         2.9395e-04, 4.2922e-05, 9.9992e-01, 4.3427e-01],\n",
      "        [1.0000e+00, 4.3082e-03, 9.1480e-01, 9.9135e-01, 9.7260e-04, 4.0812e-02,\n",
      "         1.2234e-05, 6.0123e-01, 5.8419e-01, 2.4415e-05],\n",
      "        [9.7604e-01, 6.3619e-01, 4.1049e-01, 8.2525e-01, 7.5208e-03, 8.8451e-01,\n",
      "         3.6996e-05, 2.3846e-04, 1.0000e+00, 5.4021e-01],\n",
      "        [1.4470e-02, 9.4110e-01, 4.4511e-03, 8.4259e-01, 4.6392e-03, 2.3563e-05,\n",
      "         2.6178e-08, 7.0343e-03, 9.9999e-01, 4.6324e-02],\n",
      "        [7.7074e-03, 9.9126e-01, 9.9610e-01, 5.7941e-02, 2.0100e-04, 9.9519e-03,\n",
      "         1.0369e-08, 4.2648e-04, 9.9896e-01, 1.1978e-02],\n",
      "        [3.5794e-01, 9.9999e-01, 1.3486e-02, 9.3082e-01, 9.7209e-02, 1.0328e-06,\n",
      "         1.7571e-05, 9.8189e-04, 9.9999e-01, 2.6233e-06],\n",
      "        [9.9673e-01, 9.9898e-01, 9.6050e-01, 1.5410e-01, 2.0664e-03, 4.7649e-03,\n",
      "         6.8579e-10, 1.6232e-01, 9.4397e-01, 3.7474e-01],\n",
      "        [2.6242e-04, 1.3556e-01, 1.7295e-02, 7.9788e-01, 1.3433e-04, 9.5765e-01,\n",
      "         3.5361e-04, 2.8711e-03, 8.1996e-01, 1.0000e+00],\n",
      "        [5.9345e-01, 2.5397e-01, 9.9377e-01, 9.8568e-03, 7.8189e-02, 3.7172e-02,\n",
      "         5.4944e-04, 7.3243e-01, 8.0532e-01, 9.7950e-01],\n",
      "        [7.3058e-03, 9.9414e-01, 1.7502e-02, 9.7359e-01, 3.3402e-02, 8.1987e-02,\n",
      "         2.9172e-08, 7.5927e-04, 9.9993e-01, 1.1560e-01],\n",
      "        [9.9983e-01, 9.8603e-04, 2.7314e-03, 2.4939e-03, 3.3113e-04, 1.9589e-03,\n",
      "         5.5001e-04, 9.9953e-01, 9.5809e-01, 5.4892e-05],\n",
      "        [9.9985e-01, 7.8049e-01, 1.3185e-01, 3.7090e-02, 1.1904e-02, 1.6533e-03,\n",
      "         7.2355e-10, 7.5472e-02, 5.7712e-01, 1.7146e-02],\n",
      "        [3.7684e-01, 2.2029e-01, 9.2664e-01, 9.9755e-01, 8.4029e-02, 7.8173e-01,\n",
      "         1.7592e-09, 4.8672e-04, 9.9908e-01, 9.9389e-01],\n",
      "        [9.1550e-01, 5.8964e-04, 2.7333e-04, 9.7175e-01, 6.1063e-02, 6.0271e-02,\n",
      "         1.5093e-03, 1.9509e-07, 8.9391e-01, 9.9611e-01],\n",
      "        [4.0682e-01, 9.9732e-01, 9.7669e-03, 5.4186e-01, 4.4671e-01, 3.5664e-03,\n",
      "         1.8824e-08, 2.6936e-06, 9.7381e-01, 9.9999e-01],\n",
      "        [7.7438e-01, 5.2566e-04, 6.7922e-01, 1.7479e-05, 2.3622e-04, 5.8397e-04,\n",
      "         5.4682e-07, 9.9360e-01, 8.1904e-01, 7.6238e-01],\n",
      "        [7.9712e-01, 4.1954e-01, 9.9430e-01, 8.2645e-03, 1.2594e-04, 7.3827e-01,\n",
      "         1.0388e-06, 1.0683e-01, 7.6516e-01, 1.0000e+00],\n",
      "        [9.6778e-01, 4.6180e-01, 1.9112e-01, 9.9948e-01, 9.9396e-01, 7.3024e-01,\n",
      "         1.6206e-08, 1.2226e-04, 3.4515e-02, 9.7499e-01],\n",
      "        [9.9993e-01, 9.9122e-01, 3.1950e-03, 1.0000e+00, 1.0777e-01, 2.8847e-02,\n",
      "         7.4664e-09, 4.1031e-03, 9.9768e-01, 1.1664e-02],\n",
      "        [9.9962e-01, 9.1798e-01, 7.4367e-01, 9.1736e-01, 3.2542e-04, 9.1502e-04,\n",
      "         2.6894e-08, 1.9520e-05, 9.6792e-01, 3.6655e-04],\n",
      "        [6.6843e-01, 9.9939e-01, 3.9836e-02, 7.2655e-03, 3.8765e-02, 2.3896e-05,\n",
      "         1.0264e-08, 2.4032e-01, 9.9190e-01, 5.0751e-01],\n",
      "        [2.4198e-02, 9.5718e-01, 1.9390e-01, 8.8604e-01, 4.1661e-03, 2.2536e-02,\n",
      "         2.0165e-09, 9.7884e-02, 9.8284e-01, 9.6880e-01],\n",
      "        [3.0236e-01, 3.3423e-02, 9.1433e-01, 9.9968e-01, 1.3199e-02, 1.5229e-04,\n",
      "         1.0162e-05, 2.7491e-01, 9.0903e-02, 6.6587e-01],\n",
      "        [9.9805e-01, 6.7355e-01, 9.8643e-01, 9.4161e-01, 1.2128e-01, 1.3234e-03,\n",
      "         1.2884e-07, 3.4236e-04, 9.9930e-01, 6.5050e-01],\n",
      "        [9.9753e-01, 9.9932e-01, 2.5196e-04, 9.7188e-01, 1.9083e-03, 2.8039e-04,\n",
      "         1.8627e-09, 7.1602e-07, 9.3216e-01, 5.5691e-01],\n",
      "        [9.9999e-01, 1.0000e+00, 5.3499e-02, 9.9749e-01, 9.2009e-01, 4.3933e-01,\n",
      "         5.5395e-02, 6.5637e-04, 9.9910e-01, 4.9227e-03],\n",
      "        [7.9375e-01, 9.9998e-01, 5.5233e-03, 9.9882e-01, 1.0140e-02, 1.2779e-02,\n",
      "         1.9833e-09, 1.3174e-04, 9.9702e-01, 4.0790e-02],\n",
      "        [9.9586e-01, 9.9906e-01, 4.6095e-03, 5.4729e-01, 1.1932e-02, 1.7115e-04,\n",
      "         5.7185e-09, 1.6044e-01, 9.6450e-01, 9.7171e-01],\n",
      "        [9.9956e-01, 1.5394e-03, 9.9620e-01, 9.2958e-01, 3.2921e-03, 2.6166e-02,\n",
      "         3.6788e-06, 9.9920e-01, 9.9825e-01, 7.9844e-04],\n",
      "        [9.9913e-01, 9.9955e-01, 1.1611e-04, 7.3733e-01, 3.2432e-03, 1.8437e-05,\n",
      "         2.9755e-12, 8.6596e-04, 9.9993e-01, 5.4975e-02],\n",
      "        [1.4871e-02, 9.2252e-03, 7.0488e-05, 1.1989e-01, 9.8695e-06, 9.8633e-01,\n",
      "         1.8885e-04, 5.3951e-04, 2.4297e-01, 9.9904e-01],\n",
      "        [9.9985e-01, 9.9998e-01, 1.9964e-03, 9.9298e-01, 8.4792e-03, 4.9221e-02,\n",
      "         3.1349e-08, 4.3596e-03, 9.9970e-01, 4.4141e-04],\n",
      "        [1.0000e+00, 7.6573e-04, 5.4530e-05, 1.7758e-01, 9.2268e-01, 1.7458e-01,\n",
      "         3.4984e-08, 1.8903e-03, 8.8857e-01, 9.8018e-01],\n",
      "        [9.9985e-01, 9.9308e-01, 9.6930e-01, 9.9658e-01, 3.0246e-01, 7.4565e-05,\n",
      "         1.5193e-05, 6.4744e-03, 9.9750e-01, 1.7717e-02],\n",
      "        [8.4897e-01, 9.8204e-05, 6.6277e-01, 6.5535e-01, 4.7855e-02, 1.0187e-02,\n",
      "         1.6448e-06, 9.9399e-01, 9.9969e-01, 9.9896e-01],\n",
      "        [9.9854e-01, 8.1812e-01, 1.1248e-03, 6.6014e-01, 8.0534e-01, 8.2032e-01,\n",
      "         2.1468e-06, 6.5865e-03, 9.9998e-01, 1.1079e-04]])\n"
     ]
    }
   ],
   "source": [
    "## Your solution\n",
    "def activation(x):\n",
    "    return 1 / (1 + torch.exp(-x))\n",
    "\n",
    "inputs = images.view(images.shape[0], -1)\n",
    "# print(images.shape[0])\n",
    "\n",
    "w1 = torch.randn(784, 256)\n",
    "b1 = torch.randn(256)\n",
    "\n",
    "w2 = torch.randn(256, 10)\n",
    "b2 = torch.randn(10)\n",
    "\n",
    "h = activation(torch.mm(inputs, w1) + b1)\n",
    "\n",
    "out = activation(torch.mm(h, w2) + b2)\n",
    "print(out)"
   ]
  },
  {
   "cell_type": "markdown",
   "metadata": {},
   "source": [
    "Now we have 10 outputs for our network. We want to pass in an image to our network and get out a probability distribution over the classes that tells us the likely class(es) the image belongs to. Something that looks like this:\n",
    "<img src='assets/image_distribution.png' width=500px>\n",
    "\n",
    "Here we see that the probability for each class is roughly the same. This is representing an untrained network, it hasn't seen any data yet so it just returns a uniform distribution with equal probabilities for each class.\n",
    "\n",
    "To calculate this probability distribution, we often use the [**softmax** function](https://en.wikipedia.org/wiki/Softmax_function). Mathematically this looks like\n",
    "\n",
    "$$\n",
    "\\Large \\sigma(x_i) = \\cfrac{e^{x_i}}{\\sum_k^K{e^{x_k}}}\n",
    "$$\n",
    "\n",
    "What this does is squish each input $x_i$ between 0 and 1 and normalizes the values to give you a proper probability distribution where the probabilites sum up to one.\n",
    "\n",
    "> **Exercise:** Implement a function `softmax` that performs the softmax calculation and returns probability distributions for each example in the batch. Note that you'll need to pay attention to the shapes when doing this. If you have a tensor `a` with shape `(64, 10)` and a tensor `b` with shape `(64,)`, doing `a/b` will give you an error because PyTorch will try to do the division across the columns (called broadcasting) but you'll get a size mismatch. The way to think about this is for each of the 64 examples, you only want to divide by one value, the sum in the denominator. So you need `b` to have a shape of `(64, 1)`. This way PyTorch will divide the 10 values in each row of `a` by the one value in each row of `b`. Pay attention to how you take the sum as well. You'll need to define the `dim` keyword in `torch.sum`. Setting `dim=0` takes the sum across the rows while `dim=1` takes the sum across the columns."
   ]
  },
  {
   "cell_type": "code",
   "execution_count": 24,
   "metadata": {},
   "outputs": [
    {
     "name": "stdout",
     "output_type": "stream",
     "text": [
      "torch.Size([64, 10])\n",
      "tensor([1.0000, 1.0000, 1.0000, 1.0000, 1.0000, 1.0000, 1.0000, 1.0000, 1.0000,\n",
      "        1.0000, 1.0000, 1.0000, 1.0000, 1.0000, 1.0000, 1.0000, 1.0000, 1.0000,\n",
      "        1.0000, 1.0000, 1.0000, 1.0000, 1.0000, 1.0000, 1.0000, 1.0000, 1.0000,\n",
      "        1.0000, 1.0000, 1.0000, 1.0000, 1.0000, 1.0000, 1.0000, 1.0000, 1.0000,\n",
      "        1.0000, 1.0000, 1.0000, 1.0000, 1.0000, 1.0000, 1.0000, 1.0000, 1.0000,\n",
      "        1.0000, 1.0000, 1.0000, 1.0000, 1.0000, 1.0000, 1.0000, 1.0000, 1.0000,\n",
      "        1.0000, 1.0000, 1.0000, 1.0000, 1.0000, 1.0000, 1.0000, 1.0000, 1.0000,\n",
      "        1.0000])\n"
     ]
    }
   ],
   "source": [
    "def softmax(x):\n",
    "    return torch.exp(x) / torch.sum(torch.exp(x), dim=1).view(-1, 1)\n",
    "    ## TODO: Implement the softmax function here\n",
    "\n",
    "# Here, out should be the output of the network in the previous excercise with shape (64,10)\n",
    "probabilities = softmax(out)\n",
    "\n",
    "# Does it have the right shape? Should be (64, 10)\n",
    "print(probabilities.shape)\n",
    "# Does it sum to 1?\n",
    "print(probabilities.sum(dim=1))\n",
    "# print('test')"
   ]
  },
  {
   "cell_type": "markdown",
   "metadata": {},
   "source": [
    "## Building networks with PyTorch\n",
    "\n",
    "PyTorch provides a module `nn` that makes building networks much simpler. Here I'll show you how to build the same one as above with 784 inputs, 256 hidden units, 10 output units and a softmax output."
   ]
  },
  {
   "cell_type": "code",
   "execution_count": 25,
   "metadata": {},
   "outputs": [],
   "source": [
    "from torch import nn"
   ]
  },
  {
   "cell_type": "code",
   "execution_count": 26,
   "metadata": {},
   "outputs": [],
   "source": [
    "class Network(nn.Module):\n",
    "    def __init__(self):\n",
    "        super().__init__()\n",
    "        \n",
    "        # Inputs to hidden layer linear transformation\n",
    "        self.hidden = nn.Linear(784, 256)\n",
    "        # Output layer, 10 units - one for each digit\n",
    "        self.output = nn.Linear(256, 10)\n",
    "        \n",
    "        # Define sigmoid activation and softmax output \n",
    "        self.sigmoid = nn.Sigmoid()\n",
    "        self.softmax = nn.Softmax(dim=1)\n",
    "        \n",
    "    def forward(self, x):\n",
    "        # Pass the input tensor through each of our operations\n",
    "        x = self.hidden(x)\n",
    "        x = self.sigmoid(x)\n",
    "        x = self.output(x)\n",
    "        x = self.softmax(x)\n",
    "        \n",
    "        return x"
   ]
  },
  {
   "cell_type": "markdown",
   "metadata": {},
   "source": [
    "Let's go through this bit by bit.\n",
    "\n",
    "```python\n",
    "class Network(nn.Module):\n",
    "```\n",
    "\n",
    "Here we're inheriting from `nn.Module`. Combined with `super().__init__()` this creates a class that tracks the architecture and provides a lot of useful methods and attributes. It is mandatory to inherit from `nn.Module` when you're creating a class for your network. The name of the class itself can be anything.\n",
    "\n",
    "```python\n",
    "self.hidden = nn.Linear(784, 256)\n",
    "```\n",
    "\n",
    "This line creates a module for a linear transformation, $x\\mathbf{W} + b$, with 784 inputs and 256 outputs and assigns it to `self.hidden`. The module automatically creates the weight and bias tensors which we'll use in the `forward` method. You can access the weight and bias tensors once the network (`net`) is created with `net.hidden.weight` and `net.hidden.bias`.\n",
    "\n",
    "```python\n",
    "self.output = nn.Linear(256, 10)\n",
    "```\n",
    "\n",
    "Similarly, this creates another linear transformation with 256 inputs and 10 outputs.\n",
    "\n",
    "```python\n",
    "self.sigmoid = nn.Sigmoid()\n",
    "self.softmax = nn.Softmax(dim=1)\n",
    "```\n",
    "\n",
    "Here I defined operations for the sigmoid activation and softmax output. Setting `dim=1` in `nn.Softmax(dim=1)` calculates softmax across the columns.\n",
    "\n",
    "```python\n",
    "def forward(self, x):\n",
    "```\n",
    "\n",
    "PyTorch networks created with `nn.Module` must have a `forward` method defined. It takes in a tensor `x` and passes it through the operations you defined in the `__init__` method.\n",
    "\n",
    "```python\n",
    "x = self.hidden(x)\n",
    "x = self.sigmoid(x)\n",
    "x = self.output(x)\n",
    "x = self.softmax(x)\n",
    "```\n",
    "\n",
    "Here the input tensor `x` is passed through each operation and reassigned to `x`. We can see that the input tensor goes through the hidden layer, then a sigmoid function, then the output layer, and finally the softmax function. It doesn't matter what you name the variables here, as long as the inputs and outputs of the operations match the network architecture you want to build. The order in which you define things in the `__init__` method doesn't matter, but you'll need to sequence the operations correctly in the `forward` method.\n",
    "\n",
    "Now we can create a `Network` object."
   ]
  },
  {
   "cell_type": "code",
   "execution_count": 27,
   "metadata": {},
   "outputs": [
    {
     "data": {
      "text/plain": [
       "Network(\n",
       "  (hidden): Linear(in_features=784, out_features=256, bias=True)\n",
       "  (output): Linear(in_features=256, out_features=10, bias=True)\n",
       "  (sigmoid): Sigmoid()\n",
       "  (softmax): Softmax(dim=1)\n",
       ")"
      ]
     },
     "execution_count": 27,
     "metadata": {},
     "output_type": "execute_result"
    }
   ],
   "source": [
    "# Create the network and look at it's text representation\n",
    "model = Network()\n",
    "model"
   ]
  },
  {
   "cell_type": "markdown",
   "metadata": {},
   "source": [
    "You can define the network somewhat more concisely and clearly using the `torch.nn.functional` module. This is the most common way you'll see networks defined as many operations are simple element-wise functions. We normally import this module as `F`, `import torch.nn.functional as F`."
   ]
  },
  {
   "cell_type": "code",
   "execution_count": 28,
   "metadata": {},
   "outputs": [],
   "source": [
    "import torch.nn.functional as F\n",
    "\n",
    "class Network(nn.Module):\n",
    "    def __init__(self):\n",
    "        super().__init__()\n",
    "        # Inputs to hidden layer linear transformation\n",
    "        self.hidden = nn.Linear(784, 256)\n",
    "        # Output layer, 10 units - one for each digit\n",
    "        self.output = nn.Linear(256, 10)\n",
    "        \n",
    "    def forward(self, x):\n",
    "        # Hidden layer with sigmoid activation\n",
    "        x = F.sigmoid(self.hidden(x))\n",
    "        # Output layer with softmax activation\n",
    "        x = F.softmax(self.output(x), dim=1)\n",
    "        \n",
    "        return x"
   ]
  },
  {
   "cell_type": "markdown",
   "metadata": {},
   "source": [
    "### Activation functions\n",
    "\n",
    "So far we've only been looking at the sigmoid activation function, but in general any function can be used as an activation function. The only requirement is that for a network to approximate a non-linear function, the activation functions must be non-linear. Here are a few more examples of common activation functions: Tanh (hyperbolic tangent), and ReLU (rectified linear unit).\n",
    "\n",
    "<img src=\"assets/activation.png\" width=700px>\n",
    "\n",
    "In practice, the ReLU function is used almost exclusively as the activation function for hidden layers."
   ]
  },
  {
   "cell_type": "markdown",
   "metadata": {},
   "source": [
    "### Your Turn to Build a Network\n",
    "\n",
    "<img src=\"assets/mlp_mnist.png\" width=600px>\n",
    "\n",
    "> **Exercise:** Create a network with 784 input units, a hidden layer with 128 units and a ReLU activation, then a hidden layer with 64 units and a ReLU activation, and finally an output layer with a softmax activation as shown above. You can use a ReLU activation with the `nn.ReLU` module or `F.relu` function.\n",
    "\n",
    "It's good practice to name your layers by their type of network, for instance 'fc' to represent a fully-connected layer. As you code your solution, use `fc1`, `fc2`, and `fc3` as your layer names."
   ]
  },
  {
   "cell_type": "code",
   "execution_count": 44,
   "metadata": {
    "scrolled": true
   },
   "outputs": [
    {
     "data": {
      "text/plain": [
       "Practice(\n",
       "  (fc1): Linear(in_features=784, out_features=128, bias=True)\n",
       "  (fc2): Linear(in_features=128, out_features=64, bias=True)\n",
       "  (fc3): Linear(in_features=64, out_features=10, bias=True)\n",
       ")"
      ]
     },
     "execution_count": 44,
     "metadata": {},
     "output_type": "execute_result"
    }
   ],
   "source": [
    "class Practice(nn.Module):\n",
    "    def __init__(self):\n",
    "        super().__init__()\n",
    "        # Defining the layers, 128, 64, 10 units each\n",
    "        self.fc1 = nn.Linear(784, 128)\n",
    "        self.fc2 = nn.Linear(128, 64)\n",
    "        # Output layer, 10 units - one for each digit\n",
    "        self.fc3 = nn.Linear(64, 10)\n",
    "    \n",
    "    def forward(self, x):\n",
    "        x = F.relu(self.fc1(x))\n",
    "        x = F.relu(self.fc2(x))\n",
    "        x = F.softmax(self.fc3(x), dim = 1)\n",
    "        \n",
    "        return x\n",
    "    \n",
    "model = Practice()\n",
    "model"
   ]
  },
  {
   "cell_type": "markdown",
   "metadata": {},
   "source": [
    "### Initializing weights and biases\n",
    "\n",
    "The weights and such are automatically initialized for you, but it's possible to customize how they are initialized. The weights and biases are tensors attached to the layer you defined, you can get them with `model.fc1.weight` for instance."
   ]
  },
  {
   "cell_type": "code",
   "execution_count": 45,
   "metadata": {},
   "outputs": [
    {
     "name": "stdout",
     "output_type": "stream",
     "text": [
      "Parameter containing:\n",
      "tensor([[ 0.0331, -0.0039,  0.0297,  ..., -0.0176,  0.0155,  0.0114],\n",
      "        [-0.0293,  0.0288, -0.0068,  ...,  0.0081,  0.0025, -0.0200],\n",
      "        [-0.0078, -0.0306, -0.0313,  ..., -0.0308, -0.0344,  0.0019],\n",
      "        ...,\n",
      "        [-0.0337,  0.0239, -0.0347,  ...,  0.0210, -0.0074,  0.0165],\n",
      "        [ 0.0241, -0.0100, -0.0269,  ..., -0.0244, -0.0344,  0.0238],\n",
      "        [ 0.0077, -0.0084,  0.0229,  ...,  0.0070, -0.0289, -0.0181]],\n",
      "       requires_grad=True)\n",
      "Parameter containing:\n",
      "tensor([ 0.0102,  0.0146, -0.0298, -0.0099, -0.0153,  0.0149, -0.0269, -0.0112,\n",
      "        -0.0013,  0.0086, -0.0276,  0.0322, -0.0307, -0.0157,  0.0269, -0.0314,\n",
      "        -0.0176,  0.0289, -0.0189,  0.0095,  0.0160,  0.0314,  0.0184, -0.0153,\n",
      "        -0.0165,  0.0272, -0.0020,  0.0093, -0.0096, -0.0045,  0.0030, -0.0176,\n",
      "         0.0235, -0.0076, -0.0144, -0.0286, -0.0284,  0.0243, -0.0050, -0.0232,\n",
      "         0.0100,  0.0105, -0.0202, -0.0133, -0.0262,  0.0174,  0.0233,  0.0146,\n",
      "         0.0035,  0.0348, -0.0250, -0.0337,  0.0130,  0.0283, -0.0064, -0.0232,\n",
      "        -0.0286, -0.0104, -0.0174,  0.0110,  0.0009, -0.0277, -0.0076,  0.0285,\n",
      "        -0.0193,  0.0124,  0.0002,  0.0198,  0.0289, -0.0334,  0.0218, -0.0278,\n",
      "        -0.0009,  0.0215,  0.0223, -0.0272, -0.0243, -0.0300, -0.0317, -0.0295,\n",
      "         0.0100, -0.0182, -0.0301, -0.0013,  0.0088,  0.0167, -0.0096,  0.0100,\n",
      "         0.0167,  0.0067, -0.0198, -0.0327,  0.0215, -0.0238, -0.0225,  0.0120,\n",
      "        -0.0297,  0.0176,  0.0237,  0.0347, -0.0068, -0.0087, -0.0338, -0.0278,\n",
      "         0.0209, -0.0200,  0.0348, -0.0215, -0.0217,  0.0256,  0.0285,  0.0117,\n",
      "        -0.0126,  0.0207,  0.0211,  0.0015,  0.0166,  0.0136,  0.0338, -0.0085,\n",
      "        -0.0004,  0.0096, -0.0076,  0.0045, -0.0161,  0.0138, -0.0345,  0.0013],\n",
      "       requires_grad=True)\n"
     ]
    }
   ],
   "source": [
    "print(model.fc1.weight)\n",
    "print(model.fc1.bias)"
   ]
  },
  {
   "cell_type": "markdown",
   "metadata": {},
   "source": [
    "For custom initialization, we want to modify these tensors in place. These are actually autograd *Variables*, so we need to get back the actual tensors with `model.fc1.weight.data`. Once we have the tensors, we can fill them with zeros (for biases) or random normal values."
   ]
  },
  {
   "cell_type": "code",
   "execution_count": 46,
   "metadata": {},
   "outputs": [
    {
     "data": {
      "text/plain": [
       "tensor([0., 0., 0., 0., 0., 0., 0., 0., 0., 0., 0., 0., 0., 0., 0., 0., 0., 0., 0., 0., 0., 0., 0., 0.,\n",
       "        0., 0., 0., 0., 0., 0., 0., 0., 0., 0., 0., 0., 0., 0., 0., 0., 0., 0., 0., 0., 0., 0., 0., 0.,\n",
       "        0., 0., 0., 0., 0., 0., 0., 0., 0., 0., 0., 0., 0., 0., 0., 0., 0., 0., 0., 0., 0., 0., 0., 0.,\n",
       "        0., 0., 0., 0., 0., 0., 0., 0., 0., 0., 0., 0., 0., 0., 0., 0., 0., 0., 0., 0., 0., 0., 0., 0.,\n",
       "        0., 0., 0., 0., 0., 0., 0., 0., 0., 0., 0., 0., 0., 0., 0., 0., 0., 0., 0., 0., 0., 0., 0., 0.,\n",
       "        0., 0., 0., 0., 0., 0., 0., 0.])"
      ]
     },
     "execution_count": 46,
     "metadata": {},
     "output_type": "execute_result"
    }
   ],
   "source": [
    "# Set biases to all zeros\n",
    "model.fc1.bias.data.fill_(0)"
   ]
  },
  {
   "cell_type": "code",
   "execution_count": 47,
   "metadata": {},
   "outputs": [
    {
     "data": {
      "text/plain": [
       "tensor([[ 3.3988e-03, -2.2572e-03, -3.7021e-03,  ...,  1.1109e-02,\n",
       "          9.1029e-03,  9.5263e-03],\n",
       "        [ 1.3351e-02, -1.6004e-02, -6.7052e-03,  ..., -1.2042e-02,\n",
       "          5.5166e-03, -5.4969e-04],\n",
       "        [ 1.7791e-02,  4.5340e-05,  1.0423e-02,  ..., -4.7386e-03,\n",
       "         -1.1998e-02, -1.2336e-02],\n",
       "        ...,\n",
       "        [ 1.4768e-02, -2.4122e-03,  1.2860e-02,  ..., -1.1239e-02,\n",
       "          1.3826e-02, -8.7073e-03],\n",
       "        [ 1.7399e-03,  2.1444e-03,  2.4359e-03,  ..., -1.1694e-02,\n",
       "          7.8029e-03,  7.3803e-03],\n",
       "        [ 3.5545e-03, -8.5185e-03,  3.4846e-03,  ...,  1.8108e-03,\n",
       "          2.2788e-03, -2.1507e-03]])"
      ]
     },
     "execution_count": 47,
     "metadata": {},
     "output_type": "execute_result"
    }
   ],
   "source": [
    "# sample from random normal with standard dev = 0.01\n",
    "model.fc1.weight.data.normal_(std=0.01)"
   ]
  },
  {
   "cell_type": "markdown",
   "metadata": {},
   "source": [
    "### Forward pass\n",
    "\n",
    "Now that we have a network, let's see what happens when we pass in an image."
   ]
  },
  {
   "cell_type": "code",
   "execution_count": 68,
   "metadata": {},
   "outputs": [
    {
     "data": {
      "image/png": "[encoded data removed]",
      "text/plain": [
       "<Figure size 432x648 with 2 Axes>"
      ]
     },
     "metadata": {
      "image/png": {
       "height": 235,
       "width": 424
      },
      "needs_background": "light"
     },
     "output_type": "display_data"
    }
   ],
   "source": [
    "# Grab some data \n",
    "dataiter = iter(trainloader)\n",
    "images, labels = dataiter.next()\n",
    "\n",
    "# Resize images into a 1D vector, new shape is (batch size, color channels, image pixels) \n",
    "images.resize_(64, 1, 784)\n",
    "# or images.resize_(images.shape[0], 1, 784) to automatically get batch size\n",
    "\n",
    "# Forward pass through the network\n",
    "img_idx = 2\n",
    "ps = model.forward(images[img_idx,:])\n",
    "\n",
    "img = images[img_idx]\n",
    "helper.view_classify(img.view(1, 28, 28), ps)"
   ]
  },
  {
   "cell_type": "markdown",
   "metadata": {},
   "source": [
    "As you can see above, our network has basically no idea what this digit is. It's because we haven't trained it yet, all the weights are random!\n",
    "\n",
    "### Using `nn.Sequential`\n",
    "\n",
    "PyTorch provides a convenient way to build networks like this where a tensor is passed sequentially through operations, `nn.Sequential` ([documentation](https://pytorch.org/docs/master/nn.html#torch.nn.Sequential)). Using this to build the equivalent network:"
   ]
  },
  {
   "cell_type": "code",
   "execution_count": 73,
   "metadata": {},
   "outputs": [
    {
     "name": "stdout",
     "output_type": "stream",
     "text": [
      "Sequential(\n",
      "  (0): Linear(in_features=784, out_features=128, bias=True)\n",
      "  (1): ReLU()\n",
      "  (2): Linear(in_features=128, out_features=64, bias=True)\n",
      "  (3): ReLU()\n",
      "  (4): Linear(in_features=64, out_features=10, bias=True)\n",
      "  (5): Softmax(dim=1)\n",
      ")\n"
     ]
    },
    {
     "data": {
      "image/png": "[encoded data removed]",
      "text/plain": [
       "<Figure size 432x648 with 2 Axes>"
      ]
     },
     "metadata": {
      "image/png": {
       "height": 235,
       "width": 424
      },
      "needs_background": "light"
     },
     "output_type": "display_data"
    }
   ],
   "source": [
    "# Hyperparameters for our network\n",
    "input_size = 784\n",
    "hidden_sizes = [128, 64]\n",
    "output_size = 10\n",
    "\n",
    "# Build a feed-forward network\n",
    "model = nn.Sequential(nn.Linear(input_size, hidden_sizes[0]),\n",
    "                      nn.ReLU(),\n",
    "                      nn.Linear(hidden_sizes[0], hidden_sizes[1]),\n",
    "                      nn.ReLU(),\n",
    "                      nn.Linear(hidden_sizes[1], output_size),\n",
    "                      nn.Softmax(dim=1))\n",
    "print(model)\n",
    "\n",
    "# Forward pass through the network and display output\n",
    "images, labels = next(iter(trainloader))\n",
    "images.resize_(images.shape[0], 1, 784)\n",
    "ps = model.forward(images[0,:])\n",
    "helper.view_classify(images[0].view(1, 28, 28), ps)"
   ]
  },
  {
   "cell_type": "markdown",
   "metadata": {},
   "source": [
    "Here our model is the same as before: 784 input units, a hidden layer with 128 units, ReLU activation, 64 unit hidden layer, another ReLU, then the output layer with 10 units, and the softmax output.\n",
    "\n",
    "The operations are available by passing in the appropriate index. For example, if you want to get first Linear operation and look at the weights, you'd use `model[0]`."
   ]
  },
  {
   "cell_type": "code",
   "execution_count": 75,
   "metadata": {},
   "outputs": [
    {
     "name": "stdout",
     "output_type": "stream",
     "text": [
      "Linear(in_features=784, out_features=128, bias=True)\n"
     ]
    },
    {
     "data": {
      "text/plain": [
       "Parameter containing:\n",
       "tensor([ 0.0308,  0.0331,  0.0076, -0.0222,  0.0327,  0.0049, -0.0024, -0.0048,\n",
       "        -0.0108,  0.0096,  0.0258,  0.0214,  0.0300, -0.0209, -0.0164, -0.0267,\n",
       "        -0.0196, -0.0343, -0.0127,  0.0190,  0.0157, -0.0128, -0.0228, -0.0077,\n",
       "        -0.0234,  0.0056, -0.0209, -0.0055,  0.0246,  0.0158, -0.0238, -0.0066,\n",
       "        -0.0337, -0.0052,  0.0315,  0.0139,  0.0204,  0.0128,  0.0103,  0.0086,\n",
       "         0.0311, -0.0246,  0.0270, -0.0162, -0.0055, -0.0188, -0.0186,  0.0213,\n",
       "         0.0247,  0.0075, -0.0190, -0.0299,  0.0306, -0.0008, -0.0054, -0.0013,\n",
       "         0.0010, -0.0298, -0.0051, -0.0319,  0.0283, -0.0303,  0.0239,  0.0146,\n",
       "        -0.0055, -0.0046,  0.0037,  0.0282, -0.0313,  0.0276,  0.0298,  0.0155,\n",
       "        -0.0127, -0.0017,  0.0265, -0.0282,  0.0334,  0.0280,  0.0130,  0.0210,\n",
       "         0.0085,  0.0034, -0.0086, -0.0199, -0.0069, -0.0193,  0.0087,  0.0094,\n",
       "         0.0327, -0.0283,  0.0213, -0.0171,  0.0170, -0.0216,  0.0022, -0.0045,\n",
       "        -0.0088,  0.0108, -0.0027,  0.0068,  0.0354, -0.0189,  0.0105, -0.0133,\n",
       "         0.0260, -0.0150,  0.0306, -0.0339, -0.0095,  0.0355,  0.0108,  0.0240,\n",
       "        -0.0290,  0.0110,  0.0022,  0.0250, -0.0168, -0.0301,  0.0311, -0.0078,\n",
       "         0.0084,  0.0284, -0.0054, -0.0155, -0.0356,  0.0127,  0.0131,  0.0288],\n",
       "       requires_grad=True)"
      ]
     },
     "execution_count": 75,
     "metadata": {},
     "output_type": "execute_result"
    }
   ],
   "source": [
    "print(model[0])\n",
    "model[0].bias"
   ]
  },
  {
   "cell_type": "markdown",
   "metadata": {},
   "source": [
    "You can also pass in an `OrderedDict` to name the individual layers and operations, instead of using incremental integers. Note that dictionary keys must be unique, so _each operation must have a different name_."
   ]
  },
  {
   "cell_type": "code",
   "execution_count": 77,
   "metadata": {},
   "outputs": [
    {
     "data": {
      "text/plain": [
       "Sequential(\n",
       "  (fc1): Linear(in_features=784, out_features=128, bias=True)\n",
       "  (relu1): ReLU()\n",
       "  (fc2): Linear(in_features=128, out_features=64, bias=True)\n",
       "  (relu2): ReLU()\n",
       "  (output): Linear(in_features=64, out_features=10, bias=True)\n",
       "  (softmax): Softmax(dim=1)\n",
       ")"
      ]
     },
     "execution_count": 77,
     "metadata": {},
     "output_type": "execute_result"
    }
   ],
   "source": [
    "from collections import OrderedDict\n",
    "model = nn.Sequential(OrderedDict([\n",
    "                      ('fc1', nn.Linear(input_size, hidden_sizes[0])),\n",
    "                      ('relu1', nn.ReLU()),\n",
    "                      ('fc2', nn.Linear(hidden_sizes[0], hidden_sizes[1])),\n",
    "                      ('relu2', nn.ReLU()),\n",
    "                      ('output', nn.Linear(hidden_sizes[1], output_size)),\n",
    "                      ('softmax', nn.Softmax(dim=1))]))\n",
    "model"
   ]
  },
  {
   "cell_type": "markdown",
   "metadata": {},
   "source": [
    "Now you can access layers either by integer or the name"
   ]
  },
  {
   "cell_type": "code",
   "execution_count": 83,
   "metadata": {},
   "outputs": [
    {
     "name": "stdout",
     "output_type": "stream",
     "text": [
      "Linear(in_features=784, out_features=128, bias=True)\n",
      "Parameter containing:\n",
      "tensor([[-0.0160,  0.0155,  0.0263,  ..., -0.0067,  0.0107, -0.0177],\n",
      "        [-0.0178, -0.0262,  0.0235,  ...,  0.0116,  0.0343,  0.0030],\n",
      "        [-0.0013,  0.0146, -0.0316,  ...,  0.0264,  0.0068, -0.0135],\n",
      "        ...,\n",
      "        [ 0.0060,  0.0115, -0.0159,  ...,  0.0331, -0.0264,  0.0268],\n",
      "        [-0.0244,  0.0086,  0.0346,  ..., -0.0321, -0.0114, -0.0132],\n",
      "        [-0.0310, -0.0253, -0.0340,  ..., -0.0031,  0.0144,  0.0062]],\n",
      "       requires_grad=True)\n"
     ]
    }
   ],
   "source": [
    "print(model[0])\n",
    "print(model.fc1.weight)"
   ]
  },
  {
   "cell_type": "markdown",
   "metadata": {},
   "source": [
    "In the next notebook, we'll see how we can train a neural network to accuractly predict the numbers appearing in the MNIST images."
   ]
  }
 ],
 "metadata": {
  "kernelspec": {
   "display_name": "Python 3",
   "language": "python",
   "name": "python3"
  },
  "language_info": {
   "codemirror_mode": {
    "name": "ipython",
    "version": 3
   },
   "file_extension": ".py",
   "mimetype": "text/x-python",
   "name": "python",
   "nbconvert_exporter": "python",
   "pygments_lexer": "ipython3",
   "version": "3.8.2"
  }
 },
 "nbformat": 4,
 "nbformat_minor": 2
}
