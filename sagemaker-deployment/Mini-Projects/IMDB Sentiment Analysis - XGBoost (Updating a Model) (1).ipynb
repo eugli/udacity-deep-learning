{
 "cells": [
  {
   "cell_type": "markdown",
   "metadata": {},
   "source": [
    "# Sentiment Analysis\n",
    "\n",
    "## Updating a Model in SageMaker\n",
    "\n",
    "_Deep Learning Nanodegree Program | Deployment_\n",
    "\n",
    "---\n",
    "\n",
    "In this notebook we will consider a situation in which a model that we constructed is no longer working as we intended. In particular, we will look at the XGBoost sentiment analysis model that we constructed earlier. In this case, however, we have some new data that our model doesn't seem to perform very well on. As a result, we will re-train our model and update an existing endpoint so that it uses our new model.\n",
    "\n",
    "This notebook starts by re-creating the XGBoost sentiment analysis model that was created in earlier notebooks. This means that you will have already seen the cells up to the end of Step 4. The new content in this notebook begins at Step 5.\n",
    "\n",
    "## Instructions\n",
    "\n",
    "Some template code has already been provided for you, and you will need to implement additional functionality to successfully complete this notebook. You will not need to modify the included code beyond what is requested. Sections that begin with '**TODO**' in the header indicate that you need to complete or implement some portion within them. Instructions will be provided for each section and the specifics of the implementation are marked in the code block with a `# TODO: ...` comment. Please be sure to read the instructions carefully!\n",
    "\n",
    "In addition to implementing code, there will be questions for you to answer which relate to the task and your implementation. Each section where you will answer a question is preceded by a '**Question:**' header. Carefully read each question and provide your answer below the '**Answer:**' header by editing the Markdown cell.\n",
    "\n",
    "> **Note**: Code and Markdown cells can be executed using the **Shift+Enter** keyboard shortcut. In addition, a cell can be edited by typically clicking it (double-click for Markdown cells) or by pressing **Enter** while it is highlighted."
   ]
  },
  {
   "cell_type": "markdown",
   "metadata": {},
   "source": [
    "## Step 1: Downloading the data\n",
    "\n",
    "The dataset we are going to use is very popular among researchers in Natural Language Processing, usually referred to as the [IMDb dataset](http://ai.stanford.edu/~amaas/data/sentiment/). It consists of movie reviews from the website [imdb.com](http://www.imdb.com/), each labeled as either '**pos**itive', if the reviewer enjoyed the film, or '**neg**ative' otherwise.\n",
    "\n",
    "> Maas, Andrew L., et al. [Learning Word Vectors for Sentiment Analysis](http://ai.stanford.edu/~amaas/data/sentiment/). In _Proceedings of the 49th Annual Meeting of the Association for Computational Linguistics: Human Language Technologies_. Association for Computational Linguistics, 2011.\n",
    "\n",
    "We begin by using some Jupyter Notebook magic to download and extract the dataset."
   ]
  },
  {
   "cell_type": "code",
   "execution_count": 1,
   "metadata": {},
   "outputs": [
    {
     "name": "stdout",
     "output_type": "stream",
     "text": [
      "mkdir: cannot create directory ‘../data’: File exists\n",
      "--2020-04-20 01:13:06--  http://ai.stanford.edu/~amaas/data/sentiment/aclImdb_v1.tar.gz\n",
      "Resolving ai.stanford.edu (ai.stanford.edu)... 171.64.68.10\n",
      "Connecting to ai.stanford.edu (ai.stanford.edu)|171.64.68.10|:80... connected.\n",
      "HTTP request sent, awaiting response... 200 OK\n",
      "Length: 84125825 (80M) [application/x-gzip]\n",
      "Saving to: ‘../data/aclImdb_v1.tar.gz’\n",
      "\n",
      "../data/aclImdb_v1. 100%[===================>]  80.23M  22.9MB/s    in 5.0s    \n",
      "\n",
      "2020-04-20 01:13:11 (16.2 MB/s) - ‘../data/aclImdb_v1.tar.gz’ saved [84125825/84125825]\n",
      "\n"
     ]
    }
   ],
   "source": [
    "%mkdir ../data\n",
    "!wget -O ../data/aclImdb_v1.tar.gz http://ai.stanford.edu/~amaas/data/sentiment/aclImdb_v1.tar.gz\n",
    "!tar -zxf ../data/aclImdb_v1.tar.gz -C ../data"
   ]
  },
  {
   "cell_type": "markdown",
   "metadata": {},
   "source": [
    "## Step 2: Preparing the data\n",
    "\n",
    "The data we have downloaded is split into various files, each of which contains a single review. It will be much easier going forward if we combine these individual files into two large files, one for training and one for testing."
   ]
  },
  {
   "cell_type": "code",
   "execution_count": 2,
   "metadata": {},
   "outputs": [],
   "source": [
    "import os\n",
    "import glob\n",
    "\n",
    "def read_imdb_data(data_dir='../data/aclImdb'):\n",
    "    data = {}\n",
    "    labels = {}\n",
    "    \n",
    "    for data_type in ['train', 'test']:\n",
    "        data[data_type] = {}\n",
    "        labels[data_type] = {}\n",
    "        \n",
    "        for sentiment in ['pos', 'neg']:\n",
    "            data[data_type][sentiment] = []\n",
    "            labels[data_type][sentiment] = []\n",
    "            \n",
    "            path = os.path.join(data_dir, data_type, sentiment, '*.txt')\n",
    "            files = glob.glob(path)\n",
    "            \n",
    "            for f in files:\n",
    "                with open(f) as review:\n",
    "                    data[data_type][sentiment].append(review.read())\n",
    "                    # Here we represent a positive review by '1' and a negative review by '0'\n",
    "                    labels[data_type][sentiment].append(1 if sentiment == 'pos' else 0)\n",
    "                    \n",
    "            assert len(data[data_type][sentiment]) == len(labels[data_type][sentiment]), \\\n",
    "                    \"{}/{} data size does not match labels size\".format(data_type, sentiment)\n",
    "                \n",
    "    return data, labels"
   ]
  },
  {
   "cell_type": "code",
   "execution_count": 3,
   "metadata": {},
   "outputs": [
    {
     "name": "stdout",
     "output_type": "stream",
     "text": [
      "IMDB reviews: train = 12500 pos / 12500 neg, test = 12500 pos / 12500 neg\n"
     ]
    }
   ],
   "source": [
    "data, labels = read_imdb_data()\n",
    "print(\"IMDB reviews: train = {} pos / {} neg, test = {} pos / {} neg\".format(\n",
    "            len(data['train']['pos']), len(data['train']['neg']),\n",
    "            len(data['test']['pos']), len(data['test']['neg'])))"
   ]
  },
  {
   "cell_type": "code",
   "execution_count": 4,
   "metadata": {},
   "outputs": [],
   "source": [
    "from sklearn.utils import shuffle\n",
    "\n",
    "def prepare_imdb_data(data, labels):\n",
    "    \"\"\"Prepare training and test sets from IMDb movie reviews.\"\"\"\n",
    "    \n",
    "    #Combine positive and negative reviews and labels\n",
    "    data_train = data['train']['pos'] + data['train']['neg']\n",
    "    data_test = data['test']['pos'] + data['test']['neg']\n",
    "    labels_train = labels['train']['pos'] + labels['train']['neg']\n",
    "    labels_test = labels['test']['pos'] + labels['test']['neg']\n",
    "    \n",
    "    #Shuffle reviews and corresponding labels within training and test sets\n",
    "    data_train, labels_train = shuffle(data_train, labels_train)\n",
    "    data_test, labels_test = shuffle(data_test, labels_test)\n",
    "    \n",
    "    # Return a unified training data, test data, training labels, test labets\n",
    "    return data_train, data_test, labels_train, labels_test"
   ]
  },
  {
   "cell_type": "code",
   "execution_count": 5,
   "metadata": {},
   "outputs": [
    {
     "name": "stdout",
     "output_type": "stream",
     "text": [
      "IMDb reviews (combined): train = 25000, test = 25000\n"
     ]
    }
   ],
   "source": [
    "train_X, test_X, train_y, test_y = prepare_imdb_data(data, labels)\n",
    "print(\"IMDb reviews (combined): train = {}, test = {}\".format(len(train_X), len(test_X)))"
   ]
  },
  {
   "cell_type": "code",
   "execution_count": 6,
   "metadata": {},
   "outputs": [
    {
     "data": {
      "text/plain": [
       "'I saw the 7.5 IMDb rating on this movie and on the basis of that decided to watch this movie which my roommate had rented. She said she had seen it before. \"It\\'s funny and sad! I cried the first time I saw it,\" she gushed. Maybe compared to other Bollywood movies this deserves a 7.5 out of 10, but in comparison to all the other movies I have seen in my lifetime, this deserves no more than a 3. Any movie where I can perpetually guess what is going to happen next is no good for me. The characters are unbelievable, how the act is not realistic at all and their motives are contrived. It is over dramatic and the songs aren\\'t all that great. My biggest problem with Bollywood movies is the lack of subtlety. All the emotions are way too overdone and thus not at all realistic. Any emotion or bond between characters that is the least bit subtle must be magnified with an unnecessary song. I think I understood that the relationship between the father and son was more like one between friends than one between a parent and child without having to have it conveyed via a five minute long song. The stupid comic relief complete with laugh track was not funny or necessary (we get it, Laxman isn\\'t the sharpest tool in the shed). If a movie tries to elicit tears through the most hackneyed means possible it just isn\\'t meaningful, just a bit embarrassing.<br /><br />*****SPOILER*****<br /><br />Generally if someone has terminal stage lung cancer their son who lives with them would know something was wrong without having to be told. Too many plot holes to count. At first the movie was amusing and cute in the way Bollywood movies are to people who don\\'t watch them that avidly but it just got tedious. It takes a lot of skill to make a movie that is amusing and heartwrenching and the best way to do it is usually not having all the amusing parts in the first half of the movie and all the heartwrenching parts at the end.<br /><br />*****SPOILER OVER***** Perhaps it had a very little more depth than other Bollywood movies that I have seen, but not much at all. I spent more time laughing at the stupidity of the movie than the parts that were supposed to be funny. I didn\\'t shed a single tear nor did I feel like it, rather I was overwhelmed with a feeling of disgust at the attempt at a dramatic ending. I don\\'t recommend this movie if you want to watch something good, I recommend it if you want to watch a Bollywood movie that is kind of sad.'"
      ]
     },
     "execution_count": 6,
     "metadata": {},
     "output_type": "execute_result"
    }
   ],
   "source": [
    "train_X[100]"
   ]
  },
  {
   "cell_type": "markdown",
   "metadata": {},
   "source": [
    "## Step 3: Processing the data\n",
    "\n",
    "Now that we have our training and testing datasets merged and ready to use, we need to start processing the raw data into something that will be useable by our machine learning algorithm. To begin with, we remove any html formatting that may appear in the reviews and perform some standard natural language processing in order to homogenize the data."
   ]
  },
  {
   "cell_type": "code",
   "execution_count": 7,
   "metadata": {},
   "outputs": [
    {
     "name": "stdout",
     "output_type": "stream",
     "text": [
      "[nltk_data] Downloading package stopwords to\n",
      "[nltk_data]     /home/ec2-user/nltk_data...\n",
      "[nltk_data]   Package stopwords is already up-to-date!\n"
     ]
    }
   ],
   "source": [
    "import nltk\n",
    "nltk.download(\"stopwords\")\n",
    "from nltk.corpus import stopwords\n",
    "from nltk.stem.porter import *\n",
    "stemmer = PorterStemmer()"
   ]
  },
  {
   "cell_type": "code",
   "execution_count": 8,
   "metadata": {},
   "outputs": [],
   "source": [
    "import re\n",
    "from bs4 import BeautifulSoup\n",
    "\n",
    "def review_to_words(review):\n",
    "    text = BeautifulSoup(review, \"html.parser\").get_text() # Remove HTML tags\n",
    "    text = re.sub(r\"[^a-zA-Z0-9]\", \" \", text.lower()) # Convert to lower case\n",
    "    words = text.split() # Split string into words\n",
    "    words = [w for w in words if w not in stopwords.words(\"english\")] # Remove stopwords\n",
    "    words = [PorterStemmer().stem(w) for w in words] # stem\n",
    "    \n",
    "    return words"
   ]
  },
  {
   "cell_type": "code",
   "execution_count": 9,
   "metadata": {},
   "outputs": [
    {
     "data": {
      "text/plain": [
       "['saw',\n",
       " '7',\n",
       " '5',\n",
       " 'imdb',\n",
       " 'rate',\n",
       " 'movi',\n",
       " 'basi',\n",
       " 'decid',\n",
       " 'watch',\n",
       " 'movi',\n",
       " 'roommat',\n",
       " 'rent',\n",
       " 'said',\n",
       " 'seen',\n",
       " 'funni',\n",
       " 'sad',\n",
       " 'cri',\n",
       " 'first',\n",
       " 'time',\n",
       " 'saw',\n",
       " 'gush',\n",
       " 'mayb',\n",
       " 'compar',\n",
       " 'bollywood',\n",
       " 'movi',\n",
       " 'deserv',\n",
       " '7',\n",
       " '5',\n",
       " '10',\n",
       " 'comparison',\n",
       " 'movi',\n",
       " 'seen',\n",
       " 'lifetim',\n",
       " 'deserv',\n",
       " '3',\n",
       " 'movi',\n",
       " 'perpetu',\n",
       " 'guess',\n",
       " 'go',\n",
       " 'happen',\n",
       " 'next',\n",
       " 'good',\n",
       " 'charact',\n",
       " 'unbeliev',\n",
       " 'act',\n",
       " 'realist',\n",
       " 'motiv',\n",
       " 'contriv',\n",
       " 'dramat',\n",
       " 'song',\n",
       " 'great',\n",
       " 'biggest',\n",
       " 'problem',\n",
       " 'bollywood',\n",
       " 'movi',\n",
       " 'lack',\n",
       " 'subtleti',\n",
       " 'emot',\n",
       " 'way',\n",
       " 'overdon',\n",
       " 'thu',\n",
       " 'realist',\n",
       " 'emot',\n",
       " 'bond',\n",
       " 'charact',\n",
       " 'least',\n",
       " 'bit',\n",
       " 'subtl',\n",
       " 'must',\n",
       " 'magnifi',\n",
       " 'unnecessari',\n",
       " 'song',\n",
       " 'think',\n",
       " 'understood',\n",
       " 'relationship',\n",
       " 'father',\n",
       " 'son',\n",
       " 'like',\n",
       " 'one',\n",
       " 'friend',\n",
       " 'one',\n",
       " 'parent',\n",
       " 'child',\n",
       " 'without',\n",
       " 'convey',\n",
       " 'via',\n",
       " 'five',\n",
       " 'minut',\n",
       " 'long',\n",
       " 'song',\n",
       " 'stupid',\n",
       " 'comic',\n",
       " 'relief',\n",
       " 'complet',\n",
       " 'laugh',\n",
       " 'track',\n",
       " 'funni',\n",
       " 'necessari',\n",
       " 'get',\n",
       " 'laxman',\n",
       " 'sharpest',\n",
       " 'tool',\n",
       " 'shed',\n",
       " 'movi',\n",
       " 'tri',\n",
       " 'elicit',\n",
       " 'tear',\n",
       " 'hackney',\n",
       " 'mean',\n",
       " 'possibl',\n",
       " 'meaning',\n",
       " 'bit',\n",
       " 'embarrass',\n",
       " 'spoiler',\n",
       " 'gener',\n",
       " 'someon',\n",
       " 'termin',\n",
       " 'stage',\n",
       " 'lung',\n",
       " 'cancer',\n",
       " 'son',\n",
       " 'live',\n",
       " 'would',\n",
       " 'know',\n",
       " 'someth',\n",
       " 'wrong',\n",
       " 'without',\n",
       " 'told',\n",
       " 'mani',\n",
       " 'plot',\n",
       " 'hole',\n",
       " 'count',\n",
       " 'first',\n",
       " 'movi',\n",
       " 'amus',\n",
       " 'cute',\n",
       " 'way',\n",
       " 'bollywood',\n",
       " 'movi',\n",
       " 'peopl',\n",
       " 'watch',\n",
       " 'avidli',\n",
       " 'got',\n",
       " 'tediou',\n",
       " 'take',\n",
       " 'lot',\n",
       " 'skill',\n",
       " 'make',\n",
       " 'movi',\n",
       " 'amus',\n",
       " 'heartwrench',\n",
       " 'best',\n",
       " 'way',\n",
       " 'usual',\n",
       " 'amus',\n",
       " 'part',\n",
       " 'first',\n",
       " 'half',\n",
       " 'movi',\n",
       " 'heartwrench',\n",
       " 'part',\n",
       " 'end',\n",
       " 'spoiler',\n",
       " 'perhap',\n",
       " 'littl',\n",
       " 'depth',\n",
       " 'bollywood',\n",
       " 'movi',\n",
       " 'seen',\n",
       " 'much',\n",
       " 'spent',\n",
       " 'time',\n",
       " 'laugh',\n",
       " 'stupid',\n",
       " 'movi',\n",
       " 'part',\n",
       " 'suppos',\n",
       " 'funni',\n",
       " 'shed',\n",
       " 'singl',\n",
       " 'tear',\n",
       " 'feel',\n",
       " 'like',\n",
       " 'rather',\n",
       " 'overwhelm',\n",
       " 'feel',\n",
       " 'disgust',\n",
       " 'attempt',\n",
       " 'dramat',\n",
       " 'end',\n",
       " 'recommend',\n",
       " 'movi',\n",
       " 'want',\n",
       " 'watch',\n",
       " 'someth',\n",
       " 'good',\n",
       " 'recommend',\n",
       " 'want',\n",
       " 'watch',\n",
       " 'bollywood',\n",
       " 'movi',\n",
       " 'kind',\n",
       " 'sad']"
      ]
     },
     "execution_count": 9,
     "metadata": {},
     "output_type": "execute_result"
    }
   ],
   "source": [
    "review_to_words(train_X[100])"
   ]
  },
  {
   "cell_type": "code",
   "execution_count": 10,
   "metadata": {},
   "outputs": [],
   "source": [
    "import pickle\n",
    "\n",
    "cache_dir = os.path.join(\"../cache\", \"sentiment_analysis\")  # where to store cache files\n",
    "os.makedirs(cache_dir, exist_ok=True)  # ensure cache directory exists\n",
    "\n",
    "def preprocess_data(data_train, data_test, labels_train, labels_test,\n",
    "                    cache_dir=cache_dir, cache_file=\"preprocessed_data.pkl\"):\n",
    "    \"\"\"Convert each review to words; read from cache if available.\"\"\"\n",
    "\n",
    "    # If cache_file is not None, try to read from it first\n",
    "    cache_data = None\n",
    "    if cache_file is not None:\n",
    "        try:\n",
    "            with open(os.path.join(cache_dir, cache_file), \"rb\") as f:\n",
    "                cache_data = pickle.load(f)\n",
    "            print(\"Read preprocessed data from cache file:\", cache_file)\n",
    "        except:\n",
    "            pass  # unable to read from cache, but that's okay\n",
    "    \n",
    "    # If cache is missing, then do the heavy lifting\n",
    "    if cache_data is None:\n",
    "        # Preprocess training and test data to obtain words for each review\n",
    "        #words_train = list(map(review_to_words, data_train))\n",
    "        #words_test = list(map(review_to_words, data_test))\n",
    "        words_train = [review_to_words(review) for review in data_train]\n",
    "        words_test = [review_to_words(review) for review in data_test]\n",
    "        \n",
    "        # Write to cache file for future runs\n",
    "        if cache_file is not None:\n",
    "            cache_data = dict(words_train=words_train, words_test=words_test,\n",
    "                              labels_train=labels_train, labels_test=labels_test)\n",
    "            with open(os.path.join(cache_dir, cache_file), \"wb\") as f:\n",
    "                pickle.dump(cache_data, f)\n",
    "            print(\"Wrote preprocessed data to cache file:\", cache_file)\n",
    "    else:\n",
    "        # Unpack data loaded from cache file\n",
    "        words_train, words_test, labels_train, labels_test = (cache_data['words_train'],\n",
    "                cache_data['words_test'], cache_data['labels_train'], cache_data['labels_test'])\n",
    "    \n",
    "    return words_train, words_test, labels_train, labels_test"
   ]
  },
  {
   "cell_type": "code",
   "execution_count": 11,
   "metadata": {},
   "outputs": [
    {
     "name": "stdout",
     "output_type": "stream",
     "text": [
      "Wrote preprocessed data to cache file: preprocessed_data.pkl\n"
     ]
    }
   ],
   "source": [
    "# Preprocess data\n",
    "train_X, test_X, train_y, test_y = preprocess_data(train_X, test_X, train_y, test_y)"
   ]
  },
  {
   "cell_type": "markdown",
   "metadata": {},
   "source": [
    "### Extract Bag-of-Words features\n",
    "\n",
    "For the model we will be implementing, rather than using the reviews directly, we are going to transform each review into a Bag-of-Words feature representation. Keep in mind that 'in the wild' we will only have access to the training set so our transformer can only use the training set to construct a representation."
   ]
  },
  {
   "cell_type": "code",
   "execution_count": 12,
   "metadata": {},
   "outputs": [],
   "source": [
    "import numpy as np\n",
    "from sklearn.feature_extraction.text import CountVectorizer\n",
    "from sklearn.externals import joblib\n",
    "# joblib is an enhanced version of pickle that is more efficient for storing NumPy arrays\n",
    "\n",
    "def extract_BoW_features(words_train, words_test, vocabulary_size=5000,\n",
    "                         cache_dir=cache_dir, cache_file=\"bow_features.pkl\"):\n",
    "    \"\"\"Extract Bag-of-Words for a given set of documents, already preprocessed into words.\"\"\"\n",
    "    \n",
    "    # If cache_file is not None, try to read from it first\n",
    "    cache_data = None\n",
    "    if cache_file is not None:\n",
    "        try:\n",
    "            with open(os.path.join(cache_dir, cache_file), \"rb\") as f:\n",
    "                cache_data = joblib.load(f)\n",
    "            print(\"Read features from cache file:\", cache_file)\n",
    "        except:\n",
    "            pass  # unable to read from cache, but that's okay\n",
    "    \n",
    "    # If cache is missing, then do the heavy lifting\n",
    "    if cache_data is None:\n",
    "        # Fit a vectorizer to training documents and use it to transform them\n",
    "        # NOTE: Training documents have already been preprocessed and tokenized into words;\n",
    "        #       pass in dummy functions to skip those steps, e.g. preprocessor=lambda x: x\n",
    "        vectorizer = CountVectorizer(max_features=vocabulary_size,\n",
    "                preprocessor=lambda x: x, tokenizer=lambda x: x)  # already preprocessed\n",
    "        features_train = vectorizer.fit_transform(words_train).toarray()\n",
    "\n",
    "        # Apply the same vectorizer to transform the test documents (ignore unknown words)\n",
    "        features_test = vectorizer.transform(words_test).toarray()\n",
    "        \n",
    "        # NOTE: Remember to convert the features using .toarray() for a compact representation\n",
    "        \n",
    "        # Write to cache file for future runs (store vocabulary as well)\n",
    "        if cache_file is not None:\n",
    "            vocabulary = vectorizer.vocabulary_\n",
    "            cache_data = dict(features_train=features_train, features_test=features_test,\n",
    "                             vocabulary=vocabulary)\n",
    "            with open(os.path.join(cache_dir, cache_file), \"wb\") as f:\n",
    "                joblib.dump(cache_data, f)\n",
    "            print(\"Wrote features to cache file:\", cache_file)\n",
    "    else:\n",
    "        # Unpack data loaded from cache file\n",
    "        features_train, features_test, vocabulary = (cache_data['features_train'],\n",
    "                cache_data['features_test'], cache_data['vocabulary'])\n",
    "    \n",
    "    # Return both the extracted features as well as the vocabulary\n",
    "    return features_train, features_test, vocabulary"
   ]
  },
  {
   "cell_type": "code",
   "execution_count": 13,
   "metadata": {},
   "outputs": [
    {
     "name": "stdout",
     "output_type": "stream",
     "text": [
      "Wrote features to cache file: bow_features.pkl\n"
     ]
    }
   ],
   "source": [
    "# Extract Bag of Words features for both training and test datasets\n",
    "train_X, test_X, vocabulary = extract_BoW_features(train_X, test_X)"
   ]
  },
  {
   "cell_type": "code",
   "execution_count": 14,
   "metadata": {},
   "outputs": [
    {
     "data": {
      "text/plain": [
       "5000"
      ]
     },
     "execution_count": 14,
     "metadata": {},
     "output_type": "execute_result"
    }
   ],
   "source": [
    "len(train_X[100])"
   ]
  },
  {
   "cell_type": "markdown",
   "metadata": {},
   "source": [
    "## Step 4: Classification using XGBoost\n",
    "\n",
    "Now that we have created the feature representation of our training (and testing) data, it is time to start setting up and using the XGBoost classifier provided by SageMaker.\n",
    "\n",
    "### Writing the dataset\n",
    "\n",
    "The XGBoost classifier that we will be using requires the dataset to be written to a file and stored using Amazon S3. To do this, we will start by splitting the training dataset into two parts, the data we will train the model with and a validation set. Then, we will write those datasets to a file and upload the files to S3. In addition, we will write the test set input to a file and upload the file to S3. This is so that we can use SageMakers Batch Transform functionality to test our model once we've fit it."
   ]
  },
  {
   "cell_type": "code",
   "execution_count": 15,
   "metadata": {},
   "outputs": [],
   "source": [
    "import pandas as pd\n",
    "\n",
    "# Earlier we shuffled the training dataset so to make things simple we can just assign\n",
    "# the first 10 000 reviews to the validation set and use the remaining reviews for training.\n",
    "val_X = pd.DataFrame(train_X[:10000])\n",
    "train_X = pd.DataFrame(train_X[10000:])\n",
    "\n",
    "val_y = pd.DataFrame(train_y[:10000])\n",
    "train_y = pd.DataFrame(train_y[10000:])"
   ]
  },
  {
   "cell_type": "markdown",
   "metadata": {},
   "source": [
    "The documentation for the XGBoost algorithm in SageMaker requires that the saved datasets should contain no headers or index and that for the training and validation data, the label should occur first for each sample.\n",
    "\n",
    "For more information about this and other algorithms, the SageMaker developer documentation can be found on __[Amazon's website.](https://docs.aws.amazon.com/sagemaker/latest/dg/)__"
   ]
  },
  {
   "cell_type": "code",
   "execution_count": 16,
   "metadata": {},
   "outputs": [],
   "source": [
    "# First we make sure that the local directory in which we'd like to store the training and validation csv files exists.\n",
    "data_dir = '../data/sentiment_update'\n",
    "if not os.path.exists(data_dir):\n",
    "    os.makedirs(data_dir)"
   ]
  },
  {
   "cell_type": "code",
   "execution_count": 17,
   "metadata": {},
   "outputs": [],
   "source": [
    "pd.DataFrame(test_X).to_csv(os.path.join(data_dir, 'test.csv'), header=False, index=False)\n",
    "\n",
    "pd.concat([val_y, val_X], axis=1).to_csv(os.path.join(data_dir, 'validation.csv'), header=False, index=False)\n",
    "pd.concat([train_y, train_X], axis=1).to_csv(os.path.join(data_dir, 'train.csv'), header=False, index=False)"
   ]
  },
  {
   "cell_type": "code",
   "execution_count": 18,
   "metadata": {},
   "outputs": [],
   "source": [
    "# To save a bit of memory we can set text_X, train_X, val_X, train_y and val_y to None.\n",
    "\n",
    "test_X = train_X = val_X = train_y = val_y = None"
   ]
  },
  {
   "cell_type": "markdown",
   "metadata": {},
   "source": [
    "### Uploading Training / Validation files to S3\n",
    "\n",
    "Amazon's S3 service allows us to store files that can be access by both the built-in training models such as the XGBoost model we will be using as well as custom models such as the one we will see a little later.\n",
    "\n",
    "For this, and most other tasks we will be doing using SageMaker, there are two methods we could use. The first is to use the low level functionality of SageMaker which requires knowing each of the objects involved in the SageMaker environment. The second is to use the high level functionality in which certain choices have been made on the user's behalf. The low level approach benefits from allowing the user a great deal of flexibility while the high level approach makes development much quicker. For our purposes we will opt to use the high level approach although using the low-level approach is certainly an option.\n",
    "\n",
    "Recall the method `upload_data()` which is a member of object representing our current SageMaker session. What this method does is upload the data to the default bucket (which is created if it does not exist) into the path described by the key_prefix variable. To see this for yourself, once you have uploaded the data files, go to the S3 console and look to see where the files have been uploaded.\n",
    "\n",
    "For additional resources, see the __[SageMaker API documentation](http://sagemaker.readthedocs.io/en/latest/)__ and in addition the __[SageMaker Developer Guide.](https://docs.aws.amazon.com/sagemaker/latest/dg/)__"
   ]
  },
  {
   "cell_type": "code",
   "execution_count": 19,
   "metadata": {},
   "outputs": [],
   "source": [
    "import sagemaker\n",
    "\n",
    "session = sagemaker.Session() # Store the current SageMaker session\n",
    "\n",
    "# S3 prefix (which folder will we use)\n",
    "prefix = 'sentiment-update'\n",
    "\n",
    "test_location = session.upload_data(os.path.join(data_dir, 'test.csv'), key_prefix=prefix)\n",
    "val_location = session.upload_data(os.path.join(data_dir, 'validation.csv'), key_prefix=prefix)\n",
    "train_location = session.upload_data(os.path.join(data_dir, 'train.csv'), key_prefix=prefix)"
   ]
  },
  {
   "cell_type": "markdown",
   "metadata": {},
   "source": [
    "### Creating the XGBoost model\n",
    "\n",
    "Now that the data has been uploaded it is time to create the XGBoost model. To begin with, we need to do some setup. At this point it is worth discussing what a model is in SageMaker. It is easiest to think of a model of comprising three different objects in the SageMaker ecosystem, which interact with one another.\n",
    "\n",
    "- Model Artifacts\n",
    "- Training Code (Container)\n",
    "- Inference Code (Container)\n",
    "\n",
    "The Model Artifacts are what you might think of as the actual model itself. For example, if you were building a neural network, the model artifacts would be the weights of the various layers. In our case, for an XGBoost model, the artifacts are the actual trees that are created during training.\n",
    "\n",
    "The other two objects, the training code and the inference code are then used the manipulate the training artifacts. More precisely, the training code uses the training data that is provided and creates the model artifacts, while the inference code uses the model artifacts to make predictions on new data.\n",
    "\n",
    "The way that SageMaker runs the training and inference code is by making use of Docker containers. For now, think of a container as being a way of packaging code up so that dependencies aren't an issue."
   ]
  },
  {
   "cell_type": "code",
   "execution_count": 20,
   "metadata": {},
   "outputs": [],
   "source": [
    "from sagemaker import get_execution_role\n",
    "\n",
    "# Our current execution role is require when creating the model as the training\n",
    "# and inference code will need to access the model artifacts.\n",
    "role = get_execution_role()"
   ]
  },
  {
   "cell_type": "code",
   "execution_count": 21,
   "metadata": {},
   "outputs": [
    {
     "name": "stderr",
     "output_type": "stream",
     "text": [
      "WARNING:root:There is a more up to date SageMaker XGBoost image. To use the newer image, please set 'repo_version'='0.90-1'. For example:\n",
      "\tget_image_uri(region, 'xgboost', '0.90-1').\n"
     ]
    }
   ],
   "source": [
    "# We need to retrieve the location of the container which is provided by Amazon for using XGBoost.\n",
    "# As a matter of convenience, the training and inference code both use the same container.\n",
    "from sagemaker.amazon.amazon_estimator import get_image_uri\n",
    "\n",
    "container = get_image_uri(session.boto_region_name, 'xgboost')"
   ]
  },
  {
   "cell_type": "code",
   "execution_count": 22,
   "metadata": {},
   "outputs": [],
   "source": [
    "# First we create a SageMaker estimator object for our model.\n",
    "xgb = sagemaker.estimator.Estimator(container, # The location of the container we wish to use\n",
    "                                    role,                                    # What is our current IAM Role\n",
    "                                    train_instance_count=1,                  # How many compute instances\n",
    "                                    train_instance_type='ml.m4.xlarge',      # What kind of compute instances\n",
    "                                    output_path='s3://{}/{}/output'.format(session.default_bucket(), prefix),\n",
    "                                    sagemaker_session=session)\n",
    "\n",
    "# And then set the algorithm specific parameters.\n",
    "xgb.set_hyperparameters(max_depth=5,\n",
    "                        eta=0.2,\n",
    "                        gamma=4,\n",
    "                        min_child_weight=6,\n",
    "                        subsample=0.8,\n",
    "                        silent=0,\n",
    "                        objective='binary:logistic',\n",
    "                        early_stopping_rounds=10,\n",
    "                        num_round=500)"
   ]
  },
  {
   "cell_type": "markdown",
   "metadata": {},
   "source": [
    "### Fit the XGBoost model\n",
    "\n",
    "Now that our model has been set up we simply need to attach the training and validation datasets and then ask SageMaker to set up the computation."
   ]
  },
  {
   "cell_type": "code",
   "execution_count": 23,
   "metadata": {},
   "outputs": [],
   "source": [
    "s3_input_train = sagemaker.s3_input(s3_data=train_location, content_type='csv')\n",
    "s3_input_validation = sagemaker.s3_input(s3_data=val_location, content_type='csv')"
   ]
  },
  {
   "cell_type": "code",
   "execution_count": 24,
   "metadata": {},
   "outputs": [
    {
     "name": "stdout",
     "output_type": "stream",
     "text": [
      "2020-04-20 01:46:33 Starting - Starting the training job...\n",
      "2020-04-20 01:46:35 Starting - Launching requested ML instances...\n",
      "2020-04-20 01:47:33 Starting - Preparing the instances for training......\n",
      "2020-04-20 01:48:25 Downloading - Downloading input data...\n",
      "2020-04-20 01:49:00 Training - Training image download completed. Training in progress..\u001b[34mArguments: train\u001b[0m\n",
      "\u001b[34m[2020-04-20:01:49:01:INFO] Running standalone xgboost training.\u001b[0m\n",
      "\u001b[34m[2020-04-20:01:49:01:INFO] File size need to be processed in the node: 238.47mb. Available memory size in the node: 8495.24mb\u001b[0m\n",
      "\u001b[34m[2020-04-20:01:49:01:INFO] Determined delimiter of CSV input is ','\u001b[0m\n",
      "\u001b[34m[01:49:01] S3DistributionType set as FullyReplicated\u001b[0m\n",
      "\u001b[34m[01:49:03] 15000x5000 matrix with 75000000 entries loaded from /opt/ml/input/data/train?format=csv&label_column=0&delimiter=,\u001b[0m\n",
      "\u001b[34m[2020-04-20:01:49:03:INFO] Determined delimiter of CSV input is ','\u001b[0m\n",
      "\u001b[34m[01:49:03] S3DistributionType set as FullyReplicated\u001b[0m\n",
      "\u001b[34m[01:49:04] 10000x5000 matrix with 50000000 entries loaded from /opt/ml/input/data/validation?format=csv&label_column=0&delimiter=,\u001b[0m\n",
      "\u001b[34m[01:49:07] src/tree/updater_prune.cc:74: tree pruning end, 1 roots, 44 extra nodes, 4 pruned nodes, max_depth=5\u001b[0m\n",
      "\u001b[34m[0]#011train-error:0.2872#011validation-error:0.2891\u001b[0m\n",
      "\u001b[34mMultiple eval metrics have been passed: 'validation-error' will be used for early stopping.\n",
      "\u001b[0m\n",
      "\u001b[34mWill train until validation-error hasn't improved in 10 rounds.\u001b[0m\n",
      "\u001b[34m[01:49:09] src/tree/updater_prune.cc:74: tree pruning end, 1 roots, 38 extra nodes, 8 pruned nodes, max_depth=5\u001b[0m\n",
      "\u001b[34m[1]#011train-error:0.279267#011validation-error:0.2795\u001b[0m\n",
      "\u001b[34m[01:49:10] src/tree/updater_prune.cc:74: tree pruning end, 1 roots, 40 extra nodes, 8 pruned nodes, max_depth=5\u001b[0m\n",
      "\u001b[34m[2]#011train-error:0.279733#011validation-error:0.2808\u001b[0m\n",
      "\u001b[34m[01:49:12] src/tree/updater_prune.cc:74: tree pruning end, 1 roots, 30 extra nodes, 6 pruned nodes, max_depth=5\u001b[0m\n",
      "\u001b[34m[3]#011train-error:0.279#011validation-error:0.2834\u001b[0m\n",
      "\u001b[34m[01:49:13] src/tree/updater_prune.cc:74: tree pruning end, 1 roots, 42 extra nodes, 8 pruned nodes, max_depth=5\u001b[0m\n",
      "\u001b[34m[4]#011train-error:0.258067#011validation-error:0.2621\u001b[0m\n",
      "\u001b[34m[01:49:14] src/tree/updater_prune.cc:74: tree pruning end, 1 roots, 32 extra nodes, 8 pruned nodes, max_depth=5\u001b[0m\n",
      "\u001b[34m[5]#011train-error:0.247133#011validation-error:0.2537\u001b[0m\n",
      "\u001b[34m[01:49:16] src/tree/updater_prune.cc:74: tree pruning end, 1 roots, 36 extra nodes, 4 pruned nodes, max_depth=5\u001b[0m\n",
      "\u001b[34m[6]#011train-error:0.234667#011validation-error:0.2405\u001b[0m\n",
      "\u001b[34m[01:49:17] src/tree/updater_prune.cc:74: tree pruning end, 1 roots, 38 extra nodes, 2 pruned nodes, max_depth=5\u001b[0m\n",
      "\u001b[34m[7]#011train-error:0.230333#011validation-error:0.238\u001b[0m\n",
      "\u001b[34m[01:49:18] src/tree/updater_prune.cc:74: tree pruning end, 1 roots, 22 extra nodes, 8 pruned nodes, max_depth=5\u001b[0m\n",
      "\u001b[34m[8]#011train-error:0.229133#011validation-error:0.2361\u001b[0m\n",
      "\u001b[34m[01:49:19] src/tree/updater_prune.cc:74: tree pruning end, 1 roots, 30 extra nodes, 4 pruned nodes, max_depth=5\u001b[0m\n",
      "\u001b[34m[9]#011train-error:0.223133#011validation-error:0.2274\u001b[0m\n",
      "\u001b[34m[01:49:21] src/tree/updater_prune.cc:74: tree pruning end, 1 roots, 26 extra nodes, 10 pruned nodes, max_depth=5\u001b[0m\n",
      "\u001b[34m[10]#011train-error:0.216867#011validation-error:0.2246\u001b[0m\n",
      "\u001b[34m[01:49:22] src/tree/updater_prune.cc:74: tree pruning end, 1 roots, 28 extra nodes, 2 pruned nodes, max_depth=5\u001b[0m\n",
      "\u001b[34m[11]#011train-error:0.213333#011validation-error:0.2219\u001b[0m\n",
      "\u001b[34m[01:49:23] src/tree/updater_prune.cc:74: tree pruning end, 1 roots, 34 extra nodes, 2 pruned nodes, max_depth=5\u001b[0m\n",
      "\u001b[34m[12]#011train-error:0.207067#011validation-error:0.2182\u001b[0m\n",
      "\u001b[34m[01:49:24] src/tree/updater_prune.cc:74: tree pruning end, 1 roots, 34 extra nodes, 0 pruned nodes, max_depth=5\u001b[0m\n",
      "\u001b[34m[13]#011train-error:0.203533#011validation-error:0.2154\u001b[0m\n",
      "\u001b[34m[01:49:26] src/tree/updater_prune.cc:74: tree pruning end, 1 roots, 22 extra nodes, 8 pruned nodes, max_depth=5\u001b[0m\n",
      "\u001b[34m[14]#011train-error:0.2008#011validation-error:0.2138\u001b[0m\n",
      "\u001b[34m[01:49:27] src/tree/updater_prune.cc:74: tree pruning end, 1 roots, 34 extra nodes, 2 pruned nodes, max_depth=5\u001b[0m\n",
      "\u001b[34m[15]#011train-error:0.196533#011validation-error:0.2127\u001b[0m\n",
      "\u001b[34m[01:49:28] src/tree/updater_prune.cc:74: tree pruning end, 1 roots, 36 extra nodes, 0 pruned nodes, max_depth=5\u001b[0m\n",
      "\u001b[34m[16]#011train-error:0.193533#011validation-error:0.2107\u001b[0m\n",
      "\u001b[34m[01:49:30] src/tree/updater_prune.cc:74: tree pruning end, 1 roots, 26 extra nodes, 10 pruned nodes, max_depth=5\u001b[0m\n",
      "\u001b[34m[17]#011train-error:0.1924#011validation-error:0.2068\u001b[0m\n",
      "\u001b[34m[01:49:31] src/tree/updater_prune.cc:74: tree pruning end, 1 roots, 34 extra nodes, 10 pruned nodes, max_depth=5\u001b[0m\n",
      "\u001b[34m[18]#011train-error:0.189733#011validation-error:0.2068\u001b[0m\n",
      "\u001b[34m[01:49:32] src/tree/updater_prune.cc:74: tree pruning end, 1 roots, 22 extra nodes, 14 pruned nodes, max_depth=5\u001b[0m\n",
      "\u001b[34m[19]#011train-error:0.187467#011validation-error:0.2051\u001b[0m\n",
      "\u001b[34m[01:49:33] src/tree/updater_prune.cc:74: tree pruning end, 1 roots, 38 extra nodes, 6 pruned nodes, max_depth=5\u001b[0m\n",
      "\u001b[34m[20]#011train-error:0.1846#011validation-error:0.2041\u001b[0m\n",
      "\u001b[34m[01:49:35] src/tree/updater_prune.cc:74: tree pruning end, 1 roots, 26 extra nodes, 10 pruned nodes, max_depth=5\u001b[0m\n",
      "\u001b[34m[21]#011train-error:0.182733#011validation-error:0.2019\u001b[0m\n",
      "\u001b[34m[01:49:36] src/tree/updater_prune.cc:74: tree pruning end, 1 roots, 26 extra nodes, 8 pruned nodes, max_depth=5\u001b[0m\n",
      "\u001b[34m[22]#011train-error:0.178867#011validation-error:0.1984\u001b[0m\n",
      "\u001b[34m[01:49:37] src/tree/updater_prune.cc:74: tree pruning end, 1 roots, 32 extra nodes, 8 pruned nodes, max_depth=5\u001b[0m\n",
      "\u001b[34m[23]#011train-error:0.174933#011validation-error:0.1968\u001b[0m\n",
      "\u001b[34m[01:49:38] src/tree/updater_prune.cc:74: tree pruning end, 1 roots, 36 extra nodes, 2 pruned nodes, max_depth=5\u001b[0m\n",
      "\u001b[34m[24]#011train-error:0.1752#011validation-error:0.1937\u001b[0m\n",
      "\u001b[34m[01:49:40] src/tree/updater_prune.cc:74: tree pruning end, 1 roots, 14 extra nodes, 14 pruned nodes, max_depth=5\u001b[0m\n",
      "\u001b[34m[25]#011train-error:0.1732#011validation-error:0.1944\u001b[0m\n",
      "\u001b[34m[01:49:41] src/tree/updater_prune.cc:74: tree pruning end, 1 roots, 26 extra nodes, 12 pruned nodes, max_depth=5\u001b[0m\n",
      "\u001b[34m[26]#011train-error:0.172267#011validation-error:0.191\u001b[0m\n",
      "\u001b[34m[01:49:42] src/tree/updater_prune.cc:74: tree pruning end, 1 roots, 24 extra nodes, 12 pruned nodes, max_depth=5\u001b[0m\n",
      "\u001b[34m[27]#011train-error:0.170667#011validation-error:0.1907\u001b[0m\n",
      "\u001b[34m[01:49:43] src/tree/updater_prune.cc:74: tree pruning end, 1 roots, 34 extra nodes, 2 pruned nodes, max_depth=5\u001b[0m\n",
      "\u001b[34m[28]#011train-error:0.167733#011validation-error:0.1898\u001b[0m\n",
      "\u001b[34m[01:49:45] src/tree/updater_prune.cc:74: tree pruning end, 1 roots, 14 extra nodes, 18 pruned nodes, max_depth=5\u001b[0m\n",
      "\u001b[34m[29]#011train-error:0.166467#011validation-error:0.1885\u001b[0m\n",
      "\u001b[34m[01:49:46] src/tree/updater_prune.cc:74: tree pruning end, 1 roots, 30 extra nodes, 6 pruned nodes, max_depth=5\u001b[0m\n",
      "\u001b[34m[30]#011train-error:0.165733#011validation-error:0.1882\u001b[0m\n",
      "\u001b[34m[01:49:47] src/tree/updater_prune.cc:74: tree pruning end, 1 roots, 30 extra nodes, 4 pruned nodes, max_depth=5\u001b[0m\n",
      "\u001b[34m[31]#011train-error:0.163667#011validation-error:0.1864\u001b[0m\n",
      "\u001b[34m[01:49:49] src/tree/updater_prune.cc:74: tree pruning end, 1 roots, 24 extra nodes, 6 pruned nodes, max_depth=5\u001b[0m\n",
      "\u001b[34m[32]#011train-error:0.1618#011validation-error:0.1867\u001b[0m\n",
      "\u001b[34m[01:49:50] src/tree/updater_prune.cc:74: tree pruning end, 1 roots, 18 extra nodes, 10 pruned nodes, max_depth=5\u001b[0m\n",
      "\u001b[34m[33]#011train-error:0.160533#011validation-error:0.1852\u001b[0m\n",
      "\u001b[34m[01:49:51] src/tree/updater_prune.cc:74: tree pruning end, 1 roots, 20 extra nodes, 10 pruned nodes, max_depth=5\u001b[0m\n",
      "\u001b[34m[34]#011train-error:0.159933#011validation-error:0.1834\u001b[0m\n",
      "\u001b[34m[01:49:52] src/tree/updater_prune.cc:74: tree pruning end, 1 roots, 18 extra nodes, 14 pruned nodes, max_depth=5\u001b[0m\n",
      "\u001b[34m[35]#011train-error:0.159267#011validation-error:0.1822\u001b[0m\n",
      "\u001b[34m[01:49:54] src/tree/updater_prune.cc:74: tree pruning end, 1 roots, 30 extra nodes, 4 pruned nodes, max_depth=5\u001b[0m\n",
      "\u001b[34m[36]#011train-error:0.1578#011validation-error:0.1824\u001b[0m\n",
      "\u001b[34m[01:49:55] src/tree/updater_prune.cc:74: tree pruning end, 1 roots, 34 extra nodes, 8 pruned nodes, max_depth=5\u001b[0m\n",
      "\u001b[34m[37]#011train-error:0.154067#011validation-error:0.181\u001b[0m\n",
      "\u001b[34m[01:49:56] src/tree/updater_prune.cc:74: tree pruning end, 1 roots, 24 extra nodes, 8 pruned nodes, max_depth=5\u001b[0m\n",
      "\u001b[34m[38]#011train-error:0.153067#011validation-error:0.1786\u001b[0m\n",
      "\u001b[34m[01:49:57] src/tree/updater_prune.cc:74: tree pruning end, 1 roots, 14 extra nodes, 16 pruned nodes, max_depth=5\u001b[0m\n",
      "\u001b[34m[39]#011train-error:0.151467#011validation-error:0.1789\u001b[0m\n",
      "\u001b[34m[01:49:59] src/tree/updater_prune.cc:74: tree pruning end, 1 roots, 28 extra nodes, 6 pruned nodes, max_depth=5\u001b[0m\n",
      "\u001b[34m[40]#011train-error:0.151#011validation-error:0.1775\u001b[0m\n",
      "\u001b[34m[01:50:00] src/tree/updater_prune.cc:74: tree pruning end, 1 roots, 18 extra nodes, 8 pruned nodes, max_depth=5\u001b[0m\n",
      "\u001b[34m[41]#011train-error:0.1502#011validation-error:0.1771\u001b[0m\n",
      "\u001b[34m[01:50:01] src/tree/updater_prune.cc:74: tree pruning end, 1 roots, 24 extra nodes, 12 pruned nodes, max_depth=5\u001b[0m\n",
      "\u001b[34m[42]#011train-error:0.148467#011validation-error:0.1749\u001b[0m\n",
      "\u001b[34m[01:50:02] src/tree/updater_prune.cc:74: tree pruning end, 1 roots, 36 extra nodes, 8 pruned nodes, max_depth=5\u001b[0m\n",
      "\u001b[34m[43]#011train-error:0.146933#011validation-error:0.1744\u001b[0m\n",
      "\u001b[34m[01:50:04] src/tree/updater_prune.cc:74: tree pruning end, 1 roots, 14 extra nodes, 8 pruned nodes, max_depth=5\u001b[0m\n",
      "\u001b[34m[44]#011train-error:0.1466#011validation-error:0.1731\u001b[0m\n",
      "\u001b[34m[01:50:05] src/tree/updater_prune.cc:74: tree pruning end, 1 roots, 16 extra nodes, 10 pruned nodes, max_depth=5\u001b[0m\n",
      "\u001b[34m[45]#011train-error:0.1454#011validation-error:0.1731\u001b[0m\n",
      "\u001b[34m[01:50:06] src/tree/updater_prune.cc:74: tree pruning end, 1 roots, 20 extra nodes, 4 pruned nodes, max_depth=5\u001b[0m\n",
      "\u001b[34m[46]#011train-error:0.144133#011validation-error:0.172\u001b[0m\n",
      "\u001b[34m[01:50:08] src/tree/updater_prune.cc:74: tree pruning end, 1 roots, 20 extra nodes, 8 pruned nodes, max_depth=5\u001b[0m\n",
      "\u001b[34m[47]#011train-error:0.1436#011validation-error:0.172\u001b[0m\n",
      "\u001b[34m[01:50:09] src/tree/updater_prune.cc:74: tree pruning end, 1 roots, 14 extra nodes, 14 pruned nodes, max_depth=5\u001b[0m\n",
      "\u001b[34m[48]#011train-error:0.143533#011validation-error:0.1716\u001b[0m\n",
      "\u001b[34m[01:50:10] src/tree/updater_prune.cc:74: tree pruning end, 1 roots, 20 extra nodes, 12 pruned nodes, max_depth=5\u001b[0m\n",
      "\u001b[34m[49]#011train-error:0.142333#011validation-error:0.1704\u001b[0m\n",
      "\u001b[34m[01:50:11] src/tree/updater_prune.cc:74: tree pruning end, 1 roots, 22 extra nodes, 6 pruned nodes, max_depth=5\u001b[0m\n",
      "\u001b[34m[50]#011train-error:0.140667#011validation-error:0.1707\u001b[0m\n",
      "\u001b[34m[01:50:13] src/tree/updater_prune.cc:74: tree pruning end, 1 roots, 28 extra nodes, 4 pruned nodes, max_depth=5\u001b[0m\n",
      "\u001b[34m[51]#011train-error:0.139667#011validation-error:0.1689\u001b[0m\n",
      "\u001b[34m[01:50:14] src/tree/updater_prune.cc:74: tree pruning end, 1 roots, 22 extra nodes, 6 pruned nodes, max_depth=5\u001b[0m\n",
      "\u001b[34m[52]#011train-error:0.1378#011validation-error:0.1685\u001b[0m\n",
      "\u001b[34m[01:50:15] src/tree/updater_prune.cc:74: tree pruning end, 1 roots, 14 extra nodes, 6 pruned nodes, max_depth=5\u001b[0m\n",
      "\u001b[34m[53]#011train-error:0.137267#011validation-error:0.1682\u001b[0m\n",
      "\u001b[34m[01:50:16] src/tree/updater_prune.cc:74: tree pruning end, 1 roots, 26 extra nodes, 14 pruned nodes, max_depth=5\u001b[0m\n",
      "\u001b[34m[54]#011train-error:0.137#011validation-error:0.1676\u001b[0m\n",
      "\u001b[34m[01:50:18] src/tree/updater_prune.cc:74: tree pruning end, 1 roots, 24 extra nodes, 8 pruned nodes, max_depth=5\u001b[0m\n",
      "\u001b[34m[55]#011train-error:0.1364#011validation-error:0.167\u001b[0m\n",
      "\u001b[34m[01:50:19] src/tree/updater_prune.cc:74: tree pruning end, 1 roots, 22 extra nodes, 14 pruned nodes, max_depth=5\u001b[0m\n",
      "\u001b[34m[56]#011train-error:0.135267#011validation-error:0.1666\u001b[0m\n",
      "\u001b[34m[01:50:20] src/tree/updater_prune.cc:74: tree pruning end, 1 roots, 20 extra nodes, 12 pruned nodes, max_depth=5\u001b[0m\n",
      "\u001b[34m[57]#011train-error:0.134667#011validation-error:0.1662\u001b[0m\n",
      "\u001b[34m[01:50:21] src/tree/updater_prune.cc:74: tree pruning end, 1 roots, 32 extra nodes, 4 pruned nodes, max_depth=5\u001b[0m\n",
      "\u001b[34m[58]#011train-error:0.132267#011validation-error:0.1656\u001b[0m\n",
      "\u001b[34m[01:50:23] src/tree/updater_prune.cc:74: tree pruning end, 1 roots, 26 extra nodes, 14 pruned nodes, max_depth=5\u001b[0m\n",
      "\u001b[34m[59]#011train-error:0.132333#011validation-error:0.165\u001b[0m\n",
      "\u001b[34m[01:50:24] src/tree/updater_prune.cc:74: tree pruning end, 1 roots, 22 extra nodes, 6 pruned nodes, max_depth=5\u001b[0m\n",
      "\u001b[34m[60]#011train-error:0.131133#011validation-error:0.1646\u001b[0m\n",
      "\u001b[34m[01:50:25] src/tree/updater_prune.cc:74: tree pruning end, 1 roots, 28 extra nodes, 2 pruned nodes, max_depth=5\u001b[0m\n",
      "\u001b[34m[61]#011train-error:0.1288#011validation-error:0.1637\u001b[0m\n",
      "\u001b[34m[01:50:26] src/tree/updater_prune.cc:74: tree pruning end, 1 roots, 18 extra nodes, 10 pruned nodes, max_depth=5\u001b[0m\n",
      "\u001b[34m[62]#011train-error:0.127467#011validation-error:0.1627\u001b[0m\n",
      "\u001b[34m[01:50:28] src/tree/updater_prune.cc:74: tree pruning end, 1 roots, 28 extra nodes, 12 pruned nodes, max_depth=5\u001b[0m\n",
      "\u001b[34m[63]#011train-error:0.126867#011validation-error:0.1626\u001b[0m\n",
      "\u001b[34m[01:50:29] src/tree/updater_prune.cc:74: tree pruning end, 1 roots, 14 extra nodes, 6 pruned nodes, max_depth=5\u001b[0m\n",
      "\u001b[34m[64]#011train-error:0.126067#011validation-error:0.162\u001b[0m\n",
      "\u001b[34m[01:50:30] src/tree/updater_prune.cc:74: tree pruning end, 1 roots, 30 extra nodes, 6 pruned nodes, max_depth=5\u001b[0m\n",
      "\u001b[34m[65]#011train-error:0.125#011validation-error:0.1615\u001b[0m\n",
      "\u001b[34m[01:50:32] src/tree/updater_prune.cc:74: tree pruning end, 1 roots, 20 extra nodes, 14 pruned nodes, max_depth=5\u001b[0m\n",
      "\u001b[34m[66]#011train-error:0.125467#011validation-error:0.1618\u001b[0m\n",
      "\u001b[34m[01:50:33] src/tree/updater_prune.cc:74: tree pruning end, 1 roots, 22 extra nodes, 18 pruned nodes, max_depth=5\u001b[0m\n",
      "\u001b[34m[67]#011train-error:0.124867#011validation-error:0.1604\u001b[0m\n",
      "\u001b[34m[01:50:34] src/tree/updater_prune.cc:74: tree pruning end, 1 roots, 24 extra nodes, 12 pruned nodes, max_depth=5\u001b[0m\n",
      "\u001b[34m[68]#011train-error:0.125#011validation-error:0.1604\u001b[0m\n",
      "\u001b[34m[01:50:35] src/tree/updater_prune.cc:74: tree pruning end, 1 roots, 24 extra nodes, 8 pruned nodes, max_depth=5\u001b[0m\n",
      "\u001b[34m[69]#011train-error:0.124333#011validation-error:0.1599\u001b[0m\n",
      "\u001b[34m[01:50:37] src/tree/updater_prune.cc:74: tree pruning end, 1 roots, 14 extra nodes, 12 pruned nodes, max_depth=5\u001b[0m\n",
      "\u001b[34m[70]#011train-error:0.123333#011validation-error:0.1599\u001b[0m\n",
      "\u001b[34m[01:50:38] src/tree/updater_prune.cc:74: tree pruning end, 1 roots, 14 extra nodes, 12 pruned nodes, max_depth=5\u001b[0m\n",
      "\u001b[34m[71]#011train-error:0.123#011validation-error:0.1592\u001b[0m\n",
      "\u001b[34m[01:50:39] src/tree/updater_prune.cc:74: tree pruning end, 1 roots, 20 extra nodes, 10 pruned nodes, max_depth=5\u001b[0m\n",
      "\u001b[34m[72]#011train-error:0.1224#011validation-error:0.159\u001b[0m\n",
      "\u001b[34m[01:50:40] src/tree/updater_prune.cc:74: tree pruning end, 1 roots, 18 extra nodes, 6 pruned nodes, max_depth=5\u001b[0m\n",
      "\u001b[34m[73]#011train-error:0.12#011validation-error:0.1578\u001b[0m\n",
      "\u001b[34m[01:50:42] src/tree/updater_prune.cc:74: tree pruning end, 1 roots, 32 extra nodes, 10 pruned nodes, max_depth=5\u001b[0m\n",
      "\u001b[34m[74]#011train-error:0.1192#011validation-error:0.1559\u001b[0m\n",
      "\u001b[34m[01:50:43] src/tree/updater_prune.cc:74: tree pruning end, 1 roots, 18 extra nodes, 16 pruned nodes, max_depth=5\u001b[0m\n",
      "\u001b[34m[75]#011train-error:0.1186#011validation-error:0.1565\u001b[0m\n",
      "\u001b[34m[01:50:44] src/tree/updater_prune.cc:74: tree pruning end, 1 roots, 18 extra nodes, 8 pruned nodes, max_depth=5\u001b[0m\n",
      "\u001b[34m[76]#011train-error:0.119#011validation-error:0.1555\u001b[0m\n",
      "\u001b[34m[01:50:45] src/tree/updater_prune.cc:74: tree pruning end, 1 roots, 14 extra nodes, 16 pruned nodes, max_depth=5\u001b[0m\n",
      "\u001b[34m[77]#011train-error:0.118333#011validation-error:0.1553\u001b[0m\n",
      "\u001b[34m[01:50:47] src/tree/updater_prune.cc:74: tree pruning end, 1 roots, 14 extra nodes, 8 pruned nodes, max_depth=5\u001b[0m\n",
      "\u001b[34m[78]#011train-error:0.117933#011validation-error:0.1552\u001b[0m\n",
      "\u001b[34m[01:50:48] src/tree/updater_prune.cc:74: tree pruning end, 1 roots, 16 extra nodes, 8 pruned nodes, max_depth=5\u001b[0m\n",
      "\u001b[34m[79]#011train-error:0.117333#011validation-error:0.1549\u001b[0m\n",
      "\u001b[34m[01:50:49] src/tree/updater_prune.cc:74: tree pruning end, 1 roots, 32 extra nodes, 2 pruned nodes, max_depth=5\u001b[0m\n",
      "\u001b[34m[80]#011train-error:0.116067#011validation-error:0.1539\u001b[0m\n",
      "\u001b[34m[01:50:50] src/tree/updater_prune.cc:74: tree pruning end, 1 roots, 14 extra nodes, 8 pruned nodes, max_depth=5\u001b[0m\n",
      "\u001b[34m[81]#011train-error:0.115667#011validation-error:0.1532\u001b[0m\n",
      "\u001b[34m[01:50:52] src/tree/updater_prune.cc:74: tree pruning end, 1 roots, 22 extra nodes, 8 pruned nodes, max_depth=5\u001b[0m\n",
      "\u001b[34m[82]#011train-error:0.115267#011validation-error:0.1524\u001b[0m\n",
      "\u001b[34m[01:50:53] src/tree/updater_prune.cc:74: tree pruning end, 1 roots, 10 extra nodes, 14 pruned nodes, max_depth=5\u001b[0m\n",
      "\u001b[34m[83]#011train-error:0.115133#011validation-error:0.1523\u001b[0m\n",
      "\u001b[34m[01:50:54] src/tree/updater_prune.cc:74: tree pruning end, 1 roots, 20 extra nodes, 12 pruned nodes, max_depth=5\u001b[0m\n",
      "\u001b[34m[84]#011train-error:0.114133#011validation-error:0.1534\u001b[0m\n",
      "\u001b[34m[01:50:55] src/tree/updater_prune.cc:74: tree pruning end, 1 roots, 34 extra nodes, 6 pruned nodes, max_depth=5\u001b[0m\n",
      "\u001b[34m[85]#011train-error:0.1132#011validation-error:0.1529\u001b[0m\n",
      "\u001b[34m[01:50:57] src/tree/updater_prune.cc:74: tree pruning end, 1 roots, 14 extra nodes, 0 pruned nodes, max_depth=5\u001b[0m\n",
      "\u001b[34m[86]#011train-error:0.113133#011validation-error:0.1525\u001b[0m\n",
      "\u001b[34m[01:50:58] src/tree/updater_prune.cc:74: tree pruning end, 1 roots, 18 extra nodes, 10 pruned nodes, max_depth=5\u001b[0m\n",
      "\u001b[34m[87]#011train-error:0.1116#011validation-error:0.1522\u001b[0m\n",
      "\u001b[34m[01:50:59] src/tree/updater_prune.cc:74: tree pruning end, 1 roots, 10 extra nodes, 2 pruned nodes, max_depth=5\u001b[0m\n",
      "\u001b[34m[88]#011train-error:0.111933#011validation-error:0.1514\u001b[0m\n",
      "\u001b[34m[01:51:01] src/tree/updater_prune.cc:74: tree pruning end, 1 roots, 22 extra nodes, 12 pruned nodes, max_depth=5\u001b[0m\n",
      "\u001b[34m[89]#011train-error:0.1108#011validation-error:0.151\u001b[0m\n",
      "\u001b[34m[01:51:02] src/tree/updater_prune.cc:74: tree pruning end, 1 roots, 18 extra nodes, 4 pruned nodes, max_depth=5\u001b[0m\n",
      "\u001b[34m[90]#011train-error:0.1106#011validation-error:0.1497\u001b[0m\n",
      "\u001b[34m[01:51:03] src/tree/updater_prune.cc:74: tree pruning end, 1 roots, 16 extra nodes, 8 pruned nodes, max_depth=5\u001b[0m\n",
      "\u001b[34m[91]#011train-error:0.1102#011validation-error:0.15\u001b[0m\n",
      "\u001b[34m[01:51:04] src/tree/updater_prune.cc:74: tree pruning end, 1 roots, 12 extra nodes, 10 pruned nodes, max_depth=5\u001b[0m\n",
      "\u001b[34m[92]#011train-error:0.1094#011validation-error:0.1486\u001b[0m\n",
      "\u001b[34m[01:51:06] src/tree/updater_prune.cc:74: tree pruning end, 1 roots, 16 extra nodes, 8 pruned nodes, max_depth=5\u001b[0m\n",
      "\u001b[34m[93]#011train-error:0.109067#011validation-error:0.1479\u001b[0m\n",
      "\u001b[34m[01:51:07] src/tree/updater_prune.cc:74: tree pruning end, 1 roots, 24 extra nodes, 10 pruned nodes, max_depth=5\u001b[0m\n",
      "\u001b[34m[94]#011train-error:0.108533#011validation-error:0.1496\u001b[0m\n",
      "\u001b[34m[01:51:08] src/tree/updater_prune.cc:74: tree pruning end, 1 roots, 14 extra nodes, 4 pruned nodes, max_depth=5\u001b[0m\n",
      "\u001b[34m[95]#011train-error:0.108933#011validation-error:0.1497\u001b[0m\n",
      "\u001b[34m[01:51:09] src/tree/updater_prune.cc:74: tree pruning end, 1 roots, 18 extra nodes, 12 pruned nodes, max_depth=5\u001b[0m\n",
      "\u001b[34m[96]#011train-error:0.108#011validation-error:0.1485\u001b[0m\n",
      "\u001b[34m[01:51:11] src/tree/updater_prune.cc:74: tree pruning end, 1 roots, 12 extra nodes, 12 pruned nodes, max_depth=5\u001b[0m\n",
      "\u001b[34m[97]#011train-error:0.1076#011validation-error:0.1475\u001b[0m\n",
      "\u001b[34m[01:51:12] src/tree/updater_prune.cc:74: tree pruning end, 1 roots, 30 extra nodes, 10 pruned nodes, max_depth=5\u001b[0m\n",
      "\u001b[34m[98]#011train-error:0.105133#011validation-error:0.148\u001b[0m\n",
      "\u001b[34m[01:51:13] src/tree/updater_prune.cc:74: tree pruning end, 1 roots, 10 extra nodes, 6 pruned nodes, max_depth=5\u001b[0m\n",
      "\u001b[34m[99]#011train-error:0.105067#011validation-error:0.1478\u001b[0m\n",
      "\u001b[34m[01:51:14] src/tree/updater_prune.cc:74: tree pruning end, 1 roots, 10 extra nodes, 12 pruned nodes, max_depth=5\u001b[0m\n",
      "\u001b[34m[100]#011train-error:0.105267#011validation-error:0.1477\u001b[0m\n",
      "\u001b[34m[01:51:16] src/tree/updater_prune.cc:74: tree pruning end, 1 roots, 12 extra nodes, 6 pruned nodes, max_depth=5\u001b[0m\n",
      "\u001b[34m[101]#011train-error:0.1054#011validation-error:0.1479\u001b[0m\n",
      "\u001b[34m[01:51:17] src/tree/updater_prune.cc:74: tree pruning end, 1 roots, 16 extra nodes, 2 pruned nodes, max_depth=5\u001b[0m\n",
      "\u001b[34m[102]#011train-error:0.104933#011validation-error:0.1472\u001b[0m\n",
      "\u001b[34m[01:51:18] src/tree/updater_prune.cc:74: tree pruning end, 1 roots, 12 extra nodes, 8 pruned nodes, max_depth=5\u001b[0m\n",
      "\u001b[34m[103]#011train-error:0.105067#011validation-error:0.1472\u001b[0m\n",
      "\u001b[34m[01:51:20] src/tree/updater_prune.cc:74: tree pruning end, 1 roots, 16 extra nodes, 8 pruned nodes, max_depth=5\u001b[0m\n",
      "\u001b[34m[104]#011train-error:0.1046#011validation-error:0.1475\u001b[0m\n",
      "\u001b[34m[01:51:21] src/tree/updater_prune.cc:74: tree pruning end, 1 roots, 12 extra nodes, 14 pruned nodes, max_depth=5\u001b[0m\n",
      "\u001b[34m[105]#011train-error:0.103933#011validation-error:0.1468\u001b[0m\n",
      "\u001b[34m[01:51:22] src/tree/updater_prune.cc:74: tree pruning end, 1 roots, 24 extra nodes, 8 pruned nodes, max_depth=5\u001b[0m\n",
      "\u001b[34m[106]#011train-error:0.104267#011validation-error:0.1459\u001b[0m\n",
      "\u001b[34m[01:51:23] src/tree/updater_prune.cc:74: tree pruning end, 1 roots, 10 extra nodes, 14 pruned nodes, max_depth=5\u001b[0m\n",
      "\u001b[34m[107]#011train-error:0.1038#011validation-error:0.1455\u001b[0m\n",
      "\u001b[34m[01:51:25] src/tree/updater_prune.cc:74: tree pruning end, 1 roots, 12 extra nodes, 2 pruned nodes, max_depth=5\u001b[0m\n",
      "\u001b[34m[108]#011train-error:0.104#011validation-error:0.146\u001b[0m\n",
      "\u001b[34m[01:51:26] src/tree/updater_prune.cc:74: tree pruning end, 1 roots, 12 extra nodes, 8 pruned nodes, max_depth=5\u001b[0m\n",
      "\u001b[34m[109]#011train-error:0.103533#011validation-error:0.1459\u001b[0m\n",
      "\u001b[34m[01:51:27] src/tree/updater_prune.cc:74: tree pruning end, 1 roots, 24 extra nodes, 2 pruned nodes, max_depth=5\u001b[0m\n",
      "\u001b[34m[110]#011train-error:0.102867#011validation-error:0.1447\u001b[0m\n",
      "\u001b[34m[01:51:28] src/tree/updater_prune.cc:74: tree pruning end, 1 roots, 16 extra nodes, 12 pruned nodes, max_depth=5\u001b[0m\n",
      "\u001b[34m[111]#011train-error:0.1024#011validation-error:0.1441\u001b[0m\n",
      "\u001b[34m[01:51:30] src/tree/updater_prune.cc:74: tree pruning end, 1 roots, 22 extra nodes, 14 pruned nodes, max_depth=5\u001b[0m\n",
      "\u001b[34m[112]#011train-error:0.101867#011validation-error:0.1442\u001b[0m\n",
      "\u001b[34m[01:51:31] src/tree/updater_prune.cc:74: tree pruning end, 1 roots, 14 extra nodes, 8 pruned nodes, max_depth=5\u001b[0m\n",
      "\u001b[34m[113]#011train-error:0.1008#011validation-error:0.1443\u001b[0m\n",
      "\u001b[34m[01:51:32] src/tree/updater_prune.cc:74: tree pruning end, 1 roots, 12 extra nodes, 10 pruned nodes, max_depth=5\u001b[0m\n",
      "\u001b[34m[114]#011train-error:0.100533#011validation-error:0.1445\u001b[0m\n",
      "\u001b[34m[01:51:33] src/tree/updater_prune.cc:74: tree pruning end, 1 roots, 10 extra nodes, 12 pruned nodes, max_depth=5\u001b[0m\n",
      "\u001b[34m[115]#011train-error:0.100733#011validation-error:0.1446\u001b[0m\n",
      "\u001b[34m[01:51:35] src/tree/updater_prune.cc:74: tree pruning end, 1 roots, 12 extra nodes, 14 pruned nodes, max_depth=5\u001b[0m\n",
      "\u001b[34m[116]#011train-error:0.1006#011validation-error:0.1437\u001b[0m\n",
      "\u001b[34m[01:51:36] src/tree/updater_prune.cc:74: tree pruning end, 1 roots, 28 extra nodes, 4 pruned nodes, max_depth=5\u001b[0m\n",
      "\u001b[34m[117]#011train-error:0.099467#011validation-error:0.1438\u001b[0m\n",
      "\u001b[34m[01:51:37] src/tree/updater_prune.cc:74: tree pruning end, 1 roots, 26 extra nodes, 14 pruned nodes, max_depth=5\u001b[0m\n",
      "\u001b[34m[118]#011train-error:0.098533#011validation-error:0.1451\u001b[0m\n",
      "\u001b[34m[01:51:38] src/tree/updater_prune.cc:74: tree pruning end, 1 roots, 16 extra nodes, 6 pruned nodes, max_depth=5\u001b[0m\n",
      "\u001b[34m[119]#011train-error:0.098#011validation-error:0.1447\u001b[0m\n",
      "\u001b[34m[01:51:40] src/tree/updater_prune.cc:74: tree pruning end, 1 roots, 18 extra nodes, 18 pruned nodes, max_depth=5\u001b[0m\n",
      "\u001b[34m[120]#011train-error:0.098133#011validation-error:0.1442\u001b[0m\n",
      "\u001b[34m[01:51:41] src/tree/updater_prune.cc:74: tree pruning end, 1 roots, 14 extra nodes, 12 pruned nodes, max_depth=5\u001b[0m\n",
      "\u001b[34m[121]#011train-error:0.097867#011validation-error:0.1443\u001b[0m\n",
      "\u001b[34m[01:51:42] src/tree/updater_prune.cc:74: tree pruning end, 1 roots, 22 extra nodes, 12 pruned nodes, max_depth=5\u001b[0m\n",
      "\u001b[34m[122]#011train-error:0.0968#011validation-error:0.1445\u001b[0m\n",
      "\u001b[34m[01:51:44] src/tree/updater_prune.cc:74: tree pruning end, 1 roots, 16 extra nodes, 2 pruned nodes, max_depth=5\u001b[0m\n",
      "\u001b[34m[123]#011train-error:0.0968#011validation-error:0.144\u001b[0m\n",
      "\u001b[34m[01:51:45] src/tree/updater_prune.cc:74: tree pruning end, 1 roots, 12 extra nodes, 6 pruned nodes, max_depth=5\u001b[0m\n",
      "\u001b[34m[124]#011train-error:0.096333#011validation-error:0.1443\u001b[0m\n",
      "\u001b[34m[01:51:46] src/tree/updater_prune.cc:74: tree pruning end, 1 roots, 14 extra nodes, 0 pruned nodes, max_depth=5\u001b[0m\n",
      "\u001b[34m[125]#011train-error:0.095867#011validation-error:0.1438\u001b[0m\n",
      "\u001b[34m[01:51:47] src/tree/updater_prune.cc:74: tree pruning end, 1 roots, 14 extra nodes, 14 pruned nodes, max_depth=5\u001b[0m\n",
      "\u001b[34m[126]#011train-error:0.095867#011validation-error:0.1439\u001b[0m\n",
      "\u001b[34mStopping. Best iteration:\u001b[0m\n",
      "\u001b[34m[116]#011train-error:0.1006#011validation-error:0.1437\n",
      "\u001b[0m\n",
      "\n",
      "2020-04-20 01:51:55 Uploading - Uploading generated training model\n",
      "2020-04-20 01:51:55 Completed - Training job completed\n",
      "Training seconds: 210\n",
      "Billable seconds: 210\n"
     ]
    }
   ],
   "source": [
    "xgb.fit({'train': s3_input_train, 'validation': s3_input_validation})"
   ]
  },
  {
   "cell_type": "markdown",
   "metadata": {},
   "source": [
    "### Testing the model\n",
    "\n",
    "Now that we've fit our XGBoost model, it's time to see how well it performs. To do this we will use SageMakers Batch Transform functionality. Batch Transform is a convenient way to perform inference on a large dataset in a way that is not realtime. That is, we don't necessarily need to use our model's results immediately and instead we can peform inference on a large number of samples. An example of this in industry might be peforming an end of month report. This method of inference can also be useful to us as it means to can perform inference on our entire test set. \n",
    "\n",
    "To perform a Batch Transformation we need to first create a transformer objects from our trained estimator object."
   ]
  },
  {
   "cell_type": "code",
   "execution_count": 25,
   "metadata": {},
   "outputs": [],
   "source": [
    "xgb_transformer = xgb.transformer(instance_count = 1, instance_type = 'ml.m4.xlarge')"
   ]
  },
  {
   "cell_type": "markdown",
   "metadata": {},
   "source": [
    "Next we actually perform the transform job. When doing so we need to make sure to specify the type of data we are sending so that it is serialized correctly in the background. In our case we are providing our model with csv data so we specify `text/csv`. Also, if the test data that we have provided is too large to process all at once then we need to specify how the data file should be split up. Since each line is a single entry in our data set we tell SageMaker that it can split the input on each line."
   ]
  },
  {
   "cell_type": "code",
   "execution_count": 26,
   "metadata": {},
   "outputs": [],
   "source": [
    "xgb_transformer.transform(test_location, content_type='text/csv', split_type='Line')"
   ]
  },
  {
   "cell_type": "markdown",
   "metadata": {},
   "source": [
    "Currently the transform job is running but it is doing so in the background. Since we wish to wait until the transform job is done and we would like a bit of feedback we can run the `wait()` method."
   ]
  },
  {
   "cell_type": "code",
   "execution_count": 27,
   "metadata": {},
   "outputs": [
    {
     "name": "stdout",
     "output_type": "stream",
     "text": [
      "...................\u001b[34mArguments: serve\u001b[0m\n",
      "\u001b[34m[2020-04-20 01:55:18 +0000] [1] [INFO] Starting gunicorn 19.7.1\u001b[0m\n",
      "\u001b[34m[2020-04-20 01:55:18 +0000] [1] [INFO] Listening at: http://0.0.0.0:8080 (1)\u001b[0m\n",
      "\u001b[34m[2020-04-20 01:55:18 +0000] [1] [INFO] Using worker: gevent\u001b[0m\n",
      "\u001b[34m[2020-04-20 01:55:18 +0000] [38] [INFO] Booting worker with pid: 38\u001b[0m\n",
      "\u001b[34m[2020-04-20 01:55:18 +0000] [39] [INFO] Booting worker with pid: 39\u001b[0m\n",
      "\u001b[34m[2020-04-20 01:55:19 +0000] [40] [INFO] Booting worker with pid: 40\u001b[0m\n",
      "\u001b[34m[2020-04-20 01:55:19 +0000] [41] [INFO] Booting worker with pid: 41\u001b[0m\n",
      "\u001b[34m[2020-04-20:01:55:19:INFO] Model loaded successfully for worker : 39\u001b[0m\n",
      "\u001b[34m[2020-04-20:01:55:19:INFO] Model loaded successfully for worker : 40\u001b[0m\n",
      "\u001b[34m[2020-04-20:01:55:19:INFO] Model loaded successfully for worker : 38\u001b[0m\n",
      "\u001b[34m[2020-04-20:01:55:19:INFO] Model loaded successfully for worker : 41\u001b[0m\n",
      "\u001b[32m2020-04-20T01:55:43.973:[sagemaker logs]: MaxConcurrentTransforms=4, MaxPayloadInMB=6, BatchStrategy=MULTI_RECORD\u001b[0m\n",
      "\u001b[34m[2020-04-20:01:55:46:INFO] Sniff delimiter as ','\u001b[0m\n",
      "\u001b[34m[2020-04-20:01:55:46:INFO] Determined delimiter of CSV input is ','\u001b[0m\n",
      "\u001b[34m[2020-04-20:01:55:46:INFO] Sniff delimiter as ','\u001b[0m\n",
      "\u001b[34m[2020-04-20:01:55:46:INFO] Determined delimiter of CSV input is ','\u001b[0m\n",
      "\u001b[34m[2020-04-20:01:55:46:INFO] Sniff delimiter as ','\u001b[0m\n",
      "\u001b[34m[2020-04-20:01:55:46:INFO] Determined delimiter of CSV input is ','\u001b[0m\n",
      "\u001b[34m[2020-04-20:01:55:47:INFO] Sniff delimiter as ','\u001b[0m\n",
      "\u001b[34m[2020-04-20:01:55:47:INFO] Determined delimiter of CSV input is ','\u001b[0m\n",
      "\u001b[35m[2020-04-20:01:55:46:INFO] Sniff delimiter as ','\u001b[0m\n",
      "\u001b[35m[2020-04-20:01:55:46:INFO] Determined delimiter of CSV input is ','\u001b[0m\n",
      "\u001b[35m[2020-04-20:01:55:46:INFO] Sniff delimiter as ','\u001b[0m\n",
      "\u001b[35m[2020-04-20:01:55:46:INFO] Determined delimiter of CSV input is ','\u001b[0m\n",
      "\u001b[35m[2020-04-20:01:55:46:INFO] Sniff delimiter as ','\u001b[0m\n",
      "\u001b[35m[2020-04-20:01:55:46:INFO] Determined delimiter of CSV input is ','\u001b[0m\n",
      "\u001b[35m[2020-04-20:01:55:47:INFO] Sniff delimiter as ','\u001b[0m\n",
      "\u001b[35m[2020-04-20:01:55:47:INFO] Determined delimiter of CSV input is ','\u001b[0m\n",
      "\u001b[34m[2020-04-20:01:55:49:INFO] Sniff delimiter as ','\u001b[0m\n",
      "\u001b[34m[2020-04-20:01:55:49:INFO] Determined delimiter of CSV input is ','\u001b[0m\n",
      "\u001b[34m[2020-04-20:01:55:49:INFO] Sniff delimiter as ','\u001b[0m\n",
      "\u001b[34m[2020-04-20:01:55:49:INFO] Determined delimiter of CSV input is ','\u001b[0m\n",
      "\u001b[35m[2020-04-20:01:55:49:INFO] Sniff delimiter as ','\u001b[0m\n",
      "\u001b[35m[2020-04-20:01:55:49:INFO] Determined delimiter of CSV input is ','\u001b[0m\n",
      "\u001b[35m[2020-04-20:01:55:49:INFO] Sniff delimiter as ','\u001b[0m\n",
      "\u001b[35m[2020-04-20:01:55:49:INFO] Determined delimiter of CSV input is ','\u001b[0m\n",
      "\u001b[34m[2020-04-20:01:55:49:INFO] Sniff delimiter as ','\u001b[0m\n",
      "\u001b[34m[2020-04-20:01:55:49:INFO] Determined delimiter of CSV input is ','\u001b[0m\n",
      "\u001b[34m[2020-04-20:01:55:49:INFO] Sniff delimiter as ','\u001b[0m\n",
      "\u001b[34m[2020-04-20:01:55:49:INFO] Determined delimiter of CSV input is ','\u001b[0m\n",
      "\u001b[35m[2020-04-20:01:55:49:INFO] Sniff delimiter as ','\u001b[0m\n",
      "\u001b[35m[2020-04-20:01:55:49:INFO] Determined delimiter of CSV input is ','\u001b[0m\n",
      "\u001b[35m[2020-04-20:01:55:49:INFO] Sniff delimiter as ','\u001b[0m\n",
      "\u001b[35m[2020-04-20:01:55:49:INFO] Determined delimiter of CSV input is ','\u001b[0m\n",
      "\u001b[34m[2020-04-20:01:55:51:INFO] Sniff delimiter as ','\u001b[0m\n",
      "\u001b[34m[2020-04-20:01:55:51:INFO] Determined delimiter of CSV input is ','\u001b[0m\n",
      "\u001b[34m[2020-04-20:01:55:52:INFO] Sniff delimiter as ','\u001b[0m\n",
      "\u001b[34m[2020-04-20:01:55:52:INFO] Determined delimiter of CSV input is ','\u001b[0m\n",
      "\u001b[34m[2020-04-20:01:55:52:INFO] Sniff delimiter as ','\u001b[0m\n",
      "\u001b[34m[2020-04-20:01:55:52:INFO] Determined delimiter of CSV input is ','\u001b[0m\n",
      "\u001b[34m[2020-04-20:01:55:52:INFO] Sniff delimiter as ','\u001b[0m\n",
      "\u001b[34m[2020-04-20:01:55:52:INFO] Determined delimiter of CSV input is ','\u001b[0m\n",
      "\u001b[35m[2020-04-20:01:55:51:INFO] Sniff delimiter as ','\u001b[0m\n",
      "\u001b[35m[2020-04-20:01:55:51:INFO] Determined delimiter of CSV input is ','\u001b[0m\n",
      "\u001b[35m[2020-04-20:01:55:52:INFO] Sniff delimiter as ','\u001b[0m\n",
      "\u001b[35m[2020-04-20:01:55:52:INFO] Determined delimiter of CSV input is ','\u001b[0m\n",
      "\u001b[35m[2020-04-20:01:55:52:INFO] Sniff delimiter as ','\u001b[0m\n",
      "\u001b[35m[2020-04-20:01:55:52:INFO] Determined delimiter of CSV input is ','\u001b[0m\n",
      "\u001b[35m[2020-04-20:01:55:52:INFO] Sniff delimiter as ','\u001b[0m\n",
      "\u001b[35m[2020-04-20:01:55:52:INFO] Determined delimiter of CSV input is ','\u001b[0m\n",
      "\u001b[34m[2020-04-20:01:55:54:INFO] Sniff delimiter as ','\u001b[0m\n",
      "\u001b[34m[2020-04-20:01:55:54:INFO] Determined delimiter of CSV input is ','\u001b[0m\n",
      "\u001b[35m[2020-04-20:01:55:54:INFO] Sniff delimiter as ','\u001b[0m\n",
      "\u001b[35m[2020-04-20:01:55:54:INFO] Determined delimiter of CSV input is ','\u001b[0m\n",
      "\u001b[34m[2020-04-20:01:55:54:INFO] Sniff delimiter as ','\u001b[0m\n",
      "\u001b[34m[2020-04-20:01:55:54:INFO] Determined delimiter of CSV input is ','\u001b[0m\n",
      "\u001b[34m[2020-04-20:01:55:54:INFO] Sniff delimiter as ','\u001b[0m\n",
      "\u001b[34m[2020-04-20:01:55:54:INFO] Determined delimiter of CSV input is ','\u001b[0m\n",
      "\u001b[34m[2020-04-20:01:55:54:INFO] Sniff delimiter as ','\u001b[0m\n",
      "\u001b[34m[2020-04-20:01:55:54:INFO] Determined delimiter of CSV input is ','\u001b[0m\n",
      "\u001b[35m[2020-04-20:01:55:54:INFO] Sniff delimiter as ','\u001b[0m\n",
      "\u001b[35m[2020-04-20:01:55:54:INFO] Determined delimiter of CSV input is ','\u001b[0m\n",
      "\u001b[35m[2020-04-20:01:55:54:INFO] Sniff delimiter as ','\u001b[0m\n",
      "\u001b[35m[2020-04-20:01:55:54:INFO] Determined delimiter of CSV input is ','\u001b[0m\n",
      "\u001b[35m[2020-04-20:01:55:54:INFO] Sniff delimiter as ','\u001b[0m\n",
      "\u001b[35m[2020-04-20:01:55:54:INFO] Determined delimiter of CSV input is ','\u001b[0m\n",
      "\u001b[34m[2020-04-20:01:55:57:INFO] Sniff delimiter as ','\u001b[0m\n",
      "\u001b[34m[2020-04-20:01:55:57:INFO] Determined delimiter of CSV input is ','\u001b[0m\n",
      "\u001b[35m[2020-04-20:01:55:57:INFO] Sniff delimiter as ','\u001b[0m\n",
      "\u001b[35m[2020-04-20:01:55:57:INFO] Determined delimiter of CSV input is ','\u001b[0m\n",
      "\u001b[34m[2020-04-20:01:55:59:INFO] Sniff delimiter as ','\u001b[0m\n",
      "\u001b[34m[2020-04-20:01:55:59:INFO] Determined delimiter of CSV input is ','\u001b[0m\n",
      "\u001b[35m[2020-04-20:01:55:59:INFO] Sniff delimiter as ','\u001b[0m\n",
      "\u001b[35m[2020-04-20:01:55:59:INFO] Determined delimiter of CSV input is ','\u001b[0m\n",
      "\u001b[34m[2020-04-20:01:55:59:INFO] Sniff delimiter as ','\u001b[0m\n",
      "\u001b[34m[2020-04-20:01:55:59:INFO] Determined delimiter of CSV input is ','\u001b[0m\n",
      "\u001b[34m[2020-04-20:01:55:59:INFO] Sniff delimiter as ','\u001b[0m\n",
      "\u001b[34m[2020-04-20:01:55:59:INFO] Determined delimiter of CSV input is ','\u001b[0m\n",
      "\u001b[34m[2020-04-20:01:56:00:INFO] Sniff delimiter as ','\u001b[0m\n",
      "\u001b[34m[2020-04-20:01:56:00:INFO] Determined delimiter of CSV input is ','\u001b[0m\n",
      "\u001b[35m[2020-04-20:01:55:59:INFO] Sniff delimiter as ','\u001b[0m\n",
      "\u001b[35m[2020-04-20:01:55:59:INFO] Determined delimiter of CSV input is ','\u001b[0m\n",
      "\u001b[35m[2020-04-20:01:55:59:INFO] Sniff delimiter as ','\u001b[0m\n",
      "\u001b[35m[2020-04-20:01:55:59:INFO] Determined delimiter of CSV input is ','\u001b[0m\n",
      "\u001b[35m[2020-04-20:01:56:00:INFO] Sniff delimiter as ','\u001b[0m\n",
      "\u001b[35m[2020-04-20:01:56:00:INFO] Determined delimiter of CSV input is ','\u001b[0m\n",
      "\u001b[34m[2020-04-20:01:56:02:INFO] Sniff delimiter as ','\u001b[0m\n",
      "\u001b[34m[2020-04-20:01:56:02:INFO] Determined delimiter of CSV input is ','\u001b[0m\n",
      "\u001b[34m[2020-04-20:01:56:02:INFO] Sniff delimiter as ','\u001b[0m\n",
      "\u001b[34m[2020-04-20:01:56:02:INFO] Determined delimiter of CSV input is ','\u001b[0m\n",
      "\u001b[34m[2020-04-20:01:56:02:INFO] Sniff delimiter as ','\u001b[0m\n",
      "\u001b[34m[2020-04-20:01:56:02:INFO] Determined delimiter of CSV input is ','\u001b[0m\n",
      "\u001b[35m[2020-04-20:01:56:02:INFO] Sniff delimiter as ','\u001b[0m\n",
      "\u001b[35m[2020-04-20:01:56:02:INFO] Determined delimiter of CSV input is ','\u001b[0m\n",
      "\u001b[35m[2020-04-20:01:56:02:INFO] Sniff delimiter as ','\u001b[0m\n",
      "\u001b[35m[2020-04-20:01:56:02:INFO] Determined delimiter of CSV input is ','\u001b[0m\n",
      "\u001b[35m[2020-04-20:01:56:02:INFO] Sniff delimiter as ','\u001b[0m\n",
      "\u001b[35m[2020-04-20:01:56:02:INFO] Determined delimiter of CSV input is ','\u001b[0m\n",
      "\u001b[34m[2020-04-20:01:56:02:INFO] Sniff delimiter as ','\u001b[0m\n",
      "\u001b[35m[2020-04-20:01:56:02:INFO] Sniff delimiter as ','\u001b[0m\n",
      "\u001b[34m[2020-04-20:01:56:02:INFO] Determined delimiter of CSV input is ','\u001b[0m\n",
      "\u001b[35m[2020-04-20:01:56:02:INFO] Determined delimiter of CSV input is ','\u001b[0m\n",
      "\u001b[34m[2020-04-20:01:56:04:INFO] Sniff delimiter as ','\u001b[0m\n",
      "\u001b[34m[2020-04-20:01:56:04:INFO] Determined delimiter of CSV input is ','\u001b[0m\n",
      "\u001b[34m[2020-04-20:01:56:04:INFO] Sniff delimiter as ','\u001b[0m\n",
      "\u001b[34m[2020-04-20:01:56:04:INFO] Determined delimiter of CSV input is ','\u001b[0m\n",
      "\u001b[34m[2020-04-20:01:56:04:INFO] Sniff delimiter as ','\u001b[0m\n",
      "\u001b[34m[2020-04-20:01:56:04:INFO] Determined delimiter of CSV input is ','\u001b[0m\n",
      "\u001b[35m[2020-04-20:01:56:04:INFO] Sniff delimiter as ','\u001b[0m\n",
      "\u001b[35m[2020-04-20:01:56:04:INFO] Determined delimiter of CSV input is ','\u001b[0m\n",
      "\u001b[35m[2020-04-20:01:56:04:INFO] Sniff delimiter as ','\u001b[0m\n",
      "\u001b[35m[2020-04-20:01:56:04:INFO] Determined delimiter of CSV input is ','\u001b[0m\n",
      "\u001b[35m[2020-04-20:01:56:04:INFO] Sniff delimiter as ','\u001b[0m\n",
      "\u001b[35m[2020-04-20:01:56:04:INFO] Determined delimiter of CSV input is ','\u001b[0m\n",
      "\u001b[34m[2020-04-20:01:56:05:INFO] Sniff delimiter as ','\u001b[0m\n",
      "\u001b[34m[2020-04-20:01:56:05:INFO] Determined delimiter of CSV input is ','\u001b[0m\n",
      "\u001b[35m[2020-04-20:01:56:05:INFO] Sniff delimiter as ','\u001b[0m\n",
      "\u001b[35m[2020-04-20:01:56:05:INFO] Determined delimiter of CSV input is ','\u001b[0m\n",
      "\n",
      "\u001b[34m[2020-04-20:01:56:07:INFO] Sniff delimiter as ','\u001b[0m\n",
      "\u001b[34m[2020-04-20:01:56:07:INFO] Determined delimiter of CSV input is ','\u001b[0m\n",
      "\u001b[34m[2020-04-20:01:56:07:INFO] Sniff delimiter as ','\u001b[0m\n",
      "\u001b[35m[2020-04-20:01:56:07:INFO] Sniff delimiter as ','\u001b[0m\n",
      "\u001b[35m[2020-04-20:01:56:07:INFO] Determined delimiter of CSV input is ','\u001b[0m\n",
      "\u001b[35m[2020-04-20:01:56:07:INFO] Sniff delimiter as ','\u001b[0m\n",
      "\u001b[34m[2020-04-20:01:56:07:INFO] Determined delimiter of CSV input is ','\u001b[0m\n",
      "\u001b[35m[2020-04-20:01:56:07:INFO] Determined delimiter of CSV input is ','\u001b[0m\n",
      "\u001b[34m[2020-04-20:01:56:07:INFO] Sniff delimiter as ','\u001b[0m\n",
      "\u001b[34m[2020-04-20:01:56:07:INFO] Determined delimiter of CSV input is ','\u001b[0m\n",
      "\u001b[35m[2020-04-20:01:56:07:INFO] Sniff delimiter as ','\u001b[0m\n",
      "\u001b[35m[2020-04-20:01:56:07:INFO] Determined delimiter of CSV input is ','\u001b[0m\n",
      "\u001b[34m[2020-04-20:01:56:09:INFO] Sniff delimiter as ','\u001b[0m\n",
      "\u001b[34m[2020-04-20:01:56:09:INFO] Determined delimiter of CSV input is ','\u001b[0m\n",
      "\u001b[34m[2020-04-20:01:56:09:INFO] Sniff delimiter as ','\u001b[0m\n",
      "\u001b[34m[2020-04-20:01:56:09:INFO] Determined delimiter of CSV input is ','\u001b[0m\n",
      "\u001b[34m[2020-04-20:01:56:09:INFO] Sniff delimiter as ','\u001b[0m\n",
      "\u001b[34m[2020-04-20:01:56:09:INFO] Determined delimiter of CSV input is ','\u001b[0m\n",
      "\u001b[34m[2020-04-20:01:56:10:INFO] Sniff delimiter as ','\u001b[0m\n",
      "\u001b[34m[2020-04-20:01:56:10:INFO] Determined delimiter of CSV input is ','\u001b[0m\n",
      "\u001b[35m[2020-04-20:01:56:09:INFO] Sniff delimiter as ','\u001b[0m\n",
      "\u001b[35m[2020-04-20:01:56:09:INFO] Determined delimiter of CSV input is ','\u001b[0m\n",
      "\u001b[35m[2020-04-20:01:56:09:INFO] Sniff delimiter as ','\u001b[0m\n",
      "\u001b[35m[2020-04-20:01:56:09:INFO] Determined delimiter of CSV input is ','\u001b[0m\n",
      "\u001b[35m[2020-04-20:01:56:09:INFO] Sniff delimiter as ','\u001b[0m\n",
      "\u001b[35m[2020-04-20:01:56:09:INFO] Determined delimiter of CSV input is ','\u001b[0m\n",
      "\u001b[35m[2020-04-20:01:56:10:INFO] Sniff delimiter as ','\u001b[0m\n",
      "\u001b[35m[2020-04-20:01:56:10:INFO] Determined delimiter of CSV input is ','\u001b[0m\n"
     ]
    }
   ],
   "source": [
    "xgb_transformer.wait()"
   ]
  },
  {
   "cell_type": "markdown",
   "metadata": {},
   "source": [
    "Now the transform job has executed and the result, the estimated sentiment of each review, has been saved on S3. Since we would rather work on this file locally we can perform a bit of notebook magic to copy the file to the `data_dir`."
   ]
  },
  {
   "cell_type": "code",
   "execution_count": 28,
   "metadata": {},
   "outputs": [
    {
     "name": "stdout",
     "output_type": "stream",
     "text": [
      "download: s3://sagemaker-us-east-2-244377630672/xgboost-2020-04-20-01-52-17-309/test.csv.out to ../data/sentiment_update/test.csv.out\r\n"
     ]
    }
   ],
   "source": [
    "!aws s3 cp --recursive $xgb_transformer.output_path $data_dir"
   ]
  },
  {
   "cell_type": "markdown",
   "metadata": {},
   "source": [
    "The last step is now to read in the output from our model, convert the output to something a little more usable, in this case we want the sentiment to be either `1` (positive) or `0` (negative), and then compare to the ground truth labels."
   ]
  },
  {
   "cell_type": "code",
   "execution_count": 29,
   "metadata": {},
   "outputs": [],
   "source": [
    "predictions = pd.read_csv(os.path.join(data_dir, 'test.csv.out'), header=None)\n",
    "predictions = [round(num) for num in predictions.squeeze().values]"
   ]
  },
  {
   "cell_type": "code",
   "execution_count": 30,
   "metadata": {},
   "outputs": [
    {
     "data": {
      "text/plain": [
       "0.8552"
      ]
     },
     "execution_count": 30,
     "metadata": {},
     "output_type": "execute_result"
    }
   ],
   "source": [
    "from sklearn.metrics import accuracy_score\n",
    "accuracy_score(test_y, predictions)"
   ]
  },
  {
   "cell_type": "markdown",
   "metadata": {},
   "source": [
    "## Step 5: Looking at New Data\n",
    "\n",
    "So now we have an XGBoost sentiment analysis model that we believe is working pretty well. As a result, we deployed it and we are using it in some sort of app.\n",
    "\n",
    "However, as we allow users to use our app we periodically record submitted movie reviews so that we can perform some quality control on our deployed model. Once we've accumulated enough reviews we go through them by hand and evaluate whether they are positive or negative (there are many ways you might do this in practice aside from by hand). The reason for doing this is so that we can check to see how well our model is doing."
   ]
  },
  {
   "cell_type": "code",
   "execution_count": 31,
   "metadata": {},
   "outputs": [],
   "source": [
    "import new_data\n",
    "\n",
    "new_X, new_Y = new_data.get_new_data()"
   ]
  },
  {
   "cell_type": "markdown",
   "metadata": {},
   "source": [
    "**NOTE:** Part of the fun in this notebook is trying to figure out what exactly is happening with the new data, so try not to cheat by looking in the `new_data` module. Also, the `new_data` module assumes that the cache created earlier in Step 3 is still stored in `../cache/sentiment_analysis`."
   ]
  },
  {
   "cell_type": "markdown",
   "metadata": {},
   "source": [
    "### (TODO) Testing the current model\n",
    "\n",
    "Now that we've loaded the new data, let's check to see how our current XGBoost model performs on it.\n",
    "\n",
    "First, note that the data that has been loaded has already been pre-processed so that each entry in `new_X` is a list of words that have been processed using `nltk`. However, we have not yet constructed the bag of words encoding, which we will do now.\n",
    "\n",
    "First, we use the vocabulary that we constructed earlier using the original training data to construct a `CountVectorizer` which we will use to transform our new data into its bag of words encoding.\n",
    "\n",
    "**TODO:** Create the CountVectorizer object using the vocabulary created earlier and use it to transform the new data."
   ]
  },
  {
   "cell_type": "code",
   "execution_count": 33,
   "metadata": {},
   "outputs": [],
   "source": [
    "# TODO: Create the CountVectorizer using the previously constructed vocabulary\n",
    "vectorizer = CountVectorizer(vocabulary=vocabulary,\n",
    "                             preprocessor=lambda x: x, tokenizer=lambda x: x)\n",
    "\n",
    "# TODO: Transform our new data set and store the transformed data in the variable new_XV\n",
    "new_XV = vectorizer.transform(new_X).toarray()"
   ]
  },
  {
   "cell_type": "markdown",
   "metadata": {},
   "source": [
    "As a quick sanity check, we make sure that the length of each of our bag of words encoded reviews is correct. In particular, it must be the same size as the vocabulary which in our case is `5000`."
   ]
  },
  {
   "cell_type": "code",
   "execution_count": 34,
   "metadata": {},
   "outputs": [
    {
     "data": {
      "text/plain": [
       "5000"
      ]
     },
     "execution_count": 34,
     "metadata": {},
     "output_type": "execute_result"
    }
   ],
   "source": [
    "len(new_XV[100])"
   ]
  },
  {
   "cell_type": "markdown",
   "metadata": {},
   "source": [
    "Now that we've performed the data processing that is required by our model we can save it locally and then upload it to S3 so that we can construct a batch transform job in order to see how well our model is working.\n",
    "\n",
    "First, we save the data locally.\n",
    "\n",
    "**TODO:** Save the new data (after it has been transformed using the original vocabulary) to the local notebook instance."
   ]
  },
  {
   "cell_type": "code",
   "execution_count": 38,
   "metadata": {},
   "outputs": [],
   "source": [
    "# TODO: Save the data contained in new_XV locally in the data_dir with the file name new_data.csv\n",
    "pd.DataFrame(new_XV).to_csv(os.path.join(data_dir, 'new_data.csv'), header=False, index=False)"
   ]
  },
  {
   "cell_type": "markdown",
   "metadata": {},
   "source": [
    "Next, we upload the data to S3.\n",
    "\n",
    "**TODO:** Upload the csv file created above to S3."
   ]
  },
  {
   "cell_type": "code",
   "execution_count": 39,
   "metadata": {},
   "outputs": [],
   "source": [
    "# TODO: Upload the new_data.csv file contained in the data_dir folder to S3 and save the resulting\n",
    "#       URI as new_data_location\n",
    "\n",
    "new_data_location = session.upload_data(os.path.join(data_dir, 'new_data.csv'), key_prefix=prefix)"
   ]
  },
  {
   "cell_type": "markdown",
   "metadata": {},
   "source": [
    "Then, once the new data has been uploaded to S3, we create and run the batch transform job to get our model's predictions about the sentiment of the new movie reviews.\n",
    "\n",
    "**TODO:** Using the `xgb_transformer` object that was created earlier (at the end of Step 4 to test the XGBoost model), transform the data located at `new_data_location`."
   ]
  },
  {
   "cell_type": "code",
   "execution_count": 40,
   "metadata": {},
   "outputs": [
    {
     "name": "stdout",
     "output_type": "stream",
     "text": [
      "....................\u001b[34mArguments: serve\u001b[0m\n",
      "\u001b[34m[2020-04-20 02:11:06 +0000] [1] [INFO] Starting gunicorn 19.7.1\u001b[0m\n",
      "\u001b[34m[2020-04-20 02:11:06 +0000] [1] [INFO] Listening at: http://0.0.0.0:8080 (1)\u001b[0m\n",
      "\u001b[34m[2020-04-20 02:11:06 +0000] [1] [INFO] Using worker: gevent\u001b[0m\n",
      "\u001b[34m[2020-04-20 02:11:06 +0000] [38] [INFO] Booting worker with pid: 38\u001b[0m\n",
      "\u001b[34m[2020-04-20 02:11:06 +0000] [39] [INFO] Booting worker with pid: 39\u001b[0m\n",
      "\u001b[34m[2020-04-20 02:11:06 +0000] [40] [INFO] Booting worker with pid: 40\u001b[0m\n",
      "\u001b[34m[2020-04-20 02:11:06 +0000] [41] [INFO] Booting worker with pid: 41\u001b[0m\n",
      "\u001b[34m[2020-04-20:02:11:07:INFO] Model loaded successfully for worker : 38\u001b[0m\n",
      "\u001b[34m[2020-04-20:02:11:07:INFO] Model loaded successfully for worker : 39\u001b[0m\n",
      "\u001b[34m[2020-04-20:02:11:07:INFO] Model loaded successfully for worker : 41\u001b[0m\n",
      "\u001b[34m[2020-04-20:02:11:07:INFO] Model loaded successfully for worker : 40\u001b[0m\n",
      "\u001b[32m2020-04-20T02:11:26.011:[sagemaker logs]: MaxConcurrentTransforms=4, MaxPayloadInMB=6, BatchStrategy=MULTI_RECORD\u001b[0m\n",
      "\u001b[34m[2020-04-20:02:11:29:INFO] Sniff delimiter as ','\u001b[0m\n",
      "\u001b[34m[2020-04-20:02:11:29:INFO] Determined delimiter of CSV input is ','\u001b[0m\n",
      "\u001b[34m[2020-04-20:02:11:29:INFO] Sniff delimiter as ','\u001b[0m\n",
      "\u001b[34m[2020-04-20:02:11:29:INFO] Determined delimiter of CSV input is ','\u001b[0m\n",
      "\u001b[34m[2020-04-20:02:11:29:INFO] Sniff delimiter as ','\u001b[0m\n",
      "\u001b[34m[2020-04-20:02:11:29:INFO] Determined delimiter of CSV input is ','\u001b[0m\n",
      "\u001b[34m[2020-04-20:02:11:29:INFO] Sniff delimiter as ','\u001b[0m\n",
      "\u001b[34m[2020-04-20:02:11:29:INFO] Determined delimiter of CSV input is ','\u001b[0m\n",
      "\u001b[35m[2020-04-20:02:11:29:INFO] Sniff delimiter as ','\u001b[0m\n",
      "\u001b[35m[2020-04-20:02:11:29:INFO] Determined delimiter of CSV input is ','\u001b[0m\n",
      "\u001b[35m[2020-04-20:02:11:29:INFO] Sniff delimiter as ','\u001b[0m\n",
      "\u001b[35m[2020-04-20:02:11:29:INFO] Determined delimiter of CSV input is ','\u001b[0m\n",
      "\u001b[35m[2020-04-20:02:11:29:INFO] Sniff delimiter as ','\u001b[0m\n",
      "\u001b[35m[2020-04-20:02:11:29:INFO] Determined delimiter of CSV input is ','\u001b[0m\n",
      "\u001b[35m[2020-04-20:02:11:29:INFO] Sniff delimiter as ','\u001b[0m\n",
      "\u001b[35m[2020-04-20:02:11:29:INFO] Determined delimiter of CSV input is ','\u001b[0m\n",
      "\u001b[34m[2020-04-20:02:11:31:INFO] Sniff delimiter as ','\u001b[0m\n",
      "\u001b[34m[2020-04-20:02:11:31:INFO] Determined delimiter of CSV input is ','\u001b[0m\n",
      "\u001b[34m[2020-04-20:02:11:32:INFO] Sniff delimiter as ','\u001b[0m\n",
      "\u001b[34m[2020-04-20:02:11:32:INFO] Determined delimiter of CSV input is ','\u001b[0m\n",
      "\u001b[34m[2020-04-20:02:11:32:INFO] Sniff delimiter as ','\u001b[0m\n",
      "\u001b[34m[2020-04-20:02:11:32:INFO] Determined delimiter of CSV input is ','\u001b[0m\n",
      "\u001b[35m[2020-04-20:02:11:31:INFO] Sniff delimiter as ','\u001b[0m\n",
      "\u001b[35m[2020-04-20:02:11:31:INFO] Determined delimiter of CSV input is ','\u001b[0m\n",
      "\u001b[35m[2020-04-20:02:11:32:INFO] Sniff delimiter as ','\u001b[0m\n",
      "\u001b[35m[2020-04-20:02:11:32:INFO] Determined delimiter of CSV input is ','\u001b[0m\n",
      "\u001b[35m[2020-04-20:02:11:32:INFO] Sniff delimiter as ','\u001b[0m\n",
      "\u001b[35m[2020-04-20:02:11:32:INFO] Determined delimiter of CSV input is ','\u001b[0m\n",
      "\u001b[34m[2020-04-20:02:11:32:INFO] Sniff delimiter as ','\u001b[0m\n",
      "\u001b[34m[2020-04-20:02:11:32:INFO] Determined delimiter of CSV input is ','\u001b[0m\n",
      "\u001b[35m[2020-04-20:02:11:32:INFO] Sniff delimiter as ','\u001b[0m\n",
      "\u001b[35m[2020-04-20:02:11:32:INFO] Determined delimiter of CSV input is ','\u001b[0m\n",
      "\u001b[34m[2020-04-20:02:11:34:INFO] Sniff delimiter as ','\u001b[0m\n",
      "\u001b[34m[2020-04-20:02:11:34:INFO] Determined delimiter of CSV input is ','\u001b[0m\n",
      "\u001b[34m[2020-04-20:02:11:34:INFO] Sniff delimiter as ','\u001b[0m\n",
      "\u001b[34m[2020-04-20:02:11:34:INFO] Determined delimiter of CSV input is ','\u001b[0m\n",
      "\u001b[34m[2020-04-20:02:11:34:INFO] Sniff delimiter as ','\u001b[0m\n",
      "\u001b[34m[2020-04-20:02:11:34:INFO] Determined delimiter of CSV input is ','\u001b[0m\n",
      "\u001b[35m[2020-04-20:02:11:34:INFO] Sniff delimiter as ','\u001b[0m\n",
      "\u001b[35m[2020-04-20:02:11:34:INFO] Determined delimiter of CSV input is ','\u001b[0m\n",
      "\u001b[35m[2020-04-20:02:11:34:INFO] Sniff delimiter as ','\u001b[0m\n",
      "\u001b[35m[2020-04-20:02:11:34:INFO] Determined delimiter of CSV input is ','\u001b[0m\n",
      "\u001b[35m[2020-04-20:02:11:34:INFO] Sniff delimiter as ','\u001b[0m\n",
      "\u001b[35m[2020-04-20:02:11:34:INFO] Determined delimiter of CSV input is ','\u001b[0m\n",
      "\u001b[34m[2020-04-20:02:11:37:INFO] Sniff delimiter as ','\u001b[0m\n",
      "\u001b[34m[2020-04-20:02:11:37:INFO] Determined delimiter of CSV input is ','\u001b[0m\n",
      "\u001b[34m[2020-04-20:02:11:37:INFO] Sniff delimiter as ','\u001b[0m\n",
      "\u001b[34m[2020-04-20:02:11:37:INFO] Determined delimiter of CSV input is ','\u001b[0m\n",
      "\u001b[35m[2020-04-20:02:11:37:INFO] Sniff delimiter as ','\u001b[0m\n",
      "\u001b[35m[2020-04-20:02:11:37:INFO] Determined delimiter of CSV input is ','\u001b[0m\n",
      "\u001b[35m[2020-04-20:02:11:37:INFO] Sniff delimiter as ','\u001b[0m\n",
      "\u001b[35m[2020-04-20:02:11:37:INFO] Determined delimiter of CSV input is ','\u001b[0m\n",
      "\u001b[34m[2020-04-20:02:11:37:INFO] Sniff delimiter as ','\u001b[0m\n",
      "\u001b[34m[2020-04-20:02:11:37:INFO] Determined delimiter of CSV input is ','\u001b[0m\n",
      "\u001b[34m[2020-04-20:02:11:37:INFO] Sniff delimiter as ','\u001b[0m\n",
      "\u001b[34m[2020-04-20:02:11:37:INFO] Determined delimiter of CSV input is ','\u001b[0m\n",
      "\u001b[35m[2020-04-20:02:11:37:INFO] Sniff delimiter as ','\u001b[0m\n",
      "\u001b[35m[2020-04-20:02:11:37:INFO] Determined delimiter of CSV input is ','\u001b[0m\n",
      "\u001b[35m[2020-04-20:02:11:37:INFO] Sniff delimiter as ','\u001b[0m\n",
      "\u001b[35m[2020-04-20:02:11:37:INFO] Determined delimiter of CSV input is ','\u001b[0m\n",
      "\u001b[34m[2020-04-20:02:11:39:INFO] Sniff delimiter as ','\u001b[0m\n",
      "\u001b[34m[2020-04-20:02:11:39:INFO] Determined delimiter of CSV input is ','\u001b[0m\n",
      "\u001b[34m[2020-04-20:02:11:39:INFO] Sniff delimiter as ','\u001b[0m\n",
      "\u001b[34m[2020-04-20:02:11:39:INFO] Determined delimiter of CSV input is ','\u001b[0m\n",
      "\u001b[34m[2020-04-20:02:11:39:INFO] Sniff delimiter as ','\u001b[0m\n",
      "\u001b[34m[2020-04-20:02:11:39:INFO] Determined delimiter of CSV input is ','\u001b[0m\n",
      "\u001b[34m[2020-04-20:02:11:39:INFO] Sniff delimiter as ','\u001b[0m\n",
      "\u001b[34m[2020-04-20:02:11:39:INFO] Determined delimiter of CSV input is ','\u001b[0m\n",
      "\u001b[35m[2020-04-20:02:11:39:INFO] Sniff delimiter as ','\u001b[0m\n",
      "\u001b[35m[2020-04-20:02:11:39:INFO] Determined delimiter of CSV input is ','\u001b[0m\n",
      "\u001b[35m[2020-04-20:02:11:39:INFO] Sniff delimiter as ','\u001b[0m\n",
      "\u001b[35m[2020-04-20:02:11:39:INFO] Determined delimiter of CSV input is ','\u001b[0m\n",
      "\u001b[35m[2020-04-20:02:11:39:INFO] Sniff delimiter as ','\u001b[0m\n",
      "\u001b[35m[2020-04-20:02:11:39:INFO] Determined delimiter of CSV input is ','\u001b[0m\n",
      "\u001b[35m[2020-04-20:02:11:39:INFO] Sniff delimiter as ','\u001b[0m\n",
      "\u001b[35m[2020-04-20:02:11:39:INFO] Determined delimiter of CSV input is ','\u001b[0m\n",
      "\u001b[34m[2020-04-20:02:11:42:INFO] Sniff delimiter as ','\u001b[0m\n",
      "\u001b[34m[2020-04-20:02:11:42:INFO] Determined delimiter of CSV input is ','\u001b[0m\n",
      "\u001b[35m[2020-04-20:02:11:42:INFO] Sniff delimiter as ','\u001b[0m\n",
      "\u001b[35m[2020-04-20:02:11:42:INFO] Determined delimiter of CSV input is ','\u001b[0m\n",
      "\u001b[34m[2020-04-20:02:11:42:INFO] Sniff delimiter as ','\u001b[0m\n",
      "\u001b[34m[2020-04-20:02:11:42:INFO] Determined delimiter of CSV input is ','\u001b[0m\n",
      "\u001b[34m[2020-04-20:02:11:42:INFO] Sniff delimiter as ','\u001b[0m\n",
      "\u001b[34m[2020-04-20:02:11:42:INFO] Determined delimiter of CSV input is ','\u001b[0m\n",
      "\u001b[34m[2020-04-20:02:11:42:INFO] Sniff delimiter as ','\u001b[0m\n",
      "\u001b[34m[2020-04-20:02:11:42:INFO] Determined delimiter of CSV input is ','\u001b[0m\n",
      "\u001b[35m[2020-04-20:02:11:42:INFO] Sniff delimiter as ','\u001b[0m\n",
      "\u001b[35m[2020-04-20:02:11:42:INFO] Determined delimiter of CSV input is ','\u001b[0m\n",
      "\u001b[35m[2020-04-20:02:11:42:INFO] Sniff delimiter as ','\u001b[0m\n",
      "\u001b[35m[2020-04-20:02:11:42:INFO] Determined delimiter of CSV input is ','\u001b[0m\n",
      "\u001b[35m[2020-04-20:02:11:42:INFO] Sniff delimiter as ','\u001b[0m\n",
      "\u001b[35m[2020-04-20:02:11:42:INFO] Determined delimiter of CSV input is ','\u001b[0m\n",
      "\n",
      "\u001b[34m[2020-04-20:02:11:44:INFO] Sniff delimiter as ','\u001b[0m\n",
      "\u001b[34m[2020-04-20:02:11:44:INFO] Determined delimiter of CSV input is ','\u001b[0m\n",
      "\u001b[35m[2020-04-20:02:11:44:INFO] Sniff delimiter as ','\u001b[0m\n",
      "\u001b[35m[2020-04-20:02:11:44:INFO] Determined delimiter of CSV input is ','\u001b[0m\n",
      "\u001b[34m[2020-04-20:02:11:47:INFO] Sniff delimiter as ','\u001b[0m\n",
      "\u001b[34m[2020-04-20:02:11:47:INFO] Determined delimiter of CSV input is ','\u001b[0m\n",
      "\u001b[34m[2020-04-20:02:11:47:INFO] Sniff delimiter as ','\u001b[0m\n",
      "\u001b[34m[2020-04-20:02:11:47:INFO] Determined delimiter of CSV input is ','\u001b[0m\n",
      "\u001b[34m[2020-04-20:02:11:47:INFO] Sniff delimiter as ','\u001b[0m\n",
      "\u001b[34m[2020-04-20:02:11:47:INFO] Determined delimiter of CSV input is ','\u001b[0m\n",
      "\u001b[34m[2020-04-20:02:11:47:INFO] Sniff delimiter as ','\u001b[0m\n",
      "\u001b[34m[2020-04-20:02:11:47:INFO] Determined delimiter of CSV input is ','\u001b[0m\n",
      "\u001b[35m[2020-04-20:02:11:47:INFO] Sniff delimiter as ','\u001b[0m\n",
      "\u001b[35m[2020-04-20:02:11:47:INFO] Determined delimiter of CSV input is ','\u001b[0m\n",
      "\u001b[35m[2020-04-20:02:11:47:INFO] Sniff delimiter as ','\u001b[0m\n",
      "\u001b[35m[2020-04-20:02:11:47:INFO] Determined delimiter of CSV input is ','\u001b[0m\n",
      "\u001b[35m[2020-04-20:02:11:47:INFO] Sniff delimiter as ','\u001b[0m\n",
      "\u001b[35m[2020-04-20:02:11:47:INFO] Determined delimiter of CSV input is ','\u001b[0m\n",
      "\u001b[35m[2020-04-20:02:11:47:INFO] Sniff delimiter as ','\u001b[0m\n",
      "\u001b[35m[2020-04-20:02:11:47:INFO] Determined delimiter of CSV input is ','\u001b[0m\n",
      "\u001b[34m[2020-04-20:02:11:49:INFO] Sniff delimiter as ','\u001b[0m\n",
      "\u001b[34m[2020-04-20:02:11:49:INFO] Determined delimiter of CSV input is ','\u001b[0m\n",
      "\u001b[34m[2020-04-20:02:11:49:INFO] Sniff delimiter as ','\u001b[0m\n",
      "\u001b[34m[2020-04-20:02:11:49:INFO] Determined delimiter of CSV input is ','\u001b[0m\n",
      "\u001b[35m[2020-04-20:02:11:49:INFO] Sniff delimiter as ','\u001b[0m\n",
      "\u001b[35m[2020-04-20:02:11:49:INFO] Determined delimiter of CSV input is ','\u001b[0m\n",
      "\u001b[35m[2020-04-20:02:11:49:INFO] Sniff delimiter as ','\u001b[0m\n",
      "\u001b[35m[2020-04-20:02:11:49:INFO] Determined delimiter of CSV input is ','\u001b[0m\n",
      "\u001b[34m[2020-04-20:02:11:50:INFO] Sniff delimiter as ','\u001b[0m\n",
      "\u001b[34m[2020-04-20:02:11:50:INFO] Determined delimiter of CSV input is ','\u001b[0m\n",
      "\u001b[34m[2020-04-20:02:11:50:INFO] Sniff delimiter as ','\u001b[0m\n",
      "\u001b[34m[2020-04-20:02:11:50:INFO] Determined delimiter of CSV input is ','\u001b[0m\n",
      "\u001b[35m[2020-04-20:02:11:50:INFO] Sniff delimiter as ','\u001b[0m\n",
      "\u001b[35m[2020-04-20:02:11:50:INFO] Determined delimiter of CSV input is ','\u001b[0m\n",
      "\u001b[35m[2020-04-20:02:11:50:INFO] Sniff delimiter as ','\u001b[0m\n",
      "\u001b[35m[2020-04-20:02:11:50:INFO] Determined delimiter of CSV input is ','\u001b[0m\n",
      "\u001b[34m[2020-04-20:02:11:52:INFO] Sniff delimiter as ','\u001b[0m\n",
      "\u001b[34m[2020-04-20:02:11:52:INFO] Determined delimiter of CSV input is ','\u001b[0m\n",
      "\u001b[34m[2020-04-20:02:11:52:INFO] Sniff delimiter as ','\u001b[0m\n",
      "\u001b[34m[2020-04-20:02:11:52:INFO] Determined delimiter of CSV input is ','\u001b[0m\n",
      "\u001b[34m[2020-04-20:02:11:52:INFO] Sniff delimiter as ','\u001b[0m\n",
      "\u001b[34m[2020-04-20:02:11:52:INFO] Determined delimiter of CSV input is ','\u001b[0m\n",
      "\u001b[34m[2020-04-20:02:11:52:INFO] Sniff delimiter as ','\u001b[0m\n",
      "\u001b[34m[2020-04-20:02:11:52:INFO] Determined delimiter of CSV input is ','\u001b[0m\n",
      "\u001b[35m[2020-04-20:02:11:52:INFO] Sniff delimiter as ','\u001b[0m\n",
      "\u001b[35m[2020-04-20:02:11:52:INFO] Determined delimiter of CSV input is ','\u001b[0m\n",
      "\u001b[35m[2020-04-20:02:11:52:INFO] Sniff delimiter as ','\u001b[0m\n",
      "\u001b[35m[2020-04-20:02:11:52:INFO] Determined delimiter of CSV input is ','\u001b[0m\n",
      "\u001b[35m[2020-04-20:02:11:52:INFO] Sniff delimiter as ','\u001b[0m\n",
      "\u001b[35m[2020-04-20:02:11:52:INFO] Determined delimiter of CSV input is ','\u001b[0m\n",
      "\u001b[35m[2020-04-20:02:11:52:INFO] Sniff delimiter as ','\u001b[0m\n",
      "\u001b[35m[2020-04-20:02:11:52:INFO] Determined delimiter of CSV input is ','\u001b[0m\n"
     ]
    }
   ],
   "source": [
    "# TODO: Using xgb_transformer, transform the new_data_location data. You may wish to **wait** until\n",
    "#       the batch transform job has finished.\n",
    "xgb_transformer.transform(new_data_location, content_type='text/csv', split_type='Line')\n",
    "xgb_transformer.wait()"
   ]
  },
  {
   "cell_type": "markdown",
   "metadata": {},
   "source": [
    "As usual, we copy the results of the batch transform job to our local instance."
   ]
  },
  {
   "cell_type": "code",
   "execution_count": 41,
   "metadata": {},
   "outputs": [
    {
     "name": "stdout",
     "output_type": "stream",
     "text": [
      "download: s3://sagemaker-us-east-2-244377630672/xgboost-2020-04-20-02-07-57-556/new_data.csv.out to ../data/sentiment_update/new_data.csv.out\r\n"
     ]
    }
   ],
   "source": [
    "!aws s3 cp --recursive $xgb_transformer.output_path $data_dir"
   ]
  },
  {
   "cell_type": "markdown",
   "metadata": {},
   "source": [
    "Read in the results of the batch transform job."
   ]
  },
  {
   "cell_type": "code",
   "execution_count": 42,
   "metadata": {},
   "outputs": [],
   "source": [
    "predictions = pd.read_csv(os.path.join(data_dir, 'new_data.csv.out'), header=None)\n",
    "predictions = [round(num) for num in predictions.squeeze().values]"
   ]
  },
  {
   "cell_type": "markdown",
   "metadata": {},
   "source": [
    "And check the accuracy of our current model."
   ]
  },
  {
   "cell_type": "code",
   "execution_count": 43,
   "metadata": {},
   "outputs": [
    {
     "data": {
      "text/plain": [
       "0.73144"
      ]
     },
     "execution_count": 43,
     "metadata": {},
     "output_type": "execute_result"
    }
   ],
   "source": [
    "accuracy_score(new_Y, predictions)"
   ]
  },
  {
   "cell_type": "markdown",
   "metadata": {},
   "source": [
    "So it would appear that *something* has changed since our model is no longer (as) effective at determining the sentiment of a user provided review.\n",
    "\n",
    "In a real life scenario you would check a number of different things to see what exactly is going on. In our case, we are only going to check one and that is whether some aspect of the underlying distribution has changed. In other words, we want to see if the words that appear in our new collection of reviews matches the words that appear in the original training set. Of course, we want to narrow our scope a little bit so we will only look at the `5000` most frequently appearing words in each data set, or in other words, the vocabulary generated by each data set.\n",
    "\n",
    "Before doing that, however, let's take a look at some of the incorrectly classified reviews in the new data set.\n",
    "\n",
    "To start, we will deploy the original XGBoost model. We will then use the deployed model to infer the sentiment of some of the new reviews. This will also serve as a nice excuse to deploy our model so that we can mimic a real life scenario where we have a model that has been deployed and is being used in production.\n",
    "\n",
    "**TODO:** Deploy the XGBoost model."
   ]
  },
  {
   "cell_type": "code",
   "execution_count": 44,
   "metadata": {},
   "outputs": [
    {
     "name": "stderr",
     "output_type": "stream",
     "text": [
      "WARNING:sagemaker:Using already existing model: xgboost-2020-04-20-01-46-33-589\n"
     ]
    },
    {
     "name": "stdout",
     "output_type": "stream",
     "text": [
      "-----------!"
     ]
    }
   ],
   "source": [
    "# TODO: Deploy the model that was created earlier. Recall that the object name is 'xgb'.\n",
    "xgb_predictor = xgb.deploy(initial_instance_count=1, instance_type='ml.m4.xlarge')"
   ]
  },
  {
   "cell_type": "markdown",
   "metadata": {},
   "source": [
    "### Diagnose the problem\n",
    "\n",
    "Now that we have our deployed \"production\" model, we can send some of our new data to it and filter out some of the incorrectly classified reviews."
   ]
  },
  {
   "cell_type": "code",
   "execution_count": 45,
   "metadata": {},
   "outputs": [],
   "source": [
    "from sagemaker.predictor import csv_serializer\n",
    "\n",
    "# We need to tell the endpoint what format the data we are sending is in so that SageMaker can perform the serialization.\n",
    "xgb_predictor.content_type = 'text/csv'\n",
    "xgb_predictor.serializer = csv_serializer"
   ]
  },
  {
   "cell_type": "markdown",
   "metadata": {},
   "source": [
    "It will be useful to look at a few different examples of incorrectly classified reviews so we will start by creating a *generator* which we will use to iterate through some of the new reviews and find ones that are incorrect.\n",
    "\n",
    "**NOTE:** Understanding what Python generators are isn't really required for this module. The reason we use them here is so that we don't have to iterate through all of the new reviews, searching for incorrectly classified samples."
   ]
  },
  {
   "cell_type": "code",
   "execution_count": 46,
   "metadata": {},
   "outputs": [],
   "source": [
    "def get_sample(in_X, in_XV, in_Y):\n",
    "    for idx, smp in enumerate(in_X):\n",
    "        res = round(float(xgb_predictor.predict(in_XV[idx])))\n",
    "        if res != in_Y[idx]:\n",
    "            yield smp, in_Y[idx]"
   ]
  },
  {
   "cell_type": "code",
   "execution_count": 47,
   "metadata": {},
   "outputs": [],
   "source": [
    "gn = get_sample(new_X, new_XV, new_Y)"
   ]
  },
  {
   "cell_type": "markdown",
   "metadata": {},
   "source": [
    "At this point, `gn` is the *generator* which generates samples from the new data set which are not classified correctly. To get the *next* sample we simply call the `next` method on our generator."
   ]
  },
  {
   "cell_type": "code",
   "execution_count": 69,
   "metadata": {},
   "outputs": [
    {
     "name": "stdout",
     "output_type": "stream",
     "text": [
      "0\n"
     ]
    }
   ],
   "source": [
    "print(next(gn))"
   ]
  },
  {
   "cell_type": "markdown",
   "metadata": {},
   "source": [
    "After looking at a few examples, maybe we decide to look at the most frequently appearing `5000` words in each data set, the original training data set and the new data set. The reason for looking at this might be that we expect the frequency of use of different words to have changed, maybe there is some new slang that has been introduced or some other artifact of popular culture that has changed the way that people write movie reviews.\n",
    "\n",
    "To do this, we start by fitting a `CountVectorizer` to the new data."
   ]
  },
  {
   "cell_type": "code",
   "execution_count": 49,
   "metadata": {},
   "outputs": [
    {
     "data": {
      "text/plain": [
       "CountVectorizer(analyzer='word', binary=False, decode_error='strict',\n",
       "        dtype=<class 'numpy.int64'>, encoding='utf-8', input='content',\n",
       "        lowercase=True, max_df=1.0, max_features=5000, min_df=1,\n",
       "        ngram_range=(1, 1),\n",
       "        preprocessor=<function <lambda> at 0x7fa24cfe0b70>,\n",
       "        stop_words=None, strip_accents=None,\n",
       "        token_pattern='(?u)\\\\b\\\\w\\\\w+\\\\b',\n",
       "        tokenizer=<function <lambda> at 0x7fa24cfe0510>, vocabulary=None)"
      ]
     },
     "execution_count": 49,
     "metadata": {},
     "output_type": "execute_result"
    }
   ],
   "source": [
    "new_vectorizer = CountVectorizer(max_features=5000,\n",
    "                preprocessor=lambda x: x, tokenizer=lambda x: x)\n",
    "new_vectorizer.fit(new_X)"
   ]
  },
  {
   "cell_type": "markdown",
   "metadata": {},
   "source": [
    "Now that we have this new `CountVectorizor` object, we can check to see if the corresponding vocabulary has changed between the two data sets."
   ]
  },
  {
   "cell_type": "code",
   "execution_count": 50,
   "metadata": {},
   "outputs": [],
   "source": [
    "original_vocabulary = set(vocabulary.keys())\n",
    "new_vocabulary = set(new_vectorizer.vocabulary_.keys())"
   ]
  },
  {
   "cell_type": "markdown",
   "metadata": {},
   "source": [
    "We can look at the words that were in the original vocabulary but not in the new vocabulary."
   ]
  },
  {
   "cell_type": "code",
   "execution_count": 51,
   "metadata": {},
   "outputs": [
    {
     "name": "stdout",
     "output_type": "stream",
     "text": [
      "{'21st', 'playboy', 'ghetto', 'weari', 'victorian', 'spill', 'reincarn'}\n"
     ]
    }
   ],
   "source": [
    "print(original_vocabulary - new_vocabulary)"
   ]
  },
  {
   "cell_type": "markdown",
   "metadata": {},
   "source": [
    "And similarly, we can look at the words that are in the new vocabulary but which were not in the original vocabulary."
   ]
  },
  {
   "cell_type": "code",
   "execution_count": 52,
   "metadata": {},
   "outputs": [
    {
     "name": "stdout",
     "output_type": "stream",
     "text": [
      "{'banana', 'sophi', 'omin', 'dubiou', 'orchestr', 'masterson', 'optimist'}\n"
     ]
    }
   ],
   "source": [
    "print(new_vocabulary - original_vocabulary)"
   ]
  },
  {
   "cell_type": "code",
   "execution_count": 63,
   "metadata": {},
   "outputs": [
    {
     "name": "stdout",
     "output_type": "stream",
     "text": [
      "{'blockbust', 'news', 'empathi', 'cours', 'kline', 'combat', 'shortcom', 'frustrat', 'readi', 'bela', 'jonathan', 'state', 'silent', 'scream', 'turtl', 'doll', 'usa', 'lawyer', 'caus', 'select', 'row', 'mission', 'miracul', 'lumet', 'hyster', 'bradi', 'princip', 'cheesi', 'seedi', 'unfunni', 'carter', 'raj', 'wannab', 'iran', 'ant', 'told', 'admit', 'follow', 'queen', 'redneck', 'punk', 'vignett', 'suspens', 'inevit', 'teas', 'kapoor', 'der', 'luci', 'lang', 'swallow', 'fanat', 'patrick', 'royal', 'rather', 'met', 'passion', 'refus', 'wave', 'spirit', 'touch', 'imit', 'launch', 'alter', 'warrior', 'breed', 'bright', 'sublim', 'alreadi', 'distant', 'relat', 'drown', 'furi', 'mislead', 'carradin', 'chri', 'requir', 'pg', 'german', 'trier', 'slice', 'fluid', 'rumor', 'ami', 'jami', 'tommi', 'fall', 'road', 'compass', 'actual', 'weird', 'achiev', 'apolog', 'sink', 'enlist', 'ironi', 'thirti', 'derek', 'atroc', 'chip', 'empti', 'antwon', 'prize', 'simultan', 'inde', 'race', 'bo', 'correctli', 'hyde', 'rare', 'nina', 'guest', 'shove', 'grief', 'lesli', 'axe', 'blah', 'deaf', 'coaster', 'symbol', 'internet', 'chines', 'seek', 'alli', 'virtual', 'deliv', 'kennedi', 'puzzl', 'car', 'academi', 'yesterday', 'multi', 'tell', 'support', 'everi', 'mail', 'perform', 'former', 'duo', 'arrest', 'shall', 'mini', 'drop', 'attitud', 'luxuri', 'slave', 'springer', 'jackson', 'jew', 'grow', 'reel', 'strike', 'oz', 'cabin', 'evolut', 'europa', 'load', 'guin', 'caricatur', 'action', 'everywher', 'deeper', 'irrelev', 'vastli', 'gandhi', 'bogu', 'merci', 'rick', 'pour', 'rubi', 'timothi', 'common', 'mystic', 'psychot', 'draw', 'garbag', 'vacat', 'summer', 'run', 'inept', 'mani', 'dad', 'paramount', 'improb', 'mexico', 'mccoy', 'focu', 'crimin', 'slaughter', 'cancer', 'battl', 'asset', 'revolt', 'guy', 'breast', 'street', 'ellen', 'butler', 'doo', 'alfr', '1989', 'spoil', 'guitar', 'difficult', 'meat', 'climb', 'com', 'routin', 'dig', 'homer', 'sell', 'illeg', 'fix', 'cinema', 'extens', 'glamor', 'seemingli', 'intrigu', 'dramat', 'dialog', 'collaps', 'alert', 'els', 'carpent', 'round', 'order', 'fantast', 'surviv', 'literari', 'success', 'believ', 'succe', 'biggest', 'confirm', 'masterpiec', 'real', 'rapidli', 'jar', 'disord', 'moron', 'return', 'mixtur', 'that', 'angel', 'pitt', 'amateur', 'excess', 'stake', 'rosario', 'lindsay', 'occup', 'mol', 'vocal', 'hype', 'frantic', 'amount', 'kansa', 'liber', 'comedi', 'dixon', 'much', 'ocean', 'psycho', 'darren', 'scientist', 'strongest', 'odd', '2008', 'descend', 'healthi', 'amus', 'immedi', 'matt', 'fan', 'keaton', 'make', 'aw', 'bleed', 'better', 'millionair', 'figur', 'cia', 'watcher', 'extra', 'appl', 'instrument', 'unexpect', 'earlier', 'assassin', 'depress', 'extend', 'carlito', 'intellectu', 'bar', 'coast', 'forward', 'talent', 'lane', 'rais', 'realism', 'parodi', 'spread', 'crow', 'purchas', 'stir', 'lose', 'instruct', 'brief', 'flick', 'walken', 'anger', 'liu', 'compani', 'thread', 'fruit', 'extent', 'outcom', 'critiqu', 'compris', 'sequel', 'chaplin', 'scandal', 'patricia', 'baddi', 'compromis', 'ill', 'bu', 'brooklyn', 'inclus', 'french', 'fred', 'advanc', 'h', 'nyc', 'bollywood', 'zane', 'shark', 'wow', 'town', 'list', 'insur', 'fuller', 'alongsid', 'atroci', 'andi', 'dose', 'meaningless', 'muppet', 'improvis', 'dandi', 'dead', 'help', 'soccer', 'ball', 'edgi', 'matrix', 'sissi', 'dedic', 'vain', 'jame', 'candl', 'stilt', 'incomprehens', 'sin', 'sammi', 'glorifi', 'level', 'dont', 'sand', 'though', 'underground', 'breakfast', 'blob', 'ace', 'profession', 'ban', '13', 'melodrama', 'judi', 'miscast', 'dilemma', 'gay', 'print', 'templ', 'em', 'lean', 'surgeri', 'men', 'monologu', 'show', 'hundr', 'angl', 'cagney', 'lord', 'featur', 'read', 'rock', 'wander', 'dude', 'disjoint', 'year', 'sadist', 'yearn', 'uncov', 'misfortun', 'peac', 'blend', 'hay', 'albeit', 'half', 'manipul', 'redund', 'aristocrat', 'notori', 'stunt', 'earli', 'recognit', 'becom', 'malon', 'applaud', 'scroog', 'sens', 'tag', 'dealt', 'simpl', 'standard', 'shed', 'eastwood', 'abandon', 'lewi', 'relationship', 'heaven', 'buck', 'worri', 'britain', 'photo', 'hulk', 'increas', 'intend', 'homeless', 'goe', 'mess', 'direct', 'actor', 'shirley', 'desir', 'laurel', 'sunni', 'centr', '1st', 'boxer', 'corbett', 'hackman', 'hart', 'navi', 'jazz', 'chain', 'research', 'stark', 'neck', 'addict', 'horrend', 'plu', 'pseudo', 'purpl', 'special', 'davi', 'sutherland', 'popul', 'echo', 'orang', 'carla', 'succeed', 'ralph', 'victori', 'shield', 'sometim', 'culmin', 'muslim', 'kubrick', 'pickford', 'rate', 'retriev', 'disturb', 'deliver', 'utter', 'uh', 'pepper', 'underli', 'credit', 'hollow', 'quit', 'game', 'realist', 'war', 'wang', 'ultra', 'foxx', 'among', 'stinker', 'might', 'sent', 'bikini', 'stop', 'heroin', 'superfici', 'manhattan', 'prequel', 'remain', 'worthless', 'pose', 'cassidi', 'abound', 'loretta', 'march', 'keen', 'bruce', 'nightmar', 'polit', '1988', 'sympath', '1983', 'disabl', 'alcohol', 'anybodi', 'vein', 'rough', 'bridg', 'pat', 'resolut', 'expedit', 'burn', 'minim', 'hotel', 'appreci', 'fatal', 'heal', 'godfath', 'invent', 'cell', 'knowledg', 'sinist', 'regret', 'minu', 'prove', 'theme', 'trip', 'appear', 'wise', 'acquaint', 'standout', 'marc', 'w', 'defens', 'concert', 'jacket', 'david', 'sitcom', 'shirt', 'stellar', 'brosnan', 'latest', 'sue', 'seen', 'dracula', 'previou', 'aid', 'luckili', '1999', 'weather', 'chronicl', 'underst', 'columbo', 'deni', 'bland', 'tax', 'thumb', 'farrel', 'femal', 'destin', 'regardless', 'victor', '60', 'thunderbird', 'q', 'liner', 'shout', 'jeff', 'somehow', 'graphic', 'less', 'weaker', 'paul', 'thoroughli', 'spain', 'shorter', 'viewpoint', 'thing', 'deliveri', 'pioneer', 'delv', '80', 'worker', 'religion', 'leonard', 'piano', 'flavor', 'bore', 'contribut', 'selfish', 'perspect', 'wide', 'heart', 'stair', 'madonna', 'toler', 'conserv', 'ladi', 'murphi', 'aesthet', 'twilight', 'australian', 'full', 'expens', 'shoe', 'accur', 'hip', 'concentr', 'conceiv', 'fido', 'truth', 'social', 'pleas', '3000', 'winter', 'mexican', 'incid', 'grave', 'evan', 'dancer', 'martha', 'santa', 'bubbl', 'cowboy', 'basic', 'gray', 'biographi', 'miser', 'flirt', 'triumph', '1970', 'inconsist', 'recommend', 'found', 'mode', 'genuin', 'propaganda', 'misguid', 'anywher', 'start', 'punch', 'decent', 'allow', 'hospit', 'forgotten', 'corni', 'fate', 'reput', 'instinct', 'inaccur', 'sight', 'sure', 'awak', 'tension', 'museum', 'resembl', 'bump', 'poorli', 'confus', 'prefer', 'onto', 'beneath', 'discern', 'twice', 'skill', 'sun', 'genet', 'husband', 'laughter', 'ordinari', 'fog', 'maria', 'fear', 'worm', 'gordon', '1980', 'context', 'donald', 'ms', 'elvi', 'wit', 'soderbergh', 'ho', 'julia', 'bike', 'mine', 'nevertheless', 'huh', 'clinic', 'sex', 'chees', 'effect', 'christma', 'flashback', 'explor', 'rambl', 'sing', 'tourist', 'bought', 'attorney', 'creek', 'peopl', 'hole', 'fest', 'vincent', 'maci', 'store', '2nd', 'societi', 'zizek', 'earn', 'goofi', 'petti', 'drunken', 'bean', 'whoever', 'narr', 'emma', 'edg', 'politician', 'signal', 'musician', 'art', 'onlin', '1996', 'ugli', 'frontal', 'heap', 'invas', 'often', 'timeless', 'cup', 'stab', 'revers', 'type', 'giant', 'compliment', 'effort', 'fill', 'sh', 'eleg', 'surpris', 'documentari', 'laughabl', 'inner', 'ancient', 'lion', 'machin', 'exactli', 'chosen', 'minor', 'wealth', 'cannon', 'solut', 'collector', 'sport', 'inspir', 'nation', 'alien', 'candi', 'charismat', 'ken', 'soul', 'saturday', 'disappoint', 'enter', 'spot', 'campaign', 'detail', 'predecessor', 'comedian', 'mr', 'survivor', 'mtv', 'meander', 'phone', 'wax', 'seri', 'jerk', 'bro', 'zombi', 'jewel', 'precis', 'calib', 'feet', 'identifi', 'includ', 'ultim', 'nazi', '90', 'mankind', 'strong', 'recreat', 'behaviour', 'consist', 'media', 'prank', 'shift', 'gem', 'persuad', 'exagger', 'subtleti', 'greg', 'tierney', 'degrad', 'tendenc', 'glenn', 'decid', 'disappear', 'bound', 'restor', 'spontan', 'europ', 'horror', 'reliabl', 'cardboard', 'basi', 'celluloid', 'consid', 'pleasantli', 'film', 'characterist', '2000', 'neg', 'rotten', 'closet', 'tenant', 'distinguish', 'record', 'serv', 'spiral', 'aborigin', 'lack', 'wish', 'moral', 'preced', 'dictat', 'base', 'russian', 'bother', 'propos', 'rope', 'crawl', 'third', 'client', 'bori', 'wheel', 'leap', 'absolut', 'washington', 'ha', 'size', 'agenc', 'driver', 'limit', 'flawless', 'underr', 'within', 'de', 'contradict', 'kidnap', 'zero', 'inflict', 'poetic', 'advic', 'famou', 'use', 'courag', 'emot', 'joy', 'nightclub', 'addit', 'memor', 'scott', 'loyal', 'disastr', 'vanc', 'nasti', 'tale', 'commerci', 'monti', 'sold', 'exist', 'enabl', 'household', 'tri', 'crook', 'multipl', 'gain', 'normal', 'pictur', 'treasur', 'hopkin', 'antonio', 'wing', 'monster', 'dentist', 'milo', 'parallel', 'thriller', 'quarter', 'luke', 'carol', 'bakshi', 'buster', 'emperor', 'devil', 'abraham', 'volum', 'sleepwalk', 'craig', 'vaniti', 'spit', 'saint', 'patriot', '1939', 'betray', 'unsettl', 'chase', 'legal', 'liberti', 'surpass', 'grown', 'molli', 'hack', 'ned', 'fighter', 'fulli', 'unseen', 'pin', 'berlin', 'bachelor', '7', 'episod', 'channel', 'topic', 'character', 'flame', 'sleep', 'cruis', 'polish', 'clear', 'camp', 'dream', 'unreal', 'enthusiast', 'dull', 'clone', '25', 'hero', 'turn', 'trait', 'dog', 'epitom', 'bobbi', 'howard', 'beatl', 'scar', 'plastic', 'write', 'ago', 'challeng', 'goer', 'wallac', 'passeng', 'carrey', 'typic', 'number', 'eight', 'walter', 'billi', 'gold', 'kazan', 'pauli', 'counter', 'unlik', 'ration', 'fresh', 'whoopi', 'pad', 'pride', 'peter', 'stole', 'gori', 'due', 'tediou', 'unexplain', 'atlanti', 'doc', 'preserv', 'ran', 'partner', 'ram', 'paradis', 'labor', 'think', 'redeem', 'wall', 'essenc', 'male', 'adventur', 'choic', 'absent', 'wreck', 'space', 'button', 'shi', 'pervert', 'recogn', '1950', 'handl', 'forc', 'craven', 'boom', 'glass', 'fight', 'forev', 'highlight', 'consciou', 'settl', 'entitl', 'cage', 'crystal', 'rampag', 'gruesom', 'convey', 'argument', 'replac', 'bold', 'particularli', 'bath', 'devoid', 'nineti', 'reluct', 'howl', 'slow', 'dive', 'alicia', 'judg', 'simpli', 'andr', 'agre', 'outright', 'profit', 'drivel', 'accident', 'sappi', 'harrison', 'duti', 'sophi', 'pick', 'attach', 'abort', 'boot', 'rental', 'univers', 'smaller', 'critic', 'dimension', 'renaiss', 'quaid', 'bounc', 'sailor', 'rent', 'whole', 'parad', 'realli', 'travesti', 'slimi', 'deep', 'dorothi', 'joke', 'end', 'assist', 'plagu', 'polanski', 'stallon', 'antonioni', 'sentenc', 'straight', 'mesmer', 'dirt', 'shown', 'fire', 'spent', 'card', 'insert', 'ballet', 'contrast', 'kitchen', 'ish', 'rob', 'sergeant', 'perfectli', 'catchi', 'sunshin', 'v', 'system', 'emphasi', 'wherea', 'japanes', 'shine', 'macabr', 'closer', 'decis', 'audit', 'mean', 'heel', 'near', 'soundtrack', 'left', 'presenc', 'offic', 'control', 'other', 'emphas', 'foot', '19th', 'fishburn', 'team', 'life', 'complet', 'continu', 'policeman', 'sibl', 'hesit', 'describ', 'bug', 'ustinov', 'tend', 'mob', 'induc', 'ear', 'harold', 'daniel', 'prepar', 'kid', 'silenc', 'milk', 'predat', 'myth', 'dismiss', 'sweet', 'supposedli', 'defin', 'drove', 'code', 'dement', 'admir', 'rabbit', 'hum', 'quinn', 'geniu', 'outdat', 'metaphor', 'angela', 'niro', 'work', 'needless', 'marti', 'dim', 'drum', 'whine', 'brain', 'provid', 'vh', 'texa', 'trauma', 'tast', 'behold', 'borrow', 'wildli', 'blind', 'mitch', 'mood', 'nephew', 'cabl', 'jade', 'choppi', 'event', 'soviet', 'disregard', 'kevin', 'abysm', 'treat', 'funnier', 'crew', 'stack', 'must', '11', 'eat', 'rain', 'call', 'bow', 'strain', 'interest', 'jimmi', 'racial', 'cap', 'proceed', 'quot', 'eccentr', 'spin', 'hapless', 'nois', 'lee', 'bargain', 'announc', 'obnoxi', 'independ', 'everyon', 'anyon', 'busi', 'bleak', 'carel', 'roll', 'uninterest', 'influenc', 'gift', 'let', 'enchant', 'snow', 'cemeteri', 'star', 'dee', 'budget', 'automat', 'zone', 'bit', 'jaw', 'knightley', 'mum', 'place', 'prophet', 'pot', 'casper', 'boyer', 'greed', 'traffic', 'account', 'squad', 'subplot', 'elsewher', 'miik', 'compel', 'sketch', 'unattract', 'notic', 'centuri', 'martial', 'alan', 'guid', 'primari', 'porn', 'dear', 'be', 'reflect', 'sinatra', 'mobster', 'tasteless', 'visibl', 'z', '19', 'legitim', 'combin', 'knife', 'gate', 'dynam', 'bunni', 'darn', 'frog', 'leigh', 'freedom', 'fun', 'pitch', 'lousi', 'neighbor', 'mysteri', 'variou', 'habit', 'confin', 'itali', 'amateurish', 'weight', 'heavili', 'stink', 'outing', 'court', 'suddenli', 'rot', 'excel', 'banal', 'rank', 'implaus', 'fallen', 'jim', 'mall', 'next', 'chuck', 'capit', 'ye', 'etc', 'train', 'intern', 'sincer', 'isabel', 'hard', 'far', 'shortli', 'eddi', 'pleasant', 'necessari', 'screw', 'moor', '1995', 'charlton', 'craze', 'introduc', 'john', 'albert', 'way', 'shatter', 'favor', 'peck', 'ritter', 'slide', 'grab', 'beverli', 'movement', 'bat', 'reminisc', 'un', 'vote', 'older', 'desert', 'written', 'michel', 'initi', 'evid', 'campbel', 'women', 'strip', 'yawn', 'germani', 'runner', 'indulg', 'bett', 'oil', 'mirror', 'eas', 'leather', 'suprem', 'underneath', 'orlean', 'circu', 'loos', 'bias', 'unforgett', 'horrid', 'deserv', 'ensur', 'boast', 'pursuit', 'familiar', 'toni', 'emili', 'kept', 'daughter', 'slightli', 'forgiven', 'reserv', 'primarili', 'mild', 'english', 'burst', 'ray', 'meal', 'poison', 'stream', 'partli', 'proport', 'rehash', 'goof', 'duel', 'brian', 'central', 'quest', 'che', 'display', 'ice', 'insult', 'eventu', 'comb', 'crown', 'sky', 'statement', 'basketbal', 'castl', 'curios', 'secondli', 'reject', 'thin', 'preming', 'absorb', 'beatti', 'okay', 'urban', 'expos', 'frankli', 'gina', 'louis', 'jennif', 'candid', 'grandmoth', 'function', 'christoph', 'behind', 'amor', 'poe', 'eaten', 'timberlak', 'daili', 'unbeliev', 'afford', 'ok', 'citizen', 'oblig', 'technicolor', 'convolut', 'profan', 'decapit', 'undoubtedli', 'mitchel', 'archiv', 'indiffer', 'karen', 'frontier', 'nail', 'ramon', 'clark', 'charisma', 'fanci', '2002', 'butt', 'stalk', 'vomit', 'violent', 'smell', 'bait', 'eighti', 'smile', 'acquir', 'fair', 'popcorn', 'open', 'dinner', 'jewish', 'revolut', 'easier', 'uninspir', 'gregori', 'boredom', 'somebodi', 'jessica', 'junk', 'pretens', 'press', 'cain', 'widmark', 'akin', 'holiday', 'point', 'aris', 'instant', 'ford', 'resum', 'rubber', 'robin', 'melodramat', 'russel', 'sucker', 'whatsoev', 'territori', 'contempl', 'cinematographi', 'upon', 'turkey', 'assur', 'bull', 'relax', 'persona', 'kate', 'nude', 'golden', 'hurt', 'warmth', 'inmat', 'confront', 'heist', 'et', 'tune', 'bust', 'spooki', 'instal', 'oscar', 'rachel', 'frequent', 'bumbl', 'synopsi', 'carri', '1993', 'dozen', 'k', 'goldberg', 'search', 'discuss', '1945', 'vampir', 'mildr', 'appropri', 'promis', 'sensual', 'grinch', 'reviv', 'build', 'advertis', 'coloni', 'parson', 'enthral', 'j', 'debt', 'stalker', '14', 'seven', 'larger', 'fx', 'deniro', 'line', 'convent', 'romant', 'american', 'upset', 'jane', 'virtu', 'perman', 'declin', 'capot', 'vega', 'fay', 'instantli', 'altman', 'camera', 'gang', 'church', 'love', 'suppli', 'amaz', 'potter', 'novel', 'knew', 'stuck', 'copi', 'famili', 'la', 'fine', 'rout', 'owen', 'element', 'chair', 'wick', 'anna', 'matter', '1990', 'moon', 'dirti', 'paper', 'director', 'steve', 'jess', 'rehears', 'pixar', 'overdon', 'club', 'union', 'ident', 'bullet', 'fast', 'meet', 'akshay', 'cheap', 'hear', 'vulgar', 'hepburn', 'recruit', 'racism', 'citi', 'uncl', 'canadian', 'miami', 'provoc', 'lucil', 'falk', 'trick', 'day', 'wipe', 'structur', 'everybodi', 'tragic', 'ingeni', 'ingredi', 'bet', 'tradit', 'affleck', 'lowest', 'innoc', 'keith', 'solid', 'alway', 'rhyme', 'terrifi', 'virgin', 'deed', '000', 'strive', 'valuabl', 'traumat', 'bomb', 'linear', 'station', 'sourc', 'cheek', 'bourn', 'brought', 'argu', 'cool', 'firm', 'temper', 'nowher', 'genr', 'philip', 'hey', 'crocodil', 'radic', 'treatment', 'rival', 'craft', 'sick', 'turner', 'crash', 'hidden', 'holi', 'remak', 'recal', 'irish', 'avail', 'festiv', 'robinson', 'conscious', 'le', 'fever', 'campi', 'planet', 'rid', 'relief', 'product', 'wash', 'einstein', 'hippi', 'equal', 'split', 'class', 'monkey', 'shoddi', 'revel', 'trio', 'thru', 'mortal', 'wolf', 'kurt', 'chanc', 'lex', 'person', 'weakest', 'bravo', 'paint', 'reynold', 'degre', 'quiet', 'desper', 'reveal', 'sidekick', 'document', 'linda', 'downey', 'nativ', 'taylor', 'stupid', 'convinc', 'horribl', 'doctor', 'lake', 'shoot', 'pain', 'sister', 'celebr', 'biblic', 'paxton', 'favourit', 'u', 'visit', '2001', 'henri', 'proclaim', 'ahead', 'st', 'earl', 'jon', 'spock', 'roth', 'rocki', 'cuba', 'han', 'regard', 'convers', 'marshal', 'updat', 'add', 'imageri', 'gasp', 'warrant', 'mclaglen', 'andrew', 'dudley', 'summar', 'wwii', 'intim', 'neo', 'boston', 'count', 'chew', 'mermaid', 'shepherd', 'surf', 'vibrant', 'pure', 'simpson', 'organ', 'pack', 'qualifi', 'uncut', 'trademark', 'groan', 'clad', 'worship', 'littl', 'employ', 'welcom', 'analyz', 'phenomenon', 'bay', 'mute', 'sea', 'religi', 'ass', 'websit', 'jealou', 'region', 'substitut', 'romero', 'occur', 'sassi', 'cruel', 'obsess', 'leon', 'dress', 'betti', 'brando', 'trail', 'cliff', 'rest', 'lot', 'bowl', 'gross', 'linger', 'detach', 'weav', 'cant', 'trailer', 'jenni', 'realiti', 'pant', 'soldier', 'lead', 'uma', 'pronounc', 'sorrow', 'score', 'relev', 'address', 'spoof', 'shop', 'surround', 'bewar', 'breathtak', 'brit', 'terror', 'roy', 'armi', 'mad', 'infam', 'faint', 'tire', 'children', 'appli', 'saw', 'rambo', 'mickey', '24', 'pretenti', 'shanghai', 'troop', 'edgar', 'foil', 'estrang', 'salli', 'toss', 'stan', 'ruthless', 'nuclear', 'fuel', 'indic', 'tom', 'marvel', 'miracl', '100', 'await', 'quietli', 'mafia', 'sheer', 'hokey', 'fart', 'simmon', 'woo', 'process', 'entir', 'eye', 'mark', 'suggest', 'particip', 'crisi', 'nerd', 'dare', 'romp', 'clara', 'recit', 'commun', 'francisco', 'eugen', 'burt', 'ticket', 'curti', 'imagin', 'qualiti', 'maggi', 'clever', 'robberi', 'correct', 'philosoph', 'verhoeven', 'swim', 'corpor', 'net', 'snl', 'wisdom', 'reson', 'gone', 'absenc', 'chicken', 'forget', 'technic', 'deal', 'sidewalk', 'uk', 'palac', 'flashi', 'tack', 'damon', 'scarfac', 'khan', 'asian', 'obviou', '99', 'shock', 'servant', 'broadway', '0', 'yellow', 'sooner', 'maintain', 'messi', 'graham', 'vehicl', 'appeal', 'pamela', 'basket', 'bread', 'video', 'interact', 'stargat', 'never', 'close', 'say', 'exot', 'whilst', 'coup', 'struggl', 'nathan', 'lure', 'grace', 'damn', 'rome', 'fright', 'segment', 'deepli', 'doom', 'overal', 'buy', '2005', 'crap', 'steer', 'power', 'bergman', 'command', 'blackmail', 'favorit', 'emerg', 'uniform', 'fare', 'meant', 'stranger', 'nice', 'illustr', 'superbl', 'im', 'mill', 'check', 'choreographi', 'cri', 'stephen', 'sneak', 'puppet', 'bibl', 'antic', 'gimmick', 'kenneth', 'godzilla', 'biko', 'pit', 'tie', 'barrel', 'said', 'cole', 'whose', 'ought', 'conspiraci', 'lengthi', 'poem', 'accompani', 'boil', 'affect', 'athlet', 'group', 'member', 'higher', 'arrow', 'philosophi', 'assign', 'phenomen', 'definit', 'funniest', 'giggl', 'king', 'mock', 'intellig', 'threaten', 'olli', 'melissa', 'subject', 'energet', 'georg', 'avoid', 'mayb', 'kind', 'pattern', 'garden', 'fetch', 'box', 'exposur', 'fought', 'pace', 'fluff', 'blew', 'enemi', 'stay', 'watchabl', 'glover', 'arab', 'belong', 'florida', 'california', 'frank', 'anyth', 'poor', 'thoma', 'clair', 'cohen', 'plan', 'gene', 'devic', 'bonu', 'credibl', 'glow', 'visitor', 'grin', 'captain', 'uncomfort', 'juli', 'seller', 'casual', 'home', 'underworld', 'report', 'rave', 'rise', 'water', 'lavish', 'spare', 'accord', 'jill', 'proce', 'everyday', 'understood', 'extrem', 'cultur', 'filth', 'cheat', 'sandra', 'assort', 'unfair', 'shakespear', 'clerk', 'alley', 'enthusiasm', 'arrog', 'aussi', 'tackl', 'teen', 'superior', 'trigger', 'despic', 'good', 'enterpris', 'maker', 'johnson', 'similar', '20th', 'insight', 'fragil', 'grade', 'board', 'parti', 'anticip', 'mere', 'wendi', 'sacrific', 'sceneri', 'spring', 'giallo', 'seduct', 'norman', 'uneven', 'delet', 'beyond', 'worthi', 'kumar', 'safe', 'surprisingli', 'assum', 'produc', 'hate', 'secondari', 'recycl', 'circl', 'lili', 'mobil', 'portray', 'bill', 'built', 'sake', 'peak', 'resort', 'singer', 'cox', 'pierc', 'businessman', 'superhero', 'thank', 'poke', 'digniti', 'wretch', 'realm', 'spine', 'minimum', 'song', 'prime', 'nobodi', 'vital', 'stock', 'cloth', 'futur', 'fontain', 'overcom', 'mike', 'defi', 'honest', 'torment', 'backward', 'ton', '2004', 'newspap', 'spi', 'lucki', 'divorc', 'across', 'mate', 'redempt', 'corner', 'aggress', 'plod', 'consider', 'screenplay', 'pari', 'vision', 'unpredict', 'endless', 'electr', 'aforement', 'aliv', 'debut', 'chang', 'dvd', 'faster', 'venom', 'transcend', 'africa', 'iraq', 'detect', 'salman', 'music', 'trek', 'ham', 'bye', 'dash', 'thrown', 'folk', 'got', 'impli', 'sit', 'dimens', 'icon', 'tarantino', 'complex', 'around', 'fals', 'face', 'meaning', 'whenev', 'traci', 'oh', 'lemmon', 'helicopt', 'motiv', 'patient', 'tough', 'likabl', 'captur', 'austen', 'unbear', 'romanc', 'tribe', 'hardi', 'cinemat', 'palm', 'inher', 'highway', 'nolt', 'nut', 'backdrop', 'uwe', 'understand', 'valley', 'sirk', 'femm', 'da', 'skip', 'blank', 'stiller', '1976', 'late', 'strand', 'chuckl', '1969', 'eva', 'transit', 'thug', 'creat', 'conflict', 'along', 'talki', 'william', 'shoulder', 'metal', 'commit', 'comed', 'cake', 'youngest', 'fact', 'blown', 'obtain', 'ii', 'ethan', 'bastard', '1933', 'gotta', 'contain', 'jerri', 'perfect', 'formula', 'still', 'meg', 'inspector', 'fat', 'era', 'distinct', 'recov', 'asylum', 'grotesqu', 'profound', 'prey', 'co', 'attempt', 'without', 'fli', 'find', 'crime', 'remot', 'beaten', 'sweep', 'answer', 'remad', 'oliv', 'piec', 'overr', 'testament', 'climax', 'broke', 'schlock', 'fianc', 'strictli', 'cartoon', 'nuanc', 'glori', 'abund', 'retard', 'timon', 'holocaust', 'domest', 'seat', 'coincid', 'weekend', 'self', 'dian', 'splendid', 'ritchi', 'trash', 'dire', 'holli', 'deer', 'gun', 'posey', 'lugosi', 'jean', 'adolesc', 'white', 'suit', 'geek', 'gather', 'shape', 'access', 'happen', 'taught', 'franchis', 'canada', 'childish', 'spray', 'anderson', 'chief', 'gratuit', 'shaki', 'orphan', '22', 'offend', 'fascist', 'nomin', 'braveheart', 'bitten', 'discov', 'lesson', 'storylin', 'green', 'categori', 'sullivan', 'clumsi', 'marriag', 'supernatur', 'winchest', 'forbidden', 'map', 'mytholog', 'clueless', 'gradual', 'connect', 'danish', 'secret', 'glanc', 'master', 'deriv', 'dwarf', 'associ', 'gap', 'neither', 'baffl', 'fleet', 'two', 'skin', 'cancel', 'promin', '18', 'bad', 'born', 'plenti', 'opportun', 'squar', 'market', 'behav', 'murder', 'er', 'bring', 'egg', 'heat', 'signific', 'pointless', 'rescu', 'jacki', 'three', 'glimps', 'comment', 'lena', 'pay', '1987', 'factori', 'belli', 'newcom', 'drone', 'angst', 'flock', 'pass', 'departur', '1973', 'fake', 'like', 'overli', 'hbo', 'nose', 'came', 'orson', 'patienc', 'epic', 'artsi', 'dub', 'inexplic', 'ever', 'landscap', 'princ', 'steal', 'match', 'tunnel', 'penni', 'thousand', 'share', 'threat', 'jedi', 'macho', 'subtli', 'ritual', 'presid', 'boyl', 'hot', 'spike', 'mistak', 'freez', 'stori', 'scene', 'fabul', 'encount', 'cattl', 'shallow', 'dick', 'idea', 'ashley', 'hamilton', 'stronger', 'naschi', 'glad', 'charli', 'lust', 'promot', 'subsequ', 'lui', 'alleg', 'south', 'simplist', 'mention', 'oper', 'con', 'utterli', '3d', 'rear', 'ninja', 'authent', 'din', 'walt', 'perhap', 'phrase', 'get', 'lover', 'hudson', 'cannot', 'corps', 'cure', 'old', 'pull', 'law', 'loneli', 'unwatch', 'journey', 'lauren', 'storytel', 'drag', 'coach', 'ireland', 'bsg', 'foreign', 'rifl', 'globe', '16', 'thief', 'circumst', 'spend', 'tara', 'outsid', 'hous', 'miller', 'jet', 'chainsaw', 'helm', 'matthau', 'jack', '30', 'obvious', 'medium', 'rooney', 'bone', 'imdb', 'senseless', 'clich', 'speed', 'moe', 'sensibl', 'articl', 'kathryn', 'programm', 'youth', 'panic', 'big', 'loser', 'olivi', 'especi', 'christ', 'deceas', 'hop', 'shootout', 'owner', 'dawn', 'gari', 'defend', 'concept', 'mighti', 'teenag', 'friend', 'franco', 'mind', 'montana', 'declar', 'oppon', 'erot', 'dislik', 'creativ', 'sexi', 'sat', 'l', 'hold', 'shell', 'delight', 'lincoln', 'jule', '1940', 'countri', 'flat', 'creatur', 'pulp', '1997', 'advantag', 'protagonist', 'isol', 'hell', 'rendit', 'wwe', 'suffer', 'drunk', 'stanwyck', '4', 'edi', 'obligatori', 'scariest', 'vet', 'televis', 'gore', 'exhibit', 'phoni', 'boob', 'block', 'histori', 'diamond', 'witch', 'observ', 'obstacl', 'win', 'vanessa', 'stanley', 'cloud', 'uniformli', 'lost', 'refresh', 'hit', 'lush', 'room', 'insipid', 'devot', 'invad', 'buddi', 'roller', 'edward', 'bacal', 'institut', 'sunday', 'could', 'undeni', 'price', 'ian', 'exquisit', 'sharon', 'even', 'spectacl', 'session', 'scottish', 'weak', 'question', 'cher', 'stretch', 'own', 'gave', 'disast', 'roommat', 'poster', 'play', 'wilder', 'blame', 'flip', 'scoop', 'dana', 'risk', 'latin', 'senat', 'varieti', 'warm', 'amazingli', 'humor', 'clau', 'feminist', 'wacki', 'sharp', 'pathet', 'grip', 'super', 'drawn', 'proof', 'begin', 'repris', 'intens', 'voight', 'accomplish', 'particular', 'merit', 'core', 'flair', 'pete', 'verbal', 'psychic', 'crucial', 'anoth', 'san', 'duke', 'crippl', 'likewis', 'gut', 'lo', 'calm', 'custom', 'r', '1978', 'vengeanc', 'priceless', 'iv', 'cousin', 'enjoy', 'jump', 'tongu', 'wardrob', 'everyth', 'cast', 'delic', 'contemporari', 'equip', 'vast', 'wholli', 'want', 'conveni', 'oppress', 'chamberlain', 'stylish', 'medic', 'easi', 'pretti', 'militari', 'semi', 'babi', 'america', 'respect', 'speak', 'awaken', 'dud', 'reid', 'coat', 'glare', 'buffalo', 'historian', 'newman', 'steadi', 'elit', 'door', 'bang', 'gentl', 'paranoia', 'ginger', 'nostalgia', 'theatric', 'dismal', 'privat', 'cost', 'overlong', 'acknowledg', 'tokyo', 'cusack', 'lone', 'scriptwrit', 'forth', '1986', 'nolan', 'million', 'walk', 'screen', 'dump', 'pen', 'demand', 'dougla', 'vari', 'respons', 'compet', 'lit', 'destruct', 'task', 'robert', 'adapt', 'twenti', 'cooki', 'baker', 'low', 'disagre', 'carl', 'attack', 'properli', 'unknown', 'lurk', 'grew', 'scorses', 'fu', 'scenario', 'hypnot', 'ranger', 'unsatisfi', 'holm', 'bake', 'prostitut', 'galaxi', 'hackney', 'roman', 'coupl', 'pool', 'dylan', 'scarecrow', 'examin', '00', 'banana', 'quirki', 'abomin', 'text', 'crappi', 'join', 'took', 'wear', 'simon', 'park', 'shame', 'thrill', 'inan', 'lou', 'wake', 'convincingli', 'reev', 'anthoni', 'poverti', 'lol', 'e', 'deem', 'butcher', 'competit', 'afterward', 'nake', 'fellow', 'theatr', 'hopeless', '1994', '95', '50', 'confess', 'honor', 'tree', 'protest', 'younger', 'give', 'individu', 'michael', 'foul', 'string', 'fond', 'claud', 'widescreen', 'england', 'suicid', 'neat', 'free', 'pun', 'carmen', 'divers', 'el', 'right', 'tragedi', 'accept', 'almost', '5', 'acid', 'breath', 'broad', '1985', 'gere', 'pilot', 'fault', 'sox', 'kurosawa', 'dreari', 'voic', 'cash', 'distress', 'skeptic', 'determin', 'gunga', 'narrat', 'cat', 'charact', 'theater', 'loi', 'tame', 'maniac', 'tick', 'anni', 'importantli', 'tomorrow', 'hood', 'preachi', 'wrestl', 'short', 'hank', 'martian', 'invis', 'suspicion', 'grey', 'retir', 'explod', 'happili', 'stone', 'none', 'hostil', 'insid', 'wealthi', 'will', 'nobl', 'sudden', 'offici', 'peer', 'reed', 'receiv', 'richardson', 'reunion', 'exampl', 'brilliant', 'denzel', 'hallucin', '1981', 'ebert', 'pan', 'screenwrit', 'pressur', 'track', 'consequ', 'layer', 'wilson', 'afternoon', 'benefit', 'alexandr', 'overact', 'scare', 'alex', 'percept', 'cameo', 'brave', 'trust', 'schedul', 'franki', 'affair', 'tear', 'arrang', 'instanc', 'dean', 'entri', 'center', 'ensu', 'elabor', 'kitti', 'soap', 'london', 'hartley', 'blow', 'drama', 'would', 'depend', 'kong', 'offens', 'repeat', 'villag', 'ann', 'bigger', 'slapstick', 'vanish', 'fantasi', 'rage', 'engross', 'sever', 'collabor', 'jo', 'hunt', 'immigr', 'health', 'graduat', 'cut', '20', 'indian', 'reign', 'front', 'resist', 'superb', 'attent', 'gothic', 'styliz', 'studio', 'ladder', 'crack', 'jeremi', 'info', 'dollar', 'awar', 'leg', 'mst3k', 'pal', 'repress', 'go', 'crawford', 'estat', 'physic', 'endur', 'palanc', 'closest', 'strongli', 'perpetu', 'robber', 'mask', 'sidney', 'random', 'taken', 'object', 'destroy', 'stiff', 'jake', 'childhood', 'perri', 'ga', 'funer', 'x', 'mass', 'laugh', 'joel', 'matthew', 'bin', 'injuri', 'what', 'trial', 'leav', 'regist', 'outrag', 'discoveri', 'design', 'struck', 'alic', 'minist', 'angri', 'attribut', '3rd', 'embrac', 'approv', 'christian', 'cypher', 'bob', 'psych', 'suspect', 'prior', 'gilliam', 'factor', 'heston', 'junior', 'admittedli', 'waitress', 'passabl', 'variat', 'pre', 'human', 'mile', 'fisher', 'poetri', 'rape', 'unnecessari', 'numb', 'seldom', 'feel', 'vagu', 'unravel', 'von', 'perceiv', 'plain', 'background', 'outlaw', 'inappropri', 'downhil', 'distanc', 'gritti', 'lloyd', 'last', 'refer', 'menac', 'swing', 'oddli', 'toe', 'miniseri', 'loath', 'popular', 'secretli', 'father', 'spinal', 'pervers', 'target', 'korean', 'unsuspect', 'engag', 'strength', 'potenti', 'unexpectedli', 'interrupt', 'straightforward', 'express', 'truli', 'salt', 'ground', 'nicola', 'invest', 'world', 'fox', 'submit', 'pro', 'interior', 'contract', 'memori', 'crude', 'woodi', 'knight', 'championship', 'optimist', 'mildli', 'kiss', 'bite', 'miyazaki', 'chick', 'clan', 'wayn', 'judgment', 'victoria', 'money', 'polici', 'tad', 'meryl', 'loui', 'palma', 'awesom', 'gilbert', 'gorgeou', 'randi', 'worst', 'g', 'paus', 'experiment', 'reach', 'total', 'nod', 'bed', 'bitch', 'destini', 'muddl', 'recent', 'cliffhang', 'step', 'boll', 'cigarett', 'fri', 'masterson', 'man', 'nearbi', 'coffe', 'rider', 'purpos', 'mar', 'reli', 'greater', 'massiv', 'rural', 'cover', 'afraid', 'elm', 'companion', 'harmless', 'magic', 'attend', 'unless', 'decor', 'averag', 'hair', 'robot', 'done', 'part', 'incoher', 'badli', 'test', 'middl', 'fundament', 'astonish', 'tyler', 'wtf', 'slip', 'baldwin', 'girl', 'trilog', 'curiou', 'charl', 'key', 'creator', 'mummi', 'friendli', 'ludicr', 'highest', 'tacki', 'time', 'tool', 'reduc', 'reaction', 'drake', 'soprano', 'watch', 'fulfil', 'ridicul', 'catherin', 'twist', 'curtain', 'luka', 'plot', 'steel', 'humour', 'roar', 'minut', 'great', 'wooden', 'indi', 'tini', 'quick', 'modesti', 'devast', 'cynic', 'sympathet', 'randolph', 'tender', 'edit', 'dalton', 'suitabl', 'arnold', 'russia', 'movi', 'fashion', 'crush', 'hollywood', 'mundan', 'invit', 'sale', 'babe', 'sensat', 'guilti', 'seal', 'north', 'cop', 'job', 'form', 'accid', 'imposs', 'scope', 'cari', 'brillianc', 'naiv', 'nine', '1', 'demon', 'cush', 'canyon', 'current', 'wont', 'view', 'boss', 'tribut', 'thompson', 'mon', 'lock', 'drug', 'packag', 'taboo', 'height', 'chemistri', 'explos', 'choos', 'sicken', 'wrap', 'unimagin', 'rod', 'drip', 'embark', 'lab', 'unfold', 'pig', 'tour', 'held', 'coher', 'fed', 'lighter', '1991', 'trade', 'fish', 'bag', 'delici', 'adequ', 'monument', 'establish', 'toilet', 'paid', 'ape', 'expect', 'camcord', 'shaw', 'cameron', 'ambigu', 'funni', '1972', 'heavi', 'martin', 'yard', 'plant', 'tooth', 'liter', 'logan', 'issu', 'termin', 'snatch', 'frame', 'gillian', 'exposit', 'heroic', 'somewher', 'post', 'ador', 'ridden', 'banter', 'hunter', '8', 'elvira', 'lame', 'contrari', 'occas', 'sensit', 'differ', 'worn', 'tail', 'african', 'anyway', 'septemb', 'chill', 'vice', 'knock', 'ruin', 'shelf', 'forgot', 'award', 'hour', 'drain', 'shadow', 'swept', 'york', 'switch', 'melodi', 'dan', 'sequenc', 'feast', 'host', 'julian', 'fail', 'situat', 'satisfi', 'feminin', 'hawk', 'began', 'heck', 'suffici', 'henc', 'snake', 'shot', 'sixti', 'relentless', 'ingrid', 'danger', 'broadcast', 'uniqu', 'flesh', 'anim', 'interpret', 'unrel', 'tiresom', 'render', 'abil', 'buzz', 'wood', 'sub', 'disney', 'lazi', 'hide', 'mutant', 'empir', 'senior', 'wet', 'sore', 'investig', 'paula', 'foolish', 'futurist', 'mcqueen', 'week', 'mutual', 'dread', 'fist', 'mistress', 'captiv', 'lectur', 'frankenstein', 'graini', 'translat', 'window', 'concern', 'ship', 'hilari', 'long', 'behavior', 'inferior', 'sustain', 'take', 'sheet', 'remov', 'c', 'we', 'www', 'replay', 'financi', 'spoke', 'represent', 'homag', 'react', 'exclus', 'titan', 'essenti', 'unit', 'corn', 'corman', 'prais', 'branagh', 'psychiatrist', 'thu', 'dutch', 'repli', 'rich', 'warren', 'alison', 'audienc', 'brook', 'educ', 'distort', 'audio', 'carlo', 'hooker', 'season', 'head', 'upper', 'appal', 'morn', 'neighborhood', 'goal', 'yeah', 'spoiler', 'scratch', 'toy', 'driven', 'divin', 'composit', 'slug', 'newli', 'huston', 'wors', 'tea', 'marion', 'teacher', 'savag', 'final', 'china', 'jungl', 'exhaust', 'techniqu', 'doubt', 'sam', 'conduct', 'site', 'evok', 'unpleas', 'mormon', 'tiger', 'trivia', 'johnni', 'agenda', 'non', 'spacey', 'aspect', 'joey', 'cassavet', 'watson', 'ethnic', 'repuls', 'alec', 'resurrect', 'eastern', 'rememb', 'drink', 'anymor', 'rebel', 'lay', 'pacif', 'known', 'horrif', 'dialogu', 'razor', 'impact', 'immens', 'midnight', 'dubiou', 'sexual', 'cyborg', 'elderli', 'clean', '10', 'charg', 'predict', 'terrif', 'soft', 'truman', 'staff', 'min', 'commend', 'nonsens', 'viciou', 'newer', 'earnest', 'sophist', 'depth', 'wanna', 'spielberg', 'matur', 'mayhem', 'sacrif', 'dust', 'neill', 'unawar', 'ask', 'grayson', 'scari', 'defeat', 'etern', 'gadget', 'embarrass', 'finish', 'format', 'morgan', 'kick', 'darker', 'poker', 'eleven', '1974', 'clint', 'spanish', 'undertak', 'eeri', 'pile', 'neurot', 'outstand', 'immort', 'duck', 'kelli', 'ron', 'rip', 'put', 'daddi', 'versu', 'countless', 'intent', 'away', 'preposter', 'harder', 'spade', 'humili', 'ross', 'helen', 'en', 'natur', 'disbelief', 'satir', 'smooth', 'cinematograph', 'twelv', 'magician', 'tank', 'slight', 'stumbl', 'shake', 'jail', 'clock', '1971', 'easili', 'lower', 'learn', 'jare', 'radiat', 'tape', 'length', 'wife', 'suspici', 'cape', 'wed', 'justic', 'boy', 'tremend', 'drift', 'splatter', 'forgett', 'claim', 'fame', 'franc', 'bash', 'expert', 'piti', 'storm', 'phil', 'franci', 'hire', 'shelley', 'plane', 'river', 'school', 'li', 'kent', 'missil', 'jan', 'illus', 'bacon', 'fifth', 'gear', 'cruelti', 'resolv', 'mechan', 'justifi', 'guilt', 'rosemari', 'talk', 'virginia', 'fascin', 'norm', 'bent', 'hopelessli', 'bitter', 'doubl', 'flop', 'eve', 'employe', 'surreal', 'noir', 'constantli', 'killer', 'either', 'land', 'went', 'premis', 'outer', 'agent', 'miseri', 'biker', 'befriend', 'high', 'industri', 'rukh', 'pink', 'suppos', 'june', 'alon', 'fourth', 'user', 'valu', 'nun', 'urg', 'charm', 'marri', 'belov', 'slam', 'tight', 'attract', 'meanwhil', 'frighten', 'orient', 'preview', 'spoken', 'gotten', 'light', 'veteran', 'realis', 'hong', 'kane', 'favour', 'therefor', 'jay', 'vader', 'transplant', 'firstli', 'nonetheless', 'look', 'blatant', 'caught', 'cerebr', 'alexand', 'murray', 'alvin', 'kingdom', 'bare', 'arthur', 'ambit', 'bondag', 'cleverli', 'eleph', 'ariel', 'clown', 'dinosaur', 'heartbreak', 'rapist', 'hardli', 'stimul', 'nostalg', 'gabl', 'cecil', 'specif', 'manner', 'care', 'sympathi', 'chan', 'viru', 'damm', 'stick', 'richard', 'lynch', 'pie', 'sabrina', 'trend', 'lampoon', 'valentin', 'feed', 'spree', 'evelyn', 'facil', 'gestur', 'jam', 'kill', 'reveng', 'forti', 'wound', 'homicid', 'tarzan', 'corrupt', 'public', 'christin', 'gener', 'bride', 'antagonist', 'flee', 'listen', 'beard', 'pet', 'dispos', 'bush', 'pc', 'lundgren', 'hostag', 'rita', 'ceremoni', 'red', 'fairli', 'entertain', 'felix', 'ben', 'plate', 'contempt', 'hitchcock', 'connor', 'omen', 'worthwhil', 'inform', 'laid', 'lacklust', 'arriv', 'scoobi', 'wore', 'cave', 'tripl', 'blake', 'iii', 'monoton', 'contriv', 'smart', 'tone', 'elimin', 'swear', 'haunt', 'motorcycl', 'harsh', 'analysi', 'nuditi', 'econom', 'pray', 'streisand', 'rose', 'phillip', 'nemesi', 'dane', 'miss', 'nelson', 'cue', 'disgrac', 'sid', 'esther', 'colonel', 'mgm', 'mainli', 'interestingli', 'player', 'al', 'trap', 'aunt', 'journalist', 'exterior', 'nicol', 'spectacular', 'natali', 'hint', 'sweat', 'unleash', 'cgi', 'astound', 'hoffman', 'birth', 'posit', 'constitut', 'prejudic', 'smash', 'verg', 'basing', 'winner', 'vulner', 'convict', 'wizard', 'proud', 'model', 'kidman', 'loss', 'small', '1936', 'snap', 'western', 'http', 'kung', 'legend', 'noth', 'p', 'ambiti', 'setup', 'guarante', 'monk', 'mouth', 'someth', 'cent', 'involv', 'hand', 'par', 'warner', 'boyfriend', 'west', 'someday', 'unfortun', 'gag', 'beast', 'son', 'engin', 'down', 'nurs', 'damag', 'facial', 'goldblum', 'whack', 'danni', 'intric', 'gender', 'hall', 'margin', 'review', 'prom', 'stand', 'cross', 'lift', 'scheme', 'rub', 'summari', 'tall', 'global', 'israel', 'footag', 'smith', 'confid', 'dragon', 'letter', 'muscl', 'spice', 'lesser', 'bend', 'cycl', 'rap', 'sorri', 'literatur', 'moment', 'ala', 'amongst', 'reunit', 'idiot', 'melt', 'period', 'unorigin', 'gambl', 'complain', 'trashi', 'us', 'hk', 'hat', 'slowli', 'ryan', 'diana', 'histor', 'feat', 'move', 'rule', 'austin', 'kyle', 'beach', 'sparkl', 'friendship', 'die', 'abrupt', 'constant', 'catch', 'legendari', '2003', 'victim', 'basebal', 'hara', 'role', 'practic', 'condit', 'pair', 'difficulti', 'mountain', 'imag', 'throat', 'blue', 'best', 'colleg', 'farc', 'freeman', 'jesu', 'recognis', 'protect', 'ideal', 'jason', 'isra', 'certainli', 'poignant', 'girlfriend', 'barn', 'nowaday', 'opinion', 'sum', 'cathol', 'passag', 'porter', 'enorm', 'cinderella', 'balanc', 'susan', 'domin', 'morbid', 'allen', 'innov', 'faith', 'mix', 'whether', 'radio', 'slasher', 'counterpart', 'whale', 'downright', 'bloom', 'capabl', 'rat', 'impos', 'measur', 'approach', 'one', 'kim', '28', 'firmli', 'substanc', 'major', 'abus', 'evolv', 'static', 'out', 'leagu', 'unhappi', 'handsom', 'filler', 'grasp', 'four', 'griffith', 'ratso', 'laura', 'speci', 'curs', 'scale', 'stuff', 'togeth', '75', 'jr', 'soup', 'import', 'dr', 'restrict', 'teeth', 'tortur', 'neglect', 'till', 'kirk', 'cook', 'cream', 'lifeless', 'greatli', 'hopper', 'instead', 'origin', 'acclaim', 'buri', 'notabl', 'floor', 'path', 'apart', 'narrow', 'anti', 'eric', 'fi', 'wendigo', 'seriou', 'reader', 'tactic', 'rhythm', 'kinda', 'nope', 'bate', 'meyer', 'sword', 'aim', 'east', 'blair', 'tabl', 'halloween', 'basement', 'european', 'decad', 'conscienc', 'tip', 'duval', 'fenc', 'lesbian', 'descent', 'alik', 'errol', 'ruth', 'plight', 'keep', 'pleasur', 'span', 'topless', 'sniper', 'gabriel', 'least', 'hang', 'leo', 'token', 'sarah', 'immatur', 'push', 'blood', 'crowd', 'problem', 'hammi', 'bodi', 'safeti', '4th', 'altogeth', 'toward', 'ensembl', 'sinc', 'stomach', 'boo', 'awe', 'ward', 'slash', 'tower', 'proper', 'demonstr', 'float', 'activ', 'librari', 'bach', 'gloriou', 'comfort', 'farmer', 'hatr', 'heartfelt', 'overwhelm', 'motion', 'brad', 'gonna', 'prison', 'censor', 'spawn', 'file', 'transport', 'numer', 'stun', 'creep', 'seduc', 'lend', 'finger', 'introduct', 'grate', 'walker', 'raw', 'label', 'error', 'top', 'fiction', 'larg', 'dreck', 'todd', 'revolutionari', 'maid', 'fairi', 'fit', 'useless', 'bizarr', 'omin', 'unabl', 'northern', 'peril', '15', 'portion', 'pop', 'swedish', 'halfway', 'probabl', 'tap', 'servic', 'script', 'margaret', 'durat', 'rex', 'interview', 'digit', 'field', 'awkward', 'boat', 'seagal', 'cd', 'obscur', 'judd', 'excit', 'collect', 'justin', 'rant', 'mario', 'reward', 'comput', 'dame', 'mous', 'rocket', 'second', 'ted', 'student', 'know', 'samurai', 'yell', 'laurenc', 'mari', 'belief', 'asham', 'necessarili', 'serial', 'carey', 'materi', 'area', 'travel', 'happi', 'stroke', 'moreov', 'footbal', 'mental', 'toronto', 'author', 'costum', 'extraordinari', 'danc', 'thick', 'besid', 'joe', 'deliber', 'lisa', 'hug', 'princess', 'wig', 'speech', 'anchor', 'demis', 'climact', 'partial', 'brand', 'present', 'exit', 'congratul', 'incorrect', 'grim', 'casino', 'loud', 'dazzl', 'batman', 'luca', 'robbin', 'comprehend', 'nervou', 'btw', 'earth', 'per', 'lester', 'ol', 'josh', 'despair', 'excus', 'hitler', 'heartwarm', 'fell', 'humbl', 'break', 'financ', 'hook', 'scientif', 'felt', 'stewart', 'controversi', 'usual', 'term', 'directori', 'insan', 'rush', 'compos', 'blur', 'flight', 'silli', 'locat', 'jone', 'save', 'chose', 'band', 'goldsworthi', 'slap', 'bathroom', 'couch', 'parker', 'taxi', 'artwork', 'inherit', 'threw', 'dicken', 'gal', 'finest', 'subtl', 'alright', 'seed', 'whip', 'hammer', 'advis', 'wrench', 'need', 'housewif', 'enough', 'bird', 'theori', 'appar', 'comic', 'air', 'fbi', 'occupi', 'pound', 'escap', 'child', 'new', 'environ', 'offer', 'mostli', 'hilar', 'honesti', 'stood', 'longer', 'stolen', 'audrey', 'outfit', 'ghost', 'previous', 'mayor', 'cube', 'depict', 'ride', 'plausibl', 'gundam', 'web', 'overlook', 'ponder', 'dealer', 'garbo', 'dri', '45', 'sign', 'sandler', 'incident', 'illog', 'chavez', 'smack', 'nearli', 'lyric', 'bud', 'fifti', 'stereotyp', 'disc', 'via', 'cannib', 'chess', 'wield', 'niec', 'book', 'mount', 'idol', 'rooki', 'teach', 'throw', 'lawrenc', 'local', 'premier', 'tv', '13th', 'karl', 'today', 'bedroom', 'mindless', 'vile', 'champion', 'joan', 'hain', 'pole', 'nichola', 'wire', 'repetit', 'transform', 'date', 'terri', 'wrestler', 'lip', 'priest', 'spell', 'six', 'undermin', 'colour', 'convert', 'valid', 'outlin', 'page', '2', 'version', 'amitabh', 'content', 'aspir', 'diseas', 'modest', 'superman', 'belushi', 'brilliantli', 'punish', 'racist', 'link', 'sir', 'lie', 'sugar', 'shower', 'huge', '40', 'japan', 'accuraci', 'growth', 'painter', 'flaw', 'marin', 'rang', 'airport', 'possess', 'magazin', 'kay', 'suck', 'hope', 'mansion', 'flash', 'atmospher', 'exploit', 'sung', 'clue', '1920', 'puppi', 'asid', 'oldest', 'elect', 'foster', 'color', 'exact', 'solo', 'fonda', 'altern', 'provok', 'beauti', 'choke', 'depart', 'unrealist', 'attenborough', 'sad', 'powel', 'chop', 'tomato', 'barri', 'explain', 'bond', 'preach', 'stale', 'someon', 'cuban', 'complaint', 'colin', 'dark', '70', 'prevent', 'b', 'hung', 'secretari', 'absurd', 'opposit', 'note', 'bottl', 'mathieu', 'raymond', 'divid', 'tim', 'remark', 'freak', 'util', 'quickli', 'enlighten', 'serious', 'fund', 'pearl', 'up', 'hardcor', 'energi', 'warn', 'undead', 'inject', 'stuart', 'daisi', 'helpless', 'woman', 'option', 'forest', 'brood', 'hal', 'blunt', 'psychopath', 'airplan', 'side', 'inhabit', 'chicago', 'restaur', 'freddi', 'modern', 'hugh', 'chao', 'van', 'given', 'singl', 'silver', 'ash', 'moodi', 'tech', 'bottom', 'showcas', 'astair', 'clip', 'throughout', 'debat', 'brutal', 'electron', 'pokemon', 'explicit', 'technolog', 'larri', 'editor', 'main', 'later', 'eli', 'similarli', 'assert', '3', 'assembl', 'saga', 'adult', 'five', 'fifteen', 'grudg', 'strang', 'portrait', 'properti', 'rivet', 'profil', 'tripe', 'impress', 'annoy', 'bbc', 'program', 'hungri', 'british', 'inabl', 'forgiv', 'hideou', 'becam', 'luck', 'wrong', 'beer', '1930', 'disguis', 'aveng', 'shut', 'although', 'cheer', 'n', 'flow', 'irrit', 'choru', 'del', 'album', 'lovabl', 'sentiment', 'randomli', 'ie', 'adam', 'sheriff', 'wait', 'may', 'effici', 'filmmak', 'pirat', 'villain', 'naughti', 'thought', 'infect', 'whatev', 'beat', 'improv', 'gentleman', 'furiou', 'bloodi', '35', 'beg', 'dysfunct', 'imperson', 'classic', 'furthermor', 'astronaut', 'focus', 'tempt', 'cute', 'tonight', 'southern', 'harri', 'possibl', 'troubl', 'comprehens', 'vietnam', 'grand', '2007', 'respond', 'myer', 'australia', 'artifici', 'descript', 'massacr', 'item', 'brother', 'adopt', 'farm', 'sound', 'sean', 'smoke', 'occasion', 'bank', 'unintent', 'vs', 'bell', 'steven', 'root', 'develop', 'broken', 'creation', 'morri', 'f', 'witti', 'hors', 'separ', 'send', 'viewer', 'compar', 'opera', 'surfac', 'age', 'riot', 'climat', 'commentari', 'deadli', 'asleep', 'iron', 'network', 'turd', 'ya', 'neatli', 'clearli', 'notch', 'regular', 'insist', 'birthday', 'denni', 'slick', 'death', 'exercis', 'project', 'wast', 'soon', 'condemn', 'dolph', 'bless', 'abc', 'april', 'island', 'seventi', 'actress', 'oppos', 'curli', 'despit', 'moder', 'shred', 'mid', 'implic', 'wonder', 'notion', 'endear', 'sleazi', 'penn', 'solv', 'steam', 'resid', 'fool', 'releas', 'cope', 'othello', 'food', 'experienc', 'conan', 'stoog', 'colleagu', 'awhil', 'nicholson', 'yeti', 'increasingli', 'armstrong', 'neil', 'nanci', 'past', 'set', 'name', 'night', 'remind', 'unusu', 'unconvinc', 'retain', 'joker', 'contact', 'harm', 'worth', 'whore', 'bronson', 'leader', 'distribut', 'click', 'ed', 'act', 'tens', 'gangster', 'consum', 'wind', 'ten', 'arc', 'twin', 'novak', 'pale', 'prop', 'truck', 'pursu', '12', 'mason', 'fabric', 'uplift', '1968', 'rude', 'accus', 'true', 'chapter', 'italian', 'karloff', 'honestli', 'id', 'jeffrey', 'diari', 'repres', 'expand', 'trite', 'except', 'flag', 'god', 'wild', 'conneri', 'photograph', 'sole', 'come', 'manag', 'incorpor', 'photographi', 'realiz', 'sci', 'satan', 'case', 'integr', 'geni', 'domino', 'macarthur', 'mann', 'anton', 'homosexu', 'preciou', 'dish', 'decept', 'simplic', 'ego', 'antholog', 'torn', 'paltrow', 'wive', 'slightest', 'guard', 'yet', 'month', 'streep', 'showdown', 'enhanc', 'dawson', 'compens', 'belt', 'juvenil', 'distract', 'hello', 'method', 'tube', 'skull', 'incompet', 'equival', 'scotland', 'preston', 'blast', 'construct', 'blond', 'spider', 'greedi', 'knee', 'rubbish', 'magnific', 'accent', 'brush', 'headach', 'jordan', 'greatest', 'weapon', 'creepi', 'claustrophob', 'civil', 'hill', 'crazi', 'garner', 'characteris', 'shade', 'cooper', 'india', 'subtitl', 'joseph', 'border', 'young', 'greet', 'horrifi', 'sentinel', 'fortun', 'pacino', 'burton', 'rel', 'otherwis', 'eager', 'cartoonish', 'startl', 'live', 'secur', 'cult', 'principl', '17', 'cg', 'arm', 'highli', 'mom', 'repeatedli', 'evil', 'seem', 'legaci', 'fulci', 'brazil', 'ignor', 'inaccuraci', 'kolchak', 'languag', 'widow', 'max', 'cold', 'govern', 'comparison', 'presum', 'arguabl', 'restrain', 'countrysid', 'also', 'profess', 'cb', 'brenda', 'pregnant', 'experi', 'stage', '6', 'mistaken', 'lifestyl', 'blatantli', 'kudo', 'execut', 'bulli', '1977', '1984', 'stare', 'buff', 'terribl', 'latter', 'roger', 'handicap', 'entranc', 'lanc', 'grandfath', 'black', 'style', 'marlon', 'complic', 'montag', 'sleaz', 'pretend', 'ventur', 'artist', 'barbara', 'cring', 'nick', 'injur', 'conrad', 'well', 'voyag', 'bridget', 'contest', 'visual', 'bulk', 'propheci', 'hamlet', 'gerard', 'christi', 'phantom', 'sort', 'cow', 'wagner', 'communist', 'charlott', 'loyalti', 'exchang', 'parent', 'publish', 'dumb', 'made', 'first', 'zoom', 'heard', 'guess', 'encourag', 'mainstream', 'somewhat', 'dave', 'elev', 'terrorist', 'flynn', 'elizabeth', 'spiritu', 'bernard', 'grant', 'conclus', 'choreograph', 'roof', 'primit', 'psycholog', 'assault', 'kiddi', 'pocket', 'clash', 'logic', 'greek', 'orchestr', 'trace', 'bunch', 'horn', 'certain', 'mediocr', 'professor', 'writer', 'wrote', 'word', 'scienc', 'amazon', 'spite', 'directli', 'section', 'suspend', 'fade', 'amanda', 'nerv', 'brendan', 'lifetim', 'titl', 'blade', 'drive', 'rochest', 'bear', 'jodi', 'chest', 'sadli', 'immers', 'violenc', 'briefli', 'makeup', 'ring', 'sloppi', 'conclud', 'werewolf', 'friday', '1979', 'mother', 'vivid', 'resourc', 'eyr', 'despis', 'drew', 'see', 'disgust', '1960', 'howev', 'back', 'stress', 'ideolog', 'abl', 'messag', 'derang', 'alarm', 'skit', 'recogniz', 'failur', 'statu', 'explan', 'studi', 'suffic', 'barrymor', 'transfer', '2006', 'polic', 'conquer', 'revolv', 'ad', 'enforc', 'career', 'brown', 'donna', 'flower', 'incred', 'ah', '9', 'porno', 'willi', 'reason', 'off', 'progress', 'aka', 'breakdown', 'triangl', '73', 'owe', 'led', 'detract', 'harvey', 'result', 'mel', 'ex', 'walsh', 'spark'}\n"
     ]
    }
   ],
   "source": [
    "# from collections import Counter\n",
    "# num_new_words = Counter(new_vectorizer.vocabulary_.keys())\n",
    "# sorted_lost = sorted(num_new_words, key=num_new_words.get, reverse=True)\n",
    "# print(sorted_lost)"
   ]
  },
  {
   "cell_type": "markdown",
   "metadata": {},
   "source": [
    "These words themselves don't tell us much, however if one of these words occured with a large frequency, that might tell us something. In particular, we wouldn't really expect any of the words above to appear with too much frequency.\n",
    "\n",
    "**Question** What exactly is going on here. Not only what (if any) words appear with a larger than expected frequency but also, what does this mean? What has changed about the world that our original model no longer takes into account?\n",
    "\n",
    "Banana appears way more frequently than it should, which suggests that these reviews have been tampered with, and not necessarily representative of the entire set of movie reviews (assuming that the original one was).\n",
    "\n",
    "**NOTE:** This is meant to be a very open ended question. To investigate you may need more cells than the one provided below. Also, there isn't really a *correct* answer, this is meant to be an opportunity to explore the data."
   ]
  },
  {
   "cell_type": "code",
   "execution_count": null,
   "metadata": {},
   "outputs": [],
   "source": []
  },
  {
   "cell_type": "markdown",
   "metadata": {},
   "source": [
    "### (TODO) Build a new model\n",
    "\n",
    "Supposing that we believe something has changed about the underlying distribution of the words that our reviews are made up of, we need to create a new model. This way our new model will take into account whatever it is that has changed.\n",
    "\n",
    "To begin with, we will use the new vocabulary to create a bag of words encoding of the new data. We will then use this data to train a new XGBoost model.\n",
    "\n",
    "**NOTE:** Because we believe that the underlying distribution of words has changed it should follow that the original vocabulary that we used to construct a bag of words encoding of the reviews is no longer valid. This means that we need to be careful with our data. If we send an bag of words encoded review using the *original* vocabulary we should not expect any sort of meaningful results.\n",
    "\n",
    "In particular, this means that if we had deployed our XGBoost model like we did in the Web App notebook then we would need to implement this vocabulary change in the Lambda function as well."
   ]
  },
  {
   "cell_type": "code",
   "execution_count": 70,
   "metadata": {},
   "outputs": [],
   "source": [
    "new_XV = new_vectorizer.transform(new_X).toarray()"
   ]
  },
  {
   "cell_type": "markdown",
   "metadata": {},
   "source": [
    "And a quick check to make sure that the newly encoded reviews have the correct length, which should be the size of the new vocabulary which we created."
   ]
  },
  {
   "cell_type": "code",
   "execution_count": 71,
   "metadata": {},
   "outputs": [
    {
     "data": {
      "text/plain": [
       "5000"
      ]
     },
     "execution_count": 71,
     "metadata": {},
     "output_type": "execute_result"
    }
   ],
   "source": [
    "len(new_XV[0])"
   ]
  },
  {
   "cell_type": "markdown",
   "metadata": {},
   "source": [
    "Now that we have our newly encoded, newly collected data, we can split it up into a training and validation set so that we can train a new XGBoost model. As usual, we first split up the data, then save it locally and then upload it to S3."
   ]
  },
  {
   "cell_type": "code",
   "execution_count": 72,
   "metadata": {},
   "outputs": [],
   "source": [
    "import pandas as pd\n",
    "\n",
    "# Earlier we shuffled the training dataset so to make things simple we can just assign\n",
    "# the first 10 000 reviews to the validation set and use the remaining reviews for training.\n",
    "new_val_X = pd.DataFrame(new_XV[:10000])\n",
    "new_train_X = pd.DataFrame(new_XV[10000:])\n",
    "\n",
    "new_val_y = pd.DataFrame(new_Y[:10000])\n",
    "new_train_y = pd.DataFrame(new_Y[10000:])"
   ]
  },
  {
   "cell_type": "markdown",
   "metadata": {},
   "source": [
    "In order to save some memory we will effectively delete the `new_X` variable. Remember that this contained a list of reviews and each review was a list of words. Note that once this cell has been executed you will need to read the new data in again if you want to work with it."
   ]
  },
  {
   "cell_type": "code",
   "execution_count": 73,
   "metadata": {},
   "outputs": [],
   "source": [
    "new_X = None"
   ]
  },
  {
   "cell_type": "markdown",
   "metadata": {},
   "source": [
    "Next we save the new training and validation sets locally. Note that we overwrite the training and validation sets used earlier. This is mostly because the amount of space that we have available on our notebook instance is limited. Of course, you can increase this if you'd like but to do so may increase the cost of running the notebook instance."
   ]
  },
  {
   "cell_type": "code",
   "execution_count": 74,
   "metadata": {},
   "outputs": [],
   "source": [
    "pd.DataFrame(new_XV).to_csv(os.path.join(data_dir, 'new_data.csv'), header=False, index=False)\n",
    "\n",
    "pd.concat([new_val_y, new_val_X], axis=1).to_csv(os.path.join(data_dir, 'new_validation.csv'), header=False, index=False)\n",
    "pd.concat([new_train_y, new_train_X], axis=1).to_csv(os.path.join(data_dir, 'new_train.csv'), header=False, index=False)"
   ]
  },
  {
   "cell_type": "markdown",
   "metadata": {},
   "source": [
    "Now that we've saved our data to the local instance, we can safely delete the variables to save on memory."
   ]
  },
  {
   "cell_type": "code",
   "execution_count": 75,
   "metadata": {},
   "outputs": [],
   "source": [
    "new_val_y = new_val_X = new_train_y = new_train_X = new_XV = None"
   ]
  },
  {
   "cell_type": "markdown",
   "metadata": {},
   "source": [
    "Lastly, we make sure to upload the new training and validation sets to S3.\n",
    "\n",
    "**TODO:** Upload the new data as well as the new training and validation data sets to S3."
   ]
  },
  {
   "cell_type": "code",
   "execution_count": 76,
   "metadata": {},
   "outputs": [],
   "source": [
    "# TODO: Upload the new data and the new validation.csv and train.csv files in the data_dir directory to S3.\n",
    "new_data_location = session.upload_data(os.path.join(data_dir, 'new_data.csv'), key_prefix=prefix)\n",
    "new_val_location = session.upload_data(os.path.join(data_dir, 'new_validation.csv'), key_prefix=prefix)\n",
    "new_train_location = session.upload_data(os.path.join(data_dir, 'new_train.csv'), key_prefix=prefix)"
   ]
  },
  {
   "cell_type": "markdown",
   "metadata": {},
   "source": [
    "Once our new training data has been uploaded to S3, we can create a new XGBoost model that will take into account the changes that have occured in our data set.\n",
    "\n",
    "**TODO:** Create a new XGBoost estimator object."
   ]
  },
  {
   "cell_type": "code",
   "execution_count": 78,
   "metadata": {},
   "outputs": [],
   "source": [
    "# TODO: First, create a SageMaker estimator object for our model.\n",
    "new_xgb = sagemaker.estimator.Estimator(container,\n",
    "                                        role,\n",
    "                                        train_instance_count=1,\n",
    "                                        train_instance_type='ml.m4.xlarge',\n",
    "                                        output_path='s3://{}/{}/output'.format(session.default_bucket(), prefix),\n",
    "                                        sagemaker_session=session)\n",
    "\n",
    "# TODO: Then set the algorithm specific parameters. You may wish to use the same parameters that were\n",
    "#       used when training the original model.\n",
    "new_xgb.set_hyperparameters(max_depth=5,\n",
    "                            eta=0.2,\n",
    "                            gamma=4,\n",
    "                            min_child_weight=6,\n",
    "                            subsample=0.8,\n",
    "                            silent=0,\n",
    "                            objective='binary:logistic',\n",
    "                            early_stopping_rounds=10,\n",
    "                            num_round=500)"
   ]
  },
  {
   "cell_type": "markdown",
   "metadata": {},
   "source": [
    "Once the model has been created, we can train it with our new data.\n",
    "\n",
    "**TODO:** Train the new XGBoost model."
   ]
  },
  {
   "cell_type": "code",
   "execution_count": 80,
   "metadata": {},
   "outputs": [],
   "source": [
    "# TODO: First, make sure that you create s3 input objects so that SageMaker knows where to\n",
    "#       find the training and validation data.\n",
    "s3_new_input_train = sagemaker.s3_input(s3_data=new_train_location, content_type='csv')\n",
    "s3_new_input_validation = sagemaker.s3_input(s3_data=new_val_location, content_type='csv')"
   ]
  },
  {
   "cell_type": "code",
   "execution_count": 81,
   "metadata": {},
   "outputs": [
    {
     "name": "stdout",
     "output_type": "stream",
     "text": [
      "2020-04-20 03:22:52 Starting - Starting the training job...\n",
      "2020-04-20 03:22:54 Starting - Launching requested ML instances...\n",
      "2020-04-20 03:23:49 Starting - Preparing the instances for training......\n",
      "2020-04-20 03:24:43 Downloading - Downloading input data...\n",
      "2020-04-20 03:25:04 Training - Downloading the training image..\u001b[34mArguments: train\u001b[0m\n",
      "\u001b[34m[2020-04-20:03:25:24:INFO] Running standalone xgboost training.\u001b[0m\n",
      "\u001b[34m[2020-04-20:03:25:24:INFO] File size need to be processed in the node: 238.47mb. Available memory size in the node: 8488.29mb\u001b[0m\n",
      "\u001b[34m[2020-04-20:03:25:24:INFO] Determined delimiter of CSV input is ','\u001b[0m\n",
      "\u001b[34m[03:25:24] S3DistributionType set as FullyReplicated\u001b[0m\n",
      "\u001b[34m[03:25:26] 15000x5000 matrix with 75000000 entries loaded from /opt/ml/input/data/train?format=csv&label_column=0&delimiter=,\u001b[0m\n",
      "\u001b[34m[2020-04-20:03:25:26:INFO] Determined delimiter of CSV input is ','\u001b[0m\n",
      "\u001b[34m[03:25:26] S3DistributionType set as FullyReplicated\u001b[0m\n",
      "\u001b[34m[03:25:27] 10000x5000 matrix with 50000000 entries loaded from /opt/ml/input/data/validation?format=csv&label_column=0&delimiter=,\u001b[0m\n",
      "\u001b[34m[03:25:31] src/tree/updater_prune.cc:74: tree pruning end, 1 roots, 52 extra nodes, 2 pruned nodes, max_depth=5\u001b[0m\n",
      "\u001b[34m[0]#011train-error:0.302533#011validation-error:0.3067\u001b[0m\n",
      "\u001b[34mMultiple eval metrics have been passed: 'validation-error' will be used for early stopping.\n",
      "\u001b[0m\n",
      "\u001b[34mWill train until validation-error hasn't improved in 10 rounds.\u001b[0m\n",
      "\u001b[34m[03:25:32] src/tree/updater_prune.cc:74: tree pruning end, 1 roots, 46 extra nodes, 6 pruned nodes, max_depth=5\u001b[0m\n",
      "\u001b[34m[1]#011train-error:0.284533#011validation-error:0.2876\u001b[0m\n",
      "\u001b[34m[03:25:33] src/tree/updater_prune.cc:74: tree pruning end, 1 roots, 46 extra nodes, 8 pruned nodes, max_depth=5\u001b[0m\n",
      "\u001b[34m[2]#011train-error:0.285733#011validation-error:0.2896\u001b[0m\n",
      "\u001b[34m[03:25:35] src/tree/updater_prune.cc:74: tree pruning end, 1 roots, 34 extra nodes, 12 pruned nodes, max_depth=5\u001b[0m\n",
      "\u001b[34m[3]#011train-error:0.2836#011validation-error:0.29\u001b[0m\n",
      "\u001b[34m[03:25:36] src/tree/updater_prune.cc:74: tree pruning end, 1 roots, 32 extra nodes, 8 pruned nodes, max_depth=5\u001b[0m\n",
      "\u001b[34m[4]#011train-error:0.272933#011validation-error:0.2764\u001b[0m\n",
      "\u001b[34m[03:25:37] src/tree/updater_prune.cc:74: tree pruning end, 1 roots, 42 extra nodes, 4 pruned nodes, max_depth=5\u001b[0m\n",
      "\u001b[34m[5]#011train-error:0.2646#011validation-error:0.2672\u001b[0m\n",
      "\u001b[34m[03:25:38] src/tree/updater_prune.cc:74: tree pruning end, 1 roots, 42 extra nodes, 8 pruned nodes, max_depth=5\u001b[0m\n",
      "\u001b[34m[6]#011train-error:0.257933#011validation-error:0.2629\u001b[0m\n",
      "\u001b[34m[03:25:40] src/tree/updater_prune.cc:74: tree pruning end, 1 roots, 36 extra nodes, 10 pruned nodes, max_depth=5\u001b[0m\n",
      "\u001b[34m[7]#011train-error:0.256867#011validation-error:0.2601\u001b[0m\n",
      "\u001b[34m[03:25:41] src/tree/updater_prune.cc:74: tree pruning end, 1 roots, 32 extra nodes, 6 pruned nodes, max_depth=5\u001b[0m\n",
      "\u001b[34m[8]#011train-error:0.2528#011validation-error:0.2588\u001b[0m\n",
      "\n",
      "2020-04-20 03:25:23 Training - Training image download completed. Training in progress.\u001b[34m[03:25:42] src/tree/updater_prune.cc:74: tree pruning end, 1 roots, 28 extra nodes, 14 pruned nodes, max_depth=5\u001b[0m\n",
      "\u001b[34m[9]#011train-error:0.245933#011validation-error:0.253\u001b[0m\n",
      "\u001b[34m[03:25:44] src/tree/updater_prune.cc:74: tree pruning end, 1 roots, 30 extra nodes, 10 pruned nodes, max_depth=5\u001b[0m\n",
      "\u001b[34m[10]#011train-error:0.2426#011validation-error:0.2505\u001b[0m\n",
      "\u001b[34m[03:25:45] src/tree/updater_prune.cc:74: tree pruning end, 1 roots, 28 extra nodes, 8 pruned nodes, max_depth=5\u001b[0m\n",
      "\u001b[34m[11]#011train-error:0.237467#011validation-error:0.2464\u001b[0m\n",
      "\u001b[34m[03:25:46] src/tree/updater_prune.cc:74: tree pruning end, 1 roots, 40 extra nodes, 4 pruned nodes, max_depth=5\u001b[0m\n",
      "\u001b[34m[12]#011train-error:0.233133#011validation-error:0.2422\u001b[0m\n",
      "\u001b[34m[03:25:47] src/tree/updater_prune.cc:74: tree pruning end, 1 roots, 34 extra nodes, 6 pruned nodes, max_depth=5\u001b[0m\n",
      "\u001b[34m[13]#011train-error:0.226#011validation-error:0.2334\u001b[0m\n",
      "\u001b[34m[03:25:49] src/tree/updater_prune.cc:74: tree pruning end, 1 roots, 28 extra nodes, 10 pruned nodes, max_depth=5\u001b[0m\n",
      "\u001b[34m[14]#011train-error:0.2226#011validation-error:0.2284\u001b[0m\n",
      "\u001b[34m[03:25:50] src/tree/updater_prune.cc:74: tree pruning end, 1 roots, 34 extra nodes, 6 pruned nodes, max_depth=5\u001b[0m\n",
      "\u001b[34m[15]#011train-error:0.2194#011validation-error:0.2258\u001b[0m\n",
      "\u001b[34m[03:25:51] src/tree/updater_prune.cc:74: tree pruning end, 1 roots, 36 extra nodes, 6 pruned nodes, max_depth=5\u001b[0m\n",
      "\u001b[34m[16]#011train-error:0.214133#011validation-error:0.2226\u001b[0m\n",
      "\u001b[34m[03:25:52] src/tree/updater_prune.cc:74: tree pruning end, 1 roots, 40 extra nodes, 6 pruned nodes, max_depth=5\u001b[0m\n",
      "\u001b[34m[17]#011train-error:0.210667#011validation-error:0.2192\u001b[0m\n",
      "\u001b[34m[03:25:54] src/tree/updater_prune.cc:74: tree pruning end, 1 roots, 38 extra nodes, 6 pruned nodes, max_depth=5\u001b[0m\n",
      "\u001b[34m[18]#011train-error:0.208067#011validation-error:0.2166\u001b[0m\n",
      "\u001b[34m[03:25:55] src/tree/updater_prune.cc:74: tree pruning end, 1 roots, 22 extra nodes, 16 pruned nodes, max_depth=5\u001b[0m\n",
      "\u001b[34m[19]#011train-error:0.206467#011validation-error:0.2136\u001b[0m\n",
      "\u001b[34m[03:25:56] src/tree/updater_prune.cc:74: tree pruning end, 1 roots, 28 extra nodes, 6 pruned nodes, max_depth=5\u001b[0m\n",
      "\u001b[34m[20]#011train-error:0.2034#011validation-error:0.2112\u001b[0m\n",
      "\u001b[34m[03:25:57] src/tree/updater_prune.cc:74: tree pruning end, 1 roots, 16 extra nodes, 12 pruned nodes, max_depth=5\u001b[0m\n",
      "\u001b[34m[21]#011train-error:0.201#011validation-error:0.2113\u001b[0m\n",
      "\u001b[34m[03:25:59] src/tree/updater_prune.cc:74: tree pruning end, 1 roots, 24 extra nodes, 8 pruned nodes, max_depth=5\u001b[0m\n",
      "\u001b[34m[22]#011train-error:0.199467#011validation-error:0.2103\u001b[0m\n",
      "\u001b[34m[03:26:00] src/tree/updater_prune.cc:74: tree pruning end, 1 roots, 32 extra nodes, 4 pruned nodes, max_depth=5\u001b[0m\n",
      "\u001b[34m[23]#011train-error:0.196133#011validation-error:0.2072\u001b[0m\n",
      "\u001b[34m[03:26:01] src/tree/updater_prune.cc:74: tree pruning end, 1 roots, 26 extra nodes, 8 pruned nodes, max_depth=5\u001b[0m\n",
      "\u001b[34m[24]#011train-error:0.195867#011validation-error:0.2069\u001b[0m\n",
      "\u001b[34m[03:26:02] src/tree/updater_prune.cc:74: tree pruning end, 1 roots, 28 extra nodes, 6 pruned nodes, max_depth=5\u001b[0m\n",
      "\u001b[34m[25]#011train-error:0.194333#011validation-error:0.2056\u001b[0m\n",
      "\u001b[34m[03:26:04] src/tree/updater_prune.cc:74: tree pruning end, 1 roots, 24 extra nodes, 6 pruned nodes, max_depth=5\u001b[0m\n",
      "\u001b[34m[26]#011train-error:0.192933#011validation-error:0.2041\u001b[0m\n",
      "\u001b[34m[03:26:05] src/tree/updater_prune.cc:74: tree pruning end, 1 roots, 32 extra nodes, 10 pruned nodes, max_depth=5\u001b[0m\n",
      "\u001b[34m[27]#011train-error:0.190933#011validation-error:0.2015\u001b[0m\n",
      "\u001b[34m[03:26:06] src/tree/updater_prune.cc:74: tree pruning end, 1 roots, 24 extra nodes, 8 pruned nodes, max_depth=5\u001b[0m\n",
      "\u001b[34m[28]#011train-error:0.189667#011validation-error:0.2014\u001b[0m\n",
      "\u001b[34m[03:26:07] src/tree/updater_prune.cc:74: tree pruning end, 1 roots, 40 extra nodes, 2 pruned nodes, max_depth=5\u001b[0m\n",
      "\u001b[34m[29]#011train-error:0.1866#011validation-error:0.2018\u001b[0m\n",
      "\u001b[34m[03:26:09] src/tree/updater_prune.cc:74: tree pruning end, 1 roots, 40 extra nodes, 10 pruned nodes, max_depth=5\u001b[0m\n",
      "\u001b[34m[30]#011train-error:0.183333#011validation-error:0.2007\u001b[0m\n",
      "\u001b[34m[03:26:10] src/tree/updater_prune.cc:74: tree pruning end, 1 roots, 22 extra nodes, 10 pruned nodes, max_depth=5\u001b[0m\n",
      "\u001b[34m[31]#011train-error:0.181533#011validation-error:0.2016\u001b[0m\n",
      "\u001b[34m[03:26:11] src/tree/updater_prune.cc:74: tree pruning end, 1 roots, 30 extra nodes, 10 pruned nodes, max_depth=5\u001b[0m\n",
      "\u001b[34m[32]#011train-error:0.180733#011validation-error:0.2002\u001b[0m\n",
      "\u001b[34m[03:26:13] src/tree/updater_prune.cc:74: tree pruning end, 1 roots, 26 extra nodes, 10 pruned nodes, max_depth=5\u001b[0m\n",
      "\u001b[34m[33]#011train-error:0.177933#011validation-error:0.1988\u001b[0m\n",
      "\u001b[34m[03:26:14] src/tree/updater_prune.cc:74: tree pruning end, 1 roots, 16 extra nodes, 8 pruned nodes, max_depth=5\u001b[0m\n",
      "\u001b[34m[34]#011train-error:0.1778#011validation-error:0.1987\u001b[0m\n",
      "\u001b[34m[03:26:15] src/tree/updater_prune.cc:74: tree pruning end, 1 roots, 30 extra nodes, 10 pruned nodes, max_depth=5\u001b[0m\n",
      "\u001b[34m[35]#011train-error:0.176733#011validation-error:0.1971\u001b[0m\n",
      "\u001b[34m[03:26:17] src/tree/updater_prune.cc:74: tree pruning end, 1 roots, 26 extra nodes, 10 pruned nodes, max_depth=5\u001b[0m\n",
      "\u001b[34m[36]#011train-error:0.1764#011validation-error:0.1975\u001b[0m\n",
      "\u001b[34m[03:26:18] src/tree/updater_prune.cc:74: tree pruning end, 1 roots, 30 extra nodes, 8 pruned nodes, max_depth=5\u001b[0m\n",
      "\u001b[34m[37]#011train-error:0.1754#011validation-error:0.1961\u001b[0m\n",
      "\u001b[34m[03:26:19] src/tree/updater_prune.cc:74: tree pruning end, 1 roots, 36 extra nodes, 2 pruned nodes, max_depth=5\u001b[0m\n",
      "\u001b[34m[38]#011train-error:0.172#011validation-error:0.1944\u001b[0m\n",
      "\u001b[34m[03:26:20] src/tree/updater_prune.cc:74: tree pruning end, 1 roots, 28 extra nodes, 10 pruned nodes, max_depth=5\u001b[0m\n",
      "\u001b[34m[39]#011train-error:0.169867#011validation-error:0.1925\u001b[0m\n",
      "\u001b[34m[03:26:22] src/tree/updater_prune.cc:74: tree pruning end, 1 roots, 24 extra nodes, 6 pruned nodes, max_depth=5\u001b[0m\n",
      "\u001b[34m[40]#011train-error:0.168267#011validation-error:0.1901\u001b[0m\n",
      "\u001b[34m[03:26:23] src/tree/updater_prune.cc:74: tree pruning end, 1 roots, 38 extra nodes, 4 pruned nodes, max_depth=5\u001b[0m\n",
      "\u001b[34m[41]#011train-error:0.165067#011validation-error:0.1881\u001b[0m\n",
      "\u001b[34m[03:26:24] src/tree/updater_prune.cc:74: tree pruning end, 1 roots, 26 extra nodes, 8 pruned nodes, max_depth=5\u001b[0m\n",
      "\u001b[34m[42]#011train-error:0.1632#011validation-error:0.1877\u001b[0m\n",
      "\u001b[34m[03:26:25] src/tree/updater_prune.cc:74: tree pruning end, 1 roots, 32 extra nodes, 8 pruned nodes, max_depth=5\u001b[0m\n",
      "\u001b[34m[43]#011train-error:0.164#011validation-error:0.1853\u001b[0m\n",
      "\u001b[34m[03:26:27] src/tree/updater_prune.cc:74: tree pruning end, 1 roots, 30 extra nodes, 4 pruned nodes, max_depth=5\u001b[0m\n",
      "\u001b[34m[44]#011train-error:0.162133#011validation-error:0.1843\u001b[0m\n",
      "\u001b[34m[03:26:28] src/tree/updater_prune.cc:74: tree pruning end, 1 roots, 26 extra nodes, 14 pruned nodes, max_depth=5\u001b[0m\n",
      "\u001b[34m[45]#011train-error:0.160667#011validation-error:0.1842\u001b[0m\n",
      "\u001b[34m[03:26:29] src/tree/updater_prune.cc:74: tree pruning end, 1 roots, 18 extra nodes, 8 pruned nodes, max_depth=5\u001b[0m\n",
      "\u001b[34m[46]#011train-error:0.16#011validation-error:0.1851\u001b[0m\n",
      "\u001b[34m[03:26:30] src/tree/updater_prune.cc:74: tree pruning end, 1 roots, 36 extra nodes, 8 pruned nodes, max_depth=5\u001b[0m\n",
      "\u001b[34m[47]#011train-error:0.158067#011validation-error:0.1849\u001b[0m\n",
      "\u001b[34m[03:26:32] src/tree/updater_prune.cc:74: tree pruning end, 1 roots, 12 extra nodes, 4 pruned nodes, max_depth=5\u001b[0m\n",
      "\u001b[34m[48]#011train-error:0.1576#011validation-error:0.1846\u001b[0m\n",
      "\u001b[34m[03:26:33] src/tree/updater_prune.cc:74: tree pruning end, 1 roots, 20 extra nodes, 10 pruned nodes, max_depth=5\u001b[0m\n",
      "\u001b[34m[49]#011train-error:0.1564#011validation-error:0.1849\u001b[0m\n",
      "\u001b[34m[03:26:34] src/tree/updater_prune.cc:74: tree pruning end, 1 roots, 20 extra nodes, 2 pruned nodes, max_depth=5\u001b[0m\n",
      "\u001b[34m[50]#011train-error:0.1562#011validation-error:0.1845\u001b[0m\n",
      "\u001b[34m[03:26:35] src/tree/updater_prune.cc:74: tree pruning end, 1 roots, 20 extra nodes, 8 pruned nodes, max_depth=5\u001b[0m\n",
      "\u001b[34m[51]#011train-error:0.155267#011validation-error:0.1838\u001b[0m\n",
      "\u001b[34m[03:26:37] src/tree/updater_prune.cc:74: tree pruning end, 1 roots, 36 extra nodes, 10 pruned nodes, max_depth=5\u001b[0m\n",
      "\u001b[34m[52]#011train-error:0.153467#011validation-error:0.1849\u001b[0m\n",
      "\u001b[34m[03:26:38] src/tree/updater_prune.cc:74: tree pruning end, 1 roots, 32 extra nodes, 10 pruned nodes, max_depth=5\u001b[0m\n",
      "\u001b[34m[53]#011train-error:0.1522#011validation-error:0.1838\u001b[0m\n",
      "\u001b[34m[03:26:39] src/tree/updater_prune.cc:74: tree pruning end, 1 roots, 26 extra nodes, 6 pruned nodes, max_depth=5\u001b[0m\n",
      "\u001b[34m[54]#011train-error:0.150933#011validation-error:0.184\u001b[0m\n",
      "\u001b[34m[03:26:40] src/tree/updater_prune.cc:74: tree pruning end, 1 roots, 18 extra nodes, 8 pruned nodes, max_depth=5\u001b[0m\n",
      "\u001b[34m[55]#011train-error:0.150467#011validation-error:0.1837\u001b[0m\n",
      "\u001b[34m[03:26:42] src/tree/updater_prune.cc:74: tree pruning end, 1 roots, 18 extra nodes, 6 pruned nodes, max_depth=5\u001b[0m\n",
      "\u001b[34m[56]#011train-error:0.150333#011validation-error:0.1833\u001b[0m\n",
      "\u001b[34m[03:26:43] src/tree/updater_prune.cc:74: tree pruning end, 1 roots, 26 extra nodes, 4 pruned nodes, max_depth=5\u001b[0m\n",
      "\u001b[34m[57]#011train-error:0.149267#011validation-error:0.1832\u001b[0m\n",
      "\u001b[34m[03:26:44] src/tree/updater_prune.cc:74: tree pruning end, 1 roots, 12 extra nodes, 16 pruned nodes, max_depth=5\u001b[0m\n",
      "\u001b[34m[58]#011train-error:0.149733#011validation-error:0.1836\u001b[0m\n",
      "\u001b[34m[03:26:45] src/tree/updater_prune.cc:74: tree pruning end, 1 roots, 28 extra nodes, 8 pruned nodes, max_depth=5\u001b[0m\n",
      "\u001b[34m[59]#011train-error:0.148133#011validation-error:0.1826\u001b[0m\n",
      "\u001b[34m[03:26:47] src/tree/updater_prune.cc:74: tree pruning end, 1 roots, 26 extra nodes, 6 pruned nodes, max_depth=5\u001b[0m\n",
      "\u001b[34m[60]#011train-error:0.147#011validation-error:0.1837\u001b[0m\n",
      "\u001b[34m[03:26:48] src/tree/updater_prune.cc:74: tree pruning end, 1 roots, 26 extra nodes, 14 pruned nodes, max_depth=5\u001b[0m\n",
      "\u001b[34m[61]#011train-error:0.146333#011validation-error:0.1822\u001b[0m\n",
      "\u001b[34m[03:26:49] src/tree/updater_prune.cc:74: tree pruning end, 1 roots, 18 extra nodes, 16 pruned nodes, max_depth=5\u001b[0m\n",
      "\u001b[34m[62]#011train-error:0.1454#011validation-error:0.1823\u001b[0m\n",
      "\u001b[34m[03:26:50] src/tree/updater_prune.cc:74: tree pruning end, 1 roots, 20 extra nodes, 10 pruned nodes, max_depth=5\u001b[0m\n",
      "\u001b[34m[63]#011train-error:0.1448#011validation-error:0.1825\u001b[0m\n",
      "\u001b[34m[03:26:52] src/tree/updater_prune.cc:74: tree pruning end, 1 roots, 12 extra nodes, 4 pruned nodes, max_depth=5\u001b[0m\n",
      "\u001b[34m[64]#011train-error:0.1444#011validation-error:0.1822\u001b[0m\n",
      "\u001b[34m[03:26:53] src/tree/updater_prune.cc:74: tree pruning end, 1 roots, 14 extra nodes, 14 pruned nodes, max_depth=5\u001b[0m\n",
      "\u001b[34m[65]#011train-error:0.143533#011validation-error:0.1816\u001b[0m\n",
      "\u001b[34m[03:26:54] src/tree/updater_prune.cc:74: tree pruning end, 1 roots, 12 extra nodes, 4 pruned nodes, max_depth=5\u001b[0m\n",
      "\u001b[34m[66]#011train-error:0.142667#011validation-error:0.1812\u001b[0m\n",
      "\u001b[34m[03:26:55] src/tree/updater_prune.cc:74: tree pruning end, 1 roots, 12 extra nodes, 10 pruned nodes, max_depth=5\u001b[0m\n",
      "\u001b[34m[67]#011train-error:0.142467#011validation-error:0.1802\u001b[0m\n",
      "\u001b[34m[03:26:57] src/tree/updater_prune.cc:74: tree pruning end, 1 roots, 26 extra nodes, 6 pruned nodes, max_depth=5\u001b[0m\n",
      "\u001b[34m[68]#011train-error:0.141533#011validation-error:0.1808\u001b[0m\n",
      "\u001b[34m[03:26:58] src/tree/updater_prune.cc:74: tree pruning end, 1 roots, 14 extra nodes, 6 pruned nodes, max_depth=5\u001b[0m\n",
      "\u001b[34m[69]#011train-error:0.141267#011validation-error:0.1801\u001b[0m\n",
      "\u001b[34m[03:26:59] src/tree/updater_prune.cc:74: tree pruning end, 1 roots, 16 extra nodes, 10 pruned nodes, max_depth=5\u001b[0m\n",
      "\u001b[34m[70]#011train-error:0.141267#011validation-error:0.1811\u001b[0m\n",
      "\u001b[34m[03:27:01] src/tree/updater_prune.cc:74: tree pruning end, 1 roots, 24 extra nodes, 8 pruned nodes, max_depth=5\u001b[0m\n",
      "\u001b[34m[71]#011train-error:0.140067#011validation-error:0.1812\u001b[0m\n",
      "\u001b[34m[03:27:02] src/tree/updater_prune.cc:74: tree pruning end, 1 roots, 16 extra nodes, 4 pruned nodes, max_depth=5\u001b[0m\n",
      "\u001b[34m[72]#011train-error:0.140333#011validation-error:0.1806\u001b[0m\n",
      "\u001b[34m[03:27:03] src/tree/updater_prune.cc:74: tree pruning end, 1 roots, 26 extra nodes, 14 pruned nodes, max_depth=5\u001b[0m\n",
      "\u001b[34m[73]#011train-error:0.139533#011validation-error:0.1808\u001b[0m\n",
      "\u001b[34m[03:27:04] src/tree/updater_prune.cc:74: tree pruning end, 1 roots, 22 extra nodes, 4 pruned nodes, max_depth=5\u001b[0m\n",
      "\u001b[34m[74]#011train-error:0.139133#011validation-error:0.1805\u001b[0m\n",
      "\u001b[34m[03:27:06] src/tree/updater_prune.cc:74: tree pruning end, 1 roots, 12 extra nodes, 14 pruned nodes, max_depth=5\u001b[0m\n",
      "\u001b[34m[75]#011train-error:0.1386#011validation-error:0.181\u001b[0m\n",
      "\u001b[34m[03:27:07] src/tree/updater_prune.cc:74: tree pruning end, 1 roots, 10 extra nodes, 10 pruned nodes, max_depth=5\u001b[0m\n",
      "\u001b[34m[76]#011train-error:0.1374#011validation-error:0.1806\u001b[0m\n",
      "\u001b[34m[03:27:08] src/tree/updater_prune.cc:74: tree pruning end, 1 roots, 32 extra nodes, 4 pruned nodes, max_depth=5\u001b[0m\n",
      "\u001b[34m[77]#011train-error:0.138333#011validation-error:0.1794\u001b[0m\n",
      "\u001b[34m[03:27:09] src/tree/updater_prune.cc:74: tree pruning end, 1 roots, 20 extra nodes, 4 pruned nodes, max_depth=5\u001b[0m\n",
      "\u001b[34m[78]#011train-error:0.137333#011validation-error:0.1791\u001b[0m\n",
      "\u001b[34m[03:27:11] src/tree/updater_prune.cc:74: tree pruning end, 1 roots, 10 extra nodes, 4 pruned nodes, max_depth=5\u001b[0m\n",
      "\u001b[34m[79]#011train-error:0.137#011validation-error:0.1787\u001b[0m\n",
      "\u001b[34m[03:27:12] src/tree/updater_prune.cc:74: tree pruning end, 1 roots, 24 extra nodes, 12 pruned nodes, max_depth=5\u001b[0m\n",
      "\u001b[34m[80]#011train-error:0.136333#011validation-error:0.178\u001b[0m\n",
      "\u001b[34m[03:27:13] src/tree/updater_prune.cc:74: tree pruning end, 1 roots, 24 extra nodes, 2 pruned nodes, max_depth=5\u001b[0m\n",
      "\u001b[34m[81]#011train-error:0.1354#011validation-error:0.1777\u001b[0m\n",
      "\u001b[34m[03:27:14] src/tree/updater_prune.cc:74: tree pruning end, 1 roots, 16 extra nodes, 12 pruned nodes, max_depth=5\u001b[0m\n",
      "\u001b[34m[82]#011train-error:0.134867#011validation-error:0.1775\u001b[0m\n",
      "\u001b[34m[03:27:16] src/tree/updater_prune.cc:74: tree pruning end, 1 roots, 14 extra nodes, 8 pruned nodes, max_depth=5\u001b[0m\n",
      "\u001b[34m[83]#011train-error:0.134333#011validation-error:0.1771\u001b[0m\n",
      "\u001b[34m[03:27:17] src/tree/updater_prune.cc:74: tree pruning end, 1 roots, 18 extra nodes, 6 pruned nodes, max_depth=5\u001b[0m\n",
      "\u001b[34m[84]#011train-error:0.134#011validation-error:0.1773\u001b[0m\n",
      "\u001b[34m[03:27:18] src/tree/updater_prune.cc:74: tree pruning end, 1 roots, 16 extra nodes, 10 pruned nodes, max_depth=5\u001b[0m\n",
      "\u001b[34m[85]#011train-error:0.133333#011validation-error:0.1778\u001b[0m\n",
      "\u001b[34m[03:27:19] src/tree/updater_prune.cc:74: tree pruning end, 1 roots, 10 extra nodes, 6 pruned nodes, max_depth=5\u001b[0m\n",
      "\u001b[34m[86]#011train-error:0.1332#011validation-error:0.1781\u001b[0m\n",
      "\u001b[34m[03:27:21] src/tree/updater_prune.cc:74: tree pruning end, 1 roots, 34 extra nodes, 6 pruned nodes, max_depth=5\u001b[0m\n",
      "\u001b[34m[87]#011train-error:0.131267#011validation-error:0.1751\u001b[0m\n",
      "\u001b[34m[03:27:22] src/tree/updater_prune.cc:74: tree pruning end, 1 roots, 22 extra nodes, 4 pruned nodes, max_depth=5\u001b[0m\n",
      "\u001b[34m[88]#011train-error:0.131067#011validation-error:0.1749\u001b[0m\n",
      "\u001b[34m[03:27:23] src/tree/updater_prune.cc:74: tree pruning end, 1 roots, 14 extra nodes, 4 pruned nodes, max_depth=5\u001b[0m\n",
      "\u001b[34m[89]#011train-error:0.130333#011validation-error:0.1747\u001b[0m\n",
      "\u001b[34m[03:27:24] src/tree/updater_prune.cc:74: tree pruning end, 1 roots, 12 extra nodes, 8 pruned nodes, max_depth=5\u001b[0m\n",
      "\u001b[34m[90]#011train-error:0.130333#011validation-error:0.1745\u001b[0m\n",
      "\u001b[34m[03:27:26] src/tree/updater_prune.cc:74: tree pruning end, 1 roots, 12 extra nodes, 6 pruned nodes, max_depth=5\u001b[0m\n",
      "\u001b[34m[91]#011train-error:0.1298#011validation-error:0.1747\u001b[0m\n",
      "\u001b[34m[03:27:27] src/tree/updater_prune.cc:74: tree pruning end, 1 roots, 14 extra nodes, 4 pruned nodes, max_depth=5\u001b[0m\n",
      "\u001b[34m[92]#011train-error:0.129733#011validation-error:0.1754\u001b[0m\n",
      "\u001b[34m[03:27:28] src/tree/updater_prune.cc:74: tree pruning end, 1 roots, 14 extra nodes, 14 pruned nodes, max_depth=5\u001b[0m\n",
      "\u001b[34m[93]#011train-error:0.129867#011validation-error:0.1753\u001b[0m\n",
      "\u001b[34m[03:27:29] src/tree/updater_prune.cc:74: tree pruning end, 1 roots, 26 extra nodes, 6 pruned nodes, max_depth=5\u001b[0m\n",
      "\u001b[34m[94]#011train-error:0.1296#011validation-error:0.1737\u001b[0m\n",
      "\u001b[34m[03:27:31] src/tree/updater_prune.cc:74: tree pruning end, 1 roots, 16 extra nodes, 6 pruned nodes, max_depth=5\u001b[0m\n",
      "\u001b[34m[95]#011train-error:0.1288#011validation-error:0.173\u001b[0m\n",
      "\u001b[34m[03:27:32] src/tree/updater_prune.cc:74: tree pruning end, 1 roots, 20 extra nodes, 10 pruned nodes, max_depth=5\u001b[0m\n",
      "\u001b[34m[96]#011train-error:0.128267#011validation-error:0.173\u001b[0m\n",
      "\u001b[34m[03:27:33] src/tree/updater_prune.cc:74: tree pruning end, 1 roots, 18 extra nodes, 4 pruned nodes, max_depth=5\u001b[0m\n",
      "\u001b[34m[97]#011train-error:0.127733#011validation-error:0.1724\u001b[0m\n",
      "\u001b[34m[03:27:34] src/tree/updater_prune.cc:74: tree pruning end, 1 roots, 10 extra nodes, 10 pruned nodes, max_depth=5\u001b[0m\n",
      "\u001b[34m[98]#011train-error:0.1274#011validation-error:0.173\u001b[0m\n",
      "\u001b[34m[03:27:36] src/tree/updater_prune.cc:74: tree pruning end, 1 roots, 22 extra nodes, 8 pruned nodes, max_depth=5\u001b[0m\n",
      "\u001b[34m[99]#011train-error:0.126#011validation-error:0.1735\u001b[0m\n",
      "\u001b[34m[03:27:37] src/tree/updater_prune.cc:74: tree pruning end, 1 roots, 24 extra nodes, 4 pruned nodes, max_depth=5\u001b[0m\n",
      "\u001b[34m[100]#011train-error:0.1258#011validation-error:0.1732\u001b[0m\n",
      "\u001b[34m[03:27:38] src/tree/updater_prune.cc:74: tree pruning end, 1 roots, 20 extra nodes, 12 pruned nodes, max_depth=5\u001b[0m\n",
      "\u001b[34m[101]#011train-error:0.1256#011validation-error:0.1732\u001b[0m\n",
      "\u001b[34m[03:27:39] src/tree/updater_prune.cc:74: tree pruning end, 1 roots, 20 extra nodes, 8 pruned nodes, max_depth=5\u001b[0m\n",
      "\u001b[34m[102]#011train-error:0.125733#011validation-error:0.1731\u001b[0m\n",
      "\u001b[34m[03:27:41] src/tree/updater_prune.cc:74: tree pruning end, 1 roots, 14 extra nodes, 18 pruned nodes, max_depth=5\u001b[0m\n",
      "\u001b[34m[103]#011train-error:0.125933#011validation-error:0.1728\u001b[0m\n",
      "\u001b[34m[03:27:42] src/tree/updater_prune.cc:74: tree pruning end, 1 roots, 20 extra nodes, 12 pruned nodes, max_depth=5\u001b[0m\n",
      "\u001b[34m[104]#011train-error:0.1256#011validation-error:0.1724\u001b[0m\n",
      "\u001b[34m[03:27:43] src/tree/updater_prune.cc:74: tree pruning end, 1 roots, 10 extra nodes, 2 pruned nodes, max_depth=5\u001b[0m\n",
      "\u001b[34m[105]#011train-error:0.1258#011validation-error:0.1723\u001b[0m\n",
      "\u001b[34m[03:27:45] src/tree/updater_prune.cc:74: tree pruning end, 1 roots, 18 extra nodes, 4 pruned nodes, max_depth=5\u001b[0m\n",
      "\u001b[34m[106]#011train-error:0.1248#011validation-error:0.1721\u001b[0m\n",
      "\u001b[34m[03:27:46] src/tree/updater_prune.cc:74: tree pruning end, 1 roots, 18 extra nodes, 4 pruned nodes, max_depth=5\u001b[0m\n",
      "\u001b[34m[107]#011train-error:0.124467#011validation-error:0.1723\u001b[0m\n",
      "\u001b[34m[03:27:47] src/tree/updater_prune.cc:74: tree pruning end, 1 roots, 22 extra nodes, 10 pruned nodes, max_depth=5\u001b[0m\n",
      "\u001b[34m[108]#011train-error:0.124133#011validation-error:0.1715\u001b[0m\n",
      "\u001b[34m[03:27:49] src/tree/updater_prune.cc:74: tree pruning end, 1 roots, 14 extra nodes, 6 pruned nodes, max_depth=5\u001b[0m\n",
      "\u001b[34m[109]#011train-error:0.123733#011validation-error:0.1717\u001b[0m\n",
      "\u001b[34m[03:27:50] src/tree/updater_prune.cc:74: tree pruning end, 1 roots, 22 extra nodes, 14 pruned nodes, max_depth=5\u001b[0m\n",
      "\u001b[34m[110]#011train-error:0.123133#011validation-error:0.1717\u001b[0m\n",
      "\u001b[34m[03:27:51] src/tree/updater_prune.cc:74: tree pruning end, 1 roots, 16 extra nodes, 12 pruned nodes, max_depth=5\u001b[0m\n",
      "\u001b[34m[111]#011train-error:0.123267#011validation-error:0.1722\u001b[0m\n",
      "\u001b[34m[03:27:52] src/tree/updater_prune.cc:74: tree pruning end, 1 roots, 12 extra nodes, 6 pruned nodes, max_depth=5\u001b[0m\n",
      "\u001b[34m[112]#011train-error:0.1228#011validation-error:0.1716\u001b[0m\n",
      "\u001b[34m[03:27:54] src/tree/updater_prune.cc:74: tree pruning end, 1 roots, 12 extra nodes, 4 pruned nodes, max_depth=5\u001b[0m\n",
      "\u001b[34m[113]#011train-error:0.122533#011validation-error:0.1719\u001b[0m\n",
      "\u001b[34m[03:27:55] src/tree/updater_prune.cc:74: tree pruning end, 1 roots, 10 extra nodes, 6 pruned nodes, max_depth=5\u001b[0m\n",
      "\u001b[34m[114]#011train-error:0.1222#011validation-error:0.1719\u001b[0m\n",
      "\u001b[34m[03:27:56] src/tree/updater_prune.cc:74: tree pruning end, 1 roots, 16 extra nodes, 8 pruned nodes, max_depth=5\u001b[0m\n",
      "\u001b[34m[115]#011train-error:0.1216#011validation-error:0.1717\u001b[0m\n",
      "\u001b[34m[03:27:57] src/tree/updater_prune.cc:74: tree pruning end, 1 roots, 24 extra nodes, 14 pruned nodes, max_depth=5\u001b[0m\n",
      "\u001b[34m[116]#011train-error:0.120467#011validation-error:0.1715\u001b[0m\n",
      "\u001b[34m[03:27:59] src/tree/updater_prune.cc:74: tree pruning end, 1 roots, 14 extra nodes, 8 pruned nodes, max_depth=5\u001b[0m\n",
      "\u001b[34m[117]#011train-error:0.1202#011validation-error:0.1711\u001b[0m\n",
      "\u001b[34m[03:28:00] src/tree/updater_prune.cc:74: tree pruning end, 1 roots, 12 extra nodes, 6 pruned nodes, max_depth=5\u001b[0m\n",
      "\u001b[34m[118]#011train-error:0.119867#011validation-error:0.1708\u001b[0m\n",
      "\u001b[34m[03:28:01] src/tree/updater_prune.cc:74: tree pruning end, 1 roots, 24 extra nodes, 10 pruned nodes, max_depth=5\u001b[0m\n",
      "\u001b[34m[119]#011train-error:0.118933#011validation-error:0.1709\u001b[0m\n",
      "\u001b[34m[03:28:02] src/tree/updater_prune.cc:74: tree pruning end, 1 roots, 20 extra nodes, 10 pruned nodes, max_depth=5\u001b[0m\n",
      "\u001b[34m[120]#011train-error:0.1188#011validation-error:0.1714\u001b[0m\n",
      "\u001b[34m[03:28:04] src/tree/updater_prune.cc:74: tree pruning end, 1 roots, 14 extra nodes, 6 pruned nodes, max_depth=5\u001b[0m\n",
      "\u001b[34m[121]#011train-error:0.118867#011validation-error:0.1712\u001b[0m\n",
      "\u001b[34m[03:28:05] src/tree/updater_prune.cc:74: tree pruning end, 1 roots, 22 extra nodes, 6 pruned nodes, max_depth=5\u001b[0m\n",
      "\u001b[34m[122]#011train-error:0.117267#011validation-error:0.1721\u001b[0m\n",
      "\u001b[34m[03:28:06] src/tree/updater_prune.cc:74: tree pruning end, 1 roots, 12 extra nodes, 8 pruned nodes, max_depth=5\u001b[0m\n",
      "\u001b[34m[123]#011train-error:0.117333#011validation-error:0.1723\u001b[0m\n",
      "\u001b[34m[03:28:07] src/tree/updater_prune.cc:74: tree pruning end, 1 roots, 14 extra nodes, 8 pruned nodes, max_depth=5\u001b[0m\n",
      "\u001b[34m[124]#011train-error:0.1164#011validation-error:0.1725\u001b[0m\n",
      "\n",
      "2020-04-20 03:28:23 Uploading - Uploading generated training model\n",
      "2020-04-20 03:28:23 Completed - Training job completed\n",
      "\u001b[34m[03:28:09] src/tree/updater_prune.cc:74: tree pruning end, 1 roots, 20 extra nodes, 8 pruned nodes, max_depth=5\u001b[0m\n",
      "\u001b[34m[125]#011train-error:0.115933#011validation-error:0.1728\u001b[0m\n",
      "\u001b[34m[03:28:10] src/tree/updater_prune.cc:74: tree pruning end, 1 roots, 12 extra nodes, 4 pruned nodes, max_depth=5\u001b[0m\n",
      "\u001b[34m[126]#011train-error:0.116133#011validation-error:0.1735\u001b[0m\n",
      "\u001b[34m[03:28:11] src/tree/updater_prune.cc:74: tree pruning end, 1 roots, 10 extra nodes, 20 pruned nodes, max_depth=5\u001b[0m\n",
      "\u001b[34m[127]#011train-error:0.116733#011validation-error:0.1734\u001b[0m\n",
      "\u001b[34m[03:28:12] src/tree/updater_prune.cc:74: tree pruning end, 1 roots, 18 extra nodes, 12 pruned nodes, max_depth=5\u001b[0m\n",
      "\u001b[34m[128]#011train-error:0.114933#011validation-error:0.1734\u001b[0m\n",
      "\u001b[34mStopping. Best iteration:\u001b[0m\n",
      "\u001b[34m[118]#011train-error:0.119867#011validation-error:0.1708\n",
      "\u001b[0m\n",
      "Training seconds: 220\n",
      "Billable seconds: 220\n"
     ]
    }
   ],
   "source": [
    "# TODO: Using the new validation and training data, 'fit' your new model.\n",
    "new_xgb.fit({'train':s3_new_input_train, 'validation':s3_new_input_validation})"
   ]
  },
  {
   "cell_type": "markdown",
   "metadata": {},
   "source": [
    "### (TODO) Check the new model\n",
    "\n",
    "So now we have a new XGBoost model that we believe more accurately represents the state of the world at this time, at least in how it relates to the sentiment analysis problem that we are working on. The next step is to double check that our model is performing reasonably.\n",
    "\n",
    "To do this, we will first test our model on the new data.\n",
    "\n",
    "**Note:** In practice this is a pretty bad idea. We already trained our model on the new data, so testing it shouldn't really tell us much. In fact, this is sort of a textbook example of leakage. We are only doing it here so that we have a numerical baseline.\n",
    "\n",
    "**Question:** How might you address the leakage problem? Set aside some data that the model doesn't see as test data."
   ]
  },
  {
   "cell_type": "markdown",
   "metadata": {},
   "source": [
    "First, we create a new transformer based on our new XGBoost model.\n",
    "\n",
    "**TODO:** Create a transformer object from the newly created XGBoost model."
   ]
  },
  {
   "cell_type": "code",
   "execution_count": 83,
   "metadata": {},
   "outputs": [],
   "source": [
    "# TODO: Create a transformer object from the new_xgb model\n",
    "new_xgb_transformer = new_xgb.transformer(instance_count = 1, instance_type = 'ml.m4.xlarge')"
   ]
  },
  {
   "cell_type": "markdown",
   "metadata": {},
   "source": [
    "Next we test our model on the new data.\n",
    "\n",
    "**TODO:** Use the transformer object to transform the new data (stored in the `new_data_location` variable)"
   ]
  },
  {
   "cell_type": "code",
   "execution_count": 84,
   "metadata": {},
   "outputs": [
    {
     "name": "stdout",
     "output_type": "stream",
     "text": [
      ".....................\u001b[34mArguments: serve\u001b[0m\n",
      "\u001b[34m[2020-04-20 03:33:05 +0000] [1] [INFO] Starting gunicorn 19.7.1\u001b[0m\n",
      "\u001b[34m[2020-04-20 03:33:05 +0000] [1] [INFO] Listening at: http://0.0.0.0:8080 (1)\u001b[0m\n",
      "\u001b[34m[2020-04-20 03:33:05 +0000] [1] [INFO] Using worker: gevent\u001b[0m\n",
      "\u001b[34m[2020-04-20 03:33:05 +0000] [37] [INFO] Booting worker with pid: 37\u001b[0m\n",
      "\u001b[34m[2020-04-20 03:33:05 +0000] [38] [INFO] Booting worker with pid: 38\u001b[0m\n",
      "\u001b[34m[2020-04-20:03:33:05:INFO] Model loaded successfully for worker : 37\u001b[0m\n",
      "\u001b[34m[2020-04-20 03:33:05 +0000] [39] [INFO] Booting worker with pid: 39\u001b[0m\n",
      "\u001b[34m[2020-04-20:03:33:05:INFO] Model loaded successfully for worker : 38\u001b[0m\n",
      "\u001b[34m[2020-04-20:03:33:05:INFO] Model loaded successfully for worker : 39\u001b[0m\n",
      "\u001b[34m[2020-04-20 03:33:05 +0000] [40] [INFO] Booting worker with pid: 40\u001b[0m\n",
      "\u001b[34m[2020-04-20:03:33:05:INFO] Model loaded successfully for worker : 40\u001b[0m\n",
      "\u001b[32m2020-04-20T03:33:39.638:[sagemaker logs]: MaxConcurrentTransforms=4, MaxPayloadInMB=6, BatchStrategy=MULTI_RECORD\u001b[0m\n",
      "\u001b[34m[2020-04-20:03:33:42:INFO] Sniff delimiter as ','\u001b[0m\n",
      "\u001b[34m[2020-04-20:03:33:42:INFO] Determined delimiter of CSV input is ','\u001b[0m\n",
      "\u001b[34m[2020-04-20:03:33:42:INFO] Sniff delimiter as ','\u001b[0m\n",
      "\u001b[34m[2020-04-20:03:33:42:INFO] Determined delimiter of CSV input is ','\u001b[0m\n",
      "\u001b[34m[2020-04-20:03:33:42:INFO] Sniff delimiter as ','\u001b[0m\n",
      "\u001b[34m[2020-04-20:03:33:42:INFO] Determined delimiter of CSV input is ','\u001b[0m\n",
      "\u001b[34m[2020-04-20:03:33:42:INFO] Sniff delimiter as ','\u001b[0m\n",
      "\u001b[35m[2020-04-20:03:33:42:INFO] Sniff delimiter as ','\u001b[0m\n",
      "\u001b[35m[2020-04-20:03:33:42:INFO] Determined delimiter of CSV input is ','\u001b[0m\n",
      "\u001b[35m[2020-04-20:03:33:42:INFO] Sniff delimiter as ','\u001b[0m\n",
      "\u001b[35m[2020-04-20:03:33:42:INFO] Determined delimiter of CSV input is ','\u001b[0m\n",
      "\u001b[35m[2020-04-20:03:33:42:INFO] Sniff delimiter as ','\u001b[0m\n",
      "\u001b[35m[2020-04-20:03:33:42:INFO] Determined delimiter of CSV input is ','\u001b[0m\n",
      "\u001b[35m[2020-04-20:03:33:42:INFO] Sniff delimiter as ','\u001b[0m\n",
      "\u001b[34m[2020-04-20:03:33:42:INFO] Determined delimiter of CSV input is ','\u001b[0m\n",
      "\u001b[35m[2020-04-20:03:33:42:INFO] Determined delimiter of CSV input is ','\u001b[0m\n",
      "\u001b[34m[2020-04-20:03:33:45:INFO] Sniff delimiter as ','\u001b[0m\n",
      "\u001b[34m[2020-04-20:03:33:45:INFO] Determined delimiter of CSV input is ','\u001b[0m\n",
      "\u001b[35m[2020-04-20:03:33:45:INFO] Sniff delimiter as ','\u001b[0m\n",
      "\u001b[35m[2020-04-20:03:33:45:INFO] Determined delimiter of CSV input is ','\u001b[0m\n",
      "\u001b[34m[2020-04-20:03:33:45:INFO] Sniff delimiter as ','\u001b[0m\n",
      "\u001b[34m[2020-04-20:03:33:45:INFO] Determined delimiter of CSV input is ','\u001b[0m\n",
      "\u001b[34m[2020-04-20:03:33:45:INFO] Sniff delimiter as ','\u001b[0m\n",
      "\u001b[34m[2020-04-20:03:33:45:INFO] Determined delimiter of CSV input is ','\u001b[0m\n",
      "\u001b[34m[2020-04-20:03:33:45:INFO] Sniff delimiter as ','\u001b[0m\n",
      "\u001b[34m[2020-04-20:03:33:45:INFO] Determined delimiter of CSV input is ','\u001b[0m\n",
      "\u001b[35m[2020-04-20:03:33:45:INFO] Sniff delimiter as ','\u001b[0m\n",
      "\u001b[35m[2020-04-20:03:33:45:INFO] Determined delimiter of CSV input is ','\u001b[0m\n",
      "\u001b[35m[2020-04-20:03:33:45:INFO] Sniff delimiter as ','\u001b[0m\n",
      "\u001b[35m[2020-04-20:03:33:45:INFO] Determined delimiter of CSV input is ','\u001b[0m\n",
      "\u001b[35m[2020-04-20:03:33:45:INFO] Sniff delimiter as ','\u001b[0m\n",
      "\u001b[35m[2020-04-20:03:33:45:INFO] Determined delimiter of CSV input is ','\u001b[0m\n",
      "\u001b[34m[2020-04-20:03:33:47:INFO] Sniff delimiter as ','\u001b[0m\n",
      "\u001b[35m[2020-04-20:03:33:47:INFO] Sniff delimiter as ','\u001b[0m\n",
      "\u001b[34m[2020-04-20:03:33:47:INFO] Determined delimiter of CSV input is ','\u001b[0m\n",
      "\u001b[34m[2020-04-20:03:33:47:INFO] Sniff delimiter as ','\u001b[0m\n",
      "\u001b[34m[2020-04-20:03:33:47:INFO] Determined delimiter of CSV input is ','\u001b[0m\n",
      "\u001b[34m[2020-04-20:03:33:47:INFO] Sniff delimiter as ','\u001b[0m\n",
      "\u001b[34m[2020-04-20:03:33:47:INFO] Determined delimiter of CSV input is ','\u001b[0m\n",
      "\u001b[34m[2020-04-20:03:33:47:INFO] Sniff delimiter as ','\u001b[0m\n",
      "\u001b[34m[2020-04-20:03:33:47:INFO] Determined delimiter of CSV input is ','\u001b[0m\n",
      "\u001b[35m[2020-04-20:03:33:47:INFO] Determined delimiter of CSV input is ','\u001b[0m\n",
      "\u001b[35m[2020-04-20:03:33:47:INFO] Sniff delimiter as ','\u001b[0m\n",
      "\u001b[35m[2020-04-20:03:33:47:INFO] Determined delimiter of CSV input is ','\u001b[0m\n",
      "\u001b[35m[2020-04-20:03:33:47:INFO] Sniff delimiter as ','\u001b[0m\n",
      "\u001b[35m[2020-04-20:03:33:47:INFO] Determined delimiter of CSV input is ','\u001b[0m\n",
      "\u001b[35m[2020-04-20:03:33:47:INFO] Sniff delimiter as ','\u001b[0m\n",
      "\u001b[35m[2020-04-20:03:33:47:INFO] Determined delimiter of CSV input is ','\u001b[0m\n",
      "\u001b[34m[2020-04-20:03:33:49:INFO] Sniff delimiter as ','\u001b[0m\n",
      "\u001b[34m[2020-04-20:03:33:49:INFO] Determined delimiter of CSV input is ','\u001b[0m\n",
      "\u001b[34m[2020-04-20:03:33:50:INFO] Sniff delimiter as ','\u001b[0m\n",
      "\u001b[34m[2020-04-20:03:33:50:INFO] Determined delimiter of CSV input is ','\u001b[0m\n",
      "\u001b[35m[2020-04-20:03:33:49:INFO] Sniff delimiter as ','\u001b[0m\n",
      "\u001b[35m[2020-04-20:03:33:49:INFO] Determined delimiter of CSV input is ','\u001b[0m\n",
      "\u001b[35m[2020-04-20:03:33:50:INFO] Sniff delimiter as ','\u001b[0m\n",
      "\u001b[35m[2020-04-20:03:33:50:INFO] Determined delimiter of CSV input is ','\u001b[0m\n",
      "\u001b[34m[2020-04-20:03:33:50:INFO] Sniff delimiter as ','\u001b[0m\n",
      "\u001b[34m[2020-04-20:03:33:50:INFO] Determined delimiter of CSV input is ','\u001b[0m\n",
      "\u001b[34m[2020-04-20:03:33:50:INFO] Sniff delimiter as ','\u001b[0m\n",
      "\u001b[34m[2020-04-20:03:33:50:INFO] Determined delimiter of CSV input is ','\u001b[0m\n",
      "\u001b[35m[2020-04-20:03:33:50:INFO] Sniff delimiter as ','\u001b[0m\n",
      "\u001b[35m[2020-04-20:03:33:50:INFO] Determined delimiter of CSV input is ','\u001b[0m\n",
      "\u001b[35m[2020-04-20:03:33:50:INFO] Sniff delimiter as ','\u001b[0m\n",
      "\u001b[35m[2020-04-20:03:33:50:INFO] Determined delimiter of CSV input is ','\u001b[0m\n",
      "\u001b[34m[2020-04-20:03:33:52:INFO] Sniff delimiter as ','\u001b[0m\n",
      "\u001b[34m[2020-04-20:03:33:52:INFO] Determined delimiter of CSV input is ','\u001b[0m\n",
      "\u001b[34m[2020-04-20:03:33:52:INFO] Sniff delimiter as ','\u001b[0m\n",
      "\u001b[34m[2020-04-20:03:33:52:INFO] Determined delimiter of CSV input is ','\u001b[0m\n",
      "\u001b[35m[2020-04-20:03:33:52:INFO] Sniff delimiter as ','\u001b[0m\n",
      "\u001b[35m[2020-04-20:03:33:52:INFO] Determined delimiter of CSV input is ','\u001b[0m\n",
      "\u001b[35m[2020-04-20:03:33:52:INFO] Sniff delimiter as ','\u001b[0m\n",
      "\u001b[35m[2020-04-20:03:33:52:INFO] Determined delimiter of CSV input is ','\u001b[0m\n",
      "\u001b[34m[2020-04-20:03:33:54:INFO] Sniff delimiter as ','\u001b[0m\n",
      "\u001b[34m[2020-04-20:03:33:54:INFO] Determined delimiter of CSV input is ','\u001b[0m\n",
      "\u001b[34m[2020-04-20:03:33:54:INFO] Sniff delimiter as ','\u001b[0m\n",
      "\u001b[34m[2020-04-20:03:33:54:INFO] Determined delimiter of CSV input is ','\u001b[0m\n",
      "\u001b[35m[2020-04-20:03:33:54:INFO] Sniff delimiter as ','\u001b[0m\n",
      "\u001b[35m[2020-04-20:03:33:54:INFO] Determined delimiter of CSV input is ','\u001b[0m\n",
      "\u001b[35m[2020-04-20:03:33:54:INFO] Sniff delimiter as ','\u001b[0m\n",
      "\u001b[35m[2020-04-20:03:33:54:INFO] Determined delimiter of CSV input is ','\u001b[0m\n",
      "\u001b[34m[2020-04-20:03:33:55:INFO] Sniff delimiter as ','\u001b[0m\n",
      "\u001b[34m[2020-04-20:03:33:55:INFO] Determined delimiter of CSV input is ','\u001b[0m\n",
      "\u001b[34m[2020-04-20:03:33:55:INFO] Sniff delimiter as ','\u001b[0m\n",
      "\u001b[34m[2020-04-20:03:33:55:INFO] Determined delimiter of CSV input is ','\u001b[0m\n",
      "\u001b[35m[2020-04-20:03:33:55:INFO] Sniff delimiter as ','\u001b[0m\n",
      "\u001b[35m[2020-04-20:03:33:55:INFO] Determined delimiter of CSV input is ','\u001b[0m\n",
      "\u001b[35m[2020-04-20:03:33:55:INFO] Sniff delimiter as ','\u001b[0m\n",
      "\u001b[35m[2020-04-20:03:33:55:INFO] Determined delimiter of CSV input is ','\u001b[0m\n",
      "\u001b[34m[2020-04-20:03:33:57:INFO] Sniff delimiter as ','\u001b[0m\n",
      "\u001b[34m[2020-04-20:03:33:57:INFO] Determined delimiter of CSV input is ','\u001b[0m\n",
      "\u001b[34m[2020-04-20:03:33:57:INFO] Sniff delimiter as ','\u001b[0m\n",
      "\u001b[34m[2020-04-20:03:33:57:INFO] Determined delimiter of CSV input is ','\u001b[0m\n",
      "\u001b[34m[2020-04-20:03:33:57:INFO] Sniff delimiter as ','\u001b[0m\n",
      "\u001b[34m[2020-04-20:03:33:57:INFO] Determined delimiter of CSV input is ','\u001b[0m\n",
      "\u001b[34m[2020-04-20:03:33:57:INFO] Sniff delimiter as ','\u001b[0m\n",
      "\u001b[34m[2020-04-20:03:33:57:INFO] Determined delimiter of CSV input is ','\u001b[0m\n",
      "\u001b[35m[2020-04-20:03:33:57:INFO] Sniff delimiter as ','\u001b[0m\n",
      "\u001b[35m[2020-04-20:03:33:57:INFO] Determined delimiter of CSV input is ','\u001b[0m\n",
      "\u001b[35m[2020-04-20:03:33:57:INFO] Sniff delimiter as ','\u001b[0m\n",
      "\u001b[35m[2020-04-20:03:33:57:INFO] Determined delimiter of CSV input is ','\u001b[0m\n",
      "\u001b[35m[2020-04-20:03:33:57:INFO] Sniff delimiter as ','\u001b[0m\n",
      "\u001b[35m[2020-04-20:03:33:57:INFO] Determined delimiter of CSV input is ','\u001b[0m\n",
      "\u001b[35m[2020-04-20:03:33:57:INFO] Sniff delimiter as ','\u001b[0m\n",
      "\u001b[35m[2020-04-20:03:33:57:INFO] Determined delimiter of CSV input is ','\u001b[0m\n",
      "\u001b[34m[2020-04-20:03:33:59:INFO] Sniff delimiter as ','\u001b[0m\n",
      "\u001b[34m[2020-04-20:03:33:59:INFO] Determined delimiter of CSV input is ','\u001b[0m\n",
      "\u001b[34m[2020-04-20:03:33:59:INFO] Sniff delimiter as ','\u001b[0m\n",
      "\u001b[34m[2020-04-20:03:33:59:INFO] Determined delimiter of CSV input is ','\u001b[0m\n",
      "\u001b[34m[2020-04-20:03:34:00:INFO] Sniff delimiter as ','\u001b[0m\n",
      "\u001b[34m[2020-04-20:03:34:00:INFO] Determined delimiter of CSV input is ','\u001b[0m\n",
      "\u001b[35m[2020-04-20:03:33:59:INFO] Sniff delimiter as ','\u001b[0m\n",
      "\u001b[35m[2020-04-20:03:33:59:INFO] Determined delimiter of CSV input is ','\u001b[0m\n",
      "\u001b[35m[2020-04-20:03:33:59:INFO] Sniff delimiter as ','\u001b[0m\n",
      "\u001b[35m[2020-04-20:03:33:59:INFO] Determined delimiter of CSV input is ','\u001b[0m\n",
      "\u001b[35m[2020-04-20:03:34:00:INFO] Sniff delimiter as ','\u001b[0m\n",
      "\u001b[35m[2020-04-20:03:34:00:INFO] Determined delimiter of CSV input is ','\u001b[0m\n",
      "\u001b[34m[2020-04-20:03:34:00:INFO] Sniff delimiter as ','\u001b[0m\n",
      "\u001b[34m[2020-04-20:03:34:00:INFO] Determined delimiter of CSV input is ','\u001b[0m\n",
      "\u001b[35m[2020-04-20:03:34:00:INFO] Sniff delimiter as ','\u001b[0m\n",
      "\u001b[35m[2020-04-20:03:34:00:INFO] Determined delimiter of CSV input is ','\u001b[0m\n",
      "\u001b[34m[2020-04-20:03:34:01:INFO] Sniff delimiter as ','\u001b[0m\n",
      "\u001b[34m[2020-04-20:03:34:01:INFO] Determined delimiter of CSV input is ','\u001b[0m\n",
      "\u001b[35m[2020-04-20:03:34:01:INFO] Sniff delimiter as ','\u001b[0m\n",
      "\u001b[35m[2020-04-20:03:34:01:INFO] Determined delimiter of CSV input is ','\u001b[0m\n",
      "\n",
      "\u001b[34m[2020-04-20:03:34:02:INFO] Sniff delimiter as ','\u001b[0m\n",
      "\u001b[34m[2020-04-20:03:34:02:INFO] Determined delimiter of CSV input is ','\u001b[0m\n",
      "\u001b[34m[2020-04-20:03:34:02:INFO] Sniff delimiter as ','\u001b[0m\n",
      "\u001b[34m[2020-04-20:03:34:02:INFO] Determined delimiter of CSV input is ','\u001b[0m\n",
      "\u001b[35m[2020-04-20:03:34:02:INFO] Sniff delimiter as ','\u001b[0m\n",
      "\u001b[35m[2020-04-20:03:34:02:INFO] Determined delimiter of CSV input is ','\u001b[0m\n",
      "\u001b[35m[2020-04-20:03:34:02:INFO] Sniff delimiter as ','\u001b[0m\n",
      "\u001b[35m[2020-04-20:03:34:02:INFO] Determined delimiter of CSV input is ','\u001b[0m\n",
      "\u001b[34m[2020-04-20:03:34:04:INFO] Sniff delimiter as ','\u001b[0m\n",
      "\u001b[34m[2020-04-20:03:34:04:INFO] Determined delimiter of CSV input is ','\u001b[0m\n",
      "\u001b[34m[2020-04-20:03:34:04:INFO] Sniff delimiter as ','\u001b[0m\n",
      "\u001b[34m[2020-04-20:03:34:04:INFO] Determined delimiter of CSV input is ','\u001b[0m\n",
      "\u001b[34m[2020-04-20:03:34:04:INFO] Sniff delimiter as ','\u001b[0m\n",
      "\u001b[34m[2020-04-20:03:34:04:INFO] Determined delimiter of CSV input is ','\u001b[0m\n",
      "\u001b[34m[2020-04-20:03:34:04:INFO] Sniff delimiter as ','\u001b[0m\n",
      "\u001b[34m[2020-04-20:03:34:04:INFO] Determined delimiter of CSV input is ','\u001b[0m\n",
      "\u001b[35m[2020-04-20:03:34:04:INFO] Sniff delimiter as ','\u001b[0m\n",
      "\u001b[35m[2020-04-20:03:34:04:INFO] Determined delimiter of CSV input is ','\u001b[0m\n",
      "\u001b[35m[2020-04-20:03:34:04:INFO] Sniff delimiter as ','\u001b[0m\n",
      "\u001b[35m[2020-04-20:03:34:04:INFO] Determined delimiter of CSV input is ','\u001b[0m\n",
      "\u001b[35m[2020-04-20:03:34:04:INFO] Sniff delimiter as ','\u001b[0m\n",
      "\u001b[35m[2020-04-20:03:34:04:INFO] Determined delimiter of CSV input is ','\u001b[0m\n",
      "\u001b[35m[2020-04-20:03:34:04:INFO] Sniff delimiter as ','\u001b[0m\n",
      "\u001b[35m[2020-04-20:03:34:04:INFO] Determined delimiter of CSV input is ','\u001b[0m\n"
     ]
    }
   ],
   "source": [
    "# TODO: Using new_xgb_transformer, transform the new_data_location data. You may wish to\n",
    "#       'wait' for the transform job to finish.\n",
    "new_xgb_transformer.transform(new_data_location, content_type='text/csv', split_type='Line')\n",
    "new_xgb_transformer.wait()"
   ]
  },
  {
   "cell_type": "markdown",
   "metadata": {},
   "source": [
    "Copy the results to our local instance."
   ]
  },
  {
   "cell_type": "code",
   "execution_count": 85,
   "metadata": {},
   "outputs": [
    {
     "name": "stdout",
     "output_type": "stream",
     "text": [
      "download: s3://sagemaker-us-east-2-244377630672/xgboost-2020-04-20-03-29-43-231/new_data.csv.out to ../data/sentiment_update/new_data.csv.out\r\n"
     ]
    }
   ],
   "source": [
    "!aws s3 cp --recursive $new_xgb_transformer.output_path $data_dir"
   ]
  },
  {
   "cell_type": "markdown",
   "metadata": {},
   "source": [
    "And see how well the model did."
   ]
  },
  {
   "cell_type": "code",
   "execution_count": 86,
   "metadata": {},
   "outputs": [],
   "source": [
    "predictions = pd.read_csv(os.path.join(data_dir, 'new_data.csv.out'), header=None)\n",
    "predictions = [round(num) for num in predictions.squeeze().values]"
   ]
  },
  {
   "cell_type": "code",
   "execution_count": 87,
   "metadata": {},
   "outputs": [
    {
     "data": {
      "text/plain": [
       "0.85976"
      ]
     },
     "execution_count": 87,
     "metadata": {},
     "output_type": "execute_result"
    }
   ],
   "source": [
    "accuracy_score(new_Y, predictions)"
   ]
  },
  {
   "cell_type": "markdown",
   "metadata": {},
   "source": [
    "As expected, since we trained the model on this data, our model performs pretty well. So, we have reason to believe that our new XGBoost model is a \"better\" model.\n",
    "\n",
    "However, before we start changing our deployed model, we should first make sure that our new model isn't too different. In other words, if our new model performed really poorly on the original test data then this might be an indication that something else has gone wrong.\n",
    "\n",
    "To start with, since we got rid of the variable that stored the original test reviews, we will read them in again from the cache that we created in Step 3. Note that we need to make sure that we read in the original test data after it has been pre-processed with `nltk` but before it has been bag of words encoded. This is because we need to use the new vocabulary instead of the original one."
   ]
  },
  {
   "cell_type": "code",
   "execution_count": 88,
   "metadata": {},
   "outputs": [
    {
     "name": "stdout",
     "output_type": "stream",
     "text": [
      "Read preprocessed data from cache file: preprocessed_data.pkl\n"
     ]
    }
   ],
   "source": [
    "cache_data = None\n",
    "with open(os.path.join(cache_dir, \"preprocessed_data.pkl\"), \"rb\") as f:\n",
    "            cache_data = pickle.load(f)\n",
    "            print(\"Read preprocessed data from cache file:\", \"preprocessed_data.pkl\")\n",
    "            \n",
    "test_X = cache_data['words_test']\n",
    "test_Y = cache_data['labels_test']\n",
    "\n",
    "# Here we set cache_data to None so that it doesn't occupy memory\n",
    "cache_data = None"
   ]
  },
  {
   "cell_type": "markdown",
   "metadata": {},
   "source": [
    "Once we've loaded the original test reviews, we need to create a bag of words encoding of them using the new vocabulary that we created, based on the new data.\n",
    "\n",
    "**TODO:** Transform the original test data using the new vocabulary."
   ]
  },
  {
   "cell_type": "code",
   "execution_count": 90,
   "metadata": {},
   "outputs": [],
   "source": [
    "# TODO: Use the new_vectorizer object that you created earlier to transform the test_X data.\n",
    "test_X = new_vectorizer.transform(test_X).toarray()"
   ]
  },
  {
   "cell_type": "markdown",
   "metadata": {},
   "source": [
    "Now that we have correctly encoded the original test data, we can write it to the local instance, upload it to S3 and test it."
   ]
  },
  {
   "cell_type": "code",
   "execution_count": 91,
   "metadata": {},
   "outputs": [],
   "source": [
    "pd.DataFrame(test_X).to_csv(os.path.join(data_dir, 'test.csv'), header=False, index=False)"
   ]
  },
  {
   "cell_type": "code",
   "execution_count": 92,
   "metadata": {},
   "outputs": [],
   "source": [
    "test_location = session.upload_data(os.path.join(data_dir, 'test.csv'), key_prefix=prefix)"
   ]
  },
  {
   "cell_type": "code",
   "execution_count": 93,
   "metadata": {},
   "outputs": [
    {
     "name": "stdout",
     "output_type": "stream",
     "text": [
      "....................\u001b[34mArguments: serve\u001b[0m\n",
      "\u001b[34m[2020-04-20 03:40:29 +0000] [1] [INFO] Starting gunicorn 19.7.1\u001b[0m\n",
      "\u001b[34m[2020-04-20 03:40:29 +0000] [1] [INFO] Listening at: http://0.0.0.0:8080 (1)\u001b[0m\n",
      "\u001b[34m[2020-04-20 03:40:29 +0000] [1] [INFO] Using worker: gevent\u001b[0m\n",
      "\u001b[34m[2020-04-20 03:40:29 +0000] [39] [INFO] Booting worker with pid: 39\u001b[0m\n",
      "\u001b[34m[2020-04-20 03:40:30 +0000] [40] [INFO] Booting worker with pid: 40\u001b[0m\n",
      "\u001b[34m[2020-04-20:03:40:30:INFO] Model loaded successfully for worker : 39\u001b[0m\n",
      "\u001b[34m[2020-04-20 03:40:30 +0000] [41] [INFO] Booting worker with pid: 41\u001b[0m\n",
      "\u001b[34m[2020-04-20 03:40:30 +0000] [42] [INFO] Booting worker with pid: 42\u001b[0m\n",
      "\u001b[34m[2020-04-20:03:40:30:INFO] Model loaded successfully for worker : 40\u001b[0m\n",
      "\u001b[34m[2020-04-20:03:40:30:INFO] Model loaded successfully for worker : 41\u001b[0m\n",
      "\u001b[34m[2020-04-20:03:40:30:INFO] Model loaded successfully for worker : 42\u001b[0m\n",
      "\u001b[32m2020-04-20T03:40:45.455:[sagemaker logs]: MaxConcurrentTransforms=4, MaxPayloadInMB=6, BatchStrategy=MULTI_RECORD\u001b[0m\n",
      "\u001b[34m[2020-04-20:03:40:49:INFO] Sniff delimiter as ','\u001b[0m\n",
      "\u001b[34m[2020-04-20:03:40:49:INFO] Determined delimiter of CSV input is ','\u001b[0m\n",
      "\u001b[34m[2020-04-20:03:40:49:INFO] Sniff delimiter as ','\u001b[0m\n",
      "\u001b[34m[2020-04-20:03:40:49:INFO] Determined delimiter of CSV input is ','\u001b[0m\n",
      "\u001b[35m[2020-04-20:03:40:49:INFO] Sniff delimiter as ','\u001b[0m\n",
      "\u001b[35m[2020-04-20:03:40:49:INFO] Determined delimiter of CSV input is ','\u001b[0m\n",
      "\u001b[35m[2020-04-20:03:40:49:INFO] Sniff delimiter as ','\u001b[0m\n",
      "\u001b[35m[2020-04-20:03:40:49:INFO] Determined delimiter of CSV input is ','\u001b[0m\n",
      "\u001b[34m[2020-04-20:03:40:49:INFO] Sniff delimiter as ','\u001b[0m\n",
      "\u001b[34m[2020-04-20:03:40:49:INFO] Determined delimiter of CSV input is ','\u001b[0m\n",
      "\u001b[35m[2020-04-20:03:40:49:INFO] Sniff delimiter as ','\u001b[0m\n",
      "\u001b[35m[2020-04-20:03:40:49:INFO] Determined delimiter of CSV input is ','\u001b[0m\n",
      "\u001b[34m[2020-04-20:03:40:50:INFO] Sniff delimiter as ','\u001b[0m\n",
      "\u001b[34m[2020-04-20:03:40:50:INFO] Determined delimiter of CSV input is ','\u001b[0m\n",
      "\u001b[35m[2020-04-20:03:40:50:INFO] Sniff delimiter as ','\u001b[0m\n",
      "\u001b[35m[2020-04-20:03:40:50:INFO] Determined delimiter of CSV input is ','\u001b[0m\n",
      "\u001b[34m[2020-04-20:03:40:51:INFO] Sniff delimiter as ','\u001b[0m\n",
      "\u001b[35m[2020-04-20:03:40:51:INFO] Sniff delimiter as ','\u001b[0m\n",
      "\u001b[34m[2020-04-20:03:40:51:INFO] Determined delimiter of CSV input is ','\u001b[0m\n",
      "\u001b[34m[2020-04-20:03:40:51:INFO] Sniff delimiter as ','\u001b[0m\n",
      "\u001b[34m[2020-04-20:03:40:51:INFO] Determined delimiter of CSV input is ','\u001b[0m\n",
      "\u001b[35m[2020-04-20:03:40:51:INFO] Determined delimiter of CSV input is ','\u001b[0m\n",
      "\u001b[35m[2020-04-20:03:40:51:INFO] Sniff delimiter as ','\u001b[0m\n",
      "\u001b[35m[2020-04-20:03:40:51:INFO] Determined delimiter of CSV input is ','\u001b[0m\n",
      "\u001b[34m[2020-04-20:03:40:52:INFO] Sniff delimiter as ','\u001b[0m\n",
      "\u001b[34m[2020-04-20:03:40:52:INFO] Determined delimiter of CSV input is ','\u001b[0m\n",
      "\u001b[35m[2020-04-20:03:40:52:INFO] Sniff delimiter as ','\u001b[0m\n",
      "\u001b[35m[2020-04-20:03:40:52:INFO] Determined delimiter of CSV input is ','\u001b[0m\n",
      "\u001b[34m[2020-04-20:03:40:53:INFO] Sniff delimiter as ','\u001b[0m\n",
      "\u001b[34m[2020-04-20:03:40:53:INFO] Determined delimiter of CSV input is ','\u001b[0m\n",
      "\u001b[35m[2020-04-20:03:40:53:INFO] Sniff delimiter as ','\u001b[0m\n",
      "\u001b[35m[2020-04-20:03:40:53:INFO] Determined delimiter of CSV input is ','\u001b[0m\n",
      "\u001b[34m[2020-04-20:03:40:54:INFO] Sniff delimiter as ','\u001b[0m\n",
      "\u001b[34m[2020-04-20:03:40:54:INFO] Determined delimiter of CSV input is ','\u001b[0m\n",
      "\u001b[34m[2020-04-20:03:40:54:INFO] Sniff delimiter as ','\u001b[0m\n",
      "\u001b[34m[2020-04-20:03:40:54:INFO] Determined delimiter of CSV input is ','\u001b[0m\n",
      "\u001b[35m[2020-04-20:03:40:54:INFO] Sniff delimiter as ','\u001b[0m\n",
      "\u001b[35m[2020-04-20:03:40:54:INFO] Determined delimiter of CSV input is ','\u001b[0m\n",
      "\u001b[35m[2020-04-20:03:40:54:INFO] Sniff delimiter as ','\u001b[0m\n",
      "\u001b[35m[2020-04-20:03:40:54:INFO] Determined delimiter of CSV input is ','\u001b[0m\n",
      "\u001b[34m[2020-04-20:03:40:55:INFO] Sniff delimiter as ','\u001b[0m\n",
      "\u001b[34m[2020-04-20:03:40:55:INFO] Determined delimiter of CSV input is ','\u001b[0m\n",
      "\u001b[35m[2020-04-20:03:40:55:INFO] Sniff delimiter as ','\u001b[0m\n",
      "\u001b[35m[2020-04-20:03:40:55:INFO] Determined delimiter of CSV input is ','\u001b[0m\n",
      "\u001b[34m[2020-04-20:03:40:56:INFO] Sniff delimiter as ','\u001b[0m\n",
      "\u001b[34m[2020-04-20:03:40:56:INFO] Determined delimiter of CSV input is ','\u001b[0m\n",
      "\u001b[34m[2020-04-20:03:40:56:INFO] Sniff delimiter as ','\u001b[0m\n",
      "\u001b[34m[2020-04-20:03:40:56:INFO] Determined delimiter of CSV input is ','\u001b[0m\n",
      "\u001b[35m[2020-04-20:03:40:56:INFO] Sniff delimiter as ','\u001b[0m\n",
      "\u001b[35m[2020-04-20:03:40:56:INFO] Determined delimiter of CSV input is ','\u001b[0m\n",
      "\u001b[35m[2020-04-20:03:40:56:INFO] Sniff delimiter as ','\u001b[0m\n",
      "\u001b[35m[2020-04-20:03:40:56:INFO] Determined delimiter of CSV input is ','\u001b[0m\n",
      "\u001b[34m[2020-04-20:03:40:58:INFO] Sniff delimiter as ','\u001b[0m\n",
      "\u001b[34m[2020-04-20:03:40:58:INFO] Determined delimiter of CSV input is ','\u001b[0m\n",
      "\u001b[34m[2020-04-20:03:40:58:INFO] Sniff delimiter as ','\u001b[0m\n",
      "\u001b[34m[2020-04-20:03:40:58:INFO] Determined delimiter of CSV input is ','\u001b[0m\n",
      "\u001b[34m[2020-04-20:03:40:58:INFO] Sniff delimiter as ','\u001b[0m\n",
      "\u001b[34m[2020-04-20:03:40:58:INFO] Determined delimiter of CSV input is ','\u001b[0m\n",
      "\u001b[34m[2020-04-20:03:40:58:INFO] Sniff delimiter as ','\u001b[0m\n",
      "\u001b[34m[2020-04-20:03:40:58:INFO] Determined delimiter of CSV input is ','\u001b[0m\n",
      "\u001b[35m[2020-04-20:03:40:58:INFO] Sniff delimiter as ','\u001b[0m\n",
      "\u001b[35m[2020-04-20:03:40:58:INFO] Determined delimiter of CSV input is ','\u001b[0m\n",
      "\u001b[35m[2020-04-20:03:40:58:INFO] Sniff delimiter as ','\u001b[0m\n",
      "\u001b[35m[2020-04-20:03:40:58:INFO] Determined delimiter of CSV input is ','\u001b[0m\n",
      "\u001b[35m[2020-04-20:03:40:58:INFO] Sniff delimiter as ','\u001b[0m\n",
      "\u001b[35m[2020-04-20:03:40:58:INFO] Determined delimiter of CSV input is ','\u001b[0m\n",
      "\u001b[35m[2020-04-20:03:40:58:INFO] Sniff delimiter as ','\u001b[0m\n",
      "\u001b[35m[2020-04-20:03:40:58:INFO] Determined delimiter of CSV input is ','\u001b[0m\n",
      "\u001b[34m[2020-04-20:03:41:02:INFO] Sniff delimiter as ','\u001b[0m\n",
      "\u001b[34m[2020-04-20:03:41:02:INFO] Determined delimiter of CSV input is ','\u001b[0m\n",
      "\u001b[35m[2020-04-20:03:41:02:INFO] Sniff delimiter as ','\u001b[0m\n",
      "\u001b[35m[2020-04-20:03:41:02:INFO] Determined delimiter of CSV input is ','\u001b[0m\n",
      "\u001b[34m[2020-04-20:03:41:02:INFO] Sniff delimiter as ','\u001b[0m\n",
      "\u001b[34m[2020-04-20:03:41:02:INFO] Determined delimiter of CSV input is ','\u001b[0m\n",
      "\u001b[34m[2020-04-20:03:41:02:INFO] Sniff delimiter as ','\u001b[0m\n",
      "\u001b[34m[2020-04-20:03:41:02:INFO] Determined delimiter of CSV input is ','\u001b[0m\n",
      "\u001b[34m[2020-04-20:03:41:03:INFO] Sniff delimiter as ','\u001b[0m\n",
      "\u001b[34m[2020-04-20:03:41:03:INFO] Determined delimiter of CSV input is ','\u001b[0m\n",
      "\u001b[35m[2020-04-20:03:41:02:INFO] Sniff delimiter as ','\u001b[0m\n",
      "\u001b[35m[2020-04-20:03:41:02:INFO] Determined delimiter of CSV input is ','\u001b[0m\n",
      "\u001b[35m[2020-04-20:03:41:02:INFO] Sniff delimiter as ','\u001b[0m\n",
      "\u001b[35m[2020-04-20:03:41:02:INFO] Determined delimiter of CSV input is ','\u001b[0m\n",
      "\u001b[35m[2020-04-20:03:41:03:INFO] Sniff delimiter as ','\u001b[0m\n",
      "\u001b[35m[2020-04-20:03:41:03:INFO] Determined delimiter of CSV input is ','\u001b[0m\n",
      "\u001b[34m[2020-04-20:03:41:05:INFO] Sniff delimiter as ','\u001b[0m\n",
      "\u001b[34m[2020-04-20:03:41:05:INFO] Determined delimiter of CSV input is ','\u001b[0m\n",
      "\u001b[34m[2020-04-20:03:41:05:INFO] Sniff delimiter as ','\u001b[0m\n",
      "\u001b[34m[2020-04-20:03:41:05:INFO] Determined delimiter of CSV input is ','\u001b[0m\n",
      "\u001b[34m[2020-04-20:03:41:05:INFO] Sniff delimiter as ','\u001b[0m\n",
      "\u001b[34m[2020-04-20:03:41:05:INFO] Determined delimiter of CSV input is ','\u001b[0m\n",
      "\u001b[34m[2020-04-20:03:41:05:INFO] Sniff delimiter as ','\u001b[0m\n",
      "\u001b[35m[2020-04-20:03:41:05:INFO] Sniff delimiter as ','\u001b[0m\n",
      "\u001b[35m[2020-04-20:03:41:05:INFO] Determined delimiter of CSV input is ','\u001b[0m\n",
      "\u001b[35m[2020-04-20:03:41:05:INFO] Sniff delimiter as ','\u001b[0m\n",
      "\u001b[35m[2020-04-20:03:41:05:INFO] Determined delimiter of CSV input is ','\u001b[0m\n",
      "\u001b[35m[2020-04-20:03:41:05:INFO] Sniff delimiter as ','\u001b[0m\n",
      "\u001b[35m[2020-04-20:03:41:05:INFO] Determined delimiter of CSV input is ','\u001b[0m\n",
      "\u001b[35m[2020-04-20:03:41:05:INFO] Sniff delimiter as ','\u001b[0m\n",
      "\u001b[34m[2020-04-20:03:41:05:INFO] Determined delimiter of CSV input is ','\u001b[0m\n",
      "\u001b[35m[2020-04-20:03:41:05:INFO] Determined delimiter of CSV input is ','\u001b[0m\n",
      "\u001b[34m[2020-04-20:03:41:07:INFO] Sniff delimiter as ','\u001b[0m\n",
      "\u001b[34m[2020-04-20:03:41:07:INFO] Determined delimiter of CSV input is ','\u001b[0m\n",
      "\u001b[34m[2020-04-20:03:41:07:INFO] Sniff delimiter as ','\u001b[0m\n",
      "\u001b[34m[2020-04-20:03:41:07:INFO] Determined delimiter of CSV input is ','\u001b[0m\n",
      "\u001b[34m[2020-04-20:03:41:07:INFO] Sniff delimiter as ','\u001b[0m\n",
      "\u001b[34m[2020-04-20:03:41:07:INFO] Determined delimiter of CSV input is ','\u001b[0m\n",
      "\u001b[35m[2020-04-20:03:41:07:INFO] Sniff delimiter as ','\u001b[0m\n",
      "\u001b[35m[2020-04-20:03:41:07:INFO] Determined delimiter of CSV input is ','\u001b[0m\n",
      "\u001b[35m[2020-04-20:03:41:07:INFO] Sniff delimiter as ','\u001b[0m\n",
      "\u001b[35m[2020-04-20:03:41:07:INFO] Determined delimiter of CSV input is ','\u001b[0m\n",
      "\u001b[35m[2020-04-20:03:41:07:INFO] Sniff delimiter as ','\u001b[0m\n",
      "\u001b[35m[2020-04-20:03:41:07:INFO] Determined delimiter of CSV input is ','\u001b[0m\n",
      "\u001b[34m[2020-04-20:03:41:08:INFO] Sniff delimiter as ','\u001b[0m\n",
      "\u001b[34m[2020-04-20:03:41:08:INFO] Determined delimiter of CSV input is ','\u001b[0m\n",
      "\u001b[35m[2020-04-20:03:41:08:INFO] Sniff delimiter as ','\u001b[0m\n",
      "\u001b[35m[2020-04-20:03:41:08:INFO] Determined delimiter of CSV input is ','\u001b[0m\n",
      "\u001b[34m[2020-04-20:03:41:10:INFO] Sniff delimiter as ','\u001b[0m\n",
      "\u001b[35m[2020-04-20:03:41:10:INFO] Sniff delimiter as ','\u001b[0m\n",
      "\u001b[34m[2020-04-20:03:41:10:INFO] Determined delimiter of CSV input is ','\u001b[0m\n",
      "\u001b[34m[2020-04-20:03:41:10:INFO] Sniff delimiter as ','\u001b[0m\n",
      "\u001b[34m[2020-04-20:03:41:10:INFO] Determined delimiter of CSV input is ','\u001b[0m\n",
      "\u001b[34m[2020-04-20:03:41:10:INFO] Sniff delimiter as ','\u001b[0m\n",
      "\u001b[34m[2020-04-20:03:41:10:INFO] Determined delimiter of CSV input is ','\u001b[0m\n",
      "\u001b[34m[2020-04-20:03:41:10:INFO] Sniff delimiter as ','\u001b[0m\n",
      "\u001b[34m[2020-04-20:03:41:10:INFO] Determined delimiter of CSV input is ','\u001b[0m\n",
      "\u001b[35m[2020-04-20:03:41:10:INFO] Determined delimiter of CSV input is ','\u001b[0m\n",
      "\u001b[35m[2020-04-20:03:41:10:INFO] Sniff delimiter as ','\u001b[0m\n",
      "\u001b[35m[2020-04-20:03:41:10:INFO] Determined delimiter of CSV input is ','\u001b[0m\n",
      "\u001b[35m[2020-04-20:03:41:10:INFO] Sniff delimiter as ','\u001b[0m\n",
      "\u001b[35m[2020-04-20:03:41:10:INFO] Determined delimiter of CSV input is ','\u001b[0m\n",
      "\u001b[35m[2020-04-20:03:41:10:INFO] Sniff delimiter as ','\u001b[0m\n",
      "\u001b[35m[2020-04-20:03:41:10:INFO] Determined delimiter of CSV input is ','\u001b[0m\n",
      "\u001b[34m[2020-04-20:03:41:12:INFO] Sniff delimiter as ','\u001b[0m\n",
      "\u001b[34m[2020-04-20:03:41:12:INFO] Determined delimiter of CSV input is ','\u001b[0m\n",
      "\u001b[34m[2020-04-20:03:41:12:INFO] Sniff delimiter as ','\u001b[0m\n",
      "\u001b[34m[2020-04-20:03:41:12:INFO] Determined delimiter of CSV input is ','\u001b[0m\n",
      "\u001b[35m[2020-04-20:03:41:12:INFO] Sniff delimiter as ','\u001b[0m\n",
      "\u001b[35m[2020-04-20:03:41:12:INFO] Determined delimiter of CSV input is ','\u001b[0m\n",
      "\u001b[35m[2020-04-20:03:41:12:INFO] Sniff delimiter as ','\u001b[0m\n",
      "\u001b[35m[2020-04-20:03:41:12:INFO] Determined delimiter of CSV input is ','\u001b[0m\n",
      "\n"
     ]
    }
   ],
   "source": [
    "new_xgb_transformer.transform(test_location, content_type='text/csv', split_type='Line')\n",
    "new_xgb_transformer.wait()"
   ]
  },
  {
   "cell_type": "code",
   "execution_count": 94,
   "metadata": {},
   "outputs": [
    {
     "name": "stdout",
     "output_type": "stream",
     "text": [
      "download: s3://sagemaker-us-east-2-244377630672/xgboost-2020-04-20-03-37-25-168/test.csv.out to ../data/sentiment_update/test.csv.out\r\n"
     ]
    }
   ],
   "source": [
    "!aws s3 cp --recursive $new_xgb_transformer.output_path $data_dir"
   ]
  },
  {
   "cell_type": "code",
   "execution_count": 95,
   "metadata": {},
   "outputs": [],
   "source": [
    "predictions = pd.read_csv(os.path.join(data_dir, 'test.csv.out'), header=None)\n",
    "predictions = [round(num) for num in predictions.squeeze().values]"
   ]
  },
  {
   "cell_type": "code",
   "execution_count": 96,
   "metadata": {},
   "outputs": [
    {
     "data": {
      "text/plain": [
       "0.84196"
      ]
     },
     "execution_count": 96,
     "metadata": {},
     "output_type": "execute_result"
    }
   ],
   "source": [
    "accuracy_score(test_Y, predictions)"
   ]
  },
  {
   "cell_type": "markdown",
   "metadata": {},
   "source": [
    "It would appear that our new XGBoost model is performing quite well on the old test data. This gives us some indication that our new model should be put into production and replace our original model."
   ]
  },
  {
   "cell_type": "markdown",
   "metadata": {},
   "source": [
    "## Step 6: (TODO) Updating the Model\n",
    "\n",
    "So we have a new model that we'd like to use instead of one that is already deployed. Furthermore, we are assuming that the model that is already deployed is being used in some sort of application. As a result, what we want to do is update the existing endpoint so that it uses our new model.\n",
    "\n",
    "Of course, to do this we need to create an endpoint configuration for our newly created model.\n",
    "\n",
    "First, note that we can access the name of the model that we created above using the `model_name` property of the transformer. The reason for this is that in order for the transformer to create a batch transform job it needs to first create the model object inside of SageMaker. Since we've sort of already done this we should take advantage of it."
   ]
  },
  {
   "cell_type": "code",
   "execution_count": 97,
   "metadata": {},
   "outputs": [
    {
     "data": {
      "text/plain": [
       "'xgboost-2020-04-20-03-22-52-267'"
      ]
     },
     "execution_count": 97,
     "metadata": {},
     "output_type": "execute_result"
    }
   ],
   "source": [
    "new_xgb_transformer.model_name"
   ]
  },
  {
   "cell_type": "markdown",
   "metadata": {},
   "source": [
    "Next, we create an endpoint configuration using the low level approach of creating the dictionary object which describes the endpoint configuration we want.\n",
    "\n",
    "**TODO:** Using the low level approach, create a new endpoint configuration. Don't forget that it needs a name and that the name needs to be unique. If you get stuck, try looking at the Boston Housing Low Level Deployment tutorial notebook."
   ]
  },
  {
   "cell_type": "code",
   "execution_count": 99,
   "metadata": {},
   "outputs": [],
   "source": [
    "from time import gmtime, strftime\n",
    "\n",
    "\n",
    "# TODO: Give our endpoint configuration a name. Remember, it needs to be unique.\n",
    "new_xgb_endpoint_config_name = \"sentiment-update-xgboost-endpoint-config-\" + strftime(\"%Y-%m-%d-%H-%M-%S\", gmtime())\n",
    "# TODO: Using the SageMaker Client, construct the endpoint configuration.\n",
    "new_xgb_endpoint_config_info = session.sagemaker_client.create_endpoint_config(\n",
    "                            EndpointConfigName = new_xgb_endpoint_config_name,\n",
    "                            ProductionVariants = [{\n",
    "                                \"InstanceType\": \"ml.m4.xlarge\",\n",
    "                                \"InitialVariantWeight\": 1,\n",
    "                                \"InitialInstanceCount\": 1,\n",
    "                                \"ModelName\": new_xgb_transformer.model_name,\n",
    "                                \"VariantName\": \"XGB-Model\"\n",
    "                            }])"
   ]
  },
  {
   "cell_type": "markdown",
   "metadata": {},
   "source": [
    "Once the endpoint configuration has been constructed, it is a straightforward matter to ask SageMaker to update the existing endpoint so that it uses the new endpoint configuration.\n",
    "\n",
    "Of note here is that SageMaker does this in such a way that there is no downtime. Essentially, SageMaker deploys the new model and then updates the original endpoint so that it points to the newly deployed model. After that, the original model is shut down. This way, whatever app is using our endpoint won't notice that we've changed the model that is being used.\n",
    "\n",
    "**TODO:** Use the SageMaker Client to update the endpoint that you deployed earlier."
   ]
  },
  {
   "cell_type": "code",
   "execution_count": 100,
   "metadata": {},
   "outputs": [
    {
     "data": {
      "text/plain": [
       "{'EndpointArn': 'arn:aws:sagemaker:us-east-2:244377630672:endpoint/xgboost-2020-04-20-01-46-33-589',\n",
       " 'ResponseMetadata': {'RequestId': 'f1afeadf-dc70-410f-8c77-cecb74f53591',\n",
       "  'HTTPStatusCode': 200,\n",
       "  'HTTPHeaders': {'x-amzn-requestid': 'f1afeadf-dc70-410f-8c77-cecb74f53591',\n",
       "   'content-type': 'application/x-amz-json-1.1',\n",
       "   'content-length': '99',\n",
       "   'date': 'Mon, 20 Apr 2020 03:44:40 GMT'},\n",
       "  'RetryAttempts': 0}}"
      ]
     },
     "execution_count": 100,
     "metadata": {},
     "output_type": "execute_result"
    }
   ],
   "source": [
    "# TODO: Update the xgb_predictor.endpoint so that it uses new_xgb_endpoint_config_name.\n",
    "\n",
    "# Solution:\n",
    "session.sagemaker_client.update_endpoint(EndpointName=xgb_predictor.endpoint, EndpointConfigName=new_xgb_endpoint_config_name)"
   ]
  },
  {
   "cell_type": "markdown",
   "metadata": {},
   "source": [
    "And, as is generally the case with SageMaker requests, this is being done in the background so if we want to wait for it to complete we need to call the appropriate method."
   ]
  },
  {
   "cell_type": "code",
   "execution_count": null,
   "metadata": {},
   "outputs": [
    {
     "name": "stdout",
     "output_type": "stream",
     "text": [
      "-------------"
     ]
    }
   ],
   "source": [
    "session.wait_for_endpoint(xgb_predictor.endpoint)"
   ]
  },
  {
   "cell_type": "markdown",
   "metadata": {},
   "source": [
    "## Step 7: Delete the Endpoint\n",
    "\n",
    "Of course, since we are done with the deployed endpoint we need to make sure to shut it down, otherwise we will continue to be charged for it."
   ]
  },
  {
   "cell_type": "code",
   "execution_count": null,
   "metadata": {},
   "outputs": [],
   "source": [
    "xgb_predictor.delete_endpoint()"
   ]
  },
  {
   "cell_type": "markdown",
   "metadata": {},
   "source": [
    "## Some Additional Questions\n",
    "\n",
    "This notebook is a little different from the other notebooks in this module. In part, this is because it is meant to be a little bit closer to the type of problem you may face in a real world scenario. Of course, this problem is a very easy one with a prescribed solution, but there are many other interesting questions that we did not consider here and that you may wish to consider yourself.\n",
    "\n",
    "For example,\n",
    "- What other ways could the underlying distribution change?\n",
    "- Is it a good idea to re-train the model using only the new data?\n",
    "- What would change if the quantity of new data wasn't large. Say you only received 500 samples?\n",
    "\n",
    "The review lengths could be shorter or longer than the data we trained on. There could be a heavy bias towards one side (positive or negative). There could be a lot of sarcasm.\n",
    "\n",
    "Probably not, and especially not if the old model's performance wasn't that bad. Maybe the new distribution is a temporary matter, and you wouldn't want to train a completely new model on completely separate data if that was the case. Maybe mixing in what the model got wrong from the original model into our new training data might be an interesting idea to help eliminate errors.\n",
    "\n",
    "If the new data quantity wasn't so large, we should definitely mix in a lot (if not, all) of the previous data set if we need to retrain a new model. Still, it's important to keep in mind that if 500 is a very small sample, then any errors in prediction that might result might be skewed and biased from a skewed and biased dataset--not necessarily representative of some fundamental issue in the generalized model. It might be prudent to await more data before overhauling to a new endpoint."
   ]
  },
  {
   "cell_type": "markdown",
   "metadata": {},
   "source": [
    "## Optional: Clean up\n",
    "\n",
    "The default notebook instance on SageMaker doesn't have a lot of excess disk space available. As you continue to complete and execute notebooks you will eventually fill up this disk space, leading to errors which can be difficult to diagnose. Once you are completely finished using a notebook it is a good idea to remove the files that you created along the way. Of course, you can do this from the terminal or from the notebook hub if you would like. The cell below contains some commands to clean up the created files from within the notebook."
   ]
  },
  {
   "cell_type": "code",
   "execution_count": null,
   "metadata": {},
   "outputs": [],
   "source": [
    "# First we will remove all of the files contained in the data_dir directory\n",
    "!rm $data_dir/*\n",
    "\n",
    "# And then we delete the directory itself\n",
    "!rmdir $data_dir\n",
    "\n",
    "# Similarly we will remove the files in the cache_dir directory and the directory itself\n",
    "!rm $cache_dir/*\n",
    "!rmdir $cache_dir"
   ]
  },
  {
   "cell_type": "code",
   "execution_count": null,
   "metadata": {},
   "outputs": [],
   "source": []
  }
 ],
 "metadata": {
  "kernelspec": {
   "display_name": "conda_pytorch_p36",
   "language": "python",
   "name": "conda_pytorch_p36"
  },
  "language_info": {
   "codemirror_mode": {
    "name": "ipython",
    "version": 3
   },
   "file_extension": ".py",
   "mimetype": "text/x-python",
   "name": "python",
   "nbconvert_exporter": "python",
   "pygments_lexer": "ipython3",
   "version": "3.6.5"
  }
 },
 "nbformat": 4,
 "nbformat_minor": 2
}
