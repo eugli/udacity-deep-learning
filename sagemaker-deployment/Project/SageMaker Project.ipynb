{
 "cells": [
  {
   "cell_type": "markdown",
   "metadata": {},
   "source": [
    "# Creating a Sentiment Analysis Web App\n",
    "## Using PyTorch and SageMaker\n",
    "\n",
    "_Deep Learning Nanodegree Program | Deployment_\n",
    "\n",
    "---\n",
    "\n",
    "Now that we have a basic understanding of how SageMaker works we will try to use it to construct a complete project from end to end. Our goal will be to have a simple web page which a user can use to enter a movie review. The web page will then send the review off to our deployed model which will predict the sentiment of the entered review.\n",
    "\n",
    "## Instructions\n",
    "\n",
    "Some template code has already been provided for you, and you will need to implement additional functionality to successfully complete this notebook. You will not need to modify the included code beyond what is requested. Sections that begin with '**TODO**' in the header indicate that you need to complete or implement some portion within them. Instructions will be provided for each section and the specifics of the implementation are marked in the code block with a `# TODO: ...` comment. Please be sure to read the instructions carefully!\n",
    "\n",
    "In addition to implementing code, there will be questions for you to answer which relate to the task and your implementation. Each section where you will answer a question is preceded by a '**Question:**' header. Carefully read each question and provide your answer below the '**Answer:**' header by editing the Markdown cell.\n",
    "\n",
    "> **Note**: Code and Markdown cells can be executed using the **Shift+Enter** keyboard shortcut. In addition, a cell can be edited by typically clicking it (double-click for Markdown cells) or by pressing **Enter** while it is highlighted.\n",
    "\n",
    "## General Outline\n",
    "\n",
    "Recall the general outline for SageMaker projects using a notebook instance.\n",
    "\n",
    "1. Download or otherwise retrieve the data.\n",
    "2. Process / Prepare the data.\n",
    "3. Upload the processed data to S3.\n",
    "4. Train a chosen model.\n",
    "5. Test the trained model (typically using a batch transform job).\n",
    "6. Deploy the trained model.\n",
    "7. Use the deployed model.\n",
    "\n",
    "For this project, you will be following the steps in the general outline with some modifications. \n",
    "\n",
    "First, you will not be testing the model in its own step. You will still be testing the model, however, you will do it by deploying your model and then using the deployed model by sending the test data to it. One of the reasons for doing this is so that you can make sure that your deployed model is working correctly before moving forward.\n",
    "\n",
    "In addition, you will deploy and use your trained model a second time. In the second iteration you will customize the way that your trained model is deployed by including some of your own code. In addition, your newly deployed model will be used in the sentiment analysis web app."
   ]
  },
  {
   "cell_type": "markdown",
   "metadata": {},
   "source": [
    "## Step 1: Downloading the data\n",
    "\n",
    "As in the XGBoost in SageMaker notebook, we will be using the [IMDb dataset](http://ai.stanford.edu/~amaas/data/sentiment/)\n",
    "\n",
    "> Maas, Andrew L., et al. [Learning Word Vectors for Sentiment Analysis](http://ai.stanford.edu/~amaas/data/sentiment/). In _Proceedings of the 49th Annual Meeting of the Association for Computational Linguistics: Human Language Technologies_. Association for Computational Linguistics, 2011."
   ]
  },
  {
   "cell_type": "code",
   "execution_count": 1,
   "metadata": {},
   "outputs": [
    {
     "name": "stdout",
     "output_type": "stream",
     "text": [
      "mkdir: cannot create directory ‘../data’: File exists\n",
      "--2020-04-22 02:22:03--  http://ai.stanford.edu/~amaas/data/sentiment/aclImdb_v1.tar.gz\n",
      "Resolving ai.stanford.edu (ai.stanford.edu)... 171.64.68.10\n",
      "Connecting to ai.stanford.edu (ai.stanford.edu)|171.64.68.10|:80... connected.\n",
      "HTTP request sent, awaiting response... 200 OK\n",
      "Length: 84125825 (80M) [application/x-gzip]\n",
      "Saving to: ‘../data/aclImdb_v1.tar.gz’\n",
      "\n",
      "../data/aclImdb_v1. 100%[===================>]  80.23M  23.0MB/s    in 4.1s    \n",
      "\n",
      "2020-04-22 02:22:07 (19.7 MB/s) - ‘../data/aclImdb_v1.tar.gz’ saved [84125825/84125825]\n",
      "\n"
     ]
    }
   ],
   "source": [
    "%mkdir ../data\n",
    "!wget -O ../data/aclImdb_v1.tar.gz http://ai.stanford.edu/~amaas/data/sentiment/aclImdb_v1.tar.gz\n",
    "!tar -zxf ../data/aclImdb_v1.tar.gz -C ../data"
   ]
  },
  {
   "cell_type": "markdown",
   "metadata": {},
   "source": [
    "## Step 2: Preparing and Processing the data\n",
    "\n",
    "Also, as in the XGBoost notebook, we will be doing some initial data processing. The first few steps are the same as in the XGBoost example. To begin with, we will read in each of the reviews and combine them into a single input structure. Then, we will split the dataset into a training set and a testing set."
   ]
  },
  {
   "cell_type": "code",
   "execution_count": 2,
   "metadata": {},
   "outputs": [],
   "source": [
    "import os\n",
    "import glob\n",
    "\n",
    "def read_imdb_data(data_dir='../data/aclImdb'):\n",
    "    data = {}\n",
    "    labels = {}\n",
    "    \n",
    "    for data_type in ['train', 'test']:\n",
    "        data[data_type] = {}\n",
    "        labels[data_type] = {}\n",
    "        \n",
    "        for sentiment in ['pos', 'neg']:\n",
    "            data[data_type][sentiment] = []\n",
    "            labels[data_type][sentiment] = []\n",
    "            \n",
    "            path = os.path.join(data_dir, data_type, sentiment, '*.txt')\n",
    "            files = glob.glob(path)\n",
    "            \n",
    "            for f in files:\n",
    "                with open(f) as review:\n",
    "                    data[data_type][sentiment].append(review.read())\n",
    "                    # Here we represent a positive review by '1' and a negative review by '0'\n",
    "                    labels[data_type][sentiment].append(1 if sentiment == 'pos' else 0)\n",
    "                    \n",
    "            assert len(data[data_type][sentiment]) == len(labels[data_type][sentiment]), \\\n",
    "                    \"{}/{} data size does not match labels size\".format(data_type, sentiment)\n",
    "                \n",
    "    return data, labels"
   ]
  },
  {
   "cell_type": "code",
   "execution_count": 3,
   "metadata": {},
   "outputs": [
    {
     "name": "stdout",
     "output_type": "stream",
     "text": [
      "IMDB reviews: train = 12500 pos / 12500 neg, test = 12500 pos / 12500 neg\n"
     ]
    }
   ],
   "source": [
    "data, labels = read_imdb_data()\n",
    "print(\"IMDB reviews: train = {} pos / {} neg, test = {} pos / {} neg\".format(\n",
    "            len(data['train']['pos']), len(data['train']['neg']),\n",
    "            len(data['test']['pos']), len(data['test']['neg'])))"
   ]
  },
  {
   "cell_type": "markdown",
   "metadata": {},
   "source": [
    "Now that we've read the raw training and testing data from the downloaded dataset, we will combine the positive and negative reviews and shuffle the resulting records."
   ]
  },
  {
   "cell_type": "code",
   "execution_count": 4,
   "metadata": {},
   "outputs": [],
   "source": [
    "from sklearn.utils import shuffle\n",
    "\n",
    "def prepare_imdb_data(data, labels):\n",
    "    \"\"\"Prepare training and test sets from IMDb movie reviews.\"\"\"\n",
    "    \n",
    "    #Combine positive and negative reviews and labels\n",
    "    data_train = data['train']['pos'] + data['train']['neg']\n",
    "    data_test = data['test']['pos'] + data['test']['neg']\n",
    "    labels_train = labels['train']['pos'] + labels['train']['neg']\n",
    "    labels_test = labels['test']['pos'] + labels['test']['neg']\n",
    "    \n",
    "    #Shuffle reviews and corresponding labels within training and test sets\n",
    "    data_train, labels_train = shuffle(data_train, labels_train)\n",
    "    data_test, labels_test = shuffle(data_test, labels_test)\n",
    "    \n",
    "    # Return a unified training data, test data, training labels, test labets\n",
    "    return data_train, data_test, labels_train, labels_test"
   ]
  },
  {
   "cell_type": "code",
   "execution_count": 5,
   "metadata": {},
   "outputs": [
    {
     "name": "stdout",
     "output_type": "stream",
     "text": [
      "IMDb reviews (combined): train = 25000, test = 25000\n"
     ]
    }
   ],
   "source": [
    "train_X, test_X, train_y, test_y = prepare_imdb_data(data, labels)\n",
    "print(\"IMDb reviews (combined): train = {}, test = {}\".format(len(train_X), len(test_X)))"
   ]
  },
  {
   "cell_type": "markdown",
   "metadata": {},
   "source": [
    "Now that we have our training and testing sets unified and prepared, we should do a quick check and see an example of the data our model will be trained on. This is generally a good idea as it allows you to see how each of the further processing steps affects the reviews and it also ensures that the data has been loaded correctly."
   ]
  },
  {
   "cell_type": "code",
   "execution_count": 6,
   "metadata": {},
   "outputs": [
    {
     "name": "stdout",
     "output_type": "stream",
     "text": [
      "Made after QUARTET was, TRIO continued the quality of the earlier film versions of the short stories by Maugham. Here the three stories are THE VERGER, MR. KNOW-IT-ALL, and SANITORIUM. The first two are comic (THE VERGER is like a prolonged joke, but one with a good pay-off), and the last more serious (as health issues are involved). Again the author introduces the film and the stories.<br /><br />James Hayter, soon to have his signature role as Samuel Pickwick, is the hero in THE VERGER. He holds this small custodial-type job in a church, but the new Vicar (Michael Hordern) is an intellectual snob. When he hears Hayter has no schooling he fires him. Hayter has saved some money, so he tells his wife (Kathleen Harrison) he fancies buying a small news and tobacco shop. He has a good eye, and his store thrives. Soon he has a whole chain of stores. When his grandchild is christened by Hordern, the latter is amazed to see how prosperous his ex-Verger. The payoff is when bank manager Felix Aylmer meets with Hayter about diversifying his investments. I'll leave it to you to hear the unintentional but ironic coda of the meeting.<br /><br />According to Maugham he met a man like Max Kelada (Nigel Patrick) on a cruise. In MR. KNOW-IT-ALL Kelada is a splashy, friendly, and slightly overbearing type from the Middle East who is on a business trip (regarding jewelry) by steamship. His state-room mate is Mr. Grey (the ever quiet and proper Wilfred Hyde-White) who is somewhat, silently disapproving of Max. Max likes to enliven things, and soon is heavily involved in the ship's entertainment. At this point the story actually resembles part of the plot of the non-Maugham story and film CHINA SEAS (1935), as Max makes a bet that he can tell a real piece of jewelry from a fake (after insisting that a piece of jewelry he spotted is real). I won't describe the way Max rises to the occasion.<br /><br />SANITORIUM is the longest segment. Roland Culver plays \"Ashenden\" (the fictional alter-ego of Maugham - a writer and one time spy as in Hitchcock's THE SECRET AGENT). Here he has to use a sanitorium for a couple of months for his health. He finds a remarkable crew of people, including Jean Simmons as a frail but beautiful young woman, Finlay Currie as an irascible Scotsman, John Laurie as a second irascible Scotsman who is \"at war\" with Currie, Raymond Huntley as a quiet patient who only shows his internal anger at his situation when his wife shows up, and Michael Rennie as a young man who has a serious life threatening illness. Culver watches as three stories among these characters play out to their conclusions. The last, dealing with Simmons and Rennie, is ironic but deeply moving.<br /><br />It was a dandy follow-up to the earlier QUARTET, and well worth watching.\n",
      "1\n"
     ]
    }
   ],
   "source": [
    "print(train_X[100])\n",
    "print(train_y[100])"
   ]
  },
  {
   "cell_type": "markdown",
   "metadata": {},
   "source": [
    "The first step in processing the reviews is to make sure that any html tags that appear should be removed. In addition we wish to tokenize our input, that way words such as *entertained* and *entertaining* are considered the same with regard to sentiment analysis."
   ]
  },
  {
   "cell_type": "code",
   "execution_count": 7,
   "metadata": {},
   "outputs": [],
   "source": [
    "import nltk\n",
    "from nltk.corpus import stopwords\n",
    "from nltk.stem.porter import *\n",
    "\n",
    "import re\n",
    "from bs4 import BeautifulSoup\n",
    "\n",
    "def review_to_words(review):\n",
    "    nltk.download(\"stopwords\", quiet=True)\n",
    "    stemmer = PorterStemmer()\n",
    "    \n",
    "    text = BeautifulSoup(review, \"html.parser\").get_text() # Remove HTML tags\n",
    "    text = re.sub(r\"[^a-zA-Z0-9]\", \" \", text.lower()) # Convert to lower case\n",
    "    words = text.split() # Split string into words\n",
    "    words = [w for w in words if w not in stopwords.words(\"english\")] # Remove stopwords\n",
    "    words = [PorterStemmer().stem(w) for w in words] # stem\n",
    "    \n",
    "    return words"
   ]
  },
  {
   "cell_type": "markdown",
   "metadata": {},
   "source": [
    "The `review_to_words` method defined above uses `BeautifulSoup` to remove any html tags that appear and uses the `nltk` package to tokenize the reviews. As a check to ensure we know how everything is working, try applying `review_to_words` to one of the reviews in the training set."
   ]
  },
  {
   "cell_type": "code",
   "execution_count": 8,
   "metadata": {},
   "outputs": [
    {
     "name": "stdout",
     "output_type": "stream",
     "text": [
      "['interest', 'look', 'japan', 'prior', 'open', 'west', 'john', 'wayn', 'america', 'first', 'consul', 'japan', 'arriv', 'accord', 'agreement', 'result', 'perri', 'gunboat', 'diplomaci', 'welcom', 'wayn', 'eventu', 'win', 'meet', 'shogun', 'bring', 'cholera', 'epidem', 'introduc', 'american', 'ship', 'control', 'follow', 'color', 'process', 'capit', 'bear', 'gift', 'shogun', 'includ', 'bottl', 'old', 'tanglefoot', 'meet', 'shogun', 'debat', 'among', 'japanes', 'nobl', 'assassin', 'archeri', 'exhibit', 'present', 'interest', 'look', 'polit', 'period', 'altogeth', 'rather', 'enjoy', 'movi', 'besid', 'often', 'get', 'see', 'duke', 'lose', 'fight', 'guy', 'half', 'size']\n"
     ]
    }
   ],
   "source": [
    "# TODO: Apply review_to_words to a review (train_X[100] or any other review)\n",
    "words_review = review_to_words(train_X[0])\n",
    "print(words_review)"
   ]
  },
  {
   "cell_type": "markdown",
   "metadata": {},
   "source": [
    "**Question:** Above we mentioned that `review_to_words` method removes html formatting and allows us to tokenize the words found in a review, for example, converting *entertained* and *entertaining* into *entertain* so that they are treated as though they are the same word. What else, if anything, does this method do to the input?"
   ]
  },
  {
   "cell_type": "markdown",
   "metadata": {},
   "source": [
    "**Answer:** The method also converts the entire review to lower case and removes stop words."
   ]
  },
  {
   "cell_type": "markdown",
   "metadata": {},
   "source": [
    "The method below applies the `review_to_words` method to each of the reviews in the training and testing datasets. In addition it caches the results. This is because performing this processing step can take a long time. This way if you are unable to complete the notebook in the current session, you can come back without needing to process the data a second time."
   ]
  },
  {
   "cell_type": "code",
   "execution_count": 9,
   "metadata": {},
   "outputs": [],
   "source": [
    "import pickle\n",
    "\n",
    "cache_dir = os.path.join(\"../cache\", \"sentiment_analysis\")  # where to store cache files\n",
    "os.makedirs(cache_dir, exist_ok=True)  # ensure cache directory exists\n",
    "\n",
    "def preprocess_data(data_train, data_test, labels_train, labels_test,\n",
    "                    cache_dir=cache_dir, cache_file=\"preprocessed_data.pkl\"):\n",
    "    \"\"\"Convert each review to words; read from cache if available.\"\"\"\n",
    "\n",
    "    # If cache_file is not None, try to read from it first\n",
    "    cache_data = None\n",
    "    if cache_file is not None:\n",
    "        try:\n",
    "            with open(os.path.join(cache_dir, cache_file), \"rb\") as f:\n",
    "                cache_data = pickle.load(f)\n",
    "            print(\"Read preprocessed data from cache file:\", cache_file)\n",
    "        except:\n",
    "            pass  # unable to read from cache, but that's okay\n",
    "    \n",
    "    # If cache is missing, then do the heavy lifting\n",
    "    if cache_data is None:\n",
    "        # Preprocess training and test data to obtain words for each review\n",
    "        #words_train = list(map(review_to_words, data_train))\n",
    "        #words_test = list(map(review_to_words, data_test))\n",
    "        words_train = [review_to_words(review) for review in data_train]\n",
    "        words_test = [review_to_words(review) for review in data_test]\n",
    "        \n",
    "        # Write to cache file for future runs\n",
    "        if cache_file is not None:\n",
    "            cache_data = dict(words_train=words_train, words_test=words_test,\n",
    "                              labels_train=labels_train, labels_test=labels_test)\n",
    "            with open(os.path.join(cache_dir, cache_file), \"wb\") as f:\n",
    "                pickle.dump(cache_data, f)\n",
    "            print(\"Wrote preprocessed data to cache file:\", cache_file)\n",
    "    else:\n",
    "        # Unpack data loaded from cache file\n",
    "        words_train, words_test, labels_train, labels_test = (cache_data['words_train'],\n",
    "                cache_data['words_test'], cache_data['labels_train'], cache_data['labels_test'])\n",
    "    \n",
    "    return words_train, words_test, labels_train, labels_test"
   ]
  },
  {
   "cell_type": "code",
   "execution_count": 10,
   "metadata": {},
   "outputs": [
    {
     "name": "stdout",
     "output_type": "stream",
     "text": [
      "Read preprocessed data from cache file: preprocessed_data.pkl\n"
     ]
    }
   ],
   "source": [
    "# Preprocess data\n",
    "train_X, test_X, train_y, test_y = preprocess_data(train_X, test_X, train_y, test_y)"
   ]
  },
  {
   "cell_type": "markdown",
   "metadata": {},
   "source": [
    "## Transform the data\n",
    "\n",
    "In the XGBoost notebook we transformed the data from its word representation to a bag-of-words feature representation. For the model we are going to construct in this notebook we will construct a feature representation which is very similar. To start, we will represent each word as an integer. Of course, some of the words that appear in the reviews occur very infrequently and so likely don't contain much information for the purposes of sentiment analysis. The way we will deal with this problem is that we will fix the size of our working vocabulary and we will only include the words that appear most frequently. We will then combine all of the infrequent words into a single category and, in our case, we will label it as `1`.\n",
    "\n",
    "Since we will be using a recurrent neural network, it will be convenient if the length of each review is the same. To do this, we will fix a size for our reviews and then pad short reviews with the category 'no word' (which we will label `0`) and truncate long reviews."
   ]
  },
  {
   "cell_type": "markdown",
   "metadata": {},
   "source": [
    "### (TODO) Create a word dictionary\n",
    "\n",
    "To begin with, we need to construct a way to map words that appear in the reviews to integers. Here we fix the size of our vocabulary (including the 'no word' and 'infrequent' categories) to be `5000` but you may wish to change this to see how it affects the model.\n",
    "\n",
    "> **TODO:** Complete the implementation for the `build_dict()` method below. Note that even though the vocab_size is set to `5000`, we only want to construct a mapping for the most frequently appearing `4998` words. This is because we want to reserve the special labels `0` for 'no word' and `1` for 'infrequent word'."
   ]
  },
  {
   "cell_type": "code",
   "execution_count": 12,
   "metadata": {},
   "outputs": [],
   "source": [
    "import numpy as np\n",
    "import itertools\n",
    "from collections import Counter\n",
    "\n",
    "def build_dict(data, vocab_size = 5000):\n",
    "    \"\"\"Construct and return a dictionary mapping each of the most frequently appearing words to a unique integer.\"\"\"\n",
    "    \n",
    "    # TODO: Determine how often each word appears in `data`. Note that `data` is a list of sentences and that a\n",
    "    #       sentence is a list of words.\n",
    "    result = list(itertools.chain.from_iterable(data))\n",
    "    all_words = Counter(result) # A dict storing the words that appear in the reviews along with how often they occur\n",
    "    \n",
    "    # TODO: Sort the words found in `data` so that sorted_words[0] is the most frequently appearing word and\n",
    "    #       sorted_words[-1] is the least frequently appearing word.\n",
    "    \n",
    "    sorted_words = sorted(all_words, key=all_words.get, reverse=True)\n",
    "    \n",
    "    word_dict = {} # This is what we are building, a dictionary that translates words into integers\n",
    "    for idx, word in enumerate(sorted_words[:vocab_size - 2]): # The -2 is so that we save room for the 'no word'\n",
    "        word_dict[word] = idx + 2                              # 'infrequent' labels\n",
    "        \n",
    "    return word_dict"
   ]
  },
  {
   "cell_type": "code",
   "execution_count": 13,
   "metadata": {},
   "outputs": [],
   "source": [
    "word_dict = build_dict(train_X)"
   ]
  },
  {
   "cell_type": "markdown",
   "metadata": {},
   "source": [
    "**Question:** What are the five most frequently appearing (tokenized) words in the training set? Does it makes sense that these words appear frequently in the training set?"
   ]
  },
  {
   "cell_type": "markdown",
   "metadata": {},
   "source": [
    "**Answer:** Movie, film, one, like, time. It definitely makes sense that movie and film are the most frequent, considering that the stop words like \"the\" have already been removed. It's interesting how \"one,\" \"like,\" and \"time\" are up there, though."
   ]
  },
  {
   "cell_type": "code",
   "execution_count": 15,
   "metadata": {},
   "outputs": [
    {
     "name": "stdout",
     "output_type": "stream",
     "text": [
      "{'movi': 2, 'film': 3, 'one': 4, 'like': 5, 'time': 6, 'good': 7, 'make': 8, 'charact': 9, 'get': 10, 'see': 11, 'watch': 12, 'stori': 13, 'even': 14, 'would': 15, 'realli': 16, 'well': 17, 'scene': 18, 'look': 19, 'show': 20, 'much': 21, 'end': 22, 'peopl': 23, 'bad': 24, 'go': 25, 'great': 26, 'also': 27, 'first': 28, 'love': 29, 'think': 30, 'way': 31, 'act': 32, 'play': 33, 'made': 34, 'thing': 35, 'could': 36, 'know': 37, 'say': 38, 'seem': 39, 'work': 40, 'plot': 41, 'two': 42, 'actor': 43, 'year': 44, 'come': 45, 'mani': 46, 'seen': 47, 'take': 48, 'want': 49, 'life': 50, 'never': 51, 'littl': 52, 'best': 53, 'tri': 54, 'man': 55, 'ever': 56, 'give': 57, 'better': 58, 'still': 59, 'perform': 60, 'find': 61, 'feel': 62, 'part': 63, 'back': 64, 'use': 65, 'someth': 66, 'director': 67, 'actual': 68, 'interest': 69, 'lot': 70, 'real': 71, 'old': 72, 'cast': 73, 'though': 74, 'live': 75, 'star': 76, 'enjoy': 77, 'guy': 78, 'anoth': 79, 'new': 80, 'role': 81, 'noth': 82, '10': 83, 'funni': 84, 'music': 85, 'point': 86, 'start': 87, 'set': 88, 'girl': 89, 'origin': 90, 'day': 91, 'world': 92, 'everi': 93, 'believ': 94, 'turn': 95, 'quit': 96, 'direct': 97, 'us': 98, 'thought': 99, 'fact': 100, 'minut': 101, 'horror': 102, 'kill': 103, 'action': 104, 'comedi': 105, 'pretti': 106, 'young': 107, 'wonder': 108, 'happen': 109, 'around': 110, 'got': 111, 'effect': 112, 'right': 113, 'long': 114, 'howev': 115, 'big': 116, 'line': 117, 'famili': 118, 'enough': 119, 'seri': 120, 'may': 121, 'need': 122, 'fan': 123, 'bit': 124, 'script': 125, 'beauti': 126, 'person': 127, 'becom': 128, 'without': 129, 'must': 130, 'alway': 131, 'friend': 132, 'tell': 133, 'reason': 134, 'saw': 135, 'last': 136, 'final': 137, 'kid': 138, 'almost': 139, 'put': 140, 'least': 141, 'sure': 142, 'done': 143, 'whole': 144, 'place': 145, 'complet': 146, 'kind': 147, 'differ': 148, 'expect': 149, 'shot': 150, 'far': 151, 'mean': 152, 'anyth': 153, 'book': 154, 'laugh': 155, 'might': 156, 'name': 157, 'sinc': 158, 'begin': 159, '2': 160, 'probabl': 161, 'woman': 162, 'help': 163, 'entertain': 164, 'let': 165, 'screen': 166, 'call': 167, 'tv': 168, 'moment': 169, 'away': 170, 'read': 171, 'yet': 172, 'rather': 173, 'worst': 174, 'run': 175, 'fun': 176, 'lead': 177, 'hard': 178, 'audienc': 179, 'idea': 180, 'anyon': 181, 'episod': 182, 'american': 183, 'found': 184, 'appear': 185, 'bore': 186, 'especi': 187, 'although': 188, 'hope': 189, 'keep': 190, 'cours': 191, 'anim': 192, 'job': 193, 'goe': 194, 'move': 195, 'sens': 196, 'dvd': 197, 'version': 198, 'war': 199, 'money': 200, 'someon': 201, 'mind': 202, 'mayb': 203, 'problem': 204, 'true': 205, 'hous': 206, 'everyth': 207, 'nice': 208, 'second': 209, 'rate': 210, 'three': 211, 'night': 212, 'follow': 213, 'face': 214, 'recommend': 215, 'product': 216, 'main': 217, 'worth': 218, 'leav': 219, 'human': 220, 'special': 221, 'excel': 222, 'togeth': 223, 'wast': 224, 'sound': 225, 'everyon': 226, 'john': 227, 'hand': 228, '1': 229, 'father': 230, 'later': 231, 'eye': 232, 'said': 233, 'view': 234, 'instead': 235, 'review': 236, 'boy': 237, 'high': 238, 'hour': 239, 'miss': 240, 'talk': 241, 'classic': 242, 'wife': 243, 'understand': 244, 'left': 245, 'care': 246, 'black': 247, 'death': 248, 'open': 249, 'murder': 250, 'write': 251, 'half': 252, 'head': 253, 'rememb': 254, 'chang': 255, 'viewer': 256, 'fight': 257, 'gener': 258, 'surpris': 259, 'short': 260, 'includ': 261, 'die': 262, 'fall': 263, 'less': 264, 'els': 265, 'entir': 266, 'piec': 267, 'involv': 268, 'pictur': 269, 'simpli': 270, 'home': 271, 'top': 272, 'power': 273, 'total': 274, 'usual': 275, 'budget': 276, 'attempt': 277, 'suppos': 278, 'releas': 279, 'hollywood': 280, 'terribl': 281, 'song': 282, 'men': 283, 'possibl': 284, 'featur': 285, 'portray': 286, 'disappoint': 287, 'poor': 288, '3': 289, 'coupl': 290, 'camera': 291, 'stupid': 292, 'dead': 293, 'wrong': 294, 'produc': 295, 'low': 296, 'either': 297, 'video': 298, 'aw': 299, 'definit': 300, 'except': 301, 'rest': 302, 'given': 303, 'absolut': 304, 'women': 305, 'lack': 306, 'word': 307, 'writer': 308, 'titl': 309, 'talent': 310, 'decid': 311, 'full': 312, 'perfect': 313, 'along': 314, 'style': 315, 'close': 316, 'truli': 317, 'school': 318, 'save': 319, 'emot': 320, 'sex': 321, 'age': 322, 'next': 323, 'bring': 324, 'mr': 325, 'case': 326, 'killer': 327, 'heart': 328, 'comment': 329, 'sort': 330, 'creat': 331, 'perhap': 332, 'came': 333, 'brother': 334, 'sever': 335, 'joke': 336, 'art': 337, 'dialogu': 338, 'game': 339, 'small': 340, 'base': 341, 'flick': 342, 'written': 343, 'sequenc': 344, 'meet': 345, 'earli': 346, 'often': 347, 'other': 348, 'mother': 349, 'develop': 350, 'humor': 351, 'actress': 352, 'consid': 353, 'dark': 354, 'guess': 355, 'amaz': 356, 'unfortun': 357, 'lost': 358, 'light': 359, 'exampl': 360, 'cinema': 361, 'drama': 362, 'ye': 363, 'white': 364, 'experi': 365, 'imagin': 366, 'mention': 367, 'stop': 368, 'natur': 369, 'forc': 370, 'manag': 371, 'felt': 372, 'present': 373, 'cut': 374, 'children': 375, 'fail': 376, 'son': 377, 'qualiti': 378, 'support': 379, 'car': 380, 'ask': 381, 'hit': 382, 'side': 383, 'voic': 384, 'extrem': 385, 'impress': 386, 'evil': 387, 'wors': 388, 'stand': 389, 'went': 390, 'certainli': 391, 'basic': 392, 'oh': 393, 'overal': 394, 'favorit': 395, 'horribl': 396, 'mysteri': 397, 'number': 398, 'type': 399, 'danc': 400, 'wait': 401, 'hero': 402, 'alreadi': 403, '5': 404, 'learn': 405, 'matter': 406, '4': 407, 'michael': 408, 'genr': 409, 'fine': 410, 'despit': 411, 'throughout': 412, 'walk': 413, 'success': 414, 'histori': 415, 'question': 416, 'zombi': 417, 'town': 418, 'relationship': 419, 'realiz': 420, 'past': 421, 'child': 422, 'daughter': 423, 'late': 424, 'b': 425, 'wish': 426, 'hate': 427, 'credit': 428, 'event': 429, 'theme': 430, 'touch': 431, 'citi': 432, 'today': 433, 'sometim': 434, 'behind': 435, 'god': 436, 'twist': 437, 'sit': 438, 'stay': 439, 'deal': 440, 'annoy': 441, 'abl': 442, 'rent': 443, 'pleas': 444, 'edit': 445, 'blood': 446, 'deserv': 447, 'anyway': 448, 'comic': 449, 'appar': 450, 'soon': 451, 'gave': 452, 'etc': 453, 'level': 454, 'slow': 455, 'chanc': 456, 'score': 457, 'bodi': 458, 'brilliant': 459, 'incred': 460, 'figur': 461, 'situat': 462, 'major': 463, 'self': 464, 'stuff': 465, 'decent': 466, 'element': 467, 'return': 468, 'dream': 469, 'obvious': 470, 'order': 471, 'continu': 472, 'pace': 473, 'ridicul': 474, 'happi': 475, 'add': 476, 'highli': 477, 'group': 478, 'thank': 479, 'ladi': 480, 'novel': 481, 'speak': 482, 'pain': 483, 'career': 484, 'shoot': 485, 'strang': 486, 'heard': 487, 'sad': 488, 'husband': 489, 'polic': 490, 'import': 491, 'break': 492, 'took': 493, 'cannot': 494, 'strong': 495, 'robert': 496, 'predict': 497, 'violenc': 498, 'hilari': 499, 'recent': 500, 'countri': 501, 'known': 502, 'particularli': 503, 'pick': 504, 'documentari': 505, 'season': 506, 'critic': 507, 'jame': 508, 'compar': 509, 'alon': 510, 'obviou': 511, 'told': 512, 'state': 513, 'rock': 514, 'visual': 515, 'exist': 516, 'offer': 517, 'theater': 518, 'opinion': 519, 'gore': 520, 'hold': 521, 'crap': 522, 'result': 523, 'realiti': 524, 'room': 525, 'hear': 526, 'clich': 527, 'effort': 528, 'thriller': 529, 'caus': 530, 'explain': 531, 'sequel': 532, 'serious': 533, 'king': 534, 'local': 535, 'ago': 536, 'none': 537, 'hell': 538, 'note': 539, 'allow': 540, 'david': 541, 'sister': 542, 'simpl': 543, 'femal': 544, 'deliv': 545, 'ok': 546, 'convinc': 547, 'class': 548, 'check': 549, 'suspens': 550, 'win': 551, 'oscar': 552, 'buy': 553, 'huge': 554, 'valu': 555, 'sexual': 556, 'scari': 557, 'cool': 558, 'similar': 559, 'excit': 560, 'provid': 561, 'exactli': 562, 'apart': 563, 'avoid': 564, 'shown': 565, 'seriou': 566, 'english': 567, 'whose': 568, 'taken': 569, 'cinematographi': 570, 'shock': 571, 'polit': 572, 'spoiler': 573, 'offic': 574, 'across': 575, 'middl': 576, 'street': 577, 'pass': 578, 'messag': 579, 'charm': 580, 'silli': 581, 'somewhat': 582, 'modern': 583, 'filmmak': 584, 'confus': 585, 'form': 586, 'tale': 587, 'singl': 588, 'jack': 589, 'mostli': 590, 'william': 591, 'attent': 592, 'carri': 593, 'sing': 594, 'five': 595, 'subject': 596, 'prove': 597, 'richard': 598, 'team': 599, 'stage': 600, 'unlik': 601, 'cop': 602, 'georg': 603, 'televis': 604, 'monster': 605, 'earth': 606, 'villain': 607, 'cover': 608, 'pay': 609, 'marri': 610, 'toward': 611, 'build': 612, 'parent': 613, 'pull': 614, 'due': 615, 'respect': 616, 'fill': 617, 'four': 618, 'dialog': 619, 'remind': 620, 'futur': 621, 'typic': 622, 'weak': 623, '7': 624, 'cheap': 625, 'intellig': 626, 'atmospher': 627, 'british': 628, 'clearli': 629, '80': 630, 'paul': 631, 'dog': 632, 'non': 633, 'fast': 634, 'artist': 635, '8': 636, 'knew': 637, 'crime': 638, 'easili': 639, 'escap': 640, 'adult': 641, 'doubt': 642, 'detail': 643, 'date': 644, 'romant': 645, 'fire': 646, 'member': 647, 'gun': 648, 'drive': 649, 'straight': 650, 'beyond': 651, 'fit': 652, 'attack': 653, 'imag': 654, 'upon': 655, 'posit': 656, 'whether': 657, 'fantast': 658, 'peter': 659, 'captur': 660, 'appreci': 661, 'aspect': 662, 'ten': 663, 'plan': 664, 'discov': 665, 'remain': 666, 'period': 667, 'near': 668, 'air': 669, 'realist': 670, 'mark': 671, 'red': 672, 'dull': 673, 'adapt': 674, 'within': 675, 'spend': 676, 'lose': 677, 'materi': 678, 'color': 679, 'chase': 680, 'mari': 681, 'storylin': 682, 'forget': 683, 'bunch': 684, 'clear': 685, 'lee': 686, 'victim': 687, 'nearli': 688, 'box': 689, 'york': 690, 'match': 691, 'inspir': 692, 'finish': 693, 'mess': 694, 'standard': 695, 'easi': 696, 'truth': 697, 'busi': 698, 'suffer': 699, 'dramat': 700, 'space': 701, 'bill': 702, 'western': 703, 'e': 704, 'list': 705, 'battl': 706, 'notic': 707, 'de': 708, 'french': 709, 'ad': 710, '9': 711, 'tom': 712, 'larg': 713, 'among': 714, 'eventu': 715, 'train': 716, 'accept': 717, 'agre': 718, 'soundtrack': 719, 'spirit': 720, 'third': 721, 'teenag': 722, 'adventur': 723, 'soldier': 724, 'suggest': 725, 'drug': 726, 'sorri': 727, 'famou': 728, 'cri': 729, 'babi': 730, 'normal': 731, 'ultim': 732, 'troubl': 733, 'contain': 734, 'certain': 735, 'cultur': 736, 'romanc': 737, 'rare': 738, 'lame': 739, 'somehow': 740, 'mix': 741, 'disney': 742, 'gone': 743, 'cartoon': 744, 'student': 745, 'fear': 746, 'reveal': 747, 'kept': 748, 'suck': 749, 'attract': 750, 'appeal': 751, 'premis': 752, 'secret': 753, 'greatest': 754, 'design': 755, 'shame': 756, 'throw': 757, 'scare': 758, 'copi': 759, 'wit': 760, 'admit': 761, 'america': 762, 'relat': 763, 'brought': 764, 'particular': 765, 'screenplay': 766, 'whatev': 767, 'pure': 768, '70': 769, 'averag': 770, 'harri': 771, 'master': 772, 'describ': 773, 'treat': 774, 'male': 775, '20': 776, 'fantasi': 777, 'issu': 778, 'warn': 779, 'inde': 780, 'background': 781, 'forward': 782, 'project': 783, 'free': 784, 'memor': 785, 'japanes': 786, 'poorli': 787, 'award': 788, 'locat': 789, 'amus': 790, 'potenti': 791, 'struggl': 792, 'weird': 793, 'magic': 794, 'societi': 795, 'okay': 796, 'accent': 797, 'imdb': 798, 'doctor': 799, 'hot': 800, 'water': 801, 'alien': 802, 'express': 803, '30': 804, 'dr': 805, 'odd': 806, 'crazi': 807, 'choic': 808, 'studio': 809, 'fiction': 810, 'becam': 811, 'control': 812, 'masterpiec': 813, 'difficult': 814, 'fli': 815, 'joe': 816, 'scream': 817, 'costum': 818, 'lover': 819, 'uniqu': 820, 'refer': 821, 'remak': 822, 'girlfriend': 823, 'vampir': 824, 'prison': 825, 'execut': 826, 'wear': 827, 'jump': 828, 'wood': 829, 'unless': 830, 'creepi': 831, 'cheesi': 832, 'superb': 833, 'otherwis': 834, 'parti': 835, 'roll': 836, 'ghost': 837, 'public': 838, 'mad': 839, 'depict': 840, 'earlier': 841, 'moral': 842, 'badli': 843, 'week': 844, 'jane': 845, 'fi': 846, 'dumb': 847, 'grow': 848, 'flaw': 849, 'deep': 850, 'sci': 851, 'cat': 852, 'maker': 853, 'footag': 854, 'older': 855, 'connect': 856, 'plenti': 857, 'bother': 858, 'outsid': 859, 'stick': 860, 'gay': 861, 'catch': 862, 'plu': 863, 'co': 864, 'popular': 865, 'equal': 866, 'social': 867, 'quickli': 868, 'disturb': 869, 'perfectli': 870, 'dress': 871, 'era': 872, '90': 873, 'mistak': 874, 'lie': 875, 'ride': 876, 'previou': 877, 'combin': 878, 'concept': 879, 'band': 880, 'surviv': 881, 'rich': 882, 'answer': 883, 'front': 884, 'sweet': 885, 'christma': 886, 'insid': 887, 'bare': 888, 'eat': 889, 'concern': 890, 'beat': 891, 'ben': 892, 'listen': 893, 'c': 894, 'term': 895, 'serv': 896, 'la': 897, 'german': 898, 'meant': 899, 'hardli': 900, 'stereotyp': 901, 'law': 902, 'innoc': 903, 'desper': 904, 'promis': 905, 'memori': 906, 'cute': 907, 'intent': 908, 'steal': 909, 'inform': 910, 'variou': 911, 'brain': 912, 'post': 913, 'tone': 914, 'island': 915, 'amount': 916, 'compani': 917, 'track': 918, 'nuditi': 919, 'claim': 920, 'store': 921, 'hair': 922, 'flat': 923, '50': 924, 'land': 925, 'univers': 926, 'scott': 927, 'danger': 928, 'fairli': 929, 'kick': 930, 'player': 931, 'step': 932, 'plain': 933, 'crew': 934, 'toni': 935, 'share': 936, 'centuri': 937, 'tast': 938, 'engag': 939, 'achiev': 940, 'cold': 941, 'travel': 942, 'record': 943, 'suit': 944, 'rip': 945, 'sadli': 946, 'manner': 947, 'wrote': 948, 'spot': 949, 'tension': 950, 'intens': 951, 'fascin': 952, 'familiar': 953, 'depth': 954, 'burn': 955, 'remark': 956, 'destroy': 957, 'histor': 958, 'sleep': 959, 'purpos': 960, 'languag': 961, 'ignor': 962, 'ruin': 963, 'delight': 964, 'italian': 965, 'unbeliev': 966, 'collect': 967, 'soul': 968, 'abil': 969, 'clever': 970, 'detect': 971, 'violent': 972, 'rape': 973, 'reach': 974, 'door': 975, 'liter': 976, 'trash': 977, 'scienc': 978, 'caught': 979, 'reveng': 980, 'commun': 981, 'creatur': 982, 'trip': 983, 'approach': 984, 'fashion': 985, 'intrigu': 986, 'introduc': 987, 'skill': 988, 'paint': 989, 'complex': 990, 'channel': 991, 'camp': 992, 'christian': 993, 'hole': 994, 'extra': 995, 'immedi': 996, 'limit': 997, 'ann': 998, 'mental': 999, 'mere': 1000, '6': 1001, 'million': 1002, 'comput': 1003, 'slightli': 1004, 'conclus': 1005, 'slasher': 1006, 'suddenli': 1007, 'imposs': 1008, 'crimin': 1009, 'teen': 1010, 'neither': 1011, 'physic': 1012, 'nation': 1013, 'spent': 1014, 'respons': 1015, 'planet': 1016, 'fake': 1017, 'receiv': 1018, 'blue': 1019, 'sick': 1020, 'bizarr': 1021, 'embarrass': 1022, 'indian': 1023, 'ring': 1024, '15': 1025, 'drop': 1026, 'pop': 1027, 'drag': 1028, 'haunt': 1029, 'pointless': 1030, 'suspect': 1031, 'edg': 1032, 'search': 1033, 'handl': 1034, 'common': 1035, 'biggest': 1036, 'faith': 1037, 'hurt': 1038, 'arriv': 1039, 'technic': 1040, 'angel': 1041, 'genuin': 1042, 'dad': 1043, 'solid': 1044, 'awesom': 1045, 'f': 1046, 'colleg': 1047, 'former': 1048, 'van': 1049, 'focu': 1050, 'count': 1051, 'tear': 1052, 'heavi': 1053, 'rais': 1054, 'wall': 1055, 'visit': 1056, 'younger': 1057, 'laughabl': 1058, 'fair': 1059, 'excus': 1060, 'sign': 1061, 'cult': 1062, 'key': 1063, 'motion': 1064, 'tough': 1065, 'desir': 1066, 'super': 1067, 'addit': 1068, 'stun': 1069, 'cloth': 1070, 'exploit': 1071, 'smith': 1072, 'tortur': 1073, 'race': 1074, 'davi': 1075, 'author': 1076, 'cross': 1077, 'jim': 1078, 'focus': 1079, 'compel': 1080, 'minor': 1081, 'consist': 1082, 'commit': 1083, 'pathet': 1084, 'chemistri': 1085, 'park': 1086, 'tradit': 1087, 'frank': 1088, 'obsess': 1089, 'grade': 1090, '60': 1091, 'asid': 1092, 'brutal': 1093, 'somewher': 1094, 'steve': 1095, 'opportun': 1096, 'grant': 1097, 'explor': 1098, 'u': 1099, 'depress': 1100, 'rule': 1101, 'honest': 1102, 'besid': 1103, 'anti': 1104, 'dub': 1105, 'intend': 1106, 'trailer': 1107, 'bar': 1108, 'scientist': 1109, 'regard': 1110, 'longer': 1111, 'west': 1112, 'decad': 1113, 'judg': 1114, 'silent': 1115, 'creativ': 1116, 'armi': 1117, 'wild': 1118, 'g': 1119, 'stewart': 1120, 'south': 1121, 'draw': 1122, 'road': 1123, 'govern': 1124, 'boss': 1125, 'ex': 1126, 'practic': 1127, 'motiv': 1128, 'surprisingli': 1129, 'club': 1130, 'gang': 1131, 'festiv': 1132, 'redeem': 1133, 'green': 1134, 'london': 1135, 'page': 1136, 'aliv': 1137, 'idiot': 1138, 'display': 1139, 'machin': 1140, 'militari': 1141, 'repeat': 1142, 'thrill': 1143, 'folk': 1144, 'yeah': 1145, 'nobodi': 1146, '100': 1147, '40': 1148, 'journey': 1149, 'garbag': 1150, 'ground': 1151, 'smile': 1152, 'tire': 1153, 'bought': 1154, 'mood': 1155, 'sam': 1156, 'cost': 1157, 'stone': 1158, 'mouth': 1159, 'noir': 1160, 'agent': 1161, 'terrif': 1162, 'utterli': 1163, 'requir': 1164, 'sexi': 1165, 'honestli': 1166, 'area': 1167, 'geniu': 1168, 'report': 1169, 'investig': 1170, 'humour': 1171, 'glad': 1172, 'enter': 1173, 'serial': 1174, 'narr': 1175, 'occasion': 1176, 'passion': 1177, 'climax': 1178, 'marriag': 1179, 'studi': 1180, 'industri': 1181, 'nowher': 1182, 'center': 1183, 'charli': 1184, 'ship': 1185, 'demon': 1186, 'bear': 1187, 'hors': 1188, 'loos': 1189, 'wow': 1190, 'hang': 1191, 'graphic': 1192, 'admir': 1193, 'giant': 1194, 'send': 1195, 'loud': 1196, 'damn': 1197, 'subtl': 1198, 'nake': 1199, 'profession': 1200, 'rel': 1201, 'blow': 1202, 'bottom': 1203, 'insult': 1204, 'batman': 1205, 'boyfriend': 1206, 'kelli': 1207, 'doubl': 1208, 'r': 1209, 'initi': 1210, 'frame': 1211, 'opera': 1212, 'gem': 1213, 'drawn': 1214, 'cinemat': 1215, 'affect': 1216, 'challeng': 1217, 'church': 1218, 'evid': 1219, 'j': 1220, 'seek': 1221, 'l': 1222, 'fulli': 1223, 'nightmar': 1224, 'essenti': 1225, 'arm': 1226, 'conflict': 1227, 'henri': 1228, 'wind': 1229, 'grace': 1230, 'christoph': 1231, 'narrat': 1232, 'witch': 1233, 'assum': 1234, 'push': 1235, 'hunt': 1236, 'wise': 1237, 'chri': 1238, 'repres': 1239, 'month': 1240, 'nomin': 1241, 'sceneri': 1242, 'avail': 1243, 'affair': 1244, 'hide': 1245, 'smart': 1246, 'bond': 1247, 'thu': 1248, 'justic': 1249, 'flashback': 1250, 'outstand': 1251, 'interview': 1252, 'presenc': 1253, 'satisfi': 1254, 'constantli': 1255, 'bed': 1256, 'central': 1257, 'sell': 1258, 'iron': 1259, 'content': 1260, 'everybodi': 1261, 'gag': 1262, 'slowli': 1263, 'hotel': 1264, 'hire': 1265, 'system': 1266, 'hey': 1267, 'thrown': 1268, 'charl': 1269, 'individu': 1270, 'adam': 1271, 'allen': 1272, 'jone': 1273, 'mediocr': 1274, 'lesson': 1275, 'billi': 1276, 'ray': 1277, 'cameo': 1278, 'photographi': 1279, 'pari': 1280, 'fellow': 1281, 'strike': 1282, 'rise': 1283, 'brief': 1284, 'absurd': 1285, 'independ': 1286, 'neg': 1287, 'phone': 1288, 'impact': 1289, 'model': 1290, 'born': 1291, 'ill': 1292, 'spoil': 1293, 'angl': 1294, 'fresh': 1295, 'likabl': 1296, 'abus': 1297, 'discuss': 1298, 'hill': 1299, 'sight': 1300, 'ahead': 1301, 'sent': 1302, 'photograph': 1303, 'logic': 1304, 'blame': 1305, 'shine': 1306, 'occur': 1307, 'mainli': 1308, 'bruce': 1309, 'skip': 1310, 'commerci': 1311, 'forev': 1312, 'teacher': 1313, 'segment': 1314, 'surround': 1315, 'held': 1316, 'blond': 1317, 'zero': 1318, 'summer': 1319, 'resembl': 1320, 'trap': 1321, 'satir': 1322, 'ball': 1323, 'queen': 1324, 'six': 1325, 'fool': 1326, 'twice': 1327, 'tragedi': 1328, 'sub': 1329, 'reaction': 1330, 'pack': 1331, 'bomb': 1332, 'will': 1333, 'protagonist': 1334, 'hospit': 1335, 'mile': 1336, 'sport': 1337, 'drink': 1338, 'vote': 1339, 'trust': 1340, 'mom': 1341, 'jerri': 1342, 'encount': 1343, 'plane': 1344, 'current': 1345, 'al': 1346, 'program': 1347, 'station': 1348, 'martin': 1349, 'celebr': 1350, 'choos': 1351, 'join': 1352, 'lord': 1353, 'favourit': 1354, 'round': 1355, 'tragic': 1356, 'field': 1357, 'robot': 1358, 'vision': 1359, 'jean': 1360, 'tie': 1361, 'arthur': 1362, 'random': 1363, 'roger': 1364, 'fortun': 1365, 'psycholog': 1366, 'dread': 1367, 'intern': 1368, 'nonsens': 1369, 'prefer': 1370, 'improv': 1371, 'epic': 1372, 'pleasur': 1373, 'legend': 1374, 'highlight': 1375, 'formula': 1376, 'dollar': 1377, 'tape': 1378, '11': 1379, 'object': 1380, 'thin': 1381, 'wide': 1382, 'gorgeou': 1383, 'porn': 1384, 'fox': 1385, 'influenc': 1386, 'buddi': 1387, 'ugli': 1388, 'nasti': 1389, 'prepar': 1390, 'ii': 1391, 'supposedli': 1392, 'warm': 1393, 'progress': 1394, 'reflect': 1395, 'worthi': 1396, 'youth': 1397, 'latter': 1398, 'length': 1399, 'unusu': 1400, 'crash': 1401, 'childhood': 1402, 'seven': 1403, 'shop': 1404, 'superior': 1405, 'remot': 1406, 'theatr': 1407, 'funniest': 1408, 'disgust': 1409, 'pilot': 1410, 'paid': 1411, 'fell': 1412, 'convers': 1413, 'castl': 1414, 'trick': 1415, 'rob': 1416, 'disast': 1417, 'gangster': 1418, 'establish': 1419, 'mine': 1420, 'ident': 1421, 'disappear': 1422, 'suicid': 1423, 'heaven': 1424, 'heroin': 1425, 'decis': 1426, 'forgotten': 1427, 'tend': 1428, 'singer': 1429, 'mask': 1430, 'brian': 1431, 'partner': 1432, 'desert': 1433, 'recogn': 1434, 'alan': 1435, 'ms': 1436, 'stuck': 1437, 'sky': 1438, 'thoroughli': 1439, 'p': 1440, 'accur': 1441, 'replac': 1442, 'market': 1443, 'uncl': 1444, 'clue': 1445, 'danni': 1446, 'seemingli': 1447, 'commentari': 1448, 'andi': 1449, 'eddi': 1450, 'jackson': 1451, 'devil': 1452, 'therefor': 1453, 'refus': 1454, 'pair': 1455, 'that': 1456, 'ed': 1457, 'fault': 1458, 'fate': 1459, 'accid': 1460, 'river': 1461, 'unit': 1462, 'tune': 1463, 'afraid': 1464, 'clean': 1465, 'hidden': 1466, 'stephen': 1467, 'russian': 1468, 'instanc': 1469, 'readi': 1470, 'quick': 1471, 'test': 1472, 'irrit': 1473, 'convey': 1474, 'captain': 1475, 'european': 1476, 'daniel': 1477, 'frustrat': 1478, 'insan': 1479, 'rescu': 1480, 'food': 1481, 'chines': 1482, '1950': 1483, 'wed': 1484, 'lock': 1485, 'angri': 1486, 'dirti': 1487, 'joy': 1488, 'steven': 1489, 'price': 1490, 'bland': 1491, 'cage': 1492, 'anymor': 1493, 'rang': 1494, 'wooden': 1495, 'jason': 1496, 'news': 1497, 'rush': 1498, 'n': 1499, '12': 1500, 'worri': 1501, 'martial': 1502, 'board': 1503, 'led': 1504, 'twenti': 1505, 'cgi': 1506, 'transform': 1507, 'hunter': 1508, 'symbol': 1509, 'johnni': 1510, 'x': 1511, 'piti': 1512, 'onto': 1513, 'sentiment': 1514, 'invent': 1515, 'process': 1516, 'explan': 1517, 'attitud': 1518, 'awar': 1519, 'owner': 1520, 'aim': 1521, 'favor': 1522, 'target': 1523, 'energi': 1524, 'necessari': 1525, 'floor': 1526, 'opposit': 1527, 'religi': 1528, 'insight': 1529, 'blind': 1530, 'chick': 1531, 'window': 1532, 'movement': 1533, 'possess': 1534, 'research': 1535, 'comparison': 1536, 'deepli': 1537, 'mountain': 1538, 'whatsoev': 1539, 'grand': 1540, 'rain': 1541, 'comed': 1542, 'mid': 1543, 'shadow': 1544, 'began': 1545, 'bank': 1546, 'parodi': 1547, 'princ': 1548, 'pre': 1549, 'friendship': 1550, 'weapon': 1551, 'credibl': 1552, 'taylor': 1553, 'flesh': 1554, 'teach': 1555, 'dougla': 1556, 'hint': 1557, 'protect': 1558, 'terror': 1559, 'bloodi': 1560, 'marvel': 1561, 'load': 1562, 'accord': 1563, 'superman': 1564, 'drunk': 1565, 'watchabl': 1566, 'leader': 1567, 'anybodi': 1568, 'brown': 1569, 'freddi': 1570, 'tim': 1571, 'seat': 1572, 'appropri': 1573, 'jeff': 1574, 'hitler': 1575, 'charg': 1576, 'knock': 1577, 'villag': 1578, 'keaton': 1579, 'unknown': 1580, 'unnecessari': 1581, 'enemi': 1582, 'media': 1583, 'england': 1584, 'empti': 1585, 'dare': 1586, 'buck': 1587, 'strength': 1588, 'utter': 1589, 'perspect': 1590, 'wave': 1591, 'craft': 1592, 'kiss': 1593, 'contrast': 1594, 'ford': 1595, 'nativ': 1596, 'correct': 1597, 'chill': 1598, 'knowledg': 1599, 'soap': 1600, 'anywher': 1601, 'magnific': 1602, 'nazi': 1603, 'distract': 1604, 'speed': 1605, 'breath': 1606, '1980': 1607, 'ice': 1608, 'fred': 1609, 'mission': 1610, 'joan': 1611, 'jr': 1612, 'moon': 1613, 'crowd': 1614, 'soft': 1615, '000': 1616, 'frighten': 1617, 'kate': 1618, 'hundr': 1619, 'dan': 1620, 'dick': 1621, 'nick': 1622, 'simon': 1623, 'radio': 1624, 'dozen': 1625, 'somebodi': 1626, 'loss': 1627, 'academi': 1628, 'thousand': 1629, 'shakespear': 1630, 'andrew': 1631, 'account': 1632, 'quot': 1633, 'vehicl': 1634, 'sum': 1635, 'root': 1636, 'convent': 1637, '1970': 1638, 'leg': 1639, 'behavior': 1640, 'regular': 1641, 'gold': 1642, 'demand': 1643, 'pretenti': 1644, 'worker': 1645, 'compet': 1646, 'notabl': 1647, 'stretch': 1648, 'japan': 1649, 'candi': 1650, 'privat': 1651, 'explos': 1652, 'interpret': 1653, 'lynch': 1654, 'tarzan': 1655, 'constant': 1656, 'debut': 1657, 'spi': 1658, 'translat': 1659, 'sea': 1660, 'revolv': 1661, 'prais': 1662, 'sat': 1663, 'technolog': 1664, 'ass': 1665, 'failur': 1666, 'franc': 1667, 'quiet': 1668, 'jesu': 1669, 'threaten': 1670, 'kevin': 1671, 'punch': 1672, 'toy': 1673, 'met': 1674, 'higher': 1675, 'aid': 1676, 'abandon': 1677, 'interact': 1678, 'vh': 1679, 'mike': 1680, 'separ': 1681, 'command': 1682, 'confront': 1683, 'bet': 1684, 'belong': 1685, 'gotten': 1686, 'recal': 1687, 'stunt': 1688, 'techniqu': 1689, 'site': 1690, 'servic': 1691, 'cabl': 1692, 'freak': 1693, 'bug': 1694, 'foot': 1695, 'capabl': 1696, 'jimmi': 1697, 'bright': 1698, 'fu': 1699, 'african': 1700, 'succeed': 1701, 'clark': 1702, 'stock': 1703, 'presid': 1704, 'fat': 1705, 'boat': 1706, 'spanish': 1707, 'structur': 1708, 'gene': 1709, 'paper': 1710, 'kidnap': 1711, 'belief': 1712, 'factor': 1713, 'whilst': 1714, 'realis': 1715, 'educ': 1716, 'realism': 1717, 'attend': 1718, 'tree': 1719, 'complic': 1720, 'bob': 1721, 'witti': 1722, 'assist': 1723, 'finest': 1724, 'santa': 1725, 'broken': 1726, 'smoke': 1727, 'observ': 1728, 'determin': 1729, 'depart': 1730, 'up': 1731, 'v': 1732, 'oper': 1733, 'domin': 1734, 'rubbish': 1735, 'lewi': 1736, 'routin': 1737, 'hat': 1738, 'fame': 1739, 'safe': 1740, 'hook': 1741, 'lone': 1742, 'kinda': 1743, 'foreign': 1744, 'advanc': 1745, 'morgan': 1746, 'numer': 1747, 'rank': 1748, 'shallow': 1749, 'shape': 1750, 'civil': 1751, 'rose': 1752, 'washington': 1753, 'vs': 1754, 'werewolf': 1755, 'morn': 1756, 'gari': 1757, 'ordinari': 1758, 'accomplish': 1759, 'kong': 1760, 'winner': 1761, 'peac': 1762, 'whenev': 1763, 'virtual': 1764, 'grab': 1765, 'h': 1766, 'luck': 1767, 'offens': 1768, 'welcom': 1769, 'activ': 1770, 'complain': 1771, 'unfunni': 1772, 'bigger': 1773, 'contriv': 1774, 'patient': 1775, 'con': 1776, 'dimension': 1777, 'pretend': 1778, 'trek': 1779, 'cain': 1780, 'eric': 1781, 'lesbian': 1782, 'wake': 1783, 'code': 1784, 'dri': 1785, 'flash': 1786, 'guard': 1787, 'corrupt': 1788, 'statu': 1789, 'dancer': 1790, 'albert': 1791, 'manipul': 1792, 'sourc': 1793, 'signific': 1794, 'gain': 1795, 'speech': 1796, 'context': 1797, 'awkward': 1798, '13': 1799, 'anthoni': 1800, 'psycho': 1801, 'clip': 1802, 'corni': 1803, 'sean': 1804, 'advic': 1805, 'w': 1806, 'theatric': 1807, 'curiou': 1808, 'reli': 1809, 'religion': 1810, 'priest': 1811, 'flow': 1812, 'addict': 1813, 'secur': 1814, 'specif': 1815, 'jennif': 1816, 'asian': 1817, 'howard': 1818, 'skin': 1819, 'comfort': 1820, 'promot': 1821, 'luke': 1822, 'organ': 1823, 'golden': 1824, 'core': 1825, 'cash': 1826, 'cheat': 1827, 'lucki': 1828, 'lower': 1829, 'dislik': 1830, 'associ': 1831, 'devic': 1832, 'frankli': 1833, 'frequent': 1834, 'degre': 1835, 'spell': 1836, 'balanc': 1837, 'regret': 1838, 'contribut': 1839, 'wing': 1840, 'forgiv': 1841, 'sake': 1842, 'lake': 1843, 'print': 1844, 'mass': 1845, 'thoma': 1846, 'betti': 1847, 'crack': 1848, 'gordon': 1849, 'unexpect': 1850, 'unfold': 1851, 'invit': 1852, 'depend': 1853, 'grown': 1854, 'amateur': 1855, 'construct': 1856, 'categori': 1857, 'anna': 1858, 'honor': 1859, 'matur': 1860, 'walter': 1861, 'condit': 1862, 'intellectu': 1863, 'grew': 1864, 'sole': 1865, 'spectacular': 1866, 'sudden': 1867, 'veteran': 1868, 'mirror': 1869, 'card': 1870, 'liner': 1871, 'meanwhil': 1872, 'demonstr': 1873, 'experienc': 1874, 'gift': 1875, 'grip': 1876, 'robin': 1877, 'freedom': 1878, 'overli': 1879, 'colour': 1880, 'sheriff': 1881, 'brilliantli': 1882, 'section': 1883, 'theori': 1884, 'unabl': 1885, 'oliv': 1886, 'subtitl': 1887, 'drew': 1888, 'crappi': 1889, 'circumst': 1890, 'path': 1891, 'laughter': 1892, 'parker': 1893, 'altern': 1894, 'sheer': 1895, 'pile': 1896, 'matt': 1897, 'cook': 1898, 'accident': 1899, 'wander': 1900, 'treatment': 1901, 'defin': 1902, 'hall': 1903, 'lawyer': 1904, 'sinatra': 1905, 'relief': 1906, 'captiv': 1907, 'hank': 1908, 'dragon': 1909, 'gratuit': 1910, 'halloween': 1911, 'moor': 1912, 'wound': 1913, 'unintent': 1914, 'k': 1915, 'cowboy': 1916, 'wayn': 1917, 'broadway': 1918, 'kung': 1919, 'jacki': 1920, 'barbara': 1921, 'winter': 1922, 'canadian': 1923, 'statement': 1924, 'surreal': 1925, 'spoof': 1926, 'gonna': 1927, 'fare': 1928, 'fish': 1929, 'compos': 1930, 'treasur': 1931, 'cheer': 1932, 'unrealist': 1933, 'emerg': 1934, 'victor': 1935, 'woodi': 1936, 'sensit': 1937, 'sympathet': 1938, 'neighbor': 1939, 'driven': 1940, 'ran': 1941, 'topic': 1942, 'overlook': 1943, 'authent': 1944, 'glass': 1945, 'expos': 1946, 'menac': 1947, 'gross': 1948, 'handsom': 1949, 'michel': 1950, 'ancient': 1951, 'chief': 1952, 'nevertheless': 1953, 'russel': 1954, 'feet': 1955, 'contemporari': 1956, 'pleasant': 1957, 'built': 1958, 'comedian': 1959, 'network': 1960, 'cinderella': 1961, 'stranger': 1962, 'earn': 1963, 'underr': 1964, 'consider': 1965, 'letter': 1966, 'miser': 1967, 'gori': 1968, 'endless': 1969, 'blockbust': 1970, 'solv': 1971, 'switch': 1972, 'brook': 1973, 'virgin': 1974, 'edward': 1975, 'bullet': 1976, 'convict': 1977, 'joseph': 1978, 'victoria': 1979, 'scale': 1980, 'alex': 1981, '0': 1982, 'chosen': 1983, 'scenario': 1984, 'cynic': 1985, 'gut': 1986, 'sword': 1987, 'com': 1988, 'curs': 1989, 'outrag': 1990, 'wrap': 1991, 'driver': 1992, 'juli': 1993, 'proper': 1994, 'substanc': 1995, 'uk': 1996, 'screenwrit': 1997, 'monkey': 1998, 'bird': 1999, 'court': 2000, 'indic': 2001, 'par': 2002, 'remov': 2003, 'inevit': 2004, 'loser': 2005, 'naiv': 2006, 'roy': 2007, 'grave': 2008, 'nanci': 2009, 'rental': 2010, 'consequ': 2011, 'advertis': 2012, 'fatal': 2013, 'brave': 2014, 'invis': 2015, 'slap': 2016, 'bridg': 2017, 'germani': 2018, 'le': 2019, 'loui': 2020, 'ador': 2021, 'anger': 2022, 'provok': 2023, 'footbal': 2024, 'alcohol': 2025, 'anderson': 2026, 'chan': 2027, 'professor': 2028, 'stumbl': 2029, 'willi': 2030, 'ryan': 2031, 'australian': 2032, 'bat': 2033, 'sharp': 2034, '1930': 2035, 'patrick': 2036, 'assassin': 2037, 'ape': 2038, 'refresh': 2039, 'trilog': 2040, 'cell': 2041, 'strongli': 2042, 'deni': 2043, 'amateurish': 2044, 'heck': 2045, 'saturday': 2046, 'lousi': 2047, 'liber': 2048, 'eight': 2049, 'sin': 2050, 'vagu': 2051, 'resid': 2052, 'san': 2053, 'justifi': 2054, 'terrifi': 2055, 'sympathi': 2056, 'indi': 2057, 'reput': 2058, 'creator': 2059, 'defeat': 2060, 'mini': 2061, 'prevent': 2062, 'expert': 2063, 'endur': 2064, 'tediou': 2065, 'tabl': 2066, 'task': 2067, 'trial': 2068, 'employ': 2069, 'basebal': 2070, 'offend': 2071, 'imit': 2072, 'rival': 2073, 'che': 2074, 'dig': 2075, 'complaint': 2076, 'max': 2077, 'europ': 2078, 'weekend': 2079, 'pitch': 2080, 'fairi': 2081, 'beach': 2082, 'purchas': 2083, 'risk': 2084, 'format': 2085, 'murphi': 2086, 'powel': 2087, 'tini': 2088, 'bite': 2089, 'hype': 2090, 'titan': 2091, 'nois': 2092, 'glimps': 2093, 'reminisc': 2094, 'harsh': 2095, 'prime': 2096, '14': 2097, 'till': 2098, 'strip': 2099, 'fals': 2100, 'asleep': 2101, 'north': 2102, 'revel': 2103, 'destruct': 2104, 'africa': 2105, 'descript': 2106, 'texa': 2107, 'uninterest': 2108, 'surfac': 2109, 'arrest': 2110, 'spin': 2111, 'semi': 2112, 'sitcom': 2113, 'inner': 2114, 'excess': 2115, 'massiv': 2116, 'dinosaur': 2117, 'twin': 2118, 'argu': 2119, 'maintain': 2120, 'controversi': 2121, 'makeup': 2122, 'hitchcock': 2123, 'stare': 2124, 'reject': 2125, 'expens': 2126, 'ludicr': 2127, 'melodrama': 2128, 'insist': 2129, 'kim': 2130, 'ideal': 2131, 'subplot': 2132, 'press': 2133, 'columbo': 2134, 'erot': 2135, 'forest': 2136, 'ga': 2137, 'atroci': 2138, 'host': 2139, 'ala': 2140, 'nail': 2141, 'supernatur': 2142, 'cant': 2143, 'dude': 2144, 'identifi': 2145, 'notch': 2146, 'presum': 2147, 'character': 2148, 'closer': 2149, 'crude': 2150, 'method': 2151, 'guest': 2152, 'forgett': 2153, 'plagu': 2154, 'lion': 2155, 'ear': 2156, 'princess': 2157, 'beast': 2158, 'landscap': 2159, 'foster': 2160, 'border': 2161, 'storytel': 2162, 'accus': 2163, 'aunt': 2164, 'bound': 2165, 'damag': 2166, 'urban': 2167, 'pacino': 2168, 'birth': 2169, 'previous': 2170, 'jungl': 2171, 'nude': 2172, 'propaganda': 2173, 'jess': 2174, 'guid': 2175, 'thirti': 2176, 'chose': 2177, 'doll': 2178, 'emma': 2179, 'mate': 2180, 'mainstream': 2181, 'whoever': 2182, '25': 2183, 'warrior': 2184, 'pet': 2185, 'upset': 2186, 'merit': 2187, 'gritti': 2188, 'latest': 2189, 'poster': 2190, 'exact': 2191, 'size': 2192, 'cooper': 2193, 'deadli': 2194, 'friday': 2195, 'citizen': 2196, 'popul': 2197, 'wilson': 2198, 'sun': 2199, '1990': 2200, 'settl': 2201, 'buff': 2202, 'warner': 2203, 'contest': 2204, 'ton': 2205, 'blend': 2206, 'contact': 2207, 'rough': 2208, 'corps': 2209, 'widow': 2210, 'select': 2211, 'bu': 2212, 'mgm': 2213, 'pitt': 2214, 'environ': 2215, 'alic': 2216, 'overcom': 2217, 'rat': 2218, 'metal': 2219, 'ted': 2220, 'particip': 2221, 'link': 2222, 'lift': 2223, 'guilti': 2224, 'revolut': 2225, 'prostitut': 2226, '1960': 2227, 'accompani': 2228, 'afternoon': 2229, 'corpor': 2230, 'moron': 2231, 'exagger': 2232, 'corner': 2233, 'johnson': 2234, 'matrix': 2235, 'friendli': 2236, 'instal': 2237, 'multipl': 2238, 'doom': 2239, 'clair': 2240, 'holm': 2241, 'hood': 2242, 'sincer': 2243, 'leagu': 2244, 'examin': 2245, 'string': 2246, 'defend': 2247, 'sunday': 2248, 'grim': 2249, 'lugosi': 2250, 'hip': 2251, 'campi': 2252, 'advis': 2253, 'irish': 2254, 'aka': 2255, 'junk': 2256, 'blah': 2257, 'varieti': 2258, 'rachel': 2259, 'tight': 2260, 'icon': 2261, 'shake': 2262, 'pro': 2263, 'confid': 2264, 'shut': 2265, 'attach': 2266, 'goal': 2267, 'directli': 2268, 'sullivan': 2269, 'medic': 2270, 'denni': 2271, 'mexican': 2272, 'jaw': 2273, 'duke': 2274, 'truck': 2275, 'sarah': 2276, 'dean': 2277, 'prior': 2278, 'courag': 2279, 'legendari': 2280, 'terrorist': 2281, 'breast': 2282, 'sentenc': 2283, 'vietnam': 2284, 'bourn': 2285, 'nose': 2286, 'behav': 2287, 'split': 2288, 'donald': 2289, 'un': 2290, 'entri': 2291, 'proceed': 2292, 'hong': 2293, 'yell': 2294, 'confess': 2295, 'gather': 2296, 'unconvinc': 2297, 'borrow': 2298, 'buri': 2299, 'concentr': 2300, 'stolen': 2301, 'swim': 2302, 'everywher': 2303, 'forth': 2304, 'jerk': 2305, 'lifetim': 2306, 'crush': 2307, 'turkey': 2308, 'lip': 2309, 'california': 2310, 'deliveri': 2311, 'spite': 2312, 'julia': 2313, 'pan': 2314, 'offici': 2315, 'proud': 2316, 'flight': 2317, 'reward': 2318, 'quest': 2319, 'china': 2320, 'hoffman': 2321, 'downright': 2322, 'freeman': 2323, 'encourag': 2324, 'jail': 2325, 'sink': 2326, 'notori': 2327, 'worthwhil': 2328, 'jon': 2329, 'inept': 2330, 'fabul': 2331, 'sir': 2332, 'betray': 2333, 'lazi': 2334, 'fade': 2335, 'lisa': 2336, 'imageri': 2337, 'susan': 2338, 'relev': 2339, 'survivor': 2340, 'storm': 2341, 'bag': 2342, 'branagh': 2343, 'cousin': 2344, 'retard': 2345, 'teeth': 2346, 'shower': 2347, 'bell': 2348, 'stab': 2349, 'facial': 2350, 'trade': 2351, 'alright': 2352, 'toler': 2353, 'quirki': 2354, 'bride': 2355, 'hugh': 2356, 'summari': 2357, 'shark': 2358, 'finger': 2359, 'mexico': 2360, 'tremend': 2361, 'bitter': 2362, 'hyster': 2363, 'pose': 2364, 'blown': 2365, 'von': 2366, 'ha': 2367, 'afterward': 2368, 'scheme': 2369, 'ron': 2370, 'larri': 2371, 'bone': 2372, 'address': 2373, 'christ': 2374, 'ned': 2375, 'cruel': 2376, 'thumb': 2377, 'feed': 2378, 'screw': 2379, 'distinct': 2380, 'pursu': 2381, 'swear': 2382, 'beg': 2383, 'snake': 2384, 'traci': 2385, 'tour': 2386, 'stomach': 2387, 'occas': 2388, 'raw': 2389, 'obscur': 2390, 'mechan': 2391, 'chair': 2392, 'photo': 2393, 'cabin': 2394, 'resist': 2395, 'argument': 2396, 'render': 2397, 'southern': 2398, 'holiday': 2399, 'chain': 2400, 'sidney': 2401, 'hardi': 2402, 'necessarili': 2403, 'gruesom': 2404, 'heavili': 2405, 'satan': 2406, 'india': 2407, 'indulg': 2408, 'racist': 2409, 'understood': 2410, 'philip': 2411, 'pregnant': 2412, 'fourth': 2413, 'belov': 2414, 'tongu': 2415, 'integr': 2416, 'lay': 2417, 'outfit': 2418, 'stalk': 2419, 'forgot': 2420, 'obnoxi': 2421, 'midnight': 2422, 'inhabit': 2423, '17': 2424, 'carol': 2425, 'restor': 2426, 'garden': 2427, 'magazin': 2428, 'slapstick': 2429, 'deeper': 2430, 'ticket': 2431, 'incid': 2432, 'shoe': 2433, 'devot': 2434, 'lincoln': 2435, 'brad': 2436, 'benefit': 2437, 'anticip': 2438, 'underground': 2439, 'disbelief': 2440, 'divorc': 2441, 'sandler': 2442, 'guarante': 2443, 'maria': 2444, 'lili': 2445, 'elizabeth': 2446, 'capit': 2447, 'cring': 2448, 'creation': 2449, 'bbc': 2450, 'princip': 2451, 'mildli': 2452, 'explod': 2453, 'greater': 2454, 'amazingli': 2455, 'slave': 2456, 'introduct': 2457, 'extraordinari': 2458, 'funnier': 2459, 'halfway': 2460, 'lesli': 2461, 'extent': 2462, 'advantag': 2463, 'overwhelm': 2464, 'enhanc': 2465, 'punish': 2466, 'tap': 2467, 'text': 2468, 'wreck': 2469, 'transfer': 2470, 'error': 2471, 'dynam': 2472, 'horrif': 2473, 'lo': 2474, 'preview': 2475, 'east': 2476, 'lane': 2477, 'deliber': 2478, 'plant': 2479, 'jessica': 2480, 'basi': 2481, 'ensu': 2482, 'sophist': 2483, 'homosexu': 2484, 'vincent': 2485, 'vacat': 2486, 'miscast': 2487, 'appli': 2488, '2000': 2489, 'miller': 2490, 'via': 2491, 'extend': 2492, 'uncomfort': 2493, 'bollywood': 2494, 'sleazi': 2495, 'mansion': 2496, 'measur': 2497, 'reed': 2498, 'steel': 2499, 'spoken': 2500, 'elev': 2501, 'breathtak': 2502, 'beer': 2503, 'overact': 2504, 'blair': 2505, 'alter': 2506, 'conceiv': 2507, 'savag': 2508, 'goofi': 2509, 'mous': 2510, 'hippi': 2511, 'dentist': 2512, 'melt': 2513, 'assign': 2514, 'stanley': 2515, 'cathol': 2516, 'fix': 2517, 'daili': 2518, 'sacrific': 2519, 'oppos': 2520, 'everyday': 2521, 'inspector': 2522, 'succe': 2523, 'carpent': 2524, 'properli': 2525, 'subsequ': 2526, 'burt': 2527, 'nowaday': 2528, 'circl': 2529, 'neck': 2530, 'block': 2531, 'massacr': 2532, 'laura': 2533, 'fallen': 2534, 'fay': 2535, 'seagal': 2536, 'pool': 2537, 'christi': 2538, 'access': 2539, 'portrait': 2540, 'lesser': 2541, 'concert': 2542, 'mob': 2543, 'grey': 2544, 'react': 2545, 'relax': 2546, 'competit': 2547, 'isol': 2548, 'sinist': 2549, 'jake': 2550, 'chees': 2551, 'usa': 2552, 'jewish': 2553, '2006': 2554, 'spiritu': 2555, 'appal': 2556, 'stink': 2557, 'chop': 2558, 'immens': 2559, 'nonetheless': 2560, 'lyric': 2561, 'creep': 2562, 'nine': 2563, 'suitabl': 2564, 'ironi': 2565, 'reduc': 2566, 'showcas': 2567, 'spring': 2568, 'rage': 2569, 'needless': 2570, 'navi': 2571, 'user': 2572, 'sold': 2573, 'adopt': 2574, 'retir': 2575, 'nut': 2576, 'franchis': 2577, 'shirt': 2578, 'luci': 2579, 'digit': 2580, 'zone': 2581, 'bulli': 2582, 'jay': 2583, 'asham': 2584, 'per': 2585, 'uninspir': 2586, 'nurs': 2587, 'bath': 2588, 'stanwyck': 2589, '2001': 2590, 'upper': 2591, 'laid': 2592, 'sutherland': 2593, 'amongst': 2594, 'oddli': 2595, 'illustr': 2596, 'broadcast': 2597, '1940': 2598, 'throat': 2599, 'aspir': 2600, 'baker': 2601, 'fulfil': 2602, 'brando': 2603, 'stylish': 2604, 'disguis': 2605, 'endear': 2606, 'neighborhood': 2607, 'thief': 2608, '18': 2609, 'wwii': 2610, 'em': 2611, 'wanna': 2612, 'impli': 2613, 'pound': 2614, 'nobl': 2615, 'pride': 2616, 'diseas': 2617, 'prop': 2618, 'tens': 2619, 'distribut': 2620, 'bo': 2621, 'albeit': 2622, 'dawn': 2623, 'dinner': 2624, '16': 2625, 'shoulder': 2626, 'shift': 2627, 'cinematograph': 2628, 'coher': 2629, 'rochest': 2630, 'bett': 2631, 'contract': 2632, 'matthau': 2633, 'rebel': 2634, 'wash': 2635, 'forti': 2636, 'function': 2637, 'snow': 2638, 'knife': 2639, 'silenc': 2640, 'shout': 2641, 'poignant': 2642, 'surf': 2643, 'silver': 2644, 'henc': 2645, 'internet': 2646, 'duti': 2647, 'mindless': 2648, 'cancel': 2649, 'horrend': 2650, 'height': 2651, 'derek': 2652, 'proof': 2653, 'widmark': 2654, 'reunion': 2655, 'cannib': 2656, 'heat': 2657, 'eeri': 2658, 'chuck': 2659, 'instinct': 2660, 'elvira': 2661, 'alik': 2662, 'premier': 2663, 'etern': 2664, 'elvi': 2665, 'incoher': 2666, 'repetit': 2667, 'musician': 2668, 'absorb': 2669, 'greatli': 2670, 'innov': 2671, 'torn': 2672, 'mill': 2673, 'pie': 2674, 'glori': 2675, 'spielberg': 2676, 'neat': 2677, 'burton': 2678, 'fbi': 2679, 'homag': 2680, 'crisi': 2681, 'diamond': 2682, 'wealthi': 2683, 'precis': 2684, 'horrifi': 2685, 'blank': 2686, 'lovabl': 2687, 'britain': 2688, 'nelson': 2689, 'announc': 2690, 'bang': 2691, 'itali': 2692, 'racism': 2693, 'redempt': 2694, 'trite': 2695, 'infam': 2696, 'happili': 2697, 'flop': 2698, 'helen': 2699, 'pat': 2700, 'chaplin': 2701, 'dedic': 2702, 'resolut': 2703, 'ensembl': 2704, 'hammer': 2705, 'wilder': 2706, 'streisand': 2707, 'parallel': 2708, 'carter': 2709, 'disagre': 2710, 'triumph': 2711, 'mar': 2712, 'broke': 2713, 'plastic': 2714, 'oil': 2715, 'conclud': 2716, 'factori': 2717, 'st': 2718, 'cube': 2719, 'vega': 2720, 'rocket': 2721, 'fighter': 2722, 'bush': 2723, 'chuckl': 2724, 'climb': 2725, 'row': 2726, 'march': 2727, 'weight': 2728, 'own': 2729, 'meaning': 2730, 'luca': 2731, 'thug': 2732, 'enorm': 2733, 'dump': 2734, 'dane': 2735, 'mst3k': 2736, 'boot': 2737, 'unforgett': 2738, 'kurt': 2739, 'lust': 2740, 'spare': 2741, 'sensibl': 2742, 'wherea': 2743, 'stress': 2744, 'bobbi': 2745, 'dear': 2746, 'butt': 2747, 'adequ': 2748, 'rap': 2749, 'caricatur': 2750, 'arnold': 2751, 'brand': 2752, 'threat': 2753, 'fifti': 2754, 'engin': 2755, 'karloff': 2756, 'difficulti': 2757, 'fest': 2758, 'journalist': 2759, 'polish': 2760, 'ego': 2761, 'swing': 2762, 'elabor': 2763, 'arrog': 2764, 'secretari': 2765, 'barri': 2766, 'flynn': 2767, 'hamlet': 2768, 'ralph': 2769, 'homeless': 2770, 'unbear': 2771, 'spike': 2772, 'simpson': 2773, 'induc': 2774, 'float': 2775, 'conspiraci': 2776, 'arrang': 2777, 'tool': 2778, 'grate': 2779, 'fanci': 2780, 'resort': 2781, 'puppet': 2782, 'pig': 2783, 'tribut': 2784, 'phillip': 2785, 'exercis': 2786, 'choreograph': 2787, 'boll': 2788, 'cruis': 2789, 'guilt': 2790, 'basement': 2791, 'muppet': 2792, 'document': 2793, 'ward': 2794, 'fianc': 2795, 'tower': 2796, 'medium': 2797, 'puzzl': 2798, 'editor': 2799, '24': 2800, 'layer': 2801, 'ham': 2802, 'scarecrow': 2803, 'slip': 2804, 'toilet': 2805, 'stan': 2806, 'korean': 2807, 'item': 2808, 'babe': 2809, 'file': 2810, 'spark': 2811, 'transit': 2812, 'orient': 2813, 'librari': 2814, 'territori': 2815, 'assur': 2816, 'glover': 2817, 'catherin': 2818, 'philosoph': 2819, 'doc': 2820, 'inexplic': 2821, 'larger': 2822, 'slaughter': 2823, 'denzel': 2824, 'superfici': 2825, 'persona': 2826, 'minim': 2827, 'portion': 2828, 'jeremi': 2829, 'owe': 2830, 'jet': 2831, 'ban': 2832, 'sneak': 2833, 'financi': 2834, 'shi': 2835, 'pg': 2836, 'curti': 2837, 'wolf': 2838, 'dorothi': 2839, 'walken': 2840, 'boredom': 2841, 'profound': 2842, 'eleph': 2843, 'multi': 2844, 'backdrop': 2845, 'ambigu': 2846, 'metaphor': 2847, 'hudson': 2848, 'cusack': 2849, 'whale': 2850, 'hack': 2851, '2005': 2852, 'birthday': 2853, 'elsewher': 2854, 'union': 2855, 'implaus': 2856, 'stiff': 2857, 'viru': 2858, 'rave': 2859, 'ultra': 2860, 'gadget': 2861, 'notion': 2862, 'slight': 2863, 'pad': 2864, 'poison': 2865, 'reader': 2866, 'squar': 2867, 'urg': 2868, 'deriv': 2869, 'afford': 2870, 'bibl': 2871, '1st': 2872, 'lloyd': 2873, 'canada': 2874, 'newspap': 2875, 'distanc': 2876, 'eastwood': 2877, 'superhero': 2878, 'disc': 2879, 'hawk': 2880, 'eva': 2881, 'heston': 2882, 'essenc': 2883, 'skit': 2884, 'charisma': 2885, 'spread': 2886, 'health': 2887, 'drown': 2888, 'restaur': 2889, 'cure': 2890, 'sadist': 2891, 'button': 2892, 'montag': 2893, 'huh': 2894, 'gradual': 2895, 'fetch': 2896, 'dealt': 2897, 'estat': 2898, 'invest': 2899, 'muslim': 2900, 'godfath': 2901, 'maniac': 2902, 'companion': 2903, 'lab': 2904, 'peak': 2905, 'scoobi': 2906, 'gothic': 2907, 'alli': 2908, 'ritter': 2909, 'tea': 2910, 'miik': 2911, 'countless': 2912, 'kane': 2913, 'cup': 2914, 'subtleti': 2915, 'servant': 2916, 'briefli': 2917, 'iii': 2918, 'heroic': 2919, 'charismat': 2920, 'elect': 2921, 'salli': 2922, 'electr': 2923, 'ingredi': 2924, 'tender': 2925, 'resourc': 2926, 'neil': 2927, 'nuanc': 2928, 'cole': 2929, 'reel': 2930, 'wannab': 2931, 'bud': 2932, 'toss': 2933, 'admittedli': 2934, 'grandmoth': 2935, 'punk': 2936, 'poverti': 2937, 'pit': 2938, 'gate': 2939, 'stood': 2940, 'mild': 2941, 'dawson': 2942, 'mafia': 2943, 'reev': 2944, 'kubrick': 2945, 'stronger': 2946, 'carrey': 2947, 'shall': 2948, 'label': 2949, 'pauli': 2950, 'updat': 2951, 'cox': 2952, 'outcom': 2953, 'burst': 2954, 'ian': 2955, 'assault': 2956, 'easier': 2957, 'cardboard': 2958, 'terri': 2959, 'astair': 2960, 'useless': 2961, 'tag': 2962, 'smash': 2963, 'smooth': 2964, 'fond': 2965, 'bakshi': 2966, 'exchang': 2967, 'increasingli': 2968, 'vulner': 2969, 'sketch': 2970, 'resolv': 2971, 'qualifi': 2972, '2002': 2973, 'melodramat': 2974, 'vari': 2975, 'coincid': 2976, 'fist': 2977, 'samurai': 2978, 'rex': 2979, 'divers': 2980, 'reynold': 2981, 'templ': 2982, 'brillianc': 2983, 'tame': 2984, 'insert': 2985, 'luckili': 2986, 'blast': 2987, 'be': 2988, 'scratch': 2989, 'conveni': 2990, 'suspend': 2991, 'nuclear': 2992, 'fisher': 2993, 'soprano': 2994, 'gotta': 2995, 'farm': 2996, 'ambiti': 2997, 'seventi': 2998, 'walker': 2999, 'meat': 3000, 'hamilton': 3001, 'strictli': 3002, 'coach': 3003, 'matthew': 3004, 'pin': 3005, 'jami': 3006, 'convolut': 3007, 'monk': 3008, 'kudo': 3009, 'recreat': 3010, 'empir': 3011, 'discoveri': 3012, 'spooki': 3013, 'struck': 3014, 'revers': 3015, 'butcher': 3016, 'cave': 3017, 'eccentr': 3018, 'timeless': 3019, 'instantli': 3020, 'ninja': 3021, 'clock': 3022, 'grasp': 3023, 'closet': 3024, 'brosnan': 3025, 'worthless': 3026, 'joey': 3027, 'sloppi': 3028, 'seller': 3029, 'clown': 3030, 'selfish': 3031, 'sidekick': 3032, 'wipe': 3033, 'evok': 3034, 'partli': 3035, 'eighti': 3036, 'mitchel': 3037, 'inconsist': 3038, 'cliff': 3039, 'communist': 3040, 'fifteen': 3041, 'miracl': 3042, 'importantli': 3043, 'bleak': 3044, 'norman': 3045, 'gray': 3046, 'declar': 3047, 'pal': 3048, 'chew': 3049, 'superbl': 3050, 'lifestyl': 3051, 'cheek': 3052, 'stoog': 3053, 'flawless': 3054, 'australia': 3055, '45': 3056, 'websit': 3057, 'destin': 3058, 'piano': 3059, 'enthusiast': 3060, 'psychiatrist': 3061, 'seed': 3062, 'debat': 3063, 'ho': 3064, 'farc': 3065, 'aforement': 3066, 'regardless': 3067, 'pressur': 3068, 'incompet': 3069, 'wrestl': 3070, 'kitchen': 3071, 'soviet': 3072, 'anni': 3073, 'directori': 3074, 'dash': 3075, 'emili': 3076, 'bash': 3077, 'drivel': 3078, 'dire': 3079, 'akshay': 3080, 'slice': 3081, 'wick': 3082, 'abc': 3083, 'splatter': 3084, 'artifici': 3085, 'chapter': 3086, 'glow': 3087, 'increas': 3088, 'seduc': 3089, 'judi': 3090, 'duo': 3091, 'cagney': 3092, 'jar': 3093, 'recov': 3094, 'flower': 3095, 'distant': 3096, 'curios': 3097, 'cameron': 3098, 'helicopt': 3099, 'boil': 3100, 'doo': 3101, 'prize': 3102, 'mann': 3103, 'lou': 3104, 'ken': 3105, 'beaten': 3106, 'pleasantli': 3107, 'dave': 3108, 'cia': 3109, 'suppli': 3110, 'blob': 3111, 'turner': 3112, 'favour': 3113, 'craig': 3114, 'hop': 3115, 'goldberg': 3116, 'ranger': 3117, 'splendid': 3118, 'laurel': 3119, 'glenn': 3120, 'eleg': 3121, 'psychot': 3122, 'combat': 3123, 'panic': 3124, 'craven': 3125, 'drunken': 3126, 'web': 3127, 'ellen': 3128, 'francisco': 3129, 'perri': 3130, 'graduat': 3131, 'greek': 3132, 'plausibl': 3133, '20th': 3134, 'gentl': 3135, 'wizard': 3136, 'shortli': 3137, 'rid': 3138, 'philosophi': 3139, 'ruth': 3140, 'hatr': 3141, 'alexand': 3142, 'falk': 3143, 'fx': 3144, 'modesti': 3145, 'min': 3146, 'flip': 3147, 'gandhi': 3148, 'slightest': 3149, 'legal': 3150, 'futurist': 3151, 'preciou': 3152, 'manhattan': 3153, 'felix': 3154, 'knight': 3155, 'tall': 3156, 'dracula': 3157, 'unpleas': 3158, 'ocean': 3159, 'we': 3160, 'fund': 3161, 'jealou': 3162, 'harm': 3163, 'holi': 3164, 'lend': 3165, 'forbidden': 3166, 'ami': 3167, 'thread': 3168, 'bless': 3169, 'mock': 3170, 'digniti': 3171, 'nod': 3172, 'explicit': 3173, 'reviv': 3174, 'scientif': 3175, 'overdon': 3176, 'giallo': 3177, 'childish': 3178, 'tank': 3179, 'fever': 3180, 'repeatedli': 3181, '2004': 3182, 'elderli': 3183, 'eve': 3184, 'broad': 3185, 'mel': 3186, 'awaken': 3187, 'thick': 3188, 'verhoeven': 3189, 'margaret': 3190, 'pirat': 3191, 'torment': 3192, 'yesterday': 3193, 'awe': 3194, 'unwatch': 3195, 'nerv': 3196, '99': 3197, 'publish': 3198, 'absenc': 3199, 'launch': 3200, 'rivet': 3201, 'royal': 3202, 'acclaim': 3203, 'politician': 3204, 'lean': 3205, 'eas': 3206, 'ambit': 3207, 'uniform': 3208, 'kay': 3209, 'custom': 3210, 'ah': 3211, 'timothi': 3212, 'roman': 3213, 'automat': 3214, 'stiller': 3215, 'romero': 3216, 'bin': 3217, 'griffith': 3218, 'warren': 3219, 'stinker': 3220, 'crook': 3221, 'antic': 3222, 'transport': 3223, 'darker': 3224, 'phrase': 3225, 'foul': 3226, 'termin': 3227, 'wallac': 3228, 'sunshin': 3229, 'purpl': 3230, 'bathroom': 3231, 'tomato': 3232, 'gabriel': 3233, 'pierc': 3234, 'homicid': 3235, 'pulp': 3236, 'evolv': 3237, '2003': 3238, 'kenneth': 3239, 'karen': 3240, 'viciou': 3241, 'donna': 3242, 'choreographi': 3243, 'ought': 3244, 'sixti': 3245, 'eyr': 3246, 'revolutionari': 3247, 'awak': 3248, 'pray': 3249, 'prom': 3250, 'brazil': 3251, 'rambo': 3252, 'juvenil': 3253, 'saint': 3254, 'li': 3255, 'album': 3256, 'horrid': 3257, 'hollow': 3258, 'packag': 3259, 'marin': 3260, 'contrari': 3261, 'coloni': 3262, 'q': 3263, 'overr': 3264, 'kapoor': 3265, 'candid': 3266, 'ireland': 3267, 'nerd': 3268, 'option': 3269, 'defi': 3270, 'stole': 3271, 'beatti': 3272, 'boast': 3273, 'twelv': 3274, 'conserv': 3275, 'dose': 3276, 'ramon': 3277, 'mummi': 3278, 'mildr': 3279, 'blade': 3280, 'trio': 3281, 'confirm': 3282, 'jazz': 3283, 'kirk': 3284, 'global': 3285, 'detract': 3286, 'natali': 3287, 'funer': 3288, 'altman': 3289, 'astonish': 3290, 'protest': 3291, 'flame': 3292, 'collabor': 3293, 'fulci': 3294, 'shade': 3295, 'bottl': 3296, 'enterpris': 3297, 'nicholson': 3298, 'leap': 3299, 'tommi': 3300, 'spit': 3301, 'racial': 3302, 'bull': 3303, 'mystic': 3304, 'delici': 3305, 'audio': 3306, 'blake': 3307, 'destini': 3308, 'yellow': 3309, 'whip': 3310, 'vivid': 3311, 'staff': 3312, 'merci': 3313, 'reunit': 3314, 'swedish': 3315, 'pseudo': 3316, 'enchant': 3317, 'altogeth': 3318, 'todd': 3319, 'harder': 3320, 'neo': 3321, 'visibl': 3322, 'popcorn': 3323, 'adolesc': 3324, 'fonda': 3325, 'threw': 3326, 'inherit': 3327, 'bedroom': 3328, 'meaningless': 3329, 'bust': 3330, 'befriend': 3331, 'madonna': 3332, 'lemmon': 3333, 'ruthless': 3334, 'leonard': 3335, 'synopsi': 3336, 'moodi': 3337, 'atlanti': 3338, 'exhibit': 3339, 'lawrenc': 3340, 'decor': 3341, 'kennedi': 3342, 'await': 3343, 'jew': 3344, 'voight': 3345, 'tip': 3346, 'wire': 3347, 'suspici': 3348, 'uneven': 3349, 'roommat': 3350, 'fanat': 3351, 'crocodil': 3352, 'respond': 3353, 'reserv': 3354, 'edi': 3355, '2007': 3356, 'centr': 3357, 'garner': 3358, 'ventur': 3359, 'dimens': 3360, 'bold': 3361, 'rural': 3362, 'unsettl': 3363, 'audit': 3364, 'clumsi': 3365, 'carl': 3366, 'chao': 3367, 'bradi': 3368, 'bargain': 3369, 'voyag': 3370, 'clint': 3371, 'holli': 3372, 'incident': 3373, 'abysm': 3374, 'palma': 3375, 'trail': 3376, 'lit': 3377, 'daddi': 3378, 'characterist': 3379, 'imperson': 3380, 'poetic': 3381, 'acknowledg': 3382, 'tiger': 3383, 'wealth': 3384, 'neglect': 3385, 'humili': 3386, 'echo': 3387, 'immigr': 3388, 'cuba': 3389, 'elimin': 3390, 'ant': 3391, 'versu': 3392, 'troop': 3393, '2nd': 3394, 'cari': 3395, 'cd': 3396, 'mall': 3397, 'hart': 3398, 'nearbi': 3399, 'timon': 3400, 'saga': 3401, 'homer': 3402, 'solo': 3403, 'prejudic': 3404, 'domest': 3405, 'celluloid': 3406, 'marshal': 3407, 'jeffrey': 3408, 'collaps': 3409, 'paus': 3410, 'pun': 3411, 'mickey': 3412, 'repuls': 3413, 'infect': 3414, 'mistaken': 3415, 'assembl': 3416, 'sore': 3417, 'coffe': 3418, 'inappropri': 3419, 'leon': 3420, 'interrupt': 3421, 'chest': 3422, 'coat': 3423, 'cake': 3424, 'undoubtedli': 3425, '1996': 3426, 'pant': 3427, 'olivi': 3428, 'apolog': 3429, 'hbo': 3430, 'ginger': 3431, 'equip': 3432, 'promin': 3433, 'harvey': 3434, 'tribe': 3435, 'gear': 3436, 'milk': 3437, 'inan': 3438, 'pot': 3439, 'consum': 3440, 'instant': 3441, 'aveng': 3442, 'pen': 3443, 'trace': 3444, 'brooklyn': 3445, 'exot': 3446, 'maggi': 3447, 'humbl': 3448, 'solut': 3449, 'colleagu': 3450, 'furthermor': 3451, 'colonel': 3452, 'vulgar': 3453, 'florida': 3454, 'retain': 3455, 'devast': 3456, 'institut': 3457, 'highest': 3458, 'embrac': 3459, 'polanski': 3460, 'primari': 3461, 'airplan': 3462, 'jenni': 3463, 'linda': 3464, 'bowl': 3465, 'wive': 3466, 'descend': 3467, 'dian': 3468, 'cope': 3469, 'sale': 3470, 'gender': 3471, 'rick': 3472, 'godzilla': 3473, 'ya': 3474, 'illog': 3475, 'smaller': 3476, 'dutch': 3477, '3rd': 3478, 'strain': 3479, 'seduct': 3480, 'outer': 3481, 'disabl': 3482, '1999': 3483, 'principl': 3484, 'poke': 3485, 'cue': 3486, 'predecessor': 3487, 'beneath': 3488, 'primarili': 3489, 'inferior': 3490, 'yard': 3491, 'dive': 3492, 'lol': 3493, 'devoid': 3494, 'mixtur': 3495, 'vast': 3496, 'hal': 3497, 'gloriou': 3498, 'rabbit': 3499, 'dud': 3500, 'blatant': 3501, 'secondli': 3502, 'glamor': 3503, 'scope': 3504, 'bubbl': 3505, 'gundam': 3506, 'pearl': 3507, 'alert': 3508, 'april': 3509, 'simplist': 3510, 'talki': 3511, 'museum': 3512, 'garbo': 3513, 'countrysid': 3514, 'breed': 3515, 'trademark': 3516, 'et': 3517, 'aggress': 3518, 'senseless': 3519, 'myer': 3520, 'grinch': 3521, 'invas': 3522, 'shelf': 3523, 'casual': 3524, 'disjoint': 3525, 'arab': 3526, 'shirley': 3527, 'domino': 3528, 'streep': 3529, 'z': 3530, 'hideou': 3531, 'alfr': 3532, 'sh': 3533, 'stir': 3534, 'mayor': 3535, 'maci': 3536, 'hopeless': 3537, 'robinson': 3538, 'oz': 3539, 'slide': 3540, 'uwe': 3541, 'boom': 3542, 'experiment': 3543, 'acid': 3544, 'mail': 3545, 'stellar': 3546, 'rendit': 3547, 'applaud': 3548, 'obtain': 3549, 'disgrac': 3550, 'khan': 3551, 'stack': 3552, 'unhappi': 3553, 'robberi': 3554, 'loyal': 3555, 'hardcor': 3556, 'vanish': 3557, 'illeg': 3558, 'defens': 3559, 'incomprehens': 3560, 'tempt': 3561, 'counter': 3562, 'span': 3563, 'declin': 3564, 'blew': 3565, 'amanda': 3566, 'dismiss': 3567, 'tenant': 3568, 'craze': 3569, 'soccer': 3570, 'wont': 3571, 'rifl': 3572, 'fri': 3573, 'grandfath': 3574, 'psychic': 3575, 'spider': 3576, 'berlin': 3577, 'diana': 3578, 'emphasi': 3579, 'recruit': 3580, 'topless': 3581, 'hartley': 3582, 'dicken': 3583, 'scroog': 3584, 'parad': 3585, 'goer': 3586, 'sympath': 3587, 'porno': 3588, 'niro': 3589, 'ethnic': 3590, 'faster': 3591, 'intim': 3592, 'shed': 3593, 'trashi': 3594, 'sibl': 3595, 'wet': 3596, 'bitch': 3597, 'resurrect': 3598, 'lumet': 3599, 'ration': 3600, 'revolt': 3601, 'shaw': 3602, 'woo': 3603, 'justin': 3604, 'riot': 3605, 'hesit': 3606, 'choru': 3607, 'nephew': 3608, 'eager': 3609, 'gap': 3610, 'slick': 3611, 'honesti': 3612, 'wheel': 3613, 'ensur': 3614, 'feminist': 3615, 'weakest': 3616, 'jonathan': 3617, 'farmer': 3618, 'mario': 3619, '00': 3620, 'enlighten': 3621, 'biographi': 3622, 'ballet': 3623, 'hopper': 3624, 'immort': 3625, 'partial': 3626, 'patriot': 3627, 'andr': 3628, 'commend': 3629, 'unreal': 3630, 'lena': 3631, 'region': 3632, 'worm': 3633, 'steam': 3634, 'wendi': 3635, 'dealer': 3636, 'rider': 3637, 'wore': 3638, 'prequel': 3639, 'skull': 3640, 'similarli': 3641, 'util': 3642, 'blunt': 3643, 'sandra': 3644, 'vice': 3645, 'victori': 3646, 'repress': 3647, 'kingdom': 3648, 'sappi': 3649, 'nostalg': 3650, 'morri': 3651, 'psychopath': 3652, 'composit': 3653, 'confin': 3654, 'owen': 3655, 'hung': 3656, 'snap': 3657, 'macarthur': 3658, 'properti': 3659, 'franco': 3660, 'charlott': 3661, 'leo': 3662, 'mutant': 3663, 'safeti': 3664, 'speci': 3665, 'compass': 3666, 'tad': 3667, 'exit': 3668, 'valuabl': 3669, 'bow': 3670, 'snl': 3671, 'drain': 3672, 'heartbreak': 3673, 'whoopi': 3674, 'emperor': 3675, 'tail': 3676, 'thru': 3677, 'cg': 3678, 'compens': 3679, 'pattern': 3680, 'montana': 3681, 'despair': 3682, 'dust': 3683, 'deed': 3684, 'strand': 3685, 'rambl': 3686, 'miseri': 3687, 'farrel': 3688, 'bumbl': 3689, 'latin': 3690, 'rope': 3691, '1972': 3692, 'acquir': 3693, 'campbel': 3694, 'drum': 3695, 'bonu': 3696, 'del': 3697, 'repli': 3698, 'dalton': 3699, 'nervou': 3700, 'recycl': 3701, 'bergman': 3702, 'hyde': 3703, 'rocki': 3704, 'kyle': 3705, 'roth': 3706, 'bleed': 3707, 'oppress': 3708, 'rotten': 3709, 'wacki': 3710, 'gal': 3711, 'downhil': 3712, 'radic': 3713, 'mistress': 3714, 'slug': 3715, 'percept': 3716, 'chess': 3717, 'rapist': 3718, 'orson': 3719, 'pour': 3720, 'romp': 3721, '35': 3722, 'martian': 3723, 'tonight': 3724, 'contempl': 3725, 'gimmick': 3726, 'da': 3727, 'airport': 3728, 'carradin': 3729, 'olli': 3730, 'attorney': 3731, 'unpredict': 3732, 'mislead': 3733, 'tackl': 3734, 'arguabl': 3735, 'shelley': 3736, 'heal': 3737, 'stilt': 3738, 'slash': 3739, 'taught': 3740, 'dazzl': 3741, 'preach': 3742, 'champion': 3743, 'pervert': 3744, 'arc': 3745, 'banal': 3746, 'tooth': 3747, '1983': 3748, 'pervers': 3749, 'belt': 3750, 'programm': 3751, 'paltrow': 3752, 'edgar': 3753, 'pursuit': 3754, 'melodi': 3755, 'cleverli': 3756, 'employe': 3757, 'plight': 3758, 'poem': 3759, 'virginia': 3760, 'graham': 3761, 'sensat': 3762, 'vengeanc': 3763, 'bela': 3764, 'rubi': 3765, 'marti': 3766, 'passeng': 3767, 'franki': 3768, 'orang': 3769, 'tiresom': 3770, 'vocal': 3771, 'duval': 3772, 'closest': 3773, 'mesmer': 3774, 'maid': 3775, 'gambl': 3776, 'dixon': 3777, 'conneri': 3778, 'chicken': 3779, 'uplift': 3780, 'raymond': 3781, 'profan': 3782, 'engross': 3783, 'numb': 3784, '1968': 3785, 'suffic': 3786, 'calm': 3787, 'habit': 3788, 'giggl': 3789, 'bay': 3790, 'convincingli': 3791, 'quarter': 3792, 'volum': 3793, 'mute': 3794, 'amitabh': 3795, 'scottish': 3796, 'tube': 3797, 'inject': 3798, 'outing': 3799, 'abraham': 3800, 'paranoia': 3801, 'secretli': 3802, 'gerard': 3803, 'whine': 3804, 'iran': 3805, 'yawn': 3806, 'swallow': 3807, 'crystal': 3808, 'clone': 3809, 'extens': 3810, 'lundgren': 3811, 'pokemon': 3812, 'monologu': 3813, 'climact': 3814, 'sirk': 3815, 'richardson': 3816, 'septemb': 3817, 'frankenstein': 3818, 'earl': 3819, 'junior': 3820, 'surpass': 3821, 'ethan': 3822, 'underst': 3823, 'meander': 3824, 'dispos': 3825, 'franci': 3826, 'taxi': 3827, 'bend': 3828, 'nichola': 3829, 'poetri': 3830, 'backward': 3831, 'plod': 3832, 'linger': 3833, 'lowest': 3834, 'grotesqu': 3835, 'profess': 3836, 'im': 3837, 'trend': 3838, 'abort': 3839, 'fed': 3840, 'spock': 3841, 'austen': 3842, 'expand': 3843, 'chicago': 3844, 'catchi': 3845, 'household': 3846, 'dysfunct': 3847, 'simplic': 3848, 'literatur': 3849, 'econom': 3850, 'greedi': 3851, 'compliment': 3852, 'mundan': 3853, 'muddl': 3854, 'nostalgia': 3855, 'waitress': 3856, 'myth': 3857, 'instrument': 3858, 'tourist': 3859, 'spoke': 3860, 'rant': 3861, 'stallon': 3862, 'descent': 3863, 'rubber': 3864, 'hum': 3865, 'sue': 3866, 'lure': 3867, 'cannon': 3868, 'eugen': 3869, 'der': 3870, 'cent': 3871, 'insur': 3872, 'furi': 3873, 'crucial': 3874, 'molli': 3875, 'stale': 3876, 'recognit': 3877, 'mortal': 3878, 'sissi': 3879, 'firstli': 3880, 'randi': 3881, 'dement': 3882, 'eaten': 3883, 'irrelev': 3884, 'phantom': 3885, 'recognis': 3886, 'duck': 3887, 'carel': 3888, 'dictat': 3889, 'hello': 3890, 'occupi': 3891, 'alongsid': 3892, 'phoni': 3893, 'louis': 3894, 'mankind': 3895, 'deaf': 3896, 'damon': 3897, 'flee': 3898, 'lang': 3899, 'map': 3900, 'bacal': 3901, 'june': 3902, 'coast': 3903, 'equival': 3904, 'omen': 3905, 'twilight': 3906, 'newli': 3907, '1973': 3908, 'rude': 3909, 'likewis': 3910, 'labor': 3911, 'blackmail': 3912, 'dreari': 3913, 'lengthi': 3914, 'buffalo': 3915, 'distinguish': 3916, 'ashley': 3917, 'antwon': 3918, 'onlin': 3919, 'loyalti': 3920, 'drake': 3921, 'rooney': 3922, 'wisdom': 3923, 'grayson': 3924, 'daisi': 3925, 'bump': 3926, 'freez': 3927, 'reign': 3928, 'cyborg': 3929, 'damm': 3930, 'biko': 3931, 'heel': 3932, 'bike': 3933, 'boxer': 3934, 'provoc': 3935, 'inher': 3936, 'attribut': 3937, 'prey': 3938, 'chronicl': 3939, 'sailor': 3940, 'pink': 3941, 'interior': 3942, 'analysi': 3943, 'baddi': 3944, 'approv': 3945, 'nineti': 3946, 'vein': 3947, 'emphas': 3948, 'barrymor': 3949, 'incorpor': 3950, 'butler': 3951, 'unorigin': 3952, 'worn': 3953, 'tunnel': 3954, 'exposur': 3955, 'keith': 3956, 'proce': 3957, 'basketbal': 3958, 'startl': 3959, 'ridden': 3960, 'stalker': 3961, 'meyer': 3962, 'er': 3963, 'undeni': 3964, 'predat': 3965, 'mighti': 3966, 'fleet': 3967, 'robbin': 3968, 'condemn': 3969, 'underli': 3970, 'millionair': 3971, 'degrad': 3972, 'walsh': 3973, 'bunni': 3974, 'meg': 3975, 'unrel': 3976, 'improvis': 3977, 'belushi': 3978, 'drift': 3979, 'nicol': 3980, 'othello': 3981, 'indiffer': 3982, 'julian': 3983, 'hypnot': 3984, 'substitut': 3985, 'barrel': 3986, 'elm': 3987, 'carla': 3988, 'simmon': 3989, 'mormon': 3990, 'priceless': 3991, 'enthusiasm': 3992, 'warmth': 3993, 'reid': 3994, 'exquisit': 3995, 'greed': 3996, 'disord': 3997, 'mtv': 3998, 'unawar': 3999, 'palac': 4000, 'lampoon': 4001, 'vital': 4002, 'errol': 4003, 'agenda': 4004, 'watson': 4005, 'novak': 4006, 'firm': 4007, 'roof': 4008, 'rukh': 4009, 'alarm': 4010, 'alison': 4011, 'dolph': 4012, 'shove': 4013, 'hay': 4014, 'marion': 4015, 'nyc': 4016, '3d': 4017, 'edgi': 4018, 'petti': 4019, '1933': 4020, 'campaign': 4021, 'distort': 4022, 'sergeant': 4023, 'simultan': 4024, 'glanc': 4025, 'drip': 4026, 'championship': 4027, 'showdown': 4028, 'unleash': 4029, 'cassidi': 4030, 'thompson': 4031, 'israel': 4032, 'eastern': 4033, 'orlean': 4034, 'session': 4035, 'profit': 4036, 'pamela': 4037, 'crown': 4038, 'gestur': 4039, 'peck': 4040, 'minimum': 4041, 'spain': 4042, 'nun': 4043, 'valentin': 4044, 'angela': 4045, 'ponder': 4046, '13th': 4047, 'coup': 4048, 'preserv': 4049, 'iraq': 4050, 'randomli': 4051, 'what': 4052, 'beatl': 4053, 'peril': 4054, 'testament': 4055, 'zizek': 4056, 'contradict': 4057, 'crow': 4058, 'kurosawa': 4059, 'regist': 4060, 'scotland': 4061, 'valley': 4062, 'brenda': 4063, 'empathi': 4064, 'din': 4065, 'cooki': 4066, 'han': 4067, 'travesti': 4068, 'quinn': 4069, 'rout': 4070, 'restrain': 4071, 'climat': 4072, 'cream': 4073, 'perpetu': 4074, 'gentleman': 4075, '1984': 4076, 'calib': 4077, 'crawl': 4078, 'reson': 4079, 'shootout': 4080, 'stroke': 4081, 'bro': 4082, 'mon': 4083, 'realm': 4084, 'stake': 4085, 'exposit': 4086, 'jan': 4087, 'sabrina': 4088, 'miyazaki': 4089, 'represent': 4090, 'buster': 4091, 'wig': 4092, 'unimagin': 4093, 'fido': 4094, 'demis': 4095, 'soderbergh': 4096, 'crawford': 4097, 'darren': 4098, 'mclaglen': 4099, 'femm': 4100, 'businessman': 4101, '1987': 4102, 'delic': 4103, 'monoton': 4104, 'wax': 4105, 'cloud': 4106, 'sucker': 4107, 'censor': 4108, 'ustinov': 4109, 'geek': 4110, 'pretens': 4111, 'traumat': 4112, 'unseen': 4113, 'derang': 4114, '1997': 4115, 'spacey': 4116, 'sammi': 4117, 'baldwin': 4118, 'josh': 4119, 'unsatisfi': 4120, 'compromis': 4121, 'abomin': 4122, 'pole': 4123, 'shaki': 4124, 'warrant': 4125, 'tacki': 4126, 'absent': 4127, 'perceiv': 4128, 'greg': 4129, 'painter': 4130, 'ross': 4131, 'shoddi': 4132, 'fuller': 4133, 'passabl': 4134, 'distress': 4135, 'dana': 4136, 'stargat': 4137, 'meryl': 4138, 'austin': 4139, 'uncov': 4140, 'deceas': 4141, 'clash': 4142, 'unravel': 4143, 'jewel': 4144, 'reluct': 4145, 'expedit': 4146, 'tech': 4147, 'dee': 4148, 'deniro': 4149, 'click': 4150, 'kumar': 4151, 'polici': 4152, 'tarantino': 4153, 'norm': 4154, 'judgment': 4155, 'verbal': 4156, 'valid': 4157, 'exclus': 4158, 'furiou': 4159, 'wholli': 4160, 'accuraci': 4161, 'anchor': 4162, 'fog': 4163, 'fenc': 4164, 'correctli': 4165, 'primit': 4166, 'seal': 4167, 'nathan': 4168, 'sid': 4169, '1993': 4170, 'antonioni': 4171, 'enforc': 4172, 'temper': 4173, 'crippl': 4174, 'hallucin': 4175, 'darn': 4176, '2008': 4177, 'pocket': 4178, 'behold': 4179, 'patienc': 4180, 'wang': 4181, 'sustain': 4182, 'shanghai': 4183, 'nicola': 4184, 'sunni': 4185, 'debt': 4186, 'wretch': 4187, 'sand': 4188, '1995': 4189, 'fart': 4190, 'dreck': 4191, 'joel': 4192, 'seldom': 4193, 'alec': 4194, '3000': 4195, 'logan': 4196, 'slam': 4197, 'roller': 4198, 'conduct': 4199, 'clerk': 4200, 'murray': 4201, 'unfair': 4202, 'tax': 4203, 'malon': 4204, 'sheet': 4205, 'trait': 4206, '1971': 4207, 'bake': 4208, 'ritual': 4209, 'fabric': 4210, 'fought': 4211, 'mode': 4212, 'vanc': 4213, 'robber': 4214, 'bridget': 4215, 'guitar': 4216, 'rita': 4217, 'soup': 4218, 'legaci': 4219, 'grief': 4220, 'canyon': 4221, 'preston': 4222, 'exhaust': 4223, 'schedul': 4224, 'conscious': 4225, 'despis': 4226, 'penni': 4227, 'squad': 4228, 'stark': 4229, 'preposter': 4230, 'scriptwrit': 4231, 'divid': 4232, 'phil': 4233, 'bias': 4234, 'critiqu': 4235, 'fundament': 4236, 'isabel': 4237, 'pete': 4238, 'technicolor': 4239, 'clau': 4240, 'stuart': 4241, 'sweep': 4242, 'runner': 4243, 'tactic': 4244, 'helpless': 4245, 'shell': 4246, 'outlin': 4247, 'lacklust': 4248, 'restrict': 4249, 'drove': 4250, 'rear': 4251, 'propos': 4252, 'gregori': 4253, 'russia': 4254, 'invad': 4255, 'sugar': 4256, 'rehash': 4257, 'inabl': 4258, 'passag': 4259, 'liberti': 4260, 'delv': 4261, 'downey': 4262, 'agenc': 4263, 'alicia': 4264, 'bloom': 4265, 'kansa': 4266, 'jacket': 4267, 'newman': 4268, 'connor': 4269, 'vomit': 4270, 'flair': 4271, 'consciou': 4272, 'marc': 4273, 'palanc': 4274, 'jodi': 4275, 'implic': 4276, 'boyl': 4277, 'sentinel': 4278, 'sniper': 4279, 'cigarett': 4280, 'culmin': 4281, 'unexpectedli': 4282, 'alley': 4283, 'tripe': 4284, 'karl': 4285, 'ladder': 4286, 'cap': 4287, 'rampag': 4288, '1936': 4289, 'improb': 4290, 'behaviour': 4291, 'rehears': 4292, 'arrow': 4293, 'aesthet': 4294, 'feat': 4295, 'rod': 4296, '22': 4297, 'asylum': 4298, 'horn': 4299, 'bacon': 4300, 'pale': 4301, 'sharon': 4302, 'wrench': 4303, 'lush': 4304, 'vet': 4305, 'delet': 4306, 'awhil': 4307, 'tendenc': 4308, 'chainsaw': 4309, 'mccoy': 4310, 'foxx': 4311, 'yeti': 4312, 'kolchak': 4313, 'hackney': 4314, 'conscienc': 4315, 'underneath': 4316, 'hulk': 4317, 'elit': 4318, 'loneli': 4319, 'spice': 4320, 'hungri': 4321, '1920': 4322, '1988': 4323, 'suffici': 4324, 'amazon': 4325, 'sung': 4326, 'paradis': 4327, 'rumor': 4328, 'rhythm': 4329, 'stream': 4330, 'globe': 4331, 'suspicion': 4332, 'weav': 4333, 'coaster': 4334, '19th': 4335, 'aristocrat': 4336, 'el': 4337, 'filler': 4338, '1978': 4339, 'minu': 4340, 'paramount': 4341, 'prank': 4342, 'basing': 4343, 'scoop': 4344, 'tasteless': 4345, 'newcom': 4346, 'thunderbird': 4347, 'financ': 4348, 'tomorrow': 4349, 'lurk': 4350, 'fright': 4351, 'wagner': 4352, 'wildli': 4353, 'shortcom': 4354, 'visitor': 4355, 'literari': 4356, 'bread': 4357, 'posey': 4358, 'dirt': 4359, 'rub': 4360, 'ingeni': 4361, 'paxton': 4362, 'teas': 4363, 'lectur': 4364, 'cancer': 4365, 'leigh': 4366, 'en': 4367, 'heist': 4368, 'recogniz': 4369, 'springer': 4370, '1989': 4371, 'naughti': 4372, 'immers': 4373, 'impos': 4374, 'abrupt': 4375, 'couch': 4376, 'ram': 4377, 'smell': 4378, 'curli': 4379, 'counterpart': 4380, 'secondari': 4381, 'worship': 4382, 'hopkin': 4383, 'brit': 4384, '75': 4385, '1939': 4386, 'atroc': 4387, 'standout': 4388, 'beverli': 4389, 'entranc': 4390, 'straightforward': 4391, 'choppi': 4392, 'grudg': 4393, 'minist': 4394, 'inmat': 4395, 'penn': 4396, 'iv': 4397, 'quietli': 4398, 'chamberlain': 4399, 'wwe': 4400, 'chavez': 4401, 'tierney': 4402, 'net': 4403, 'duel': 4404, 'watcher': 4405, 'sublim': 4406, 'variat': 4407, 'misguid': 4408, 'attenborough': 4409, 'injuri': 4410, 'cattl': 4411, 'heartfelt': 4412, 'entitl': 4413, 'enthral': 4414, 'transcend': 4415, 'policeman': 4416, 'bernard': 4417, 'convert': 4418, 'nemesi': 4419, 'esther': 4420, 'sassi': 4421, 'skeptic': 4422, 'ace': 4423, 'nolan': 4424, 'morbid': 4425, 'laurenc': 4426, 'clan': 4427, '1986': 4428, 'missil': 4429, 'yearn': 4430, 'moreov': 4431, 'geni': 4432, 'ratso': 4433, 'quaid': 4434, 'lindsay': 4435, 'enabl': 4436, 'steadi': 4437, 'tyler': 4438, 'unexplain': 4439, 'vader': 4440, 'facil': 4441, 'mytholog': 4442, 'diari': 4443, 'characteris': 4444, 'reliabl': 4445, 'cruelti': 4446, 'bean': 4447, 'artsi': 4448, 'buzz': 4449, 'bye': 4450, 'out': 4451, 'setup': 4452, 'egg': 4453, 'brood': 4454, 'spiral': 4455, 'rosemari': 4456, 'kitti': 4457, 'carlito': 4458, 'moder': 4459, 'obstacl': 4460, 'kidman': 4461, 'grin': 4462, 'dont': 4463, 'hk': 4464, 'graini': 4465, 'youngest': 4466, 'hopelessli': 4467, 'puppi': 4468, 'uncut': 4469, 'poe': 4470, '1979': 4471, 'decept': 4472, 'martha': 4473, 'bronson': 4474, 'baffl': 4475, 'effici': 4476, 'fuel': 4477, 'disastr': 4478, 'weather': 4479, '1969': 4480, 'gillian': 4481, 'despic': 4482, 'hammi': 4483, 'clueless': 4484, 'sweat': 4485, 'patricia': 4486, 'kline': 4487, 'exterior': 4488, 'narrow': 4489, 'heap': 4490, 'bounc': 4491, 'niec': 4492, 'spontan': 4493, 'athlet': 4494, 'acquaint': 4495, 'oblig': 4496, 'bewar': 4497, 'christin': 4498, 'brendan': 4499, 'gina': 4500, 'preming': 4501, 'underworld': 4502, 'hain': 4503, '73': 4504, 'preachi': 4505, 'scar': 4506, 'tick': 4507, 'viewpoint': 4508, 'renaiss': 4509, 'virtu': 4510, 'injur': 4511, 'housewif': 4512, 'suprem': 4513, 'harmless': 4514, 'headach': 4515, 'mermaid': 4516, 'trigger': 4517, 'hepburn': 4518, 'sooner': 4519, 'biker': 4520, 'goof': 4521, 'enlist': 4522, 'shatter': 4523, 'lester': 4524, 'angst': 4525, 'circu': 4526, 'outlaw': 4527, 'dilemma': 4528, 'sleepwalk': 4529, 'insipid': 4530, 'rome': 4531, 'mayhem': 4532, 'candl': 4533, '19': 4534, 'loi': 4535, 'dandi': 4536, 'astound': 4537, 'analyz': 4538, 'uh': 4539, 'fontain': 4540, 'taboo': 4541, 'loath': 4542, 'overlong': 4543, 'bent': 4544, 'spade': 4545, 'steer': 4546, 'intric': 4547, 'amor': 4548, 'macho': 4549, 'tripl': 4550, 'corbett': 4551, 'dish': 4552, 'slimi': 4553, 'contempt': 4554, 'filth': 4555, 'phenomenon': 4556, 'surgeri': 4557, 'boston': 4558, 'sox': 4559, 'idol': 4560, 'cassavet': 4561, 'zoom': 4562, 'whore': 4563, 'oldest': 4564, 'dismal': 4565, 'immatur': 4566, 'redund': 4567, 'guin': 4568, 'stair': 4569, 'hokey': 4570, 'foolish': 4571, 'gere': 4572, 'glorifi': 4573, 'stimul': 4574, 'hooker': 4575, 'salt': 4576, 'claustrophob': 4577, 'camcord': 4578, 'ebert': 4579, 'hostag': 4580, 'scorses': 4581, 'fluff': 4582, 'ariel': 4583, 'flag': 4584, 'spree': 4585, 'radiat': 4586, 'shield': 4587, 'obligatori': 4588, 'down': 4589, 'cush': 4590, 'messi': 4591, 'spinal': 4592, 'widescreen': 4593, 'shred': 4594, 'antagonist': 4595, 'rhyme': 4596, 'astronaut': 4597, 'beard': 4598, 'zane': 4599, 'cohen': 4600, 'proport': 4601, 'assert': 4602, 'trivia': 4603, 'keen': 4604, 'nolt': 4605, 'frantic': 4606, 'fascist': 4607, 'joker': 4608, 'dwarf': 4609, 'flashi': 4610, 'harold': 4611, '1976': 4612, 'gasp': 4613, 'perman': 4614, 'flirt': 4615, 'mutual': 4616, 'transplant': 4617, 'gabl': 4618, 'preced': 4619, 'corman': 4620, 'naschi': 4621, 'margin': 4622, 'cow': 4623, 'mount': 4624, 'schlock': 4625, 'remad': 4626, 'muscl': 4627, 'faint': 4628, 'alvin': 4629, 'strongest': 4630, '1981': 4631, 'conquer': 4632, 'deer': 4633, 'interestingli': 4634, 'neurot': 4635, 'vaniti': 4636, 'discern': 4637, 'www': 4638, '28': 4639, 'instruct': 4640, 'off': 4641, 'hara': 4642, 'raj': 4643, 'bachelor': 4644, 'resum': 4645, 'persuad': 4646, 'scandal': 4647, 'sensual': 4648, 'someday': 4649, 'barn': 4650, 'archiv': 4651, 'inflict': 4652, 'divin': 4653, 'repris': 4654, 'claud': 4655, 'ritchi': 4656, 'mol': 4657, 'brush': 4658, 'triangl': 4659, 'danish': 4660, 'info': 4661, 'aborigin': 4662, '1945': 4663, 'bitten': 4664, 'mobil': 4665, 'wield': 4666, 'carey': 4667, 'fishburn': 4668, 'boob': 4669, '95': 4670, 'flock': 4671, 'departur': 4672, 'strive': 4673, 'harrison': 4674, 'dim': 4675, 'hilar': 4676, 'vibrant': 4677, 'dylan': 4678, 'miracul': 4679, 'jade': 4680, 'proclaim': 4681, 'pacif': 4682, 'neill': 4683, 'earnest': 4684, 'hug': 4685, 'cb': 4686, 'bate': 4687, 'undermin': 4688, 'wendigo': 4689, 'loretta': 4690, 'melissa': 4691, 'cliffhang': 4692, 'hapless': 4693, 'cher': 4694, 'pickford': 4695, 'artwork': 4696, 'submit': 4697, 'recit': 4698, 'parson': 4699, 'traffic': 4700, 'helm': 4701, 'heartwarm': 4702, 'europa': 4703, 'casino': 4704, 'biblic': 4705, 'colin': 4706, 'carlo': 4707, 'senior': 4708, 'fragil': 4709, 'cycl': 4710, 'ish': 4711, 'axe': 4712, 'dame': 4713, 'pixar': 4714, 'prophet': 4715, 'clad': 4716, 'kathryn': 4717, 'timberlak': 4718, 'anton': 4719, 'rot': 4720, 'banter': 4721, 'mobster': 4722, 'frontier': 4723, 'luka': 4724, 'bikini': 4725, 'eli': 4726, 'jordan': 4727, 'sicken': 4728, 'lui': 4729, 'northern': 4730, 'pc': 4731, 'redneck': 4732, 'cerebr': 4733, 'antholog': 4734, 'token': 4735, 'foil': 4736, 'http': 4737, 'flavor': 4738, 'electron': 4739, 'jo': 4740, 'rooki': 4741, 'razor': 4742, 'vile': 4743, 'bondag': 4744, 'uma': 4745, 'toronto': 4746, 'marlon': 4747, 'isra': 4748, 'wardrob': 4749, 'estrang': 4750, 'winchest': 4751, 'orphan': 4752, 'breakfast': 4753, 'blatantli': 4754, 'lucil': 4755, 'misfortun': 4756, 'holocaust': 4757, 'articl': 4758, 'choke': 4759, 'nope': 4760, 'shepherd': 4761, 'vanessa': 4762, 'aris': 4763, 'trier': 4764, 'venom': 4765, 'mason': 4766, 'legitim': 4767, 'feast': 4768, 'seedi': 4769, 'static': 4770, 'illus': 4771, 'mathieu': 4772, 'akin': 4773, 'alexandr': 4774, 'milo': 4775, 'comprehend': 4776, 'affleck': 4777, 'deem': 4778, 'swept': 4779, 'ceremoni': 4780, 'highway': 4781, 'psych': 4782, 'styliz': 4783, 'outdat': 4784, 'peer': 4785, 'nightclub': 4786, 'feminin': 4787, 'shorter': 4788, 'linear': 4789, 'oppon': 4790, 'ideolog': 4791, 'howl': 4792, 'charlton': 4793, 'glare': 4794, 'tack': 4795, 'huston': 4796, 'frog': 4797, 'retriev': 4798, 'turd': 4799, 'disregard': 4800, 'cartoonish': 4801, 'audrey': 4802, 'knightley': 4803, 'abund': 4804, 'gilbert': 4805, 'clinic': 4806, 'smack': 4807, 'magician': 4808, 'leather': 4809, 'wrestler': 4810, 'dudley': 4811, 'boyer': 4812, 'fifth': 4813, 'gunga': 4814, 'whack': 4815, 'plate': 4816, 'senat': 4817, 'energet': 4818, 'durat': 4819, 'collector': 4820, 'tara': 4821, 'lifeless': 4822, 'spine': 4823, 'toe': 4824, 'btw': 4825, 'spawn': 4826, '1994': 4827, '1991': 4828, 'newer': 4829, 'potter': 4830, 'breakdown': 4831, 'corn': 4832, 'phenomen': 4833, 'braveheart': 4834, 'lighter': 4835, 'moe': 4836, 'conrad': 4837, 'lavish': 4838, 'einstein': 4839, '4th': 4840, 'monument': 4841, 'salman': 4842, 'evolut': 4843, 'compris': 4844, 'cemeteri': 4845, 'sleaz': 4846, 'greet': 4847, 'snatch': 4848, 'bastard': 4849, 'summar': 4850, 'chip': 4851, 'client': 4852, 'cuban': 4853, 'goldsworthi': 4854, 'boo': 4855, 'deliver': 4856, 'mitch': 4857, 'uniformli': 4858, 'bogu': 4859, 'clara': 4860, 'constitut': 4861, '1977': 4862, 'bulk': 4863, 'jedi': 4864, 'neatli': 4865, 'replay': 4866, 'eleven': 4867, 'jare': 4868, 'occup': 4869, 'alleg': 4870, 'luxuri': 4871, 'spectacl': 4872, 'embark': 4873, 'signal': 4874, 'undertak': 4875, 'creek': 4876, 'historian': 4877, 'ie': 4878, 'cecil': 4879, 'nina': 4880, 'capot': 4881, 'jam': 4882, 'gilliam': 4883, 'outright': 4884, 'evelyn': 4885, 'firmli': 4886, 'lex': 4887, '1974': 4888, 'healthi': 4889, 'ol': 4890, 'inaccuraci': 4891, 'trauma': 4892, 'wtf': 4893, 'randolph': 4894, 'pronounc': 4895, 'bori': 4896, 'jule': 4897, 'kent': 4898, 'kazan': 4899, 'fluid': 4900, 'mcqueen': 4901, 'judd': 4902, 'undead': 4903, 'belli': 4904, 'sorrow': 4905, 'armstrong': 4906, 'liu': 4907, 'appl': 4908, 'curtain': 4909, 'aussi': 4910, 'congratul': 4911, 'blur': 4912, 'tokyo': 4913, 'comprehens': 4914, '1985': 4915, 'groan': 4916, 'paula': 4917, 'mum': 4918, 'abound': 4919, 'poker': 4920, 'sacrif': 4921, 'galaxi': 4922, 'rosario': 4923, 'id': 4924, 'kiddi': 4925, 'porter': 4926, 'conan': 4927, 'relentless': 4928, 'walt': 4929, 'inaccur': 4930, 'spray': 4931, 'carmen': 4932, 'antonio': 4933, 'subtli': 4934, 'fruit': 4935, 'ash': 4936, 'vignett': 4937, 'cape': 4938, 'truman': 4939, 'vain': 4940, 'propheci': 4941, 'roar': 4942, 'knee': 4943, 'basket': 4944, 'pepper': 4945, 'lauren': 4946, 'bait': 4947, 'meal': 4948, 'forgiven': 4949, 'genet': 4950, 'miami': 4951, 'inclus': 4952, 'palm': 4953, 'unattract': 4954, 'goldblum': 4955, 'comb': 4956, 'pioneer': 4957, 'unsuspect': 4958, 'sidewalk': 4959, 'miniseri': 4960, 'lanc': 4961, 'decapit': 4962, 'bsg': 4963, 'incorrect': 4964, 'sparkl': 4965, 'drone': 4966, 'ingrid': 4967, 'macabr': 4968, 'vastli': 4969, 'substanti': 4970, 'epitom': 4971, 'evan': 4972, 'bravo': 4973, 'weari': 4974, 'mice': 4975, 'detach': 4976, 'playboy': 4977, 'hackman': 4978, 'modest': 4979, '21st': 4980, 'hostil': 4981, 'assort': 4982, 'handicap': 4983, 'profil': 4984, 'weaker': 4985, 'scarfac': 4986, 'omin': 4987, 'motorcycl': 4988, 'growth': 4989, 'ghetto': 4990, 'frontal': 4991, 'monti': 4992, 'asset': 4993, 'cypher': 4994, 'optimist': 4995, 'victorian': 4996, 'bach': 4997, 'rapidli': 4998, 'dubiou': 4999}\n"
     ]
    }
   ],
   "source": [
    "# TODO: Use this space to determine the five most frequently appearing words in the training set.\n",
    "print(word_dict)"
   ]
  },
  {
   "cell_type": "markdown",
   "metadata": {},
   "source": [
    "### Save `word_dict`\n",
    "\n",
    "Later on when we construct an endpoint which processes a submitted review we will need to make use of the `word_dict` which we have created. As such, we will save it to a file now for future use."
   ]
  },
  {
   "cell_type": "code",
   "execution_count": 16,
   "metadata": {},
   "outputs": [],
   "source": [
    "data_dir = '../data/pytorch' # The folder we will use for storing data\n",
    "if not os.path.exists(data_dir): # Make sure that the folder exists\n",
    "    os.makedirs(data_dir)"
   ]
  },
  {
   "cell_type": "code",
   "execution_count": 17,
   "metadata": {},
   "outputs": [],
   "source": [
    "with open(os.path.join(data_dir, 'word_dict.pkl'), \"wb\") as f:\n",
    "    pickle.dump(word_dict, f)"
   ]
  },
  {
   "cell_type": "markdown",
   "metadata": {},
   "source": [
    "### Transform the reviews\n",
    "\n",
    "Now that we have our word dictionary which allows us to transform the words appearing in the reviews into integers, it is time to make use of it and convert our reviews to their integer sequence representation, making sure to pad or truncate to a fixed length, which in our case is `500`."
   ]
  },
  {
   "cell_type": "code",
   "execution_count": 18,
   "metadata": {},
   "outputs": [],
   "source": [
    "def convert_and_pad(word_dict, sentence, pad=500):\n",
    "    NOWORD = 0 # We will use 0 to represent the 'no word' category\n",
    "    INFREQ = 1 # and we use 1 to represent the infrequent words, i.e., words not appearing in word_dict\n",
    "    \n",
    "    working_sentence = [NOWORD] * pad\n",
    "    \n",
    "    for word_index, word in enumerate(sentence[:pad]):\n",
    "        if word in word_dict:\n",
    "            working_sentence[word_index] = word_dict[word]\n",
    "        else:\n",
    "            working_sentence[word_index] = INFREQ\n",
    "            \n",
    "    return working_sentence, min(len(sentence), pad)\n",
    "\n",
    "def convert_and_pad_data(word_dict, data, pad=500):\n",
    "    result = []\n",
    "    lengths = []\n",
    "    \n",
    "    for sentence in data:\n",
    "        converted, leng = convert_and_pad(word_dict, sentence, pad)\n",
    "        result.append(converted)\n",
    "        lengths.append(leng)\n",
    "        \n",
    "    return np.array(result), np.array(lengths)"
   ]
  },
  {
   "cell_type": "code",
   "execution_count": 19,
   "metadata": {},
   "outputs": [],
   "source": [
    "train_X, train_X_len = convert_and_pad_data(word_dict, train_X)\n",
    "test_X, test_X_len = convert_and_pad_data(word_dict, test_X)"
   ]
  },
  {
   "cell_type": "markdown",
   "metadata": {},
   "source": [
    "As a quick check to make sure that things are working as intended, check to see what one of the reviews in the training set looks like after having been processeed. Does this look reasonable? What is the length of a review in the training set?"
   ]
  },
  {
   "cell_type": "code",
   "execution_count": 20,
   "metadata": {},
   "outputs": [
    {
     "name": "stdout",
     "output_type": "stream",
     "text": [
      "[ 259   11  238  210    3  236  656  135    2  106    1   61   77  455\n",
      "  306  164  555   14  250   18 4248   71  316  150  258 2349   19    7\n",
      "  278   26  437   22   16   21   11   45   22   39  527    2  121   10\n",
      "   21  367   52   10 3264   15  215    2    0    0    0    0    0    0\n",
      "    0    0    0    0    0    0    0    0    0    0    0    0    0    0\n",
      "    0    0    0    0    0    0    0    0    0    0    0    0    0    0\n",
      "    0    0    0    0    0    0    0    0    0    0    0    0    0    0\n",
      "    0    0    0    0    0    0    0    0    0    0    0    0    0    0\n",
      "    0    0    0    0    0    0    0    0    0    0    0    0    0    0\n",
      "    0    0    0    0    0    0    0    0    0    0    0    0    0    0\n",
      "    0    0    0    0    0    0    0    0    0    0    0    0    0    0\n",
      "    0    0    0    0    0    0    0    0    0    0    0    0    0    0\n",
      "    0    0    0    0    0    0    0    0    0    0    0    0    0    0\n",
      "    0    0    0    0    0    0    0    0    0    0    0    0    0    0\n",
      "    0    0    0    0    0    0    0    0    0    0    0    0    0    0\n",
      "    0    0    0    0    0    0    0    0    0    0    0    0    0    0\n",
      "    0    0    0    0    0    0    0    0    0    0    0    0    0    0\n",
      "    0    0    0    0    0    0    0    0    0    0    0    0    0    0\n",
      "    0    0    0    0    0    0    0    0    0    0    0    0    0    0\n",
      "    0    0    0    0    0    0    0    0    0    0    0    0    0    0\n",
      "    0    0    0    0    0    0    0    0    0    0    0    0    0    0\n",
      "    0    0    0    0    0    0    0    0    0    0    0    0    0    0\n",
      "    0    0    0    0    0    0    0    0    0    0    0    0    0    0\n",
      "    0    0    0    0    0    0    0    0    0    0    0    0    0    0\n",
      "    0    0    0    0    0    0    0    0    0    0    0    0    0    0\n",
      "    0    0    0    0    0    0    0    0    0    0    0    0    0    0\n",
      "    0    0    0    0    0    0    0    0    0    0    0    0    0    0\n",
      "    0    0    0    0    0    0    0    0    0    0    0    0    0    0\n",
      "    0    0    0    0    0    0    0    0    0    0    0    0    0    0\n",
      "    0    0    0    0    0    0    0    0    0    0    0    0    0    0\n",
      "    0    0    0    0    0    0    0    0    0    0    0    0    0    0\n",
      "    0    0    0    0    0    0    0    0    0    0    0    0    0    0\n",
      "    0    0    0    0    0    0    0    0    0    0    0    0    0    0\n",
      "    0    0    0    0    0    0    0    0    0    0    0    0    0    0\n",
      "    0    0    0    0    0    0    0    0    0    0    0    0    0    0\n",
      "    0    0    0    0    0    0    0    0    0    0]\n",
      "50\n"
     ]
    }
   ],
   "source": [
    "# Use this cell to examine one of the processed reviews to make sure everything is working as intended.\n",
    "print(train_X[0])\n",
    "print(train_X_len[0])"
   ]
  },
  {
   "cell_type": "markdown",
   "metadata": {},
   "source": [
    "**Question:** In the cells above we use the `preprocess_data` and `convert_and_pad_data` methods to process both the training and testing set. Why or why not might this be a problem?"
   ]
  },
  {
   "cell_type": "markdown",
   "metadata": {},
   "source": [
    "**Answer:** It *might* become a problem if there is an issue or bias in the processing methods, such as incorrect tokenization, since it would propagate through to the test data and the model would believe there are no issues. Still, this is an important step as our LSTM cell requires a constant length input."
   ]
  },
  {
   "cell_type": "markdown",
   "metadata": {},
   "source": [
    "## Step 3: Upload the data to S3\n",
    "\n",
    "As in the XGBoost notebook, we will need to upload the training dataset to S3 in order for our training code to access it. For now we will save it locally and we will upload to S3 later on.\n",
    "\n",
    "### Save the processed training dataset locally\n",
    "\n",
    "It is important to note the format of the data that we are saving as we will need to know it when we write the training code. In our case, each row of the dataset has the form `label`, `length`, `review[500]` where `review[500]` is a sequence of `500` integers representing the words in the review."
   ]
  },
  {
   "cell_type": "code",
   "execution_count": 21,
   "metadata": {},
   "outputs": [],
   "source": [
    "import pandas as pd\n",
    "    \n",
    "pd.concat([pd.DataFrame(train_y), pd.DataFrame(train_X_len), pd.DataFrame(train_X)], axis=1) \\\n",
    "        .to_csv(os.path.join(data_dir, 'train.csv'), header=False, index=False)"
   ]
  },
  {
   "cell_type": "markdown",
   "metadata": {},
   "source": [
    "### Uploading the training data\n",
    "\n",
    "\n",
    "Next, we need to upload the training data to the SageMaker default S3 bucket so that we can provide access to it while training our model."
   ]
  },
  {
   "cell_type": "code",
   "execution_count": 22,
   "metadata": {},
   "outputs": [],
   "source": [
    "import sagemaker\n",
    "\n",
    "sagemaker_session = sagemaker.Session()\n",
    "\n",
    "bucket = sagemaker_session.default_bucket()\n",
    "prefix = 'sagemaker/sentiment_rnn'\n",
    "\n",
    "role = sagemaker.get_execution_role()"
   ]
  },
  {
   "cell_type": "code",
   "execution_count": 23,
   "metadata": {},
   "outputs": [],
   "source": [
    "input_data = sagemaker_session.upload_data(path=data_dir, bucket=bucket, key_prefix=prefix)"
   ]
  },
  {
   "cell_type": "markdown",
   "metadata": {},
   "source": [
    "**NOTE:** The cell above uploads the entire contents of our data directory. This includes the `word_dict.pkl` file. This is fortunate as we will need this later on when we create an endpoint that accepts an arbitrary review. For now, we will just take note of the fact that it resides in the data directory (and so also in the S3 training bucket) and that we will need to make sure it gets saved in the model directory."
   ]
  },
  {
   "cell_type": "markdown",
   "metadata": {},
   "source": [
    "## Step 4: Build and Train the PyTorch Model\n",
    "\n",
    "In the XGBoost notebook we discussed what a model is in the SageMaker framework. In particular, a model comprises three objects\n",
    "\n",
    " - Model Artifacts,\n",
    " - Training Code, and\n",
    " - Inference Code,\n",
    " \n",
    "each of which interact with one another. In the XGBoost example we used training and inference code that was provided by Amazon. Here we will still be using containers provided by Amazon with the added benefit of being able to include our own custom code.\n",
    "\n",
    "We will start by implementing our own neural network in PyTorch along with a training script. For the purposes of this project we have provided the necessary model object in the `model.py` file, inside of the `train` folder. You can see the provided implementation by running the cell below."
   ]
  },
  {
   "cell_type": "code",
   "execution_count": 24,
   "metadata": {},
   "outputs": [
    {
     "name": "stdout",
     "output_type": "stream",
     "text": [
      "\u001b[34mimport\u001b[39;49;00m \u001b[04m\u001b[36mtorch.nn\u001b[39;49;00m \u001b[34mas\u001b[39;49;00m \u001b[04m\u001b[36mnn\u001b[39;49;00m\r\n",
      "\r\n",
      "\u001b[34mclass\u001b[39;49;00m \u001b[04m\u001b[32mLSTMClassifier\u001b[39;49;00m(nn.Module):\r\n",
      "    \u001b[33m\"\"\"\u001b[39;49;00m\r\n",
      "\u001b[33m    This is the simple RNN model we will be using to perform Sentiment Analysis.\u001b[39;49;00m\r\n",
      "\u001b[33m    \"\"\"\u001b[39;49;00m\r\n",
      "\r\n",
      "    \u001b[34mdef\u001b[39;49;00m \u001b[32m__init__\u001b[39;49;00m(\u001b[36mself\u001b[39;49;00m, embedding_dim, hidden_dim, vocab_size):\r\n",
      "        \u001b[33m\"\"\"\u001b[39;49;00m\r\n",
      "\u001b[33m        Initialize the model by settingg up the various layers.\u001b[39;49;00m\r\n",
      "\u001b[33m        \"\"\"\u001b[39;49;00m\r\n",
      "        \u001b[36msuper\u001b[39;49;00m(LSTMClassifier, \u001b[36mself\u001b[39;49;00m).\u001b[32m__init__\u001b[39;49;00m()\r\n",
      "\r\n",
      "        \u001b[36mself\u001b[39;49;00m.embedding = nn.Embedding(vocab_size, embedding_dim, padding_idx=\u001b[34m0\u001b[39;49;00m)\r\n",
      "        \u001b[36mself\u001b[39;49;00m.lstm = nn.LSTM(embedding_dim, hidden_dim)\r\n",
      "        \u001b[36mself\u001b[39;49;00m.dense = nn.Linear(in_features=hidden_dim, out_features=\u001b[34m1\u001b[39;49;00m)\r\n",
      "        \u001b[36mself\u001b[39;49;00m.sig = nn.Sigmoid()\r\n",
      "        \r\n",
      "        \u001b[36mself\u001b[39;49;00m.word_dict = \u001b[36mNone\u001b[39;49;00m\r\n",
      "\r\n",
      "    \u001b[34mdef\u001b[39;49;00m \u001b[32mforward\u001b[39;49;00m(\u001b[36mself\u001b[39;49;00m, x):\r\n",
      "        \u001b[33m\"\"\"\u001b[39;49;00m\r\n",
      "\u001b[33m        Perform a forward pass of our model on some input.\u001b[39;49;00m\r\n",
      "\u001b[33m        \"\"\"\u001b[39;49;00m\r\n",
      "        x = x.t()\r\n",
      "        lengths = x[\u001b[34m0\u001b[39;49;00m,:]\r\n",
      "        reviews = x[\u001b[34m1\u001b[39;49;00m:,:]\r\n",
      "        embeds = \u001b[36mself\u001b[39;49;00m.embedding(reviews)\r\n",
      "        lstm_out, _ = \u001b[36mself\u001b[39;49;00m.lstm(embeds)\r\n",
      "        out = \u001b[36mself\u001b[39;49;00m.dense(lstm_out)\r\n",
      "        out = out[lengths - \u001b[34m1\u001b[39;49;00m, \u001b[36mrange\u001b[39;49;00m(\u001b[36mlen\u001b[39;49;00m(lengths))]\r\n",
      "        \u001b[34mreturn\u001b[39;49;00m \u001b[36mself\u001b[39;49;00m.sig(out.squeeze())\r\n"
     ]
    }
   ],
   "source": [
    "!pygmentize train/model.py"
   ]
  },
  {
   "cell_type": "markdown",
   "metadata": {},
   "source": [
    "The important takeaway from the implementation provided is that there are three parameters that we may wish to tweak to improve the performance of our model. These are the embedding dimension, the hidden dimension and the size of the vocabulary. We will likely want to make these parameters configurable in the training script so that if we wish to modify them we do not need to modify the script itself. We will see how to do this later on. To start we will write some of the training code in the notebook so that we can more easily diagnose any issues that arise.\n",
    "\n",
    "First we will load a small portion of the training data set to use as a sample. It would be very time consuming to try and train the model completely in the notebook as we do not have access to a gpu and the compute instance that we are using is not particularly powerful. However, we can work on a small bit of the data to get a feel for how our training script is behaving."
   ]
  },
  {
   "cell_type": "code",
   "execution_count": 28,
   "metadata": {},
   "outputs": [],
   "source": [
    "import torch\n",
    "import torch.utils.data\n",
    "\n",
    "# Read in only the first 250 rows\n",
    "train_sample = pd.read_csv(os.path.join(data_dir, 'train.csv'), header=None, names=None, nrows=250)\n",
    "\n",
    "# Turn the input pandas dataframe into tensors\n",
    "train_sample_y = torch.from_numpy(train_sample[[0]].values).float().squeeze()\n",
    "# print(train_sample_y)\n",
    "train_sample_X = torch.from_numpy(train_sample.drop([0], axis=1).values).long()\n",
    "# print(train_sample_X)\n",
    "\n",
    "# Build the dataset\n",
    "train_sample_ds = torch.utils.data.TensorDataset(train_sample_X, train_sample_y)\n",
    "# Build the dataloader\n",
    "train_sample_dl = torch.utils.data.DataLoader(train_sample_ds, batch_size=50)"
   ]
  },
  {
   "cell_type": "markdown",
   "metadata": {},
   "source": [
    "### (TODO) Writing the training method\n",
    "\n",
    "Next we need to write the training code itself. This should be very similar to training methods that you have written before to train PyTorch models. We will leave any difficult aspects such as model saving / loading and parameter loading until a little later."
   ]
  },
  {
   "cell_type": "code",
   "execution_count": 29,
   "metadata": {},
   "outputs": [],
   "source": [
    "def train(model, train_loader, epochs, optimizer, loss_fn, device):\n",
    "    for epoch in range(1, epochs + 1):\n",
    "        model.train()\n",
    "        total_loss = 0\n",
    "        for batch in train_loader:         \n",
    "            batch_X, batch_y = batch\n",
    "            \n",
    "            batch_X = batch_X.to(device)\n",
    "            batch_y = batch_y.to(device)\n",
    "            \n",
    "            # TODO: Complete this train method to train the model provided.\n",
    "            optimizer.zero_grad()\n",
    "            \n",
    "            output = model(batch_X)\n",
    "            loss = loss_fn(output, batch_y)\n",
    "            loss.backward()\n",
    "            optimizer.step()\n",
    "            \n",
    "            total_loss += loss.data.item()\n",
    "        print(\"Epoch: {}, BCELoss: {}\".format(epoch, total_loss / len(train_loader)))"
   ]
  },
  {
   "cell_type": "markdown",
   "metadata": {},
   "source": [
    "Supposing we have the training method above, we will test that it is working by writing a bit of code in the notebook that executes our training method on the small sample training set that we loaded earlier. The reason for doing this in the notebook is so that we have an opportunity to fix any errors that arise early when they are easier to diagnose."
   ]
  },
  {
   "cell_type": "code",
   "execution_count": 30,
   "metadata": {},
   "outputs": [
    {
     "name": "stdout",
     "output_type": "stream",
     "text": [
      "Epoch: 1, BCELoss: 0.6941769599914551\n",
      "Epoch: 2, BCELoss: 0.6829775929450989\n",
      "Epoch: 3, BCELoss: 0.6731683015823364\n",
      "Epoch: 4, BCELoss: 0.6622655391693115\n",
      "Epoch: 5, BCELoss: 0.649013340473175\n"
     ]
    }
   ],
   "source": [
    "import torch.optim as optim\n",
    "from train.model import LSTMClassifier\n",
    "\n",
    "device = torch.device(\"cuda\" if torch.cuda.is_available() else \"cpu\")\n",
    "model = LSTMClassifier(32, 100, 5000).to(device)\n",
    "optimizer = optim.Adam(model.parameters())\n",
    "loss_fn = torch.nn.BCELoss()\n",
    "\n",
    "train(model, train_sample_dl, 5, optimizer, loss_fn, device)"
   ]
  },
  {
   "cell_type": "markdown",
   "metadata": {},
   "source": [
    "In order to construct a PyTorch model using SageMaker we must provide SageMaker with a training script. We may optionally include a directory which will be copied to the container and from which our training code will be run. When the training container is executed it will check the uploaded directory (if there is one) for a `requirements.txt` file and install any required Python libraries, after which the training script will be run."
   ]
  },
  {
   "cell_type": "markdown",
   "metadata": {},
   "source": [
    "### (TODO) Training the model\n",
    "\n",
    "When a PyTorch model is constructed in SageMaker, an entry point must be specified. This is the Python file which will be executed when the model is trained. Inside of the `train` directory is a file called `train.py` which has been provided and which contains most of the necessary code to train our model. The only thing that is missing is the implementation of the `train()` method which you wrote earlier in this notebook.\n",
    "\n",
    "**TODO**: Copy the `train()` method written above and paste it into the `train/train.py` file where required.\n",
    "\n",
    "The way that SageMaker passes hyperparameters to the training script is by way of arguments. These arguments can then be parsed and used in the training script. To see how this is done take a look at the provided `train/train.py` file."
   ]
  },
  {
   "cell_type": "code",
   "execution_count": 31,
   "metadata": {},
   "outputs": [],
   "source": [
    "from sagemaker.pytorch import PyTorch\n",
    "\n",
    "estimator = PyTorch(entry_point=\"train.py\",\n",
    "                    source_dir=\"train\",\n",
    "                    role=role,\n",
    "                    framework_version='0.4.0',\n",
    "                    train_instance_count=1,\n",
    "                    train_instance_type='ml.p2.xlarge',\n",
    "                    hyperparameters={\n",
    "                        'epochs': 10,\n",
    "                        'hidden_dim': 200,\n",
    "                    })"
   ]
  },
  {
   "cell_type": "code",
   "execution_count": 32,
   "metadata": {},
   "outputs": [
    {
     "name": "stdout",
     "output_type": "stream",
     "text": [
      "2020-04-22 03:02:55 Starting - Starting the training job...\n",
      "2020-04-22 03:02:57 Starting - Launching requested ML instances......\n",
      "2020-04-22 03:04:23 Starting - Preparing the instances for training.........\n",
      "2020-04-22 03:05:39 Downloading - Downloading input data...\n",
      "2020-04-22 03:06:14 Training - Downloading the training image...\n",
      "2020-04-22 03:06:45 Training - Training image download completed. Training in progress.\u001b[34mbash: cannot set terminal process group (-1): Inappropriate ioctl for device\u001b[0m\n",
      "\u001b[34mbash: no job control in this shell\u001b[0m\n",
      "\u001b[34m2020-04-22 03:06:45,803 sagemaker-containers INFO     Imported framework sagemaker_pytorch_container.training\u001b[0m\n",
      "\u001b[34m2020-04-22 03:06:45,827 sagemaker_pytorch_container.training INFO     Block until all host DNS lookups succeed.\u001b[0m\n",
      "\u001b[34m2020-04-22 03:06:48,843 sagemaker_pytorch_container.training INFO     Invoking user training script.\u001b[0m\n",
      "\u001b[34m2020-04-22 03:06:49,060 sagemaker-containers INFO     Module train does not provide a setup.py. \u001b[0m\n",
      "\u001b[34mGenerating setup.py\u001b[0m\n",
      "\u001b[34m2020-04-22 03:06:49,060 sagemaker-containers INFO     Generating setup.cfg\u001b[0m\n",
      "\u001b[34m2020-04-22 03:06:49,060 sagemaker-containers INFO     Generating MANIFEST.in\u001b[0m\n",
      "\u001b[34m2020-04-22 03:06:49,060 sagemaker-containers INFO     Installing module with the following command:\u001b[0m\n",
      "\u001b[34m/usr/bin/python -m pip install -U . -r requirements.txt\u001b[0m\n",
      "\u001b[34mProcessing /opt/ml/code\u001b[0m\n",
      "\u001b[34mCollecting pandas (from -r requirements.txt (line 1))\n",
      "  Downloading https://files.pythonhosted.org/packages/74/24/0cdbf8907e1e3bc5a8da03345c23cbed7044330bb8f73bb12e711a640a00/pandas-0.24.2-cp35-cp35m-manylinux1_x86_64.whl (10.0MB)\u001b[0m\n",
      "\u001b[34mCollecting numpy (from -r requirements.txt (line 2))\n",
      "  Downloading https://files.pythonhosted.org/packages/45/25/48e4ea892e93348d48a3a0d23ad94b176d6ab66084efcd881c78771d4abf/numpy-1.18.3-cp35-cp35m-manylinux1_x86_64.whl (20.0MB)\u001b[0m\n",
      "\u001b[34mCollecting nltk (from -r requirements.txt (line 3))\n",
      "  Downloading https://files.pythonhosted.org/packages/92/75/ce35194d8e3022203cca0d2f896dbb88689f9b3fce8e9f9cff942913519d/nltk-3.5.zip (1.4MB)\u001b[0m\n",
      "\u001b[34mCollecting beautifulsoup4 (from -r requirements.txt (line 4))\n",
      "  Downloading https://files.pythonhosted.org/packages/e8/b5/7bb03a696f2c9b7af792a8f51b82974e51c268f15e925fc834876a4efa0b/beautifulsoup4-4.9.0-py3-none-any.whl (109kB)\u001b[0m\n",
      "\u001b[34mCollecting html5lib (from -r requirements.txt (line 5))\n",
      "  Downloading https://files.pythonhosted.org/packages/a5/62/bbd2be0e7943ec8504b517e62bab011b4946e1258842bc159e5dfde15b96/html5lib-1.0.1-py2.py3-none-any.whl (117kB)\u001b[0m\n",
      "\u001b[34mCollecting pytz>=2011k (from pandas->-r requirements.txt (line 1))\n",
      "  Downloading https://files.pythonhosted.org/packages/e7/f9/f0b53f88060247251bf481fa6ea62cd0d25bf1b11a87888e53ce5b7c8ad2/pytz-2019.3-py2.py3-none-any.whl (509kB)\u001b[0m\n",
      "\u001b[34mRequirement already satisfied, skipping upgrade: python-dateutil>=2.5.0 in /usr/local/lib/python3.5/dist-packages (from pandas->-r requirements.txt (line 1)) (2.7.5)\u001b[0m\n",
      "\u001b[34mRequirement already satisfied, skipping upgrade: click in /usr/local/lib/python3.5/dist-packages (from nltk->-r requirements.txt (line 3)) (7.0)\u001b[0m\n",
      "\u001b[34mCollecting joblib (from nltk->-r requirements.txt (line 3))\n",
      "  Downloading https://files.pythonhosted.org/packages/28/5c/cf6a2b65a321c4a209efcdf64c2689efae2cb62661f8f6f4bb28547cf1bf/joblib-0.14.1-py2.py3-none-any.whl (294kB)\u001b[0m\n",
      "\u001b[34mCollecting regex (from nltk->-r requirements.txt (line 3))\u001b[0m\n",
      "\u001b[34m  Downloading https://files.pythonhosted.org/packages/4c/e7/eee73c42c1193fecc0e91361a163cbb8dfbea62c3db7618ad986e5b43a14/regex-2020.4.4.tar.gz (695kB)\u001b[0m\n",
      "\u001b[34mCollecting tqdm (from nltk->-r requirements.txt (line 3))\n",
      "  Downloading https://files.pythonhosted.org/packages/4a/1c/6359be64e8301b84160f6f6f7936bbfaaa5e9a4eab6cbc681db07600b949/tqdm-4.45.0-py2.py3-none-any.whl (60kB)\u001b[0m\n",
      "\u001b[34mCollecting soupsieve>1.2 (from beautifulsoup4->-r requirements.txt (line 4))\n",
      "  Downloading https://files.pythonhosted.org/packages/05/cf/ea245e52f55823f19992447b008bcbb7f78efc5960d77f6c34b5b45b36dd/soupsieve-2.0-py2.py3-none-any.whl\u001b[0m\n",
      "\u001b[34mCollecting webencodings (from html5lib->-r requirements.txt (line 5))\n",
      "  Downloading https://files.pythonhosted.org/packages/f4/24/2a3e3df732393fed8b3ebf2ec078f05546de641fe1b667ee316ec1dcf3b7/webencodings-0.5.1-py2.py3-none-any.whl\u001b[0m\n",
      "\u001b[34mRequirement already satisfied, skipping upgrade: six>=1.9 in /usr/local/lib/python3.5/dist-packages (from html5lib->-r requirements.txt (line 5)) (1.11.0)\u001b[0m\n",
      "\u001b[34mBuilding wheels for collected packages: nltk, train, regex\n",
      "  Running setup.py bdist_wheel for nltk: started\u001b[0m\n",
      "\u001b[34m  Running setup.py bdist_wheel for nltk: finished with status 'done'\n",
      "  Stored in directory: /root/.cache/pip/wheels/ae/8c/3f/b1fe0ba04555b08b57ab52ab7f86023639a526d8bc8d384306\n",
      "  Running setup.py bdist_wheel for train: started\n",
      "  Running setup.py bdist_wheel for train: finished with status 'done'\n",
      "  Stored in directory: /tmp/pip-ephem-wheel-cache-g_pvncld/wheels/35/24/16/37574d11bf9bde50616c67372a334f94fa8356bc7164af8ca3\u001b[0m\n",
      "\u001b[34m  Running setup.py bdist_wheel for regex: started\u001b[0m\n",
      "\u001b[34m  Running setup.py bdist_wheel for regex: finished with status 'done'\n",
      "  Stored in directory: /root/.cache/pip/wheels/e6/9b/ae/2972da29cc7759b71dee015813b7c6931917d6a51e64ed5e79\u001b[0m\n",
      "\u001b[34mSuccessfully built nltk train regex\u001b[0m\n",
      "\u001b[34mInstalling collected packages: pytz, numpy, pandas, joblib, regex, tqdm, nltk, soupsieve, beautifulsoup4, webencodings, html5lib, train\n",
      "  Found existing installation: numpy 1.15.4\u001b[0m\n",
      "\u001b[34m    Uninstalling numpy-1.15.4:\n",
      "      Successfully uninstalled numpy-1.15.4\u001b[0m\n",
      "\u001b[34mSuccessfully installed beautifulsoup4-4.9.0 html5lib-1.0.1 joblib-0.14.1 nltk-3.5 numpy-1.18.3 pandas-0.24.2 pytz-2019.3 regex-2020.4.4 soupsieve-2.0 tqdm-4.45.0 train-1.0.0 webencodings-0.5.1\u001b[0m\n",
      "\u001b[34mYou are using pip version 18.1, however version 20.1b1 is available.\u001b[0m\n",
      "\u001b[34mYou should consider upgrading via the 'pip install --upgrade pip' command.\u001b[0m\n",
      "\u001b[34m2020-04-22 03:07:11,376 sagemaker-containers INFO     Invoking user script\n",
      "\u001b[0m\n",
      "\u001b[34mTraining Env:\n",
      "\u001b[0m\n",
      "\u001b[34m{\n",
      "    \"channel_input_dirs\": {\n",
      "        \"training\": \"/opt/ml/input/data/training\"\n",
      "    },\n",
      "    \"num_gpus\": 1,\n",
      "    \"job_name\": \"sagemaker-pytorch-2020-04-22-03-02-55-546\",\n",
      "    \"input_dir\": \"/opt/ml/input\",\n",
      "    \"output_data_dir\": \"/opt/ml/output/data\",\n",
      "    \"model_dir\": \"/opt/ml/model\",\n",
      "    \"current_host\": \"algo-1\",\n",
      "    \"user_entry_point\": \"train.py\",\n",
      "    \"hosts\": [\n",
      "        \"algo-1\"\n",
      "    ],\n",
      "    \"resource_config\": {\n",
      "        \"hosts\": [\n",
      "            \"algo-1\"\n",
      "        ],\n",
      "        \"network_interface_name\": \"eth0\",\n",
      "        \"current_host\": \"algo-1\"\n",
      "    },\n",
      "    \"output_intermediate_dir\": \"/opt/ml/output/intermediate\",\n",
      "    \"num_cpus\": 4,\n",
      "    \"hyperparameters\": {\n",
      "        \"hidden_dim\": 200,\n",
      "        \"epochs\": 10\n",
      "    },\n",
      "    \"framework_module\": \"sagemaker_pytorch_container.training:main\",\n",
      "    \"additional_framework_parameters\": {},\n",
      "    \"input_data_config\": {\n",
      "        \"training\": {\n",
      "            \"RecordWrapperType\": \"None\",\n",
      "            \"TrainingInputMode\": \"File\",\n",
      "            \"S3DistributionType\": \"FullyReplicated\"\n",
      "        }\n",
      "    },\n",
      "    \"output_dir\": \"/opt/ml/output\",\n",
      "    \"module_dir\": \"s3://sagemaker-us-east-2-244377630672/sagemaker-pytorch-2020-04-22-03-02-55-546/source/sourcedir.tar.gz\",\n",
      "    \"network_interface_name\": \"eth0\",\n",
      "    \"module_name\": \"train\",\n",
      "    \"log_level\": 20,\n",
      "    \"input_config_dir\": \"/opt/ml/input/config\"\u001b[0m\n",
      "\u001b[34m}\n",
      "\u001b[0m\n",
      "\u001b[34mEnvironment variables:\n",
      "\u001b[0m\n",
      "\u001b[34mSM_RESOURCE_CONFIG={\"current_host\":\"algo-1\",\"hosts\":[\"algo-1\"],\"network_interface_name\":\"eth0\"}\u001b[0m\n",
      "\u001b[34mSM_INPUT_CONFIG_DIR=/opt/ml/input/config\u001b[0m\n",
      "\u001b[34mPYTHONPATH=/usr/local/bin:/usr/lib/python35.zip:/usr/lib/python3.5:/usr/lib/python3.5/plat-x86_64-linux-gnu:/usr/lib/python3.5/lib-dynload:/usr/local/lib/python3.5/dist-packages:/usr/lib/python3/dist-packages\u001b[0m\n",
      "\u001b[34mSM_OUTPUT_DATA_DIR=/opt/ml/output/data\u001b[0m\n",
      "\u001b[34mSM_CURRENT_HOST=algo-1\u001b[0m\n",
      "\u001b[34mSM_OUTPUT_DIR=/opt/ml/output\u001b[0m\n",
      "\u001b[34mSM_MODEL_DIR=/opt/ml/model\u001b[0m\n",
      "\u001b[34mSM_NETWORK_INTERFACE_NAME=eth0\u001b[0m\n",
      "\u001b[34mSM_CHANNELS=[\"training\"]\u001b[0m\n",
      "\u001b[34mSM_HP_HIDDEN_DIM=200\u001b[0m\n",
      "\u001b[34mSM_MODULE_DIR=s3://sagemaker-us-east-2-244377630672/sagemaker-pytorch-2020-04-22-03-02-55-546/source/sourcedir.tar.gz\u001b[0m\n",
      "\u001b[34mSM_HOSTS=[\"algo-1\"]\u001b[0m\n",
      "\u001b[34mSM_LOG_LEVEL=20\u001b[0m\n",
      "\u001b[34mSM_TRAINING_ENV={\"additional_framework_parameters\":{},\"channel_input_dirs\":{\"training\":\"/opt/ml/input/data/training\"},\"current_host\":\"algo-1\",\"framework_module\":\"sagemaker_pytorch_container.training:main\",\"hosts\":[\"algo-1\"],\"hyperparameters\":{\"epochs\":10,\"hidden_dim\":200},\"input_config_dir\":\"/opt/ml/input/config\",\"input_data_config\":{\"training\":{\"RecordWrapperType\":\"None\",\"S3DistributionType\":\"FullyReplicated\",\"TrainingInputMode\":\"File\"}},\"input_dir\":\"/opt/ml/input\",\"job_name\":\"sagemaker-pytorch-2020-04-22-03-02-55-546\",\"log_level\":20,\"model_dir\":\"/opt/ml/model\",\"module_dir\":\"s3://sagemaker-us-east-2-244377630672/sagemaker-pytorch-2020-04-22-03-02-55-546/source/sourcedir.tar.gz\",\"module_name\":\"train\",\"network_interface_name\":\"eth0\",\"num_cpus\":4,\"num_gpus\":1,\"output_data_dir\":\"/opt/ml/output/data\",\"output_dir\":\"/opt/ml/output\",\"output_intermediate_dir\":\"/opt/ml/output/intermediate\",\"resource_config\":{\"current_host\":\"algo-1\",\"hosts\":[\"algo-1\"],\"network_interface_name\":\"eth0\"},\"user_entry_point\":\"train.py\"}\u001b[0m\n",
      "\u001b[34mSM_USER_ENTRY_POINT=train.py\u001b[0m\n",
      "\u001b[34mSM_NUM_CPUS=4\u001b[0m\n",
      "\u001b[34mSM_OUTPUT_INTERMEDIATE_DIR=/opt/ml/output/intermediate\u001b[0m\n",
      "\u001b[34mSM_CHANNEL_TRAINING=/opt/ml/input/data/training\u001b[0m\n",
      "\u001b[34mSM_FRAMEWORK_PARAMS={}\u001b[0m\n",
      "\u001b[34mSM_USER_ARGS=[\"--epochs\",\"10\",\"--hidden_dim\",\"200\"]\u001b[0m\n",
      "\u001b[34mSM_MODULE_NAME=train\u001b[0m\n",
      "\u001b[34mSM_INPUT_DATA_CONFIG={\"training\":{\"RecordWrapperType\":\"None\",\"S3DistributionType\":\"FullyReplicated\",\"TrainingInputMode\":\"File\"}}\u001b[0m\n",
      "\u001b[34mSM_INPUT_DIR=/opt/ml/input\u001b[0m\n",
      "\u001b[34mSM_HP_EPOCHS=10\u001b[0m\n",
      "\u001b[34mSM_FRAMEWORK_MODULE=sagemaker_pytorch_container.training:main\u001b[0m\n",
      "\u001b[34mSM_NUM_GPUS=1\u001b[0m\n",
      "\u001b[34mSM_HPS={\"epochs\":10,\"hidden_dim\":200}\n",
      "\u001b[0m\n",
      "\u001b[34mInvoking script with the following command:\n",
      "\u001b[0m\n",
      "\u001b[34m/usr/bin/python -m train --epochs 10 --hidden_dim 200\n",
      "\n",
      "\u001b[0m\n",
      "\u001b[34mUsing device cuda.\u001b[0m\n",
      "\u001b[34mGet train data loader.\u001b[0m\n"
     ]
    },
    {
     "name": "stdout",
     "output_type": "stream",
     "text": [
      "\u001b[34mModel loaded with embedding_dim 32, hidden_dim 200, vocab_size 5000.\u001b[0m\n",
      "\u001b[34mEpoch: 1, BCELoss: 0.6721830951924227\u001b[0m\n",
      "\u001b[34mEpoch: 2, BCELoss: 0.592700337877079\u001b[0m\n",
      "\u001b[34mEpoch: 3, BCELoss: 0.5143511842708198\u001b[0m\n",
      "\u001b[34mEpoch: 4, BCELoss: 0.428245870434508\u001b[0m\n",
      "\u001b[34mEpoch: 5, BCELoss: 0.38328544704281553\u001b[0m\n",
      "\u001b[34mEpoch: 6, BCELoss: 0.3437400849498048\u001b[0m\n",
      "\u001b[34mEpoch: 7, BCELoss: 0.3204660999531649\u001b[0m\n",
      "\u001b[34mEpoch: 8, BCELoss: 0.3026897469345404\u001b[0m\n",
      "\u001b[34mEpoch: 9, BCELoss: 0.29275565518408403\u001b[0m\n",
      "\u001b[34mEpoch: 10, BCELoss: 0.28297425350364375\u001b[0m\n",
      "\u001b[34m2020-04-22 03:10:07,552 sagemaker-containers INFO     Reporting training SUCCESS\u001b[0m\n",
      "\n",
      "2020-04-22 03:10:19 Uploading - Uploading generated training model\n",
      "2020-04-22 03:10:19 Completed - Training job completed\n",
      "Training seconds: 280\n",
      "Billable seconds: 280\n"
     ]
    }
   ],
   "source": [
    "estimator.fit({'training': input_data})"
   ]
  },
  {
   "cell_type": "markdown",
   "metadata": {},
   "source": [
    "## Step 5: Testing the model\n",
    "\n",
    "As mentioned at the top of this notebook, we will be testing this model by first deploying it and then sending the testing data to the deployed endpoint. We will do this so that we can make sure that the deployed model is working correctly.\n",
    "\n",
    "## Step 6: Deploy the model for testing\n",
    "\n",
    "Now that we have trained our model, we would like to test it to see how it performs. Currently our model takes input of the form `review_length, review[500]` where `review[500]` is a sequence of `500` integers which describe the words present in the review, encoded using `word_dict`. Fortunately for us, SageMaker provides built-in inference code for models with simple inputs such as this.\n",
    "\n",
    "There is one thing that we need to provide, however, and that is a function which loads the saved model. This function must be called `model_fn()` and takes as its only parameter a path to the directory where the model artifacts are stored. This function must also be present in the python file which we specified as the entry point. In our case the model loading function has been provided and so no changes need to be made.\n",
    "\n",
    "**NOTE**: When the built-in inference code is run it must import the `model_fn()` method from the `train.py` file. This is why the training code is wrapped in a main guard ( ie, `if __name__ == '__main__':` )\n",
    "\n",
    "Since we don't need to change anything in the code that was uploaded during training, we can simply deploy the current model as-is.\n",
    "\n",
    "**NOTE:** When deploying a model you are asking SageMaker to launch an compute instance that will wait for data to be sent to it. As a result, this compute instance will continue to run until *you* shut it down. This is important to know since the cost of a deployed endpoint depends on how long it has been running for.\n",
    "\n",
    "In other words **If you are no longer using a deployed endpoint, shut it down!**\n",
    "\n",
    "**TODO:** Deploy the trained model."
   ]
  },
  {
   "cell_type": "code",
   "execution_count": 35,
   "metadata": {},
   "outputs": [
    {
     "name": "stdout",
     "output_type": "stream",
     "text": [
      "-------------!"
     ]
    }
   ],
   "source": [
    "# TODO: Deploy the trained model\n",
    "endpoint = estimator.deploy(initial_instance_count=1, instance_type='ml.m4.xlarge')"
   ]
  },
  {
   "cell_type": "markdown",
   "metadata": {},
   "source": [
    "## Step 7 - Use the model for testing\n",
    "\n",
    "Once deployed, we can read in the test data and send it off to our deployed model to get some results. Once we collect all of the results we can determine how accurate our model is."
   ]
  },
  {
   "cell_type": "code",
   "execution_count": 40,
   "metadata": {},
   "outputs": [],
   "source": [
    "# print(endpoint)\n",
    "test_X = pd.concat([pd.DataFrame(test_X_len), pd.DataFrame(test_X)], axis=1)"
   ]
  },
  {
   "cell_type": "code",
   "execution_count": 43,
   "metadata": {},
   "outputs": [],
   "source": [
    "# We split the data into chunks and send each chunk seperately, accumulating the results.\n",
    "\n",
    "def predict(data, rows=512):\n",
    "    split_array = np.array_split(data, int(data.shape[0] / float(rows) + 1))\n",
    "    predictions = np.array([])\n",
    "    for array in split_array:\n",
    "        predictions = np.append(predictions, endpoint.predict(array))\n",
    "    \n",
    "    return predictions"
   ]
  },
  {
   "cell_type": "code",
   "execution_count": 45,
   "metadata": {},
   "outputs": [],
   "source": [
    "predictions = predict(test_X.values)\n",
    "predictions = [round(num) for num in predictions]"
   ]
  },
  {
   "cell_type": "code",
   "execution_count": 46,
   "metadata": {},
   "outputs": [
    {
     "data": {
      "text/plain": [
       "0.83668"
      ]
     },
     "execution_count": 46,
     "metadata": {},
     "output_type": "execute_result"
    }
   ],
   "source": [
    "from sklearn.metrics import accuracy_score\n",
    "accuracy_score(test_y, predictions)"
   ]
  },
  {
   "cell_type": "markdown",
   "metadata": {},
   "source": [
    "**Question:** How does this model compare to the XGBoost model you created earlier? Why might these two models perform differently on this dataset? Which do *you* think is better for sentiment analysis?"
   ]
  },
  {
   "cell_type": "markdown",
   "metadata": {},
   "source": [
    "**Answer:** In this case, XGBoost actually functions better, though I suspect that has more to do with the limitations we set on our LSTM network. We could have actually used the hidden state, trained for more epochs, increased the number of layers, and increased the hidden dimension--the combination of which I believe would catapult the DL model ahead of XGBoost. Still XGBoost is very effective and performs better for the same amount of training time given its high optimization and performance."
   ]
  },
  {
   "cell_type": "markdown",
   "metadata": {},
   "source": [
    "### (TODO) More testing\n",
    "\n",
    "We now have a trained model which has been deployed and which we can send processed reviews to and which returns the predicted sentiment. However, ultimately we would like to be able to send our model an unprocessed review. That is, we would like to send the review itself as a string. For example, suppose we wish to send the following review to our model."
   ]
  },
  {
   "cell_type": "code",
   "execution_count": 47,
   "metadata": {},
   "outputs": [],
   "source": [
    "test_review = 'The simplest pleasures in life are the best, and this film is one of them. Combining a rather basic storyline of love and adventure this movie transcends the usual weekend fair with wit and unmitigated charm.'"
   ]
  },
  {
   "cell_type": "markdown",
   "metadata": {},
   "source": [
    "The question we now need to answer is, how do we send this review to our model?\n",
    "\n",
    "Recall in the first section of this notebook we did a bunch of data processing to the IMDb dataset. In particular, we did two specific things to the provided reviews.\n",
    " - Removed any html tags and stemmed the input\n",
    " - Encoded the review as a sequence of integers using `word_dict`\n",
    " \n",
    "In order process the review we will need to repeat these two steps.\n",
    "\n",
    "**TODO**: Using the `review_to_words` and `convert_and_pad` methods from section one, convert `test_review` into a numpy array `test_data` suitable to send to our model. Remember that our model expects input of the form `review_length, review[500]`."
   ]
  },
  {
   "cell_type": "code",
   "execution_count": 61,
   "metadata": {},
   "outputs": [
    {
     "data": {
      "text/plain": [
       "((1, 501), array([  20,    1, 1373,   50,   53]))"
      ]
     },
     "execution_count": 61,
     "metadata": {},
     "output_type": "execute_result"
    }
   ],
   "source": [
    "# TODO: Convert test_review into a form usable by the model and save the results in test_data\n",
    "cleaned = review_to_words(test_review)\n",
    "test_data, test_length = convert_and_pad(word_dict, cleaned)\n",
    "test_data = np.array([[test_length] + test_data])\n",
    "test_data.shape, test_data[0, :5]"
   ]
  },
  {
   "cell_type": "markdown",
   "metadata": {},
   "source": [
    "Now that we have processed the review, we can send the resulting array to our model to predict the sentiment of the review."
   ]
  },
  {
   "cell_type": "code",
   "execution_count": 64,
   "metadata": {},
   "outputs": [
    {
     "data": {
      "text/plain": [
       "array(0.8712065, dtype=float32)"
      ]
     },
     "execution_count": 64,
     "metadata": {},
     "output_type": "execute_result"
    }
   ],
   "source": [
    "endpoint.predict(test_data)"
   ]
  },
  {
   "cell_type": "markdown",
   "metadata": {},
   "source": [
    "Since the return value of our model is close to `1`, we can be certain that the review we submitted is positive."
   ]
  },
  {
   "cell_type": "markdown",
   "metadata": {},
   "source": [
    "### Delete the endpoint\n",
    "\n",
    "Of course, just like in the XGBoost notebook, once we've deployed an endpoint it continues to run until we tell it to shut down. Since we are done using our endpoint for now, we can delete it."
   ]
  },
  {
   "cell_type": "code",
   "execution_count": 65,
   "metadata": {},
   "outputs": [],
   "source": [
    "estimator.delete_endpoint()"
   ]
  },
  {
   "cell_type": "markdown",
   "metadata": {},
   "source": [
    "## Step 6 (again) - Deploy the model for the web app\n",
    "\n",
    "Now that we know that our model is working, it's time to create some custom inference code so that we can send the model a review which has not been processed and have it determine the sentiment of the review.\n",
    "\n",
    "As we saw above, by default the estimator which we created, when deployed, will use the entry script and directory which we provided when creating the model. However, since we now wish to accept a string as input and our model expects a processed review, we need to write some custom inference code.\n",
    "\n",
    "We will store the code that we write in the `serve` directory. Provided in this directory is the `model.py` file that we used to construct our model, a `utils.py` file which contains the `review_to_words` and `convert_and_pad` pre-processing functions which we used during the initial data processing, and `predict.py`, the file which will contain our custom inference code. Note also that `requirements.txt` is present which will tell SageMaker what Python libraries are required by our custom inference code.\n",
    "\n",
    "When deploying a PyTorch model in SageMaker, you are expected to provide four functions which the SageMaker inference container will use.\n",
    " - `model_fn`: This function is the same function that we used in the training script and it tells SageMaker how to load our model.\n",
    " - `input_fn`: This function receives the raw serialized input that has been sent to the model's endpoint and its job is to de-serialize and make the input available for the inference code.\n",
    " - `output_fn`: This function takes the output of the inference code and its job is to serialize this output and return it to the caller of the model's endpoint.\n",
    " - `predict_fn`: The heart of the inference script, this is where the actual prediction is done and is the function which you will need to complete.\n",
    "\n",
    "For the simple website that we are constructing during this project, the `input_fn` and `output_fn` methods are relatively straightforward. We only require being able to accept a string as input and we expect to return a single value as output. You might imagine though that in a more complex application the input or output may be image data or some other binary data which would require some effort to serialize.\n",
    "\n",
    "### (TODO) Writing inference code\n",
    "\n",
    "Before writing our custom inference code, we will begin by taking a look at the code which has been provided."
   ]
  },
  {
   "cell_type": "code",
   "execution_count": 66,
   "metadata": {},
   "outputs": [
    {
     "name": "stdout",
     "output_type": "stream",
     "text": [
      "\u001b[34mimport\u001b[39;49;00m \u001b[04m\u001b[36margparse\u001b[39;49;00m\r\n",
      "\u001b[34mimport\u001b[39;49;00m \u001b[04m\u001b[36mjson\u001b[39;49;00m\r\n",
      "\u001b[34mimport\u001b[39;49;00m \u001b[04m\u001b[36mos\u001b[39;49;00m\r\n",
      "\u001b[34mimport\u001b[39;49;00m \u001b[04m\u001b[36mpickle\u001b[39;49;00m\r\n",
      "\u001b[34mimport\u001b[39;49;00m \u001b[04m\u001b[36msys\u001b[39;49;00m\r\n",
      "\u001b[34mimport\u001b[39;49;00m \u001b[04m\u001b[36msagemaker_containers\u001b[39;49;00m\r\n",
      "\u001b[34mimport\u001b[39;49;00m \u001b[04m\u001b[36mpandas\u001b[39;49;00m \u001b[34mas\u001b[39;49;00m \u001b[04m\u001b[36mpd\u001b[39;49;00m\r\n",
      "\u001b[34mimport\u001b[39;49;00m \u001b[04m\u001b[36mnumpy\u001b[39;49;00m \u001b[34mas\u001b[39;49;00m \u001b[04m\u001b[36mnp\u001b[39;49;00m\r\n",
      "\u001b[34mimport\u001b[39;49;00m \u001b[04m\u001b[36mtorch\u001b[39;49;00m\r\n",
      "\u001b[34mimport\u001b[39;49;00m \u001b[04m\u001b[36mtorch.nn\u001b[39;49;00m \u001b[34mas\u001b[39;49;00m \u001b[04m\u001b[36mnn\u001b[39;49;00m\r\n",
      "\u001b[34mimport\u001b[39;49;00m \u001b[04m\u001b[36mtorch.optim\u001b[39;49;00m \u001b[34mas\u001b[39;49;00m \u001b[04m\u001b[36moptim\u001b[39;49;00m\r\n",
      "\u001b[34mimport\u001b[39;49;00m \u001b[04m\u001b[36mtorch.utils.data\u001b[39;49;00m\r\n",
      "\r\n",
      "\u001b[34mfrom\u001b[39;49;00m \u001b[04m\u001b[36mmodel\u001b[39;49;00m \u001b[34mimport\u001b[39;49;00m LSTMClassifier\r\n",
      "\r\n",
      "\u001b[34mfrom\u001b[39;49;00m \u001b[04m\u001b[36mutils\u001b[39;49;00m \u001b[34mimport\u001b[39;49;00m review_to_words, convert_and_pad\r\n",
      "\r\n",
      "\u001b[34mdef\u001b[39;49;00m \u001b[32mmodel_fn\u001b[39;49;00m(model_dir):\r\n",
      "    \u001b[33m\"\"\"Load the PyTorch model from the `model_dir` directory.\"\"\"\u001b[39;49;00m\r\n",
      "    \u001b[34mprint\u001b[39;49;00m(\u001b[33m\"\u001b[39;49;00m\u001b[33mLoading model.\u001b[39;49;00m\u001b[33m\"\u001b[39;49;00m)\r\n",
      "\r\n",
      "    \u001b[37m# First, load the parameters used to create the model.\u001b[39;49;00m\r\n",
      "    model_info = {}\r\n",
      "    model_info_path = os.path.join(model_dir, \u001b[33m'\u001b[39;49;00m\u001b[33mmodel_info.pth\u001b[39;49;00m\u001b[33m'\u001b[39;49;00m)\r\n",
      "    \u001b[34mwith\u001b[39;49;00m \u001b[36mopen\u001b[39;49;00m(model_info_path, \u001b[33m'\u001b[39;49;00m\u001b[33mrb\u001b[39;49;00m\u001b[33m'\u001b[39;49;00m) \u001b[34mas\u001b[39;49;00m f:\r\n",
      "        model_info = torch.load(f)\r\n",
      "\r\n",
      "    \u001b[34mprint\u001b[39;49;00m(\u001b[33m\"\u001b[39;49;00m\u001b[33mmodel_info: {}\u001b[39;49;00m\u001b[33m\"\u001b[39;49;00m.format(model_info))\r\n",
      "\r\n",
      "    \u001b[37m# Determine the device and construct the model.\u001b[39;49;00m\r\n",
      "    device = torch.device(\u001b[33m\"\u001b[39;49;00m\u001b[33mcuda\u001b[39;49;00m\u001b[33m\"\u001b[39;49;00m \u001b[34mif\u001b[39;49;00m torch.cuda.is_available() \u001b[34melse\u001b[39;49;00m \u001b[33m\"\u001b[39;49;00m\u001b[33mcpu\u001b[39;49;00m\u001b[33m\"\u001b[39;49;00m)\r\n",
      "    model = LSTMClassifier(model_info[\u001b[33m'\u001b[39;49;00m\u001b[33membedding_dim\u001b[39;49;00m\u001b[33m'\u001b[39;49;00m], model_info[\u001b[33m'\u001b[39;49;00m\u001b[33mhidden_dim\u001b[39;49;00m\u001b[33m'\u001b[39;49;00m], model_info[\u001b[33m'\u001b[39;49;00m\u001b[33mvocab_size\u001b[39;49;00m\u001b[33m'\u001b[39;49;00m])\r\n",
      "\r\n",
      "    \u001b[37m# Load the store model parameters.\u001b[39;49;00m\r\n",
      "    model_path = os.path.join(model_dir, \u001b[33m'\u001b[39;49;00m\u001b[33mmodel.pth\u001b[39;49;00m\u001b[33m'\u001b[39;49;00m)\r\n",
      "    \u001b[34mwith\u001b[39;49;00m \u001b[36mopen\u001b[39;49;00m(model_path, \u001b[33m'\u001b[39;49;00m\u001b[33mrb\u001b[39;49;00m\u001b[33m'\u001b[39;49;00m) \u001b[34mas\u001b[39;49;00m f:\r\n",
      "        model.load_state_dict(torch.load(f))\r\n",
      "\r\n",
      "    \u001b[37m# Load the saved word_dict.\u001b[39;49;00m\r\n",
      "    word_dict_path = os.path.join(model_dir, \u001b[33m'\u001b[39;49;00m\u001b[33mword_dict.pkl\u001b[39;49;00m\u001b[33m'\u001b[39;49;00m)\r\n",
      "    \u001b[34mwith\u001b[39;49;00m \u001b[36mopen\u001b[39;49;00m(word_dict_path, \u001b[33m'\u001b[39;49;00m\u001b[33mrb\u001b[39;49;00m\u001b[33m'\u001b[39;49;00m) \u001b[34mas\u001b[39;49;00m f:\r\n",
      "        model.word_dict = pickle.load(f)\r\n",
      "\r\n",
      "    model.to(device).eval()\r\n",
      "\r\n",
      "    \u001b[34mprint\u001b[39;49;00m(\u001b[33m\"\u001b[39;49;00m\u001b[33mDone loading model.\u001b[39;49;00m\u001b[33m\"\u001b[39;49;00m)\r\n",
      "    \u001b[34mreturn\u001b[39;49;00m model\r\n",
      "\r\n",
      "\u001b[34mdef\u001b[39;49;00m \u001b[32minput_fn\u001b[39;49;00m(serialized_input_data, content_type):\r\n",
      "    \u001b[34mprint\u001b[39;49;00m(\u001b[33m'\u001b[39;49;00m\u001b[33mDeserializing the input data.\u001b[39;49;00m\u001b[33m'\u001b[39;49;00m)\r\n",
      "    \u001b[34mif\u001b[39;49;00m content_type == \u001b[33m'\u001b[39;49;00m\u001b[33mtext/plain\u001b[39;49;00m\u001b[33m'\u001b[39;49;00m:\r\n",
      "        data = serialized_input_data.decode(\u001b[33m'\u001b[39;49;00m\u001b[33mutf-8\u001b[39;49;00m\u001b[33m'\u001b[39;49;00m)\r\n",
      "        \u001b[34mreturn\u001b[39;49;00m data\r\n",
      "    \u001b[34mraise\u001b[39;49;00m \u001b[36mException\u001b[39;49;00m(\u001b[33m'\u001b[39;49;00m\u001b[33mRequested unsupported ContentType in content_type: \u001b[39;49;00m\u001b[33m'\u001b[39;49;00m + content_type)\r\n",
      "\r\n",
      "\u001b[34mdef\u001b[39;49;00m \u001b[32moutput_fn\u001b[39;49;00m(prediction_output, accept):\r\n",
      "    \u001b[34mprint\u001b[39;49;00m(\u001b[33m'\u001b[39;49;00m\u001b[33mSerializing the generated output.\u001b[39;49;00m\u001b[33m'\u001b[39;49;00m)\r\n",
      "    \u001b[34mreturn\u001b[39;49;00m \u001b[36mstr\u001b[39;49;00m(prediction_output)\r\n",
      "\r\n",
      "\u001b[34mdef\u001b[39;49;00m \u001b[32mpredict_fn\u001b[39;49;00m(input_data, model):\r\n",
      "    \u001b[34mprint\u001b[39;49;00m(\u001b[33m'\u001b[39;49;00m\u001b[33mInferring sentiment of input data.\u001b[39;49;00m\u001b[33m'\u001b[39;49;00m)\r\n",
      "\r\n",
      "    device = torch.device(\u001b[33m\"\u001b[39;49;00m\u001b[33mcuda\u001b[39;49;00m\u001b[33m\"\u001b[39;49;00m \u001b[34mif\u001b[39;49;00m torch.cuda.is_available() \u001b[34melse\u001b[39;49;00m \u001b[33m\"\u001b[39;49;00m\u001b[33mcpu\u001b[39;49;00m\u001b[33m\"\u001b[39;49;00m)\r\n",
      "    \r\n",
      "    \u001b[34mif\u001b[39;49;00m model.word_dict \u001b[35mis\u001b[39;49;00m \u001b[36mNone\u001b[39;49;00m:\r\n",
      "        \u001b[34mraise\u001b[39;49;00m \u001b[36mException\u001b[39;49;00m(\u001b[33m'\u001b[39;49;00m\u001b[33mModel has not been loaded properly, no word_dict.\u001b[39;49;00m\u001b[33m'\u001b[39;49;00m)\r\n",
      "    \r\n",
      "    \u001b[37m# TODO: Process input_data so that it is ready to be sent to our model.\u001b[39;49;00m\r\n",
      "    \u001b[37m#       You should produce two variables:\u001b[39;49;00m\r\n",
      "    \u001b[37m#         data_X   - A sequence of length 500 which represents the converted review\u001b[39;49;00m\r\n",
      "    \u001b[37m#         data_len - The length of the review\u001b[39;49;00m\r\n",
      "\r\n",
      "    data_X = \u001b[36mNone\u001b[39;49;00m\r\n",
      "    data_len = \u001b[36mNone\u001b[39;49;00m\r\n",
      "\r\n",
      "    \u001b[37m# Using data_X and data_len we construct an appropriate input tensor. Remember\u001b[39;49;00m\r\n",
      "    \u001b[37m# that our model expects input data of the form 'len, review[500]'.\u001b[39;49;00m\r\n",
      "    data_pack = np.hstack((data_len, data_X))\r\n",
      "    data_pack = data_pack.reshape(\u001b[34m1\u001b[39;49;00m, -\u001b[34m1\u001b[39;49;00m)\r\n",
      "    \r\n",
      "    data = torch.from_numpy(data_pack)\r\n",
      "    data = data.to(device)\r\n",
      "\r\n",
      "    \u001b[37m# Make sure to put the model into evaluation mode\u001b[39;49;00m\r\n",
      "    model.eval()\r\n",
      "\r\n",
      "    \u001b[37m# TODO: Compute the result of applying the model to the input data. The variable `result` should\u001b[39;49;00m\r\n",
      "    \u001b[37m#       be a numpy array which contains a single integer which is either 1 or 0\u001b[39;49;00m\r\n",
      "\r\n",
      "    result = \u001b[36mNone\u001b[39;49;00m\r\n",
      "\r\n",
      "    \u001b[34mreturn\u001b[39;49;00m result\r\n"
     ]
    }
   ],
   "source": [
    "!pygmentize serve/predict.py"
   ]
  },
  {
   "cell_type": "markdown",
   "metadata": {},
   "source": [
    "As mentioned earlier, the `model_fn` method is the same as the one provided in the training code and the `input_fn` and `output_fn` methods are very simple and your task will be to complete the `predict_fn` method. Make sure that you save the completed file as `predict.py` in the `serve` directory.\n",
    "\n",
    "**TODO**: Complete the `predict_fn()` method in the `serve/predict.py` file."
   ]
  },
  {
   "cell_type": "markdown",
   "metadata": {},
   "source": [
    "### Deploying the model\n",
    "\n",
    "Now that the custom inference code has been written, we will create and deploy our model. To begin with, we need to construct a new PyTorchModel object which points to the model artifacts created during training and also points to the inference code that we wish to use. Then we can call the deploy method to launch the deployment container.\n",
    "\n",
    "**NOTE**: The default behaviour for a deployed PyTorch model is to assume that any input passed to the predictor is a `numpy` array. In our case we want to send a string so we need to construct a simple wrapper around the `RealTimePredictor` class to accomodate simple strings. In a more complicated situation you may want to provide a serialization object, for example if you wanted to sent image data."
   ]
  },
  {
   "cell_type": "code",
   "execution_count": 84,
   "metadata": {},
   "outputs": [
    {
     "name": "stdout",
     "output_type": "stream",
     "text": [
      "-------------!"
     ]
    }
   ],
   "source": [
    "from sagemaker.predictor import RealTimePredictor\n",
    "from sagemaker.pytorch import PyTorchModel\n",
    "\n",
    "class StringPredictor(RealTimePredictor):\n",
    "    def __init__(self, endpoint_name, sagemaker_session):\n",
    "        super(StringPredictor, self).__init__(endpoint_name, sagemaker_session, content_type='text/plain')\n",
    "\n",
    "model = PyTorchModel(model_data=estimator.model_data,\n",
    "                     role = role,\n",
    "                     framework_version='0.4.0',\n",
    "                     entry_point='predict.py',\n",
    "                     source_dir='serve',\n",
    "                     predictor_cls=StringPredictor)\n",
    "predictor = model.deploy(initial_instance_count=1, instance_type='ml.m4.xlarge')"
   ]
  },
  {
   "cell_type": "markdown",
   "metadata": {},
   "source": [
    "### Testing the model\n",
    "\n",
    "Now that we have deployed our model with the custom inference code, we should test to see if everything is working. Here we test our model by loading the first `250` positive and negative reviews and send them to the endpoint, then collect the results. The reason for only sending some of the data is that the amount of time it takes for our model to process the input and then perform inference is quite long and so testing the entire data set would be prohibitive."
   ]
  },
  {
   "cell_type": "code",
   "execution_count": 85,
   "metadata": {},
   "outputs": [],
   "source": [
    "import glob\n",
    "\n",
    "def test_reviews(data_dir='../data/aclImdb', stop=250):\n",
    "    \n",
    "    results = []\n",
    "    ground = []\n",
    "    \n",
    "    # We make sure to test both positive and negative reviews    \n",
    "    for sentiment in ['pos', 'neg']:\n",
    "        \n",
    "        path = os.path.join(data_dir, 'test', sentiment, '*.txt')\n",
    "        files = glob.glob(path)\n",
    "        \n",
    "        files_read = 0\n",
    "        \n",
    "        print('Starting ', sentiment, ' files')\n",
    "        \n",
    "        # Iterate through the files and send them to the predictor\n",
    "        for f in files:\n",
    "            with open(f) as review:\n",
    "                # First, we store the ground truth (was the review positive or negative)\n",
    "                if sentiment == 'pos':\n",
    "                    ground.append(1)\n",
    "                else:\n",
    "                    ground.append(0)\n",
    "                # Read in the review and convert to 'utf-8' for transmission via HTTP\n",
    "                review_input = review.read().encode('utf-8')\n",
    "                # Send the review to the predictor and store the results\n",
    "                results.append(int(predictor.predict(review_input)))\n",
    "                \n",
    "            # Sending reviews to our endpoint one at a time takes a while so we\n",
    "            # only send a small number of reviews\n",
    "            files_read += 1\n",
    "            if files_read == stop:\n",
    "                break\n",
    "            \n",
    "    return ground, results"
   ]
  },
  {
   "cell_type": "code",
   "execution_count": 86,
   "metadata": {},
   "outputs": [
    {
     "name": "stdout",
     "output_type": "stream",
     "text": [
      "Starting  pos  files\n",
      "Starting  neg  files\n"
     ]
    }
   ],
   "source": [
    "ground, results = test_reviews()"
   ]
  },
  {
   "cell_type": "code",
   "execution_count": 87,
   "metadata": {},
   "outputs": [
    {
     "data": {
      "text/plain": [
       "0.83"
      ]
     },
     "execution_count": 87,
     "metadata": {},
     "output_type": "execute_result"
    }
   ],
   "source": [
    "from sklearn.metrics import accuracy_score\n",
    "accuracy_score(ground, results)"
   ]
  },
  {
   "cell_type": "markdown",
   "metadata": {},
   "source": [
    "As an additional test, we can try sending the `test_review` that we looked at earlier."
   ]
  },
  {
   "cell_type": "code",
   "execution_count": 88,
   "metadata": {},
   "outputs": [
    {
     "data": {
      "text/plain": [
       "b'1'"
      ]
     },
     "execution_count": 88,
     "metadata": {},
     "output_type": "execute_result"
    }
   ],
   "source": [
    "predictor.predict(test_review)"
   ]
  },
  {
   "cell_type": "markdown",
   "metadata": {},
   "source": [
    "Now that we know our endpoint is working as expected, we can set up the web page that will interact with it. If you don't have time to finish the project now, make sure to skip down to the end of this notebook and shut down your endpoint. You can deploy it again when you come back."
   ]
  },
  {
   "cell_type": "markdown",
   "metadata": {},
   "source": [
    "## Step 7 (again): Use the model for the web app\n",
    "\n",
    "> **TODO:** This entire section and the next contain tasks for you to complete, mostly using the AWS console.\n",
    "\n",
    "So far we have been accessing our model endpoint by constructing a predictor object which uses the endpoint and then just using the predictor object to perform inference. What if we wanted to create a web app which accessed our model? The way things are set up currently makes that not possible since in order to access a SageMaker endpoint the app would first have to authenticate with AWS using an IAM role which included access to SageMaker endpoints. However, there is an easier way! We just need to use some additional AWS services.\n",
    "\n",
    "<img src=\"Web App Diagram.svg\">\n",
    "\n",
    "The diagram above gives an overview of how the various services will work together. On the far right is the model which we trained above and which is deployed using SageMaker. On the far left is our web app that collects a user's movie review, sends it off and expects a positive or negative sentiment in return.\n",
    "\n",
    "In the middle is where some of the magic happens. We will construct a Lambda function, which you can think of as a straightforward Python function that can be executed whenever a specified event occurs. We will give this function permission to send and recieve data from a SageMaker endpoint.\n",
    "\n",
    "Lastly, the method we will use to execute the Lambda function is a new endpoint that we will create using API Gateway. This endpoint will be a url that listens for data to be sent to it. Once it gets some data it will pass that data on to the Lambda function and then return whatever the Lambda function returns. Essentially it will act as an interface that lets our web app communicate with the Lambda function.\n",
    "\n",
    "### Setting up a Lambda function\n",
    "\n",
    "The first thing we are going to do is set up a Lambda function. This Lambda function will be executed whenever our public API has data sent to it. When it is executed it will receive the data, perform any sort of processing that is required, send the data (the review) to the SageMaker endpoint we've created and then return the result.\n",
    "\n",
    "#### Part A: Create an IAM Role for the Lambda function\n",
    "\n",
    "Since we want the Lambda function to call a SageMaker endpoint, we need to make sure that it has permission to do so. To do this, we will construct a role that we can later give the Lambda function.\n",
    "\n",
    "Using the AWS Console, navigate to the **IAM** page and click on **Roles**. Then, click on **Create role**. Make sure that the **AWS service** is the type of trusted entity selected and choose **Lambda** as the service that will use this role, then click **Next: Permissions**.\n",
    "\n",
    "In the search box type `sagemaker` and select the check box next to the **AmazonSageMakerFullAccess** policy. Then, click on **Next: Review**.\n",
    "\n",
    "Lastly, give this role a name. Make sure you use a name that you will remember later on, for example `LambdaSageMakerRole`. Then, click on **Create role**.\n",
    "\n",
    "#### Part B: Create a Lambda function\n",
    "\n",
    "Now it is time to actually create the Lambda function.\n",
    "\n",
    "Using the AWS Console, navigate to the AWS Lambda page and click on **Create a function**. When you get to the next page, make sure that **Author from scratch** is selected. Now, name your Lambda function, using a name that you will remember later on, for example `sentiment_analysis_func`. Make sure that the **Python 3.6** runtime is selected and then choose the role that you created in the previous part. Then, click on **Create Function**.\n",
    "\n",
    "On the next page you will see some information about the Lambda function you've just created. If you scroll down you should see an editor in which you can write the code that will be executed when your Lambda function is triggered. In our example, we will use the code below. \n",
    "\n",
    "```python\n",
    "# We need to use the low-level library to interact with SageMaker since the SageMaker API\n",
    "# is not available natively through Lambda.\n",
    "import boto3\n",
    "\n",
    "def lambda_handler(event, context):\n",
    "\n",
    "    # The SageMaker runtime is what allows us to invoke the endpoint that we've created.\n",
    "    runtime = boto3.Session().client('sagemaker-runtime')\n",
    "\n",
    "    # Now we use the SageMaker runtime to invoke our endpoint, sending the review we were given\n",
    "    response = runtime.invoke_endpoint(EndpointName = '**ENDPOINT NAME HERE**',    # The name of the endpoint we created\n",
    "                                       ContentType = 'text/plain',                 # The data format that is expected\n",
    "                                       Body = event['body'])                       # The actual review\n",
    "\n",
    "    # The response is an HTTP response whose body contains the result of our inference\n",
    "    result = response['Body'].read().decode('utf-8')\n",
    "\n",
    "    return {\n",
    "        'statusCode' : 200,\n",
    "        'headers' : { 'Content-Type' : 'text/plain', 'Access-Control-Allow-Origin' : '*' },\n",
    "        'body' : result\n",
    "    }\n",
    "```\n",
    "\n",
    "Once you have copy and pasted the code above into the Lambda code editor, replace the `**ENDPOINT NAME HERE**` portion with the name of the endpoint that we deployed earlier. You can determine the name of the endpoint using the code cell below."
   ]
  },
  {
   "cell_type": "code",
   "execution_count": 89,
   "metadata": {},
   "outputs": [
    {
     "data": {
      "text/plain": [
       "'sagemaker-pytorch-2020-04-22-04-21-25-328'"
      ]
     },
     "execution_count": 89,
     "metadata": {},
     "output_type": "execute_result"
    }
   ],
   "source": [
    "predictor.endpoint"
   ]
  },
  {
   "cell_type": "markdown",
   "metadata": {},
   "source": [
    "Once you have added the endpoint name to the Lambda function, click on **Save**. Your Lambda function is now up and running. Next we need to create a way for our web app to execute the Lambda function.\n",
    "\n",
    "### Setting up API Gateway\n",
    "\n",
    "Now that our Lambda function is set up, it is time to create a new API using API Gateway that will trigger the Lambda function we have just created.\n",
    "\n",
    "Using AWS Console, navigate to **Amazon API Gateway** and then click on **Get started**.\n",
    "\n",
    "On the next page, make sure that **New API** is selected and give the new api a name, for example, `sentiment_analysis_api`. Then, click on **Create API**.\n",
    "\n",
    "Now we have created an API, however it doesn't currently do anything. What we want it to do is to trigger the Lambda function that we created earlier.\n",
    "\n",
    "Select the **Actions** dropdown menu and click **Create Method**. A new blank method will be created, select its dropdown menu and select **POST**, then click on the check mark beside it.\n",
    "\n",
    "For the integration point, make sure that **Lambda Function** is selected and click on the **Use Lambda Proxy integration**. This option makes sure that the data that is sent to the API is then sent directly to the Lambda function with no processing. It also means that the return value must be a proper response object as it will also not be processed by API Gateway.\n",
    "\n",
    "Type the name of the Lambda function you created earlier into the **Lambda Function** text entry box and then click on **Save**. Click on **OK** in the pop-up box that then appears, giving permission to API Gateway to invoke the Lambda function you created.\n",
    "\n",
    "The last step in creating the API Gateway is to select the **Actions** dropdown and click on **Deploy API**. You will need to create a new Deployment stage and name it anything you like, for example `prod`.\n",
    "\n",
    "You have now successfully set up a public API to access your SageMaker model. Make sure to copy or write down the URL provided to invoke your newly created public API as this will be needed in the next step. This URL can be found at the top of the page, highlighted in blue next to the text **Invoke URL**."
   ]
  },
  {
   "cell_type": "markdown",
   "metadata": {},
   "source": [
    "## Step 4: Deploying our web app\n",
    "\n",
    "Now that we have a publicly available API, we can start using it in a web app. For our purposes, we have provided a simple static html file which can make use of the public api you created earlier.\n",
    "\n",
    "In the `website` folder there should be a file called `index.html`. Download the file to your computer and open that file up in a text editor of your choice. There should be a line which contains **\\*\\*REPLACE WITH PUBLIC API URL\\*\\***. Replace this string with the url that you wrote down in the last step and then save the file.\n",
    "\n",
    "Now, if you open `index.html` on your local computer, your browser will behave as a local web server and you can use the provided site to interact with your SageMaker model.\n",
    "\n",
    "If you'd like to go further, you can host this html file anywhere you'd like, for example using github or hosting a static site on Amazon's S3. Once you have done this you can share the link with anyone you'd like and have them play with it too!\n",
    "\n",
    "> **Important Note** In order for the web app to communicate with the SageMaker endpoint, the endpoint has to actually be deployed and running. This means that you are paying for it. Make sure that the endpoint is running when you want to use the web app but that you shut it down when you don't need it, otherwise you will end up with a surprisingly large AWS bill.\n",
    "\n",
    "**TODO:** Make sure that you include the edited `index.html` file in your project submission."
   ]
  },
  {
   "cell_type": "markdown",
   "metadata": {},
   "source": [
    "Now that your web app is working, trying playing around with it and see how well it works.\n",
    "\n",
    "**Question**: Give an example of a review that you entered into your web app. What was the predicted sentiment of your example review?"
   ]
  },
  {
   "cell_type": "markdown",
   "metadata": {},
   "source": [
    "**Answer:** I tried the review \"This movie was terrible. The acting was horrible. The effects were painful. I want my money back.\" My model correctly picked this up as negative."
   ]
  },
  {
   "cell_type": "markdown",
   "metadata": {},
   "source": [
    "### Delete the endpoint\n",
    "\n",
    "Remember to always shut down your endpoint if you are no longer using it. You are charged for the length of time that the endpoint is running so if you forget and leave it on you could end up with an unexpectedly large bill."
   ]
  },
  {
   "cell_type": "code",
   "execution_count": 90,
   "metadata": {},
   "outputs": [],
   "source": [
    "predictor.delete_endpoint()"
   ]
  }
 ],
 "metadata": {
  "kernelspec": {
   "display_name": "conda_pytorch_p36",
   "language": "python",
   "name": "conda_pytorch_p36"
  },
  "language_info": {
   "codemirror_mode": {
    "name": "ipython",
    "version": 3
   },
   "file_extension": ".py",
   "mimetype": "text/x-python",
   "name": "python",
   "nbconvert_exporter": "python",
   "pygments_lexer": "ipython3",
   "version": "3.6.5"
  }
 },
 "nbformat": 4,
 "nbformat_minor": 2
}
